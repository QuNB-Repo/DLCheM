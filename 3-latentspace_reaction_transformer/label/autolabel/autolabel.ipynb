{
 "cells": [
  {
   "attachments": {},
   "cell_type": "markdown",
   "metadata": {},
   "source": [
    "Label functional groups of a molecular database"
   ]
  },
  {
   "attachments": {},
   "cell_type": "markdown",
   "metadata": {},
   "source": [
    "Autolabeller, depending on how deep you want to look into F.G (n_perts)"
   ]
  },
  {
   "cell_type": "code",
   "execution_count": 1,
   "metadata": {},
   "outputs": [
    {
     "name": "stderr",
     "output_type": "stream",
     "text": [
      "c:\\Users\\aelsamma\\Anaconda3\\envs\\dlchem6\\lib\\site-packages\\tqdm\\auto.py:21: TqdmWarning: IProgress not found. Please update jupyter and ipywidgets. See https://ipywidgets.readthedocs.io/en/stable/user_install.html\n",
      "  from .autonotebook import tqdm as notebook_tqdm\n"
     ]
    },
    {
     "name": "stdout",
     "output_type": "stream",
     "text": [
      "0\n"
     ]
    },
    {
     "name": "stderr",
     "output_type": "stream",
     "text": [
      "c:\\Users\\aelsamma\\Anaconda3\\envs\\dlchem6\\lib\\site-packages\\schnetpack\\data\\atoms.py:327: UserWarning: The given NumPy array is not writable, and PyTorch does not support non-writable tensors. This means writing to this tensor will result in undefined behavior. You may want to copy the array to protect its data or make it writable before converting it to a tensor. This type of warning will be suppressed for the rest of this program. (Triggered internally at C:\\actions-runner\\_work\\pytorch\\pytorch\\builder\\windows\\pytorch\\torch\\csrc\\utils\\tensor_numpy.cpp:205.)\n",
      "  properties[pname] = torch.FloatTensor(prop)\n",
      "c:\\Users\\aelsamma\\Anaconda3\\envs\\dlchem6\\lib\\site-packages\\ase\\atoms.py:968: VisibleDeprecationWarning: Use get_global_number_of_atoms() instead\n",
      "  np.VisibleDeprecationWarning)\n"
     ]
    },
    {
     "name": "stdout",
     "output_type": "stream",
     "text": [
      "5 1348\n"
     ]
    }
   ],
   "source": [
    "import autolabel\n",
    "\n",
    "'''\n",
    "Last Updated: 2024-02-24\n",
    "\n",
    "This code executes the autolabel code, a program that can label\n",
    "the atoms of any dataset according to their atomic environments\n",
    "AT ANY DEPTH SPECIFIED \n",
    "\n",
    "LABELING ATOMIC ENVIRONMENTS AUTOMATICALLY AT ANY DEPTH FROM AN ATOMIC CENTER\n",
    "\n",
    "(SOLVES A COMBINATORIAL PROBLEM IN REAL TIME!)\n",
    "\n",
    "        n_depth             - depth of the labelling of each atomic environment (1 = 1 bond away, 2 = 2 bonds away... etc)\n",
    "        elements            - elements found in the dataset to label, or elements to focus on\n",
    "        start               - start point of labelling the dataset\n",
    "        end                 - end point of labelling the dataset\n",
    "        qm9                 - boolean to confirm that the qm9 db dataset is being loaded \n",
    "                              as there is a faster way of loading that dataset using QM9 METHOD from SchNet.\n",
    "                              Other db datasets are loaded with AtomsData if this is set to False\n",
    "        dataset_filepath    - filepath location of the dataset to be labelled\n",
    "        scratch_direc       - directory which will hold scratch file, can be deleted, just a mol/xyz file that was used in the process of finding bonds\n",
    "        output_filepath     - output filepath where the label of the autlabel.label method will output\n",
    "       \n",
    "        autolabel.label     - the main method executed that autolabels the dataset\n",
    "                              the output is a file in label_direc that contains all the labels\n",
    "\n",
    "        unique_label_count  - the method returns how many TOTAL UNIQUE labels found at so and so depth\n",
    "'''\n",
    "\n",
    "for each_depth in range(5,6):\n",
    "        n_depth = each_depth\n",
    "        elements = ['H','C','N','O','F']\n",
    "\n",
    "        start = 0\n",
    "        end = 127\n",
    "\n",
    "        qm9 = False\n",
    "        #dataset_filepath = 'temp/pklabels/pK1Test.db' \n",
    "        dataset_filepath = '../../data/fgtransform/model1/pr_amide_hydro_step1/prodlabels/prod.db'\n",
    "\n",
    "        output_filepath = '../../data/fgtransform/model1/pr_amide_hydro_step1/prodlabels/prodlabels.csv' # %(each_depth)\n",
    "        scratch_direc = 'scratch/'\n",
    "\n",
    "        unique_label_count = autolabel.label(output_filepath,start,end,qm9,dataset_filepath,n_depth,elements,scratch_direc)\n",
    "        print(each_depth, unique_label_count)\n"
   ]
  }
 ],
 "metadata": {
  "kernelspec": {
   "display_name": "Python 3.7.13 ('embs')",
   "language": "python",
   "name": "python3"
  },
  "language_info": {
   "codemirror_mode": {
    "name": "ipython",
    "version": 3
   },
   "file_extension": ".py",
   "mimetype": "text/x-python",
   "name": "python",
   "nbconvert_exporter": "python",
   "pygments_lexer": "ipython3",
   "version": "3.7.16"
  },
  "orig_nbformat": 4,
  "vscode": {
   "interpreter": {
    "hash": "3e527e0fb9cd72c404b77fc0eaab204e19d8957c418c0845e3410ddf58030085"
   }
  }
 },
 "nbformat": 4,
 "nbformat_minor": 2
}
