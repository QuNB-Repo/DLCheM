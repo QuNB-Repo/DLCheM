{
 "cells": [
  {
   "attachments": {},
   "cell_type": "markdown",
   "metadata": {},
   "source": [
    "Runs the fg transform tool "
   ]
  },
  {
   "attachments": {},
   "cell_type": "markdown",
   "metadata": {},
   "source": [
    "For Methylation Reaction (with no optimization)"
   ]
  },
  {
   "cell_type": "code",
   "execution_count": null,
   "metadata": {},
   "outputs": [],
   "source": [
    "from fgtransform import oxidationtransform\n",
    "\n",
    "#Dataset\n",
    "dataset_filepath = 'data/datasets/QM9/qm9.db'\n",
    "\n",
    "\n",
    "#H-TYPE TRANSFORMATION\n",
    "targetlabelH_filepath = 'data/autolabel/Hqm9alllabelpert2/labelpert2ver2.csv'\n",
    "\n",
    "#pert 3---> 1alcsox\n",
    "#labelH1id = 21\n",
    "#labelH2id = 53\n",
    "\n",
    "#pert 3 ---> 2alcsox\n",
    "#labelH1id = 33\n",
    "#labelH2id = 62\n",
    "\n",
    "#pert 3 ---> terminal alkanes to alkenes\n",
    "labelH1id = 17\n",
    "labelH2id = 51\n",
    "\n",
    "# TARGET EMBEDDING VECTOR TYPE\n",
    "atom_num = 6\n",
    "\n",
    "n_molecules = [0,10000]\n",
    "\n",
    "#OUTPUT\n",
    "output_filepath1 = 'data/fgtransform/model1/oxidation/termalksoxpert3/init.xyz'\n",
    "output_filepath2 = 'data/fgtransform/model1/oxidation/termalksoxpert3/trans.xyz'\n",
    "\n",
    "available_properties = ['energy']\n",
    "\n",
    "oxidation = oxidationtransform.oxidation(dataset_filepath,targetlabelH_filepath,labelH1id,labelH2id,output_filepath1,output_filepath2,n_molecules,atom_num,available_properties)\n",
    "number_trans = oxidation.noopt()"
   ]
  },
  {
   "cell_type": "code",
   "execution_count": null,
   "metadata": {},
   "outputs": [],
   "source": [
    "print(number_trans)"
   ]
  },
  {
   "attachments": {},
   "cell_type": "markdown",
   "metadata": {},
   "source": []
  },
  {
   "attachments": {},
   "cell_type": "markdown",
   "metadata": {},
   "source": [
    "FGTransform Analysis"
   ]
  },
  {
   "attachments": {},
   "cell_type": "markdown",
   "metadata": {},
   "source": []
  },
  {
   "attachments": {},
   "cell_type": "markdown",
   "metadata": {},
   "source": [
    "#Run extract embeddings on init and trans"
   ]
  },
  {
   "cell_type": "code",
   "execution_count": null,
   "metadata": {},
   "outputs": [],
   "source": [
    "#Run extract embeddings on init and trans\n",
    "from extractembeddings import allelementextract\n",
    "\n",
    "init_dataset_filepath = 'data/fgtransform/model1/remove/1methylmethylene/init.db'\n",
    "init_save_filepath = 'data/fgtransform/model1/remove/1methylmethylene/initO.csv'\n",
    "trans_dataset_filepath = 'data/fgtransform/model1/remove/1methylmethylene/trans.db'\n",
    "trans_save_filepath = 'data/fgtransform/model1/remove/1methylmethylene/transO.csv'\n",
    "\n",
    "model_filepath = 'data/trainedmodels/model1/best_model'\n",
    "start = 0\n",
    "end = 543\n",
    "n_features = 128\n",
    "n_layers = [5,6]\n",
    "all_elements = False\n",
    "element = 8\n",
    "qm9=False\n",
    "available_properties = ['energy']\n",
    "#label_file =  '../../data/labeldataset/%s/label%s%s.csv' %(element,element,number_inputs)\n",
    "\n",
    "#run extract on init and trans\n",
    "allelementextract.extract(qm9,init_dataset_filepath,model_filepath,init_save_filepath,start,end,n_features,n_layers,all_elements,element,available_properties=available_properties)\n",
    "allelementextract.extract(qm9,trans_dataset_filepath,model_filepath,trans_save_filepath,start,end,n_features,n_layers,all_elements,element,available_properties=available_properties)\n"
   ]
  },
  {
   "attachments": {},
   "cell_type": "markdown",
   "metadata": {},
   "source": [
    "transform with average diff vector and use pca on both"
   ]
  },
  {
   "cell_type": "code",
   "execution_count": 2,
   "metadata": {},
   "outputs": [
    {
     "name": "stdout",
     "output_type": "stream",
     "text": [
      "data [[-5.6867400e-01 -1.4290228e-01  2.3530421e+00 ...  5.0000000e+00\n",
      "  -2.0478730e+03            nan]\n",
      " [ 6.6311000e-02 -4.8213986e-01  1.2338269e+00 ...  5.0000000e+00\n",
      "  -2.0466547e+03            nan]\n",
      " [-6.4393280e-01 -5.3058720e-01  3.3208878e+00 ...  5.0000000e+00\n",
      "  -2.0481885e+03            nan]\n",
      " ...\n",
      " [ 7.8528140e-01 -3.4994290e-01  1.2211128e+00 ...  5.0000000e+00\n",
      "  -2.0466794e+03            nan]\n",
      " [ 3.0778614e-01  1.9874382e-01  1.1842979e+00 ...  5.0000000e+00\n",
      "  -2.0471011e+03            nan]\n",
      " [-6.7195594e-02 -1.7551467e-01  1.3637297e+00 ...  5.0000000e+00\n",
      "  -2.0472605e+03            nan]]\n",
      "vec [ 0.03540061  0.00383385  0.02410092  0.02862699  0.06339722  0.0350505\n",
      " -0.02754495 -0.03251793 -0.03506667  0.01160755  0.02888372 -0.00870296\n",
      " -0.01681547 -0.06517478  0.00591771  0.02243978 -0.12750441 -0.01381361\n",
      "  0.01090663 -0.01101679 -0.04200589  0.01174011 -0.01394818 -0.01588982\n",
      "  0.0025506   0.07091887  0.00167815 -0.01658206 -0.11817853  0.03123358\n",
      "  0.01774401  0.02793661 -0.04992905 -0.0186779   0.03176643 -0.06921446\n",
      "  0.00702468 -0.01755098 -0.07330275  0.03344701  0.05463731 -0.01006428\n",
      "  0.03763259 -0.00478196 -0.03232443 -0.04678048  0.0061126   0.02643508\n",
      "  0.03663871  0.05413618 -0.07814099 -0.07166324  0.0452113  -0.0372074\n",
      "  0.02995474  0.04269431  0.01318094  0.02287787 -0.00409795  0.02472519\n",
      " -0.024903   -0.01461307 -0.04155302 -0.01570263  0.06131379  0.03019538\n",
      "  0.0201706  -0.01277491 -0.00911964  0.02124172 -0.00545875 -0.02174483\n",
      " -0.00061843 -0.01242876 -0.02959941  0.03843518 -0.03497777  0.02607489\n",
      "  0.01483627  0.0745892  -0.04712329  0.02772322  0.0027349  -0.07289476\n",
      " -0.06746134 -0.03825195  0.06771842  0.04768926 -0.03670335 -0.07409213\n",
      " -0.02947832  0.0105157   0.0101986   0.02011807  0.09464816  0.0274616\n",
      "  0.04782945  0.00644937  0.04678135 -0.03312458 -0.04918884  0.00533643\n",
      " -0.0056496   0.01020039 -0.03727019  0.02845878  0.00988675 -0.00950597\n",
      "  0.03945262  0.01374531  0.02571099 -0.02273567  0.00202988  0.04343875\n",
      " -0.05786825 -0.03162142 -0.01121412 -0.04991139 -0.05568497  0.00198949\n",
      "  0.0690706   0.01076455  0.02814556 -0.03823453 -0.03245401  0.07334361\n",
      " -0.05255896 -0.04430537]\n",
      "0\n",
      "[  0.   1.   2.   3.   4.   5.   6.   7.   8.   9.  10.  11.  12.  13.\n",
      "  14.  15.  16.  17.  18.  19.  20.  21.  22.  23.  24.  25.  26.  27.\n",
      "  28.  29.  30.  31.  32.  33.  34.  35.  36.  37.  38.  39.  40.  41.\n",
      "  42.  43.  44.  45.  46.  47.  48.  49.  50.  51.  52.  53.  54.  55.\n",
      "  56.  57.  58.  59.  60.  61.  62.  63.  64.  65.  66.  67.  68. 407.\n",
      " 328.  71.  72.  73.  74.  75.  76.  77.  78.  79.  80.  81.  82.  83.\n",
      "  84.  85.  86.  87.  88.  89.  90.  91.  92.  93.  94.  95.  96.  97.\n",
      "  98.  99. 100. 101. 102. 103. 353. 105. 106. 107. 108. 109. 110. 111.\n",
      " 112. 113. 114. 115. 116. 117. 532. 119. 120. 121. 122. 123. 124. 125.\n",
      " 126. 127. 128. 129. 130. 131. 132. 133. 134. 135. 136. 137. 138. 139.\n",
      " 140. 141. 142. 143. 144. 145. 146. 147. 148. 149. 150. 151. 152. 153.\n",
      " 154. 155. 156. 157. 158. 159. 160. 161. 162. 163. 164. 165. 166. 167.\n",
      " 168. 169. 170. 171. 172. 173. 174. 175. 176. 177. 178. 179. 180. 181.\n",
      " 182. 183. 184. 185. 186. 187. 188. 189. 190. 191. 192. 193. 194. 195.\n",
      " 196. 197. 198. 199. 200. 201. 202. 203. 204. 205. 206. 207. 208. 209.\n",
      " 210. 211. 212. 213. 214. 215. 216. 217. 218. 219. 220. 221. 222. 223.\n",
      " 224. 225. 226. 227. 228. 229. 230. 231. 232. 233. 234. 235. 236. 237.\n",
      " 238. 239. 240. 241. 242. 243. 244. 245. 246. 247. 248. 249. 250. 251.\n",
      " 252. 253. 254. 255. 256. 257. 258. 259. 260. 261. 262. 263. 264. 265.\n",
      " 266. 267. 268. 269. 270. 271. 272. 273. 274. 292. 276. 277. 278. 279.\n",
      " 280. 281. 282. 283. 284. 285. 286. 287. 288. 289. 290. 291. 292. 293.\n",
      " 294. 295. 296. 297. 298. 299. 300. 301. 302. 303. 304. 305. 306. 307.\n",
      " 308. 309. 310. 311. 312. 313. 314. 315. 316. 317. 318. 319. 320. 321.\n",
      " 322. 323. 324. 325. 326. 327. 328. 329. 330. 331. 332. 333. 334. 335.\n",
      " 336. 337. 338. 339. 340. 341. 342. 343. 344. 345. 346. 347. 348. 349.\n",
      " 350. 351. 352. 353. 354. 355. 356. 357. 358. 359. 360. 361. 362. 363.\n",
      " 364. 365. 366. 367. 368. 369. 370. 371. 372. 373. 374. 375. 376. 377.\n",
      " 378. 379. 380. 381. 382. 383. 384. 336. 386. 387. 388. 389. 390. 391.\n",
      " 392. 393. 394. 395. 396. 397. 398. 399. 400. 401. 402. 403. 404. 405.\n",
      " 406. 407. 408. 409. 410. 411. 412. 413. 414. 415. 416. 417. 418. 419.\n",
      " 420. 421. 422. 423. 424. 425. 426. 427. 428. 429. 430. 431. 432. 433.\n",
      " 434. 435. 436. 437. 438. 439. 440. 441. 442. 443. 444. 445. 446. 447.\n",
      " 448. 449. 450. 451. 452. 453. 454. 455. 456. 457. 458. 459. 460. 461.\n",
      " 462. 463. 464. 465. 466. 467. 468. 469. 470. 471. 472. 473. 474. 475.\n",
      " 476. 477. 478. 479. 480. 481. 482. 483. 484. 485. 486. 487. 488. 489.\n",
      " 490. 491. 492. 493. 494. 495. 496. 497. 498. 499. 500. 501. 502. 503.\n",
      " 504. 505. 506. 507. 508. 509. 510. 511. 512. 513. 514. 515. 516. 517.\n",
      " 518. 519. 520. 521. 522. 523. 524. 525. 526. 527. 528. 529. 530. 531.\n",
      " 532. 533. 534. 535. 536. 537. 538. 539. 540. 541. 542.]\n",
      "matched 99.8158379373849 %\n"
     ]
    }
   ],
   "source": [
    "from tools.utils import utils_fgtransform, utils_dimred, utils_numericalfiletools\n",
    "\n",
    "n_molecules = 543\n",
    "n_features = 128\n",
    "fg_trans_fildir = 'data/fgtransform/model1/remove/H/1methylmethylene/'\n",
    "\n",
    "#Calculate average diff vector\n",
    "data_filepath1 = fg_trans_fildir+ 'initO.csv'\n",
    "data_filepath2 = fg_trans_fildir+ 'transO.csv'\n",
    "diff_mean = utils_fgtransform.vecdiffmean(data_filepath1,data_filepath2,n_features,n_molecules)\n",
    "\n",
    "\n",
    "#Perform transformation\n",
    "vec_filepath = fg_trans_fildir+ 'initOdiff.csv'\n",
    "save_filepath = fg_trans_fildir+ 'initOtransform.csv'\n",
    "utils_fgtransform.add_vectomat(vec_filepath,data_filepath1,n_features,save_filepath)\n",
    "\n",
    "from tools.utils import utils_fgtransform\n",
    "\n",
    "true_trans_filepath = fg_trans_fildir+ 'transO.csv'\n",
    "art_trans_filepath = fg_trans_fildir+ 'initOtransform.csv'\n",
    "#DO NOT SORT! \n",
    "utils_fgtransform.nearest_trans(true_trans_filepath,art_trans_filepath,n_molecules,n_features)\n",
    "\n",
    "\n"
   ]
  },
  {
   "cell_type": "code",
   "execution_count": null,
   "metadata": {},
   "outputs": [],
   "source": [
    "from tools.utils import utils_fgtransform, utils_dimred, utils_numericalfiletools\n",
    "n_molecules = 68\n",
    "n_features = 128\n",
    "fg_trans_fildir = 'data/fgtransform/model1/oxidation/1alcsoxpert2/'\n",
    "\n",
    "\n",
    "#must stack initOtransform with initO call it bothO\n",
    "init_filepath = fg_trans_fildir+ 'initO.csv'\n",
    "inittrans_filepath = fg_trans_fildir+ 'initOtransform.csv'\n",
    "save_filepath = fg_trans_fildir+ 'bothOtransform.csv'\n",
    "n_data1 = n_molecules\n",
    "n_data2 = n_molecules\n",
    "utils_numericalfiletools.vstacktwofiles(init_filepath,inittrans_filepath,save_filepath,n_data1,n_data2,single_dim=False,skip_header1=1,skip_header2=0)\n",
    "\n",
    "n_molecules = n_molecules*2\n",
    "#Dimensionality reduction on new file with init and inittransformed\n",
    "data_filepath = fg_trans_fildir+ 'bothOtransform.csv'\n",
    "save_filepath = fg_trans_fildir+ 'initOtransform.csv'\n",
    "n_components = 128\n",
    "skip_header =  0\n",
    "scale_data = False\n",
    "utils_dimred.pca(data_filepath,n_components,n_features,scale_data,save_filepath, n_molecules,skip_header)\n",
    "\n",
    "data_filepath = fg_trans_fildir+ 'initOtransformpca.csv'\n",
    "save_filepath = fg_trans_fildir+ 'initOtransformpcavecs.csv'\n",
    "#Make vector plotting file from the pca (x1,y1,x2,y2) \n",
    "#(half the data is init, half is trans after compilation)\n",
    "utils_fgtransform.scatters_to_vectors(data_filepath,save_filepath)"
   ]
  }
 ],
 "metadata": {
  "kernelspec": {
   "display_name": "Python 3.7.13 ('embs')",
   "language": "python",
   "name": "python3"
  },
  "language_info": {
   "codemirror_mode": {
    "name": "ipython",
    "version": 3
   },
   "file_extension": ".py",
   "mimetype": "text/x-python",
   "name": "python",
   "nbconvert_exporter": "python",
   "pygments_lexer": "ipython3",
   "version": "3.7.16"
  },
  "orig_nbformat": 4,
  "vscode": {
   "interpreter": {
    "hash": "3e527e0fb9cd72c404b77fc0eaab204e19d8957c418c0845e3410ddf58030085"
   }
  }
 },
 "nbformat": 4,
 "nbformat_minor": 2
}
