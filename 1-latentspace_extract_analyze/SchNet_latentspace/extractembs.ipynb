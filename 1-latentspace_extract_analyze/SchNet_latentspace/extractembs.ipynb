{
 "cells": [
  {
   "cell_type": "markdown",
   "metadata": {},
   "source": [
    "Extract embedding tool with manual FG labels (hexcolors and gnuplot markers)"
   ]
  },
  {
   "cell_type": "code",
   "execution_count": 4,
   "metadata": {},
   "outputs": [
    {
     "name": "stdout",
     "output_type": "stream",
     "text": [
      "0\n",
      "0\n"
     ]
    }
   ],
   "source": [
    "from embeddings_latentspace import extract_embs_frompretrainedmodel\n",
    "import numpy as np\n",
    "\n",
    "np.random.seed(42)\n",
    "\n",
    "'''\n",
    "Last Updated: 2024-03-08\n",
    "\n",
    "Extracting & labeling embeddings of QM9 using a pretrained SchNet model\n",
    "for all atoms in all molecules (specified in start,end)\n",
    "NOTE for this to work you must make embedding/interactions tensors in SchNet global \n",
    "and as you test SchNet model, extract them through the global variable. I detail this in the README\n",
    "Heading of the saved file:\n",
    "\n",
    "'emb1, embs2, embs3, ...., mol_idx, atom_numb, coordx, coordy, coordz, ldalabel, gnumarker, deccolor, hexcolor, layer, atomizationE, fg_key'\n",
    "\n",
    "    Args:\n",
    "        MODEL_FILEPATH              - where the pretrained schnet model is saved\n",
    "        DB_FILEPATH                 - where the molecules db file for embedding extraction is saved\n",
    "        SAVE_FILEPATH               - where to save the extracted and labelled embeddings\n",
    "        QM9_TRUE                    - boolean to load qm9.db faster (otherwise you will have to list all available properties)\n",
    "        AVAILABLE_PROPERTIES        - list of the available properties in the db database ['property1','property2']\n",
    "        START                       - index of start molecule of embedding extraction from the db\n",
    "        END                         - index of the end molecule of embedding extraction from the db \n",
    "        N_FEATURES                  - number of features in embedding (depends on model trained)\n",
    "        LAYERS                      - layers (range) to extract (depends on number of layers in model, can be less, not more)\n",
    "        ELEMENTS                    - list of elements to extract embeddings for (doesn't have to be all of the existing elements in db)\n",
    "        LABEL                       - boolean to decide if to label the embeddings with a FG label colors and markers\n",
    "        RESTRICT_LABEL              - boolean to decide if to only extract embeddings of those with a certain FG label (if you know the label prehand)\n",
    "        ALLOWED_LABELS              - list of allowed FG labels (integers) to extract embeddings for\n",
    "        SCRATCH_FILE                - a scratch file to write xyz and mol onto temporarily for labelling FG's\n",
    "        ADD_HEADER                  - boolean to add a header to the output embedding csv file\n",
    "        extract_embs_       \n",
    "        frompretrainedmodel_\n",
    "        extract_embs_allatoms       - calls the function that extracts and labels embeddings to run on specified db and options\n",
    "\n",
    "'''\n",
    "MODEL_FILEPATH = 'data/trainedmodels/model1/best_model'\n",
    "DB_FILEPATH = \"carbacid.db\" \n",
    "SAVE_FILEPATH = \"Cembslayer6.csv\" \n",
    "QM9_TRUE=False\n",
    "AVAILABLE_PROPERTIES = ['energy']\n",
    "\n",
    "START = 0\n",
    "END = 1\n",
    "\n",
    "N_FEATURES = 128\n",
    "#NOTE use -1, to get the initial embedding!!!!!!!\n",
    "LAYERS = [5,6]\n",
    "#specify all elements at once or a specific target element\n",
    "ELEMENTS = [1,6,7,8,9]\n",
    "#default: True\n",
    "LABEL = False\n",
    "#default: False\n",
    "RESTRICT_LABEL = False\n",
    "#label_file =  'data/autolabel/Hqm9alllabelpert4/labelpert4.csv'\n",
    "ALLOWED_LABELS = [13]\n",
    "SCRATCH_FILE = 'temp2.xyz'\n",
    "\n",
    "ADD_HEADER = False\n",
    "\n",
    "#you can specify a list of lists to label the molecule's indices that you want\n",
    "INDICES_TO_LABEL = []\n",
    "\n",
    "\n",
    "extract_embs_frompretrainedmodel.extract_embs(QM9_TRUE ,DB_FILEPATH, MODEL_FILEPATH,SAVE_FILEPATH,START,END,N_FEATURES,LAYERS,ELEMENTS,AVAILABLE_PROPERTIES,LABEL,ADD_HEADER,RESTRICT_LABEL,ALLOWED_LABELS,INDICES_TO_LABEL)\n",
    "\n"
   ]
  }
 ],
 "metadata": {
  "kernelspec": {
   "display_name": "dlchem",
   "language": "python",
   "name": "python3"
  },
  "language_info": {
   "codemirror_mode": {
    "name": "ipython",
    "version": 3
   },
   "file_extension": ".py",
   "mimetype": "text/x-python",
   "name": "python",
   "nbconvert_exporter": "python",
   "pygments_lexer": "ipython3",
   "version": "3.7.16"
  }
 },
 "nbformat": 4,
 "nbformat_minor": 2
}
