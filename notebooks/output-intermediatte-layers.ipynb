{
 "cells": [
  {
   "cell_type": "code",
   "execution_count": 5,
   "metadata": {},
   "outputs": [
    {
     "name": "stdout",
     "output_type": "stream",
     "text": [
      "Prediction: -1103.222900390625\n"
     ]
    }
   ],
   "source": [
    "import schnetpack as spk\n",
    "import torch\n",
    "import schnetpack.nn \n",
    "import schnetpack.data\n",
    "import pandas as pd\n",
    "import scipy.linalg as la\n",
    "from schnetpack.datasets import QM9\n",
    "\n",
    "# Load best model where it was stored after training\n",
    "\n",
    "best_model = torch.load(\"./trained_models/qm911/best_model\", map_location=torch.device('cpu'))\n",
    "\n",
    "# Download QM9 dataset to use in evaluating model\n",
    "qm9data = QM9('./qm9.db', download=True, remove_uncharacterized=True)\n",
    "\n",
    "# Load split file \n",
    "train, val, test = spk.data.train_test_split(qm9data, split_file='./trained_models/qm911/split.npz')\n",
    "\n",
    "#set up device and atoms converter for input\n",
    "\n",
    "device = 'cpu'\n",
    "\n",
    "converter = spk.data.AtomsConverter(device=device)\n",
    "\n",
    "test_loader = spk.AtomsLoader(test, batch_size=100)\n",
    "converter = spk.data.AtomsConverter(device=device)\n",
    "\n",
    "at, props = qm9data.get_properties(idx=0)\n",
    "\n",
    "calculator = spk.interfaces.SpkCalculator(model=best_model, device=device, energy=QM9.U0)\n",
    "at.set_calculator(calculator)\n",
    "\n",
    "\n",
    "print('Prediction:', at.get_total_energy())\n"
   ]
  },
  {
   "cell_type": "code",
   "execution_count": 6,
   "metadata": {},
   "outputs": [
    {
     "name": "stdout",
     "output_type": "stream",
     "text": [
      "None\n"
     ]
    }
   ],
   "source": [
    "#Extract embedding from schnetpack\n",
    "from schnetpack.representation import SchNet\n",
    "\n",
    "model = SchNet()\n",
    "layer_output=None\n",
    "\n",
    "def layer_hook_fn(self, inp_tensor, out_tensor):\n",
    "    global layer_output\n",
    "    layer_output=out_tensor\n",
    "    \n",
    "model.embedding.register_forward_hook(layer_hook_fn)\n",
    "\n",
    "print(layer_output)\n",
    "\n",
    "\n",
    "\n",
    "\n",
    "\n"
   ]
  },
  {
   "cell_type": "code",
   "execution_count": null,
   "metadata": {},
   "outputs": [],
   "source": [
    "\n",
    "\n",
    "\n",
    "\n",
    "#activation = {}\n",
    "\n",
    "#inputs = converter(at)\n",
    "\n",
    "#def get_activation(name):\n",
    "#    def hook(module, input, output):\n",
    "#        activation[name] = output.detach()\n",
    "#    return hook\n",
    "\n",
    "#model = SchNet()\n",
    "#model.embedding.register_forward_hook(get_activation('Embedding'))\n",
    "#output = model(inputs)\n",
    "\n",
    "#print(activation['Embedding'])\n",
    "    "
   ]
  },
  {
   "cell_type": "code",
   "execution_count": null,
   "metadata": {},
   "outputs": [],
   "source": []
  },
  {
   "cell_type": "code",
   "execution_count": null,
   "metadata": {},
   "outputs": [],
   "source": []
  }
 ],
 "metadata": {
  "kernelspec": {
   "display_name": "Python 3",
   "language": "python",
   "name": "python3"
  },
  "language_info": {
   "codemirror_mode": {
    "name": "ipython",
    "version": 3
   },
   "file_extension": ".py",
   "mimetype": "text/x-python",
   "name": "python",
   "nbconvert_exporter": "python",
   "pygments_lexer": "ipython3",
   "version": "3.7.6"
  }
 },
 "nbformat": 4,
 "nbformat_minor": 4
}
