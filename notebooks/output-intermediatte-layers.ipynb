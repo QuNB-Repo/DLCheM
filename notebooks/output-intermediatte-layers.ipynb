{
 "cells": [
  {
   "cell_type": "code",
   "execution_count": 5,
   "metadata": {},
   "outputs": [],
   "source": [
    "import schnetpack as spk\n",
    "import torch\n",
    "import schnetpack.nn \n",
    "import schnetpack.data\n",
    "import pandas as pd\n",
    "import scipy.linalg as la\n",
    "from schnetpack.datasets import QM9\n",
    "\n",
    "\n",
    "\n",
    "\n"
   ]
  },
  {
   "cell_type": "code",
   "execution_count": 6,
   "metadata": {},
   "outputs": [
    {
     "name": "stdout",
     "output_type": "stream",
     "text": [
      "Prediction: -1541.551025390625\n"
     ]
    }
   ],
   "source": [
    "#Intermediare embedding output pipeline\n",
    "\n",
    "#Load last checkpoint file from from trained model\n",
    "Checkpoint = './trained_models/qm911/checkpoints/checkpoint-5.pth.tar'\n",
    "\n",
    "#Load the Best model where it is stored after training\n",
    "best_model = torch.load('./trained_models/qm911/best_model')\n",
    "model = best_model\n",
    "\n",
    "model.load_state_dict(torch.load(Checkpoint), strict=False)\n",
    "\n",
    "# Download QM9 dataset to use in evaluating model\n",
    "qm9data = QM9('./qm9.db', download=True, remove_uncharacterized=True)\n",
    "\n",
    "# Load split file for the train, validation and test \n",
    "train, val, test = spk.data.train_test_split(qm9data, split_file='./trained_models/qm911/split.npz')\n",
    "\n",
    "\n",
    "\n",
    "\n",
    "\n",
    "#set up device and atoms converter for input\n",
    "device = 'cpu'\n",
    "\n",
    "converter = spk.data.AtomsConverter(device=device)\n",
    "\n",
    "test_loader = spk.AtomsLoader(test, batch_size=100)\n",
    "converter = spk.data.AtomsConverter(device=device)\n",
    "\n",
    "at, props = qm9data.get_properties(idx=1)\n",
    "\n",
    "calculator = spk.interfaces.SpkCalculator(model=best_model, device=device, energy=QM9.U0)\n",
    "at.set_calculator(calculator)\n",
    "\n",
    "\n",
    "inputs = converter(at)\n",
    "\n",
    "print('Prediction:', at.get_total_energy())\n"
   ]
  },
  {
   "cell_type": "code",
   "execution_count": 9,
   "metadata": {},
   "outputs": [
    {
     "name": "stdout",
     "output_type": "stream",
     "text": [
      "None\n",
      "tensor([[[-1.1789e+00,  1.0051e+00,  1.2346e-02, -4.9465e-01, -2.7075e+00,\n",
      "           1.2768e+00,  7.0167e-01, -8.4085e-01,  9.3975e-01,  3.7902e-01,\n",
      "           4.6136e-01,  1.1211e+00, -3.2832e-01,  1.5644e+00,  2.0077e+00,\n",
      "           2.2989e-01, -1.2679e-01, -7.0355e-01,  5.1581e-01, -1.2680e+00,\n",
      "           2.2348e+00, -9.1419e-01,  1.1213e-01,  8.3197e-01, -1.4527e+00,\n",
      "           4.2544e-01,  1.3293e-01,  1.4175e-01,  1.0613e+00,  1.8534e+00],\n",
      "         [ 2.4999e+00, -8.8243e-02, -2.7747e-01,  1.0349e+00, -1.5068e-02,\n",
      "           1.4981e+00,  4.7207e-01,  1.2192e+00,  7.4943e-02, -1.3184e+00,\n",
      "           2.2984e-01,  1.2548e+00,  7.9738e-01,  1.5308e+00, -1.5439e+00,\n",
      "           1.3754e+00,  9.1261e-01, -2.3110e+00, -7.7784e-01,  7.5336e-01,\n",
      "           6.1621e-01, -6.4225e-02,  2.0356e-04, -6.9536e-02,  1.2833e+00,\n",
      "           1.0686e+00,  2.2942e-01, -6.9096e-01, -1.8814e-01, -1.3653e+00],\n",
      "         [ 2.4999e+00, -8.8243e-02, -2.7747e-01,  1.0349e+00, -1.5068e-02,\n",
      "           1.4981e+00,  4.7207e-01,  1.2192e+00,  7.4943e-02, -1.3184e+00,\n",
      "           2.2984e-01,  1.2548e+00,  7.9738e-01,  1.5308e+00, -1.5439e+00,\n",
      "           1.3754e+00,  9.1261e-01, -2.3110e+00, -7.7784e-01,  7.5336e-01,\n",
      "           6.1621e-01, -6.4225e-02,  2.0356e-04, -6.9536e-02,  1.2833e+00,\n",
      "           1.0686e+00,  2.2942e-01, -6.9096e-01, -1.8814e-01, -1.3653e+00],\n",
      "         [ 2.4999e+00, -8.8243e-02, -2.7747e-01,  1.0349e+00, -1.5068e-02,\n",
      "           1.4981e+00,  4.7207e-01,  1.2192e+00,  7.4943e-02, -1.3184e+00,\n",
      "           2.2984e-01,  1.2548e+00,  7.9738e-01,  1.5308e+00, -1.5439e+00,\n",
      "           1.3754e+00,  9.1261e-01, -2.3110e+00, -7.7784e-01,  7.5336e-01,\n",
      "           6.1621e-01, -6.4225e-02,  2.0356e-04, -6.9536e-02,  1.2833e+00,\n",
      "           1.0686e+00,  2.2942e-01, -6.9096e-01, -1.8814e-01, -1.3653e+00]]],\n",
      "       grad_fn=<EmbeddingBackward>)\n"
     ]
    }
   ],
   "source": [
    "\n",
    "#We choose None to instatiate the variable originally\n",
    "embedding_output=None\n",
    "#Define a hooking function that will fetch the out_tensor \n",
    "#from the layer of interest given an input tensor\n",
    "def embedding_hook(self, inp_tensor, out_tensor):\n",
    "    # Self is included and refers to the model class\n",
    "    # Global allows us to utilize embedding_output outside the current function scope\n",
    "    global embedding_output\n",
    "    #Update the embedding_output variable to be equal to our output tensor\n",
    "    embedding_output=out_tensor\n",
    "\n",
    "#Hook our function to the embedding layer during the forward pass\n",
    "model.representation.embedding.register_forward_hook(embedding_hook)\n",
    "\n",
    "#Check if None\n",
    "print(embedding_output)\n",
    "\n",
    "#Forward pass of the tensor inputs\n",
    "model(inputs)\n",
    "\n",
    "#embedding_output SHOULD be changed\n",
    "print(embedding_output)"
   ]
  },
  {
   "cell_type": "code",
   "execution_count": 14,
   "metadata": {},
   "outputs": [
    {
     "name": "stdout",
     "output_type": "stream",
     "text": [
      "None\n",
      "None\n"
     ]
    }
   ],
   "source": [
    "\n",
    "interactions_output=None\n",
    "\n",
    "def interactions_hook(self, inp_tensor, out_tensor):\n",
    "    global interactions_output\n",
    "    interactions_output=out_tensor\n",
    "\n",
    "model.representation.interactions.register_forward_hook(interactions_hook)\n",
    "\n",
    "#Check if None\n",
    "print(interactions_output)\n",
    "\n",
    "#Forward pass of the tensor inputs\n",
    "model(inputs)\n",
    "\n",
    "#embedding_output SHOULD be changed\n",
    "print(interactions_output)"
   ]
  },
  {
   "cell_type": "code",
   "execution_count": null,
   "metadata": {},
   "outputs": [],
   "source": []
  },
  {
   "cell_type": "code",
   "execution_count": null,
   "metadata": {},
   "outputs": [],
   "source": [
    "\n",
    "#We choose None to instatiate the variable originally\n",
    "embedding_output=None\n",
    "#Define a hooking function that will fetch the out_tensor \n",
    "#from the layer of interest given an input tensor\n",
    "def embedding_hook(self, inp_tensor, out_tensor):\n",
    "    # Self is included and refers to the model class\n",
    "    # Global allows us to utilize embedding_output outside the current function scope\n",
    "    global embedding_output\n",
    "    #Update the embedding_output variable to be equal to our output tensor\n",
    "    embedding_output=out_tensor\n",
    "\n",
    "#Hook our function to the embedding layer during the forward pass\n",
    "model.representation.embedding.register_forward_hook(embedding_hook)\n",
    "\n",
    "#Check if None\n",
    "print(embedding_output)\n",
    "\n",
    "#Forward pass of the tensor inputs\n",
    "model(inputs)\n",
    "\n",
    "#embedding_output SHOULD be changed\n",
    "print(embedding_output)"
   ]
  },
  {
   "cell_type": "code",
   "execution_count": null,
   "metadata": {},
   "outputs": [],
   "source": [
    "\"\"\"\n",
    "1) Write hook functions for each layer in the model and compile a database of the intermediare outputs.\n",
    "\n",
    "\n",
    "2) Store these outputs into a h5 file using h5py\n",
    "    How does h5 work?\n",
    "        - create a dictionary of dataset\n",
    "            dataset = h5py.File(\"name.h5\", \"w\")\n",
    "            dataset.create_dataset(\"name_dataset\", data=np.array)\n",
    "            ...\n",
    "            dataset.close()\n",
    "            dataset[\"name_dataset\"]\n",
    "\n",
    "3) Small toy systems of interest where we can look at specific chemical groups\n",
    "    3.1a) Carboxylic acids\n",
    "    3.2a) Ketone\n",
    "    3.3a) Aldehyde\n",
    "    3.4a) Alcohols\n",
    "    3.5a) Ethers\n",
    "    \n",
    "    3.1b) Amine\n",
    "    3.2b) Amide\n",
    "    3.3b) Azo\n",
    "    3.4b) Nitro\n",
    "    ...\n",
    "    \n",
    "    Contrast chemically similar groups that are distinguished by atom type\n",
    "    \n",
    "4) Construct descriptors to differentiate between different chemical functionalities\n",
    "    4.1) PCA\n",
    "    4.2) t-SNE\n",
    "    4.3) Self-Organising maps\n",
    "    4.4) Autoencoders\n",
    "\"\"\""
   ]
  }
 ],
 "metadata": {
  "kernelspec": {
   "display_name": "Python 3",
   "language": "python",
   "name": "python3"
  },
  "language_info": {
   "codemirror_mode": {
    "name": "ipython",
    "version": 3
   },
   "file_extension": ".py",
   "mimetype": "text/x-python",
   "name": "python",
   "nbconvert_exporter": "python",
   "pygments_lexer": "ipython3",
   "version": "3.7.6"
  }
 },
 "nbformat": 4,
 "nbformat_minor": 4
}
