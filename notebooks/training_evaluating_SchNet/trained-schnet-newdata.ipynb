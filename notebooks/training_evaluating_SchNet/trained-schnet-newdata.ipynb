{
 "cells": [
  {
   "cell_type": "code",
   "execution_count": null,
   "metadata": {},
   "outputs": [],
   "source": [
    "### #Loads the best_model after schnet training.\n",
    "#user evaluates the model on the QM9 database\n",
    "\n",
    "import schnetpack as spk\n",
    "import torch\n",
    "import schnetpack.nn \n",
    "import schnetpack.data\n",
    "from schnetpack.datasets import QM9\n",
    "\n",
    "from ase.io import read\n",
    "import numpy as np\n",
    "# Load best model where it was stored after training\n",
    "\n",
    "model = torch.load(\"../../../data/trained_models/qm9_i6_30f_10000_5000/best_model\", map_location=torch.device('cpu'))\n",
    "\n",
    "# Download QM9 dataset to use in evaluating model\n",
    "qm9data = QM9('./qm9.db', download=True, remove_uncharacterized=True)\n",
    "\n",
    "# Load split file \n",
    "train, val, test = spk.data.train_test_split(qm9data, split_file='../../../data/trained_models/qm9_i6_30f_10000_5000/split.npz')\n",
    "\n",
    "\n",
    "device = 'cpu'\n",
    "\n",
    "atoms = read('../../../data/single-shot/etoh-dis2.xyz')\n",
    "\n",
    "converter = spk.data.AtomsConverter(device=device)\n",
    "inputs = converter(atoms)\n",
    "\n",
    "pred = model(inputs)\n",
    "\n",
    "print('Prediction:', pred[QM9.U0].detach().cpu().numpy()[0,0])\n",
    "\n",
    "from schnetpack.atomistic.output_modules import yi\n",
    "from schnetpack.atomistic.output_modules import y0\n",
    "from schnetpack.representation.schnet import x0\n",
    "from schnetpack.representation.schnet import x\n",
    "\n"
   ]
  }
 ],
 "metadata": {
  "kernelspec": {
   "display_name": "Python 3",
   "language": "python",
   "name": "python3"
  },
  "language_info": {
   "codemirror_mode": {
    "name": "ipython",
    "version": 3
   },
   "file_extension": ".py",
   "mimetype": "text/x-python",
   "name": "python",
   "nbconvert_exporter": "python",
   "pygments_lexer": "ipython3",
   "version": "3.7.6"
  }
 },
 "nbformat": 4,
 "nbformat_minor": 4
}
