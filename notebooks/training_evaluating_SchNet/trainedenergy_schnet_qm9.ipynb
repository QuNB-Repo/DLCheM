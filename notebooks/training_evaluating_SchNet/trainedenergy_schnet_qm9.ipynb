{
 "cells": [
  {
   "cell_type": "code",
   "execution_count": 3,
   "metadata": {
    "scrolled": true
   },
   "outputs": [],
   "source": [
    "\n",
    "import schnetpack as spk\n",
    "import torch\n",
    "import schnetpack.nn \n",
    "import schnetpack.data\n",
    "from schnetpack.datasets import QM9\n",
    "\n",
    "from ase.io import read\n",
    "import numpy as np\n",
    "from numpy import genfromtxt, savetxt"
   ]
  },
  {
   "cell_type": "code",
   "execution_count": 4,
   "metadata": {},
   "outputs": [
    {
     "name": "stdout",
     "output_type": "stream",
     "text": [
      "Prediction: -1538.8138\n",
      "Keys: ['_atomic_numbers', '_positions', '_cell', '_neighbors', '_cell_offset', '_atom_mask', '_neighbor_mask', 'representation']\n",
      "Truth: -1538.1477\n"
     ]
    }
   ],
   "source": [
    "### #Loads the best_model after schnet training.\n",
    "#user evaluates the model on the QM9 database\n",
    "model_file = \"../../../../data/trained_models/qm9_i3_30f_10000_5000/best_model\"\n",
    "split_file = '../../../../data/trained_models/qm9_i3_30f_10000_5000/split.npz'\n",
    "idx=1\n",
    "# Load best model where it was stored after training\n",
    "\n",
    "model = torch.load(model_file, map_location=torch.device('cpu'))\n",
    "\n",
    "# Download QM9 dataset to use in evaluating model\n",
    "qm9data = QM9('./qm9.db', download=True, remove_uncharacterized=True)\n",
    "\n",
    "# Load split file \n",
    "train, val, test = spk.data.train_test_split(qm9data, split_file=split_file)\n",
    "\n",
    "\n",
    "device = 'cpu'\n",
    "\n",
    "# load data for molecule\n",
    "at, props = qm9data.get_properties(idx)\n",
    "# load spk calculator\n",
    "calculator = spk.interfaces.SpkCalculator(model=model, device=device, energy=QM9.mu)\n",
    "# set calculator on molecule\n",
    "at.set_calculator(calculator)\n",
    "\n",
    "converter = spk.data.AtomsConverter(device=device)\n",
    "# convert qm9 data to machine-readable form\n",
    "inputs = converter(at)\n",
    "\n",
    "\n",
    "pred = model(inputs)\n",
    "\n",
    "print('Prediction:', pred[QM9.U0].detach().cpu().numpy()[0,0])\n",
    "print('Keys:', list(inputs.keys()))\n",
    "print('Truth:', props[QM9.U0].cpu().numpy()[0])"
   ]
  },
  {
   "cell_type": "code",
   "execution_count": null,
   "metadata": {},
   "outputs": [],
   "source": [
    "\n"
   ]
  },
  {
   "cell_type": "code",
   "execution_count": null,
   "metadata": {},
   "outputs": [],
   "source": []
  },
  {
   "cell_type": "code",
   "execution_count": null,
   "metadata": {},
   "outputs": [],
   "source": []
  },
  {
   "cell_type": "code",
   "execution_count": null,
   "metadata": {},
   "outputs": [],
   "source": []
  },
  {
   "cell_type": "code",
   "execution_count": null,
   "metadata": {},
   "outputs": [],
   "source": []
  },
  {
   "cell_type": "code",
   "execution_count": null,
   "metadata": {},
   "outputs": [],
   "source": [
    "\n"
   ]
  },
  {
   "cell_type": "code",
   "execution_count": null,
   "metadata": {},
   "outputs": [],
   "source": []
  },
  {
   "cell_type": "code",
   "execution_count": null,
   "metadata": {},
   "outputs": [],
   "source": []
  }
 ],
 "metadata": {
  "kernelspec": {
   "display_name": "Python 3",
   "language": "python",
   "name": "python3"
  },
  "language_info": {
   "codemirror_mode": {
    "name": "ipython",
    "version": 3
   },
   "file_extension": ".py",
   "mimetype": "text/x-python",
   "name": "python",
   "nbconvert_exporter": "python",
   "pygments_lexer": "ipython3",
   "version": "3.7.6"
  }
 },
 "nbformat": 4,
 "nbformat_minor": 4
}
