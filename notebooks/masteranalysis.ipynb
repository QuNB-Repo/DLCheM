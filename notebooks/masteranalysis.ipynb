{
 "cells": [
  {
   "cell_type": "markdown",
   "id": "acbd4cfb",
   "metadata": {},
   "source": [
    "# Import DLChem and relevant packages"
   ]
  },
  {
   "cell_type": "code",
   "execution_count": 1,
   "id": "bedda330",
   "metadata": {},
   "outputs": [],
   "source": [
    "'''\n",
    "The following is the Master program which runs all routines\n",
    "concerned with analyzing SchNet/QM9 data\n",
    "\n",
    "NOTE that the program (especially the labelling part) is designed\n",
    "for linux systems. It may work on Windows, but you have to ensure\n",
    "that first part of the label stays the same ../../../\n",
    "\n",
    "Examples are shown below for how to run the 1) routines of training\n",
    "SchNet 2) run inputs on trained SchNet & extracting layers, 3) labelling\n",
    "qm9 dataset per atom according to functional group it is in, 4) \n",
    "running pca, t-sne routines on data, and more\n",
    "'''\n",
    "\n",
    "from numpy import genfromtxt\n",
    "import pandas as pd\n",
    "import numpy as np\n",
    "\n",
    "from schnetpack.datasets import QM9\n",
    "from schnetpack import AtomsData\n",
    "\n",
    "from DLChem import labeldataset\n",
    "\n",
    "from DLChem import dataanalysis\n",
    "\n",
    "from DLChem.utils import utils"
   ]
  },
  {
   "cell_type": "markdown",
   "id": "8e099db3",
   "metadata": {},
   "source": [
    "# Load the dataset "
   ]
  },
  {
   "cell_type": "code",
   "execution_count": null,
   "id": "ee7e8fc5",
   "metadata": {},
   "outputs": [],
   "source": [
    "#Load the data you will be using\n",
    "\n",
    "qm9data = QM9('../../data/datasets/QM9/qm9.db',download=False,\n",
    "              remove_uncharacterized=True)"
   ]
  },
  {
   "cell_type": "markdown",
   "id": "614a3644",
   "metadata": {},
   "source": [
    "# Label F.G. with reference to an element"
   ]
  },
  {
   "cell_type": "code",
   "execution_count": null,
   "id": "708611ad",
   "metadata": {},
   "outputs": [],
   "source": [
    "## how to use the labelling code\n",
    "element = 'H'\n",
    "dataset_name = 'qm9'\n",
    "number_data = 2950\n",
    "\n",
    "label_dir = '../../data/label%s/%s/' %(dataset_name, element)\n",
    "label_name = '%slabel%s.csv' %(dataset_name,element+str(number_data))\n",
    "\n",
    "labeldataset.label(qm9data,label_dir,label_name,number_data,element)\n"
   ]
  },
  {
   "cell_type": "markdown",
   "id": "f3c74731",
   "metadata": {},
   "source": [
    "# Label file dictionary"
   ]
  },
  {
   "cell_type": "code",
   "execution_count": null,
   "id": "0edcd8d9",
   "metadata": {},
   "outputs": [],
   "source": [
    "label_file = '../../data/labelqm9/O/qm9labelO5000.csv'\n",
    "element = 'O'\n",
    "utils.get_labels(label_file,element)"
   ]
  },
  {
   "cell_type": "markdown",
   "id": "18073627",
   "metadata": {},
   "source": [
    "# PCA on data"
   ]
  },
  {
   "cell_type": "code",
   "execution_count": null,
   "id": "c7bd387d",
   "metadata": {},
   "outputs": [],
   "source": [
    "# how to use pca code\n",
    "data_file_path = '../../data/schnet/all/repqm9energy10000-30all5000'\n",
    "n_components = 30\n",
    "scale_data = False\n",
    "\n",
    "x_pca, eig, ev, cov = dataanalysis.pca(data_file_path,n_components,scale_data)\n"
   ]
  },
  {
   "cell_type": "markdown",
   "id": "a8d15ded",
   "metadata": {},
   "source": [
    "# t-SNE on data"
   ]
  },
  {
   "cell_type": "code",
   "execution_count": null,
   "id": "c48b7590",
   "metadata": {},
   "outputs": [],
   "source": [
    "# how to use t_sne code\n",
    "data_file_path = '../../data/schnet/all/repqm9energy10000-30all5000'\n",
    "dimension = 2\n",
    "perp = 300\n",
    "\n",
    "x_tsne = dataanalysis.tsne(data_file_path,dimension,perp)"
   ]
  },
  {
   "cell_type": "markdown",
   "id": "6c895316",
   "metadata": {},
   "source": []
  },
  {
   "cell_type": "code",
   "execution_count": null,
   "id": "ab76373c",
   "metadata": {},
   "outputs": [],
   "source": [
    "from numpy import savetxt\n",
    "\n",
    "savetxt(data_file_path+'tsne100.csv',x_tsne,delimiter=',')"
   ]
  },
  {
   "cell_type": "markdown",
   "id": "8399e65d",
   "metadata": {},
   "source": [
    "# Plotting"
   ]
  },
  {
   "cell_type": "code",
   "execution_count": null,
   "id": "b547c01c",
   "metadata": {},
   "outputs": [],
   "source": [
    "element = 'all' \n",
    "colors, markers = utils.colmark(element)\n",
    "dimension = 2\n",
    "data_type = 'pca'\n",
    "\n",
    "data_file_path = '../../data/schnet/%s/repqm9energy10000-30%s5000%s.csv' %(element,element,data_type)\n",
    "print(data_file_path)\n",
    "label_path = '../../data/labelqm9/%s/qm9label%s5000.csv' %(element,element)\n",
    "image_dir = '../../data/labelqm9/%s/' %(element)\n",
    "xlabel = '%s1' %(data_type)\n",
    "ylabel = '%s2' %(data_type)\n",
    "legend = False\n",
    "col = True\n",
    "mark = False\n",
    "\n",
    "utils.plotwlabels(data_file_path,label_path,dimension,element,colors,markers,mark,col,image_dir,xlabel,ylabel,legend)\n"
   ]
  },
  {
   "cell_type": "markdown",
   "id": "fa776f6d",
   "metadata": {},
   "source": [
    "# Pearson "
   ]
  },
  {
   "cell_type": "code",
   "execution_count": null,
   "id": "c6284569",
   "metadata": {
    "scrolled": true
   },
   "outputs": [],
   "source": []
  },
  {
   "cell_type": "code",
   "execution_count": null,
   "id": "ce376988",
   "metadata": {},
   "outputs": [],
   "source": [
    "# how to use pca code\n",
    "data_file_path = '../../data/schnet/repqm9energy10000-30H5000'\n",
    "n_components = 30\n",
    "scale_data = False\n",
    "\n",
    "x_pca, eig, ev, cov = dataanalysis.pca(data_file_path,n_components,scale_data)\n",
    "print(eig)"
   ]
  },
  {
   "cell_type": "code",
   "execution_count": null,
   "id": "2b45602c",
   "metadata": {},
   "outputs": [],
   "source": [
    "from numpy import savetxt\n",
    "#For scaled covariance matrix, you must use the scaled data! \n",
    "data_file = '../../data/schnet/repqm9energy10000-30H5000pca.csv'\n",
    "ae_data_file = '../../data/schnet/repqm9energy10000-30H5000ae.csv'\n",
    "\n",
    "element='H'\n",
    "label_file = '../../data/labelqm9/H/qm9labelH5000.csv'\n",
    "#neighbor = utils.extractneighborae(element,label_file)\n",
    "#savetxt('../../data/labelqm9/H/neighbor.csv',neighbor,delimiter=',')\n",
    "neighbor_data_file = '../../data/labelqm9/H/neighbor.csv'\n",
    "\n",
    "\n",
    "pearson = dataanalysis.pearson(data_file,neighbor_data_file)\n"
   ]
  },
  {
   "cell_type": "code",
   "execution_count": null,
   "id": "50192639",
   "metadata": {
    "scrolled": true
   },
   "outputs": [],
   "source": [
    "\n",
    "print(pearson)"
   ]
  },
  {
   "cell_type": "code",
   "execution_count": null,
   "id": "0e956691",
   "metadata": {},
   "outputs": [],
   "source": []
  },
  {
   "cell_type": "code",
   "execution_count": null,
   "id": "c4ff7eea",
   "metadata": {},
   "outputs": [],
   "source": []
  },
  {
   "cell_type": "code",
   "execution_count": null,
   "id": "9c828d88",
   "metadata": {},
   "outputs": [],
   "source": []
  },
  {
   "cell_type": "code",
   "execution_count": null,
   "id": "90232bef",
   "metadata": {},
   "outputs": [],
   "source": []
  },
  {
   "cell_type": "code",
   "execution_count": null,
   "id": "bb66b8c2",
   "metadata": {},
   "outputs": [],
   "source": [
    "from numpy import savetxt\n",
    "\n",
    "#For scaled covariance matrix, you must use the scaled data! \n",
    "data_file = '../../data/schnet/repqm9energy10000-30H1000noae.csv'\n",
    "data = genfromtxt(data_file,delimiter=',')\n",
    "\n",
    "atomrefs = qm9data.get_atomref(QM9.U0)\n",
    "print('U0 of hyrogen:', '{:.2f}'.format(atomrefs[QM9.U0][1][0]), 'eV')\n",
    "print('U0 of carbon:', '{:.2f}'.format(atomrefs[QM9.U0][6][0]), 'eV')\n",
    "print('U0 of oxygen:', '{:.2f}'.format(atomrefs[QM9.U0][8][0]), 'eV')\n",
    "\n",
    "\n",
    "neighbor_ae_vector = np.zeros((len(data),1))\n",
    "label_file = '../../data/labelqm9/H/qm9labelH1000.csv'\n",
    "label_read = pd.read_csv(label_file, delimiter=',')\n",
    "label = label_read['Target']\n",
    "\n",
    "for i in range(len(data)):\n",
    "    if 0 <= label[i] < 22:\n",
    "        neighbor_ae_vector[i] = atomrefs[QM9.U0][6][0]\n",
    "    if 22 <= label[i] < 29:\n",
    "        neighbor_ae_vector[i] = atomrefs[QM9.U0][7][0]\n",
    "    if 29 <= label[i] < 33:\n",
    "        neighbor_ae_vector[i] = atomrefs[QM9.U0][8][0]\n",
    "\n",
    "data = np.hstack((data,neighbor_ae_vector))\n",
    "print(data)\n",
    "\n",
    "savetxt('../../data/schnet/repqm9energy10000-30H1000nae.csv',data,delimiter=',')"
   ]
  },
  {
   "cell_type": "code",
   "execution_count": null,
   "id": "59e7efb2",
   "metadata": {},
   "outputs": [],
   "source": [
    "# how to use pca code\n",
    "data_file_path = '../../data/schnet/repqm9energy10000-30H1000nae'\n",
    "n_components = 31 \n",
    "scale_data = False\n",
    "\n",
    "x_pca, eig, ev, cov = dataanalysis.pca(data_file_path,n_components,scale_data)\n",
    "\n"
   ]
  },
  {
   "cell_type": "code",
   "execution_count": null,
   "id": "e323ae02",
   "metadata": {},
   "outputs": [],
   "source": [
    "pearson = dataanalysis.pearson(cov,data)"
   ]
  },
  {
   "cell_type": "code",
   "execution_count": null,
   "id": "8609d2fd",
   "metadata": {},
   "outputs": [],
   "source": [
    "print(pearson[0:,30])\n"
   ]
  },
  {
   "cell_type": "code",
   "execution_count": null,
   "id": "22c4db58",
   "metadata": {},
   "outputs": [],
   "source": []
  }
 ],
 "metadata": {
  "kernelspec": {
   "display_name": "Python 3",
   "language": "python",
   "name": "python3"
  },
  "language_info": {
   "codemirror_mode": {
    "name": "ipython",
    "version": 3
   },
   "file_extension": ".py",
   "mimetype": "text/x-python",
   "name": "python",
   "nbconvert_exporter": "python",
   "pygments_lexer": "ipython3",
   "version": "3.8.5"
  }
 },
 "nbformat": 4,
 "nbformat_minor": 5
}
