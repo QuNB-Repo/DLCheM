{
 "cells": [
  {
   "cell_type": "code",
   "execution_count": 13,
   "metadata": {},
   "outputs": [],
   "source": [
    "from schnetpack.datasets import QM9\n",
    "import fileinput\n",
    "import os\n",
    "\n",
    "qm9data = QM9('./qm9.db', download=True, remove_uncharacterized=True)\n",
    "\n",
    "\n",
    "for idx in range(100):\n",
    "    at, props = qm9data.get_properties(idx)\n",
    "    # load x,y,z coordinates tensors\n",
    "    x = props['_positions'][ :,0]\n",
    "    y = props['_positions'][ :,1]\n",
    "    z = props['_positions'][ :,2]\n",
    "    x = x.numpy()\n",
    "    y = y.numpy()\n",
    "    z = z.numpy()\n",
    "\n",
    "    filepath = '../../../data/similarity/molecules/%d.xyz' % (idx)\n",
    "    xyz = open(filepath,mode='w',encoding='utf-8')\n",
    "\n",
    "    xyz.write(str(len(z))+'\\n')\n",
    "    xyz.write('title \\n')\n",
    "    for i in range(len(z)):\n",
    "        if props['_atomic_numbers'][i] == 1: \n",
    "            xyz.write('H ' + ' ' + str(x[i]) + ' ' + str(y[i]) + ' ' + str(z[i]) +'\\n')\n",
    "        if props['_atomic_numbers'][i] == 6:\n",
    "            xyz.write('C '+ ' ' + str(x[i]) + ' ' + str(y[i]) + ' ' + str(z[i])+ '\\n')\n",
    "        if props['_atomic_numbers'][i] == 7:\n",
    "            xyz.write('N ' +  ' ' + str(x[i]) + ' ' + str(y[i]) + ' ' + str(z[i])+'\\n')    \n",
    "        if props['_atomic_numbers'][i] == 8:\n",
    "            xyz.write('O '+ ' ' + str(x[i]) + ' ' + str(y[i]) + ' ' + str(z[i])+'\\n')\n",
    "        if props['_atomic_numbers'][i] == 9:\n",
    "            xyz.write('F '+ ' ' + str(x[i]) + ' ' + str(y[i]) + ' ' + str(z[i])+'\\n') \n",
    "\n",
    "    xyz.close()\n",
    "    molfile = '../../../data/similarity/molecules/%d.mol' % (idx)\n",
    "    os.system('obabel ' + filepath + ' -O ' + molfile)\n",
    "    \n",
    "    "
   ]
  },
  {
   "cell_type": "code",
   "execution_count": null,
   "metadata": {},
   "outputs": [],
   "source": []
  },
  {
   "cell_type": "code",
   "execution_count": null,
   "metadata": {},
   "outputs": [],
   "source": []
  }
 ],
 "metadata": {
  "kernelspec": {
   "display_name": "Python 3",
   "language": "python",
   "name": "python3"
  },
  "language_info": {
   "codemirror_mode": {
    "name": "ipython",
    "version": 3
   },
   "file_extension": ".py",
   "mimetype": "text/x-python",
   "name": "python",
   "nbconvert_exporter": "python",
   "pygments_lexer": "ipython3",
   "version": "3.7.6"
  }
 },
 "nbformat": 4,
 "nbformat_minor": 4
}
