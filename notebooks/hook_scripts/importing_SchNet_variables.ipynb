{
 "cells": [
  {
   "cell_type": "code",
   "execution_count": 1,
   "metadata": {
    "scrolled": true
   },
   "outputs": [
    {
     "name": "stdout",
     "output_type": "stream",
     "text": [
      "not centered\n",
      "tensor([0.2105, 0.2105, 0.2105, 0.2105, 0.2105, 0.2105, 0.2105, 0.2105, 0.2105,\n",
      "        0.2105, 0.2105, 0.2105, 0.2105, 0.2105, 0.2105, 0.2105, 0.2105, 0.2105,\n",
      "        0.2105, 0.2105])\n",
      "Prediction: -1102.2343\n",
      "Keys: ['_atomic_numbers', '_positions', '_cell', '_neighbors', '_cell_offset', '_atom_mask', '_neighbor_mask', 'representation']\n",
      "Truth: -1101.4878\n"
     ]
    },
    {
     "name": "stderr",
     "output_type": "stream",
     "text": [
      "/home/amerelsamman/Programs/anaconda3/lib/python3.7/site-packages/schnetpack/data/atoms.py:327: UserWarning: The given NumPy array is not writeable, and PyTorch does not support non-writeable tensors. This means you can write to the underlying (supposedly non-writeable) NumPy array using the tensor. You may want to copy the array to protect its data or make it writeable before converting it to a tensor. This type of warning will be suppressed for the rest of this program. (Triggered internally at  /pytorch/torch/csrc/utils/tensor_numpy.cpp:141.)\n",
      "  properties[pname] = torch.FloatTensor(prop)\n",
      "/home/amerelsamman/Programs/anaconda3/lib/python3.7/site-packages/ase/atoms.py:972: VisibleDeprecationWarning: Use get_global_number_of_atoms() instead\n",
      "  np.VisibleDeprecationWarning)\n"
     ]
    }
   ],
   "source": [
    "### #Loads the best_model after schnet training.\n",
    "#user evaluates the model on the QM9 database\n",
    "\n",
    "import schnetpack as spk\n",
    "import torch\n",
    "import schnetpack.nn \n",
    "import schnetpack.data\n",
    "from schnetpack.datasets import QM9\n",
    "\n",
    "from ase.io import read\n",
    "import numpy as np\n",
    "from numpy import genfromtxt, savetxt\n",
    "# Load best model where it was stored after training\n",
    "\n",
    "model = torch.load(\"../../../data/trained_models/qm9_i6_30f_10000_5000/best_model\", map_location=torch.device('cpu'))\n",
    "\n",
    "# Download QM9 dataset to use in evaluating model\n",
    "qm9data = QM9('./qm9.db', download=True, remove_uncharacterized=True)\n",
    "\n",
    "# Load split file \n",
    "train, val, test = spk.data.train_test_split(qm9data, split_file='../../../data/trained_models/qm9_i6_30f_10000_5000/split.npz')\n",
    "\n",
    "\n",
    "device = 'cpu'\n",
    "\n",
    "calculator = spk.interfaces.SpkCalculator(model=model, device=device, energy=QM9.U0)\n",
    "converter = spk.data.AtomsConverter(device=device)\n",
    "# load data for molecule\n",
    "at, props = qm9data.get_properties(0)\n",
    "\n",
    "# set calculator on molecule\n",
    "at.set_calculator(calculator)\n",
    "\n",
    "# convert qm9 data to machine-readable form\n",
    "inputs = converter(at)\n",
    "\n",
    "\n",
    "pred = model(inputs)\n",
    "\n",
    "print('Prediction:', pred[QM9.U0].detach().cpu().numpy()[0,0])\n",
    "print('Keys:', list(inputs.keys()))\n",
    "print('Truth:', props[QM9.U0].cpu().numpy()[0])\n",
    "\n",
    "from schnetpack.atomistic.output_modules import yi\n",
    "from schnetpack.atomistic.output_modules import y0\n",
    "from schnetpack.representation.schnet import x0\n",
    "from schnetpack.representation.schnet import x\n",
    "from schnetpack.representation.schnet import f_ij\n",
    "from schnetpack.nn.neighbors import distances\n",
    "\n",
    "\n",
    "from schnetpack.nn.cfconv import W\n",
    "from schnetpack.nn.acsf import diff"
   ]
  },
  {
   "cell_type": "code",
   "execution_count": null,
   "metadata": {},
   "outputs": [],
   "source": []
  },
  {
   "cell_type": "code",
   "execution_count": null,
   "metadata": {},
   "outputs": [],
   "source": []
  },
  {
   "cell_type": "code",
   "execution_count": null,
   "metadata": {},
   "outputs": [],
   "source": []
  },
  {
   "cell_type": "code",
   "execution_count": null,
   "metadata": {},
   "outputs": [],
   "source": []
  },
  {
   "cell_type": "code",
   "execution_count": null,
   "metadata": {},
   "outputs": [],
   "source": []
  },
  {
   "cell_type": "code",
   "execution_count": null,
   "metadata": {},
   "outputs": [],
   "source": [
    "\n"
   ]
  },
  {
   "cell_type": "code",
   "execution_count": null,
   "metadata": {},
   "outputs": [],
   "source": [
    "import torch\n",
    "import math\n",
    "\n",
    "diff=0.9621\n",
    "power = torch.pow(torch.tensor(diff),2)\n",
    "gauss = torch.exp(torch.pow(torch.tensor(diff), 2))\n",
    "\n",
    "print(gauss)"
   ]
  },
  {
   "cell_type": "code",
   "execution_count": null,
   "metadata": {},
   "outputs": [],
   "source": []
  }
 ],
 "metadata": {
  "kernelspec": {
   "display_name": "Python 3",
   "language": "python",
   "name": "python3"
  },
  "language_info": {
   "codemirror_mode": {
    "name": "ipython",
    "version": 3
   },
   "file_extension": ".py",
   "mimetype": "text/x-python",
   "name": "python",
   "nbconvert_exporter": "python",
   "pygments_lexer": "ipython3",
   "version": "3.7.6"
  }
 },
 "nbformat": 4,
 "nbformat_minor": 4
}
