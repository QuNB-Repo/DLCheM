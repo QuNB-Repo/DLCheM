{
 "cells": [
  {
   "cell_type": "code",
   "execution_count": 21,
   "id": "60c5fc89",
   "metadata": {},
   "outputs": [],
   "source": [
    "import subprocess\n",
    "import fileinput\n",
    "\n",
    "import numpy as np\n",
    "\n",
    "from schnetpack.datasets import QM9\n",
    "\n",
    "from numpy import savetxt"
   ]
  },
  {
   "cell_type": "code",
   "execution_count": 5,
   "id": "fdba4b4e",
   "metadata": {},
   "outputs": [],
   "source": [
    "class label:\n",
    "    def __init__(self,element,qm9data,number_molecules,label_dir):\n",
    "        self.element = element\n",
    "        self.qm9data = qm9data\n",
    "        self.number_molecules = number_molecules\n",
    "        self.label_dir = label_dir\n",
    "        \n",
    "        if element == 'H':\n",
    "            label_h(qm9data,number_molecules,label_dir)\n",
    "\n",
    "def element_positions(element,mol_filepath):\n",
    "    countmollines = 0\n",
    "    element_positions = []\n",
    "    for line in fileinput.FileInput(mol_filepath,inplace=0):\n",
    "        countmollines = countmollines + 1\n",
    "        if element in line:\n",
    "            element_positions.append([])\n",
    "            element_positions[len(element_positions)-1] = int(countmollines-4)\n",
    "    return element_positions\n",
    "            \n",
    "def write_xyzfile(props,xyz_filepath):\n",
    "    x = props['_positions'][ :,0]\n",
    "    y = props['_positions'][ :,1]\n",
    "    z = props['_positions'][ :,2]\n",
    "    x = x.detach().numpy()\n",
    "    y = y.detach().numpy()\n",
    "    z = z.detach().numpy()\n",
    "    \n",
    "    xyz_file = open(xyz_filepath,mode='w',encoding='utf-8')\n",
    "    \n",
    "    number_atoms = int(len(z))\n",
    "    \n",
    "    xyz_file.write(str(number_atoms)+'\\n')\n",
    "    xyz_file.write('title'+'\\n')\n",
    "    for i in range(number_atoms):\n",
    "        if props['_atomic_numbers'][i] == 1:\n",
    "            string = ('H' + ' ' +  str(x[i]) + ' ' + str(y[i]) + ' ' + str(z[i]) + '\\n')\n",
    "            xyz_file.write(string)\n",
    "        if props['_atomic_numbers'][i] == 6:\n",
    "            string = ('C' + ' ' +  str(x[i]) + ' ' + str(y[i]) + ' ' + str(z[i]) + '\\n')\n",
    "            xyz_file.write(string)\n",
    "        if props['_atomic_numbers'][i] == 8:\n",
    "            string = ('O' + ' ' +  str(x[i]) + ' ' + str(y[i]) + ' ' + str(z[i]) + '\\n')\n",
    "            xyz_file.write(string)\n",
    "        if props['_atomic_numbers'][i] == 7:\n",
    "            string = ('N' + ' ' +  str(x[i]) + ' ' + str(y[i]) + ' ' + str(z[i]) + '\\n')\n",
    "            xyz_file.write(string)\n",
    "        if props['_atomic_numbers'][i] == 9:\n",
    "            string = ('F' + ' ' +  str(x[i]) + ' ' + str(y[i]) + ' ' + str(z[i]) + '\\n')\n",
    "            xyz_file.write(string)\n",
    "    xyz_file.close()            \n",
    "\n",
    "def label_h(qm9data,number_molecules,label_dir):\n",
    "    for idx in range(number_molecules):\n",
    "        at, props = qm9data.get_properties(idx)\n",
    "        \n",
    "        if 1 in props['_atomic_numbers']:\n",
    "            xyz_filepath = label_dir+str(idx)+'.xyz' \n",
    "            mol_filepath = label_dir+str(idx)+'.mol' \n",
    "            \n",
    "            print(xyz_filepath)\n",
    "            print(mol_filepath)\n",
    "            print('obabel '+xyz_filepath+' -O '+mol_filepath)\n",
    "\n",
    "            write_xyzfile(props,xyz_filepath)\n",
    "            \n",
    "            os.system('obabel '+xyz_filepath+' -O '+mol_filepath)\n",
    "            \n",
    "            element_pos = element_positions(element,mol_filepath)\n",
    "            \n",
    "            print(element_pos)\n",
    "        \n",
    "        \n",
    "    \n",
    "def label_o(qm9data,number_molecules):\n",
    "    for idx in range(number_molecules):\n",
    "        pass"
   ]
  },
  {
   "cell_type": "code",
   "execution_count": 6,
   "id": "11acfc01",
   "metadata": {},
   "outputs": [
    {
     "name": "stdout",
     "output_type": "stream",
     "text": [
      "../../../data/label/0.xyz\n",
      "../../../data/label/0.mol\n",
      "obabel ../../../data/label/0.xyz -O ../../../data/label/0.mol\n",
      "[2, 3, 4, 5]\n",
      "../../../data/label/1.xyz\n",
      "../../../data/label/1.mol\n",
      "obabel ../../../data/label/1.xyz -O ../../../data/label/1.mol\n"
     ]
    },
    {
     "ename": "FileNotFoundError",
     "evalue": "[Errno 2] No such file or directory: '../../../data/label/1.mol'",
     "output_type": "error",
     "traceback": [
      "\u001b[1;31m---------------------------------------------------------------------------\u001b[0m",
      "\u001b[1;31mFileNotFoundError\u001b[0m                         Traceback (most recent call last)",
      "\u001b[1;32m<ipython-input-6-827c9f0a00c7>\u001b[0m in \u001b[0;36m<module>\u001b[1;34m\u001b[0m\n\u001b[0;32m      4\u001b[0m \u001b[0mnumber_molecules\u001b[0m \u001b[1;33m=\u001b[0m \u001b[1;36m5000\u001b[0m\u001b[1;33m\u001b[0m\u001b[1;33m\u001b[0m\u001b[0m\n\u001b[0;32m      5\u001b[0m \u001b[1;33m\u001b[0m\u001b[0m\n\u001b[1;32m----> 6\u001b[1;33m \u001b[0mlabel\u001b[0m\u001b[1;33m(\u001b[0m\u001b[0melement\u001b[0m\u001b[1;33m,\u001b[0m\u001b[0mqm9data\u001b[0m\u001b[1;33m,\u001b[0m\u001b[0mnumber_molecules\u001b[0m\u001b[1;33m,\u001b[0m\u001b[0mlabel_dir\u001b[0m\u001b[1;33m)\u001b[0m\u001b[1;33m\u001b[0m\u001b[1;33m\u001b[0m\u001b[0m\n\u001b[0m",
      "\u001b[1;32m<ipython-input-5-d1ef43dd618c>\u001b[0m in \u001b[0;36m__init__\u001b[1;34m(self, element, qm9data, number_molecules, label_dir)\u001b[0m\n\u001b[0;32m      7\u001b[0m \u001b[1;33m\u001b[0m\u001b[0m\n\u001b[0;32m      8\u001b[0m         \u001b[1;32mif\u001b[0m \u001b[0melement\u001b[0m \u001b[1;33m==\u001b[0m \u001b[1;34m'H'\u001b[0m\u001b[1;33m:\u001b[0m\u001b[1;33m\u001b[0m\u001b[1;33m\u001b[0m\u001b[0m\n\u001b[1;32m----> 9\u001b[1;33m             \u001b[0mlabel_h\u001b[0m\u001b[1;33m(\u001b[0m\u001b[0mqm9data\u001b[0m\u001b[1;33m,\u001b[0m\u001b[0mnumber_molecules\u001b[0m\u001b[1;33m,\u001b[0m\u001b[0mlabel_dir\u001b[0m\u001b[1;33m)\u001b[0m\u001b[1;33m\u001b[0m\u001b[1;33m\u001b[0m\u001b[0m\n\u001b[0m\u001b[0;32m     10\u001b[0m \u001b[1;33m\u001b[0m\u001b[0m\n\u001b[0;32m     11\u001b[0m \u001b[1;32mdef\u001b[0m \u001b[0melement_positions\u001b[0m\u001b[1;33m(\u001b[0m\u001b[0melement\u001b[0m\u001b[1;33m,\u001b[0m\u001b[0mmol_filepath\u001b[0m\u001b[1;33m)\u001b[0m\u001b[1;33m:\u001b[0m\u001b[1;33m\u001b[0m\u001b[1;33m\u001b[0m\u001b[0m\n",
      "\u001b[1;32m<ipython-input-5-d1ef43dd618c>\u001b[0m in \u001b[0;36mlabel_h\u001b[1;34m(qm9data, number_molecules, label_dir)\u001b[0m\n\u001b[0;32m     67\u001b[0m             \u001b[0mos\u001b[0m\u001b[1;33m.\u001b[0m\u001b[0msystem\u001b[0m\u001b[1;33m(\u001b[0m\u001b[1;34m'obabel '\u001b[0m\u001b[1;33m+\u001b[0m\u001b[0mxyz_filepath\u001b[0m\u001b[1;33m+\u001b[0m\u001b[1;34m' -O '\u001b[0m\u001b[1;33m+\u001b[0m\u001b[0mmol_filepath\u001b[0m\u001b[1;33m)\u001b[0m\u001b[1;33m\u001b[0m\u001b[1;33m\u001b[0m\u001b[0m\n\u001b[0;32m     68\u001b[0m \u001b[1;33m\u001b[0m\u001b[0m\n\u001b[1;32m---> 69\u001b[1;33m             \u001b[0melement_pos\u001b[0m \u001b[1;33m=\u001b[0m \u001b[0melement_positions\u001b[0m\u001b[1;33m(\u001b[0m\u001b[0melement\u001b[0m\u001b[1;33m,\u001b[0m\u001b[0mmol_filepath\u001b[0m\u001b[1;33m)\u001b[0m\u001b[1;33m\u001b[0m\u001b[1;33m\u001b[0m\u001b[0m\n\u001b[0m\u001b[0;32m     70\u001b[0m \u001b[1;33m\u001b[0m\u001b[0m\n\u001b[0;32m     71\u001b[0m             \u001b[0mprint\u001b[0m\u001b[1;33m(\u001b[0m\u001b[0melement_pos\u001b[0m\u001b[1;33m)\u001b[0m\u001b[1;33m\u001b[0m\u001b[1;33m\u001b[0m\u001b[0m\n",
      "\u001b[1;32m<ipython-input-5-d1ef43dd618c>\u001b[0m in \u001b[0;36melement_positions\u001b[1;34m(element, mol_filepath)\u001b[0m\n\u001b[0;32m     12\u001b[0m     \u001b[0mcountmollines\u001b[0m \u001b[1;33m=\u001b[0m \u001b[1;36m0\u001b[0m\u001b[1;33m\u001b[0m\u001b[1;33m\u001b[0m\u001b[0m\n\u001b[0;32m     13\u001b[0m     \u001b[0melement_positions\u001b[0m \u001b[1;33m=\u001b[0m \u001b[1;33m[\u001b[0m\u001b[1;33m]\u001b[0m\u001b[1;33m\u001b[0m\u001b[1;33m\u001b[0m\u001b[0m\n\u001b[1;32m---> 14\u001b[1;33m     \u001b[1;32mfor\u001b[0m \u001b[0mline\u001b[0m \u001b[1;32min\u001b[0m \u001b[0mfileinput\u001b[0m\u001b[1;33m.\u001b[0m\u001b[0mFileInput\u001b[0m\u001b[1;33m(\u001b[0m\u001b[0mmol_filepath\u001b[0m\u001b[1;33m,\u001b[0m\u001b[0minplace\u001b[0m\u001b[1;33m=\u001b[0m\u001b[1;36m0\u001b[0m\u001b[1;33m)\u001b[0m\u001b[1;33m:\u001b[0m\u001b[1;33m\u001b[0m\u001b[1;33m\u001b[0m\u001b[0m\n\u001b[0m\u001b[0;32m     15\u001b[0m         \u001b[0mcountmollines\u001b[0m \u001b[1;33m=\u001b[0m \u001b[0mcountmollines\u001b[0m \u001b[1;33m+\u001b[0m \u001b[1;36m1\u001b[0m\u001b[1;33m\u001b[0m\u001b[1;33m\u001b[0m\u001b[0m\n\u001b[0;32m     16\u001b[0m         \u001b[1;32mif\u001b[0m \u001b[0melement\u001b[0m \u001b[1;32min\u001b[0m \u001b[0mline\u001b[0m\u001b[1;33m:\u001b[0m\u001b[1;33m\u001b[0m\u001b[1;33m\u001b[0m\u001b[0m\n",
      "\u001b[1;32m~\\Anaconda3\\lib\\fileinput.py\u001b[0m in \u001b[0;36m__next__\u001b[1;34m(self)\u001b[0m\n\u001b[0;32m    246\u001b[0m     \u001b[1;32mdef\u001b[0m \u001b[0m__next__\u001b[0m\u001b[1;33m(\u001b[0m\u001b[0mself\u001b[0m\u001b[1;33m)\u001b[0m\u001b[1;33m:\u001b[0m\u001b[1;33m\u001b[0m\u001b[1;33m\u001b[0m\u001b[0m\n\u001b[0;32m    247\u001b[0m         \u001b[1;32mwhile\u001b[0m \u001b[1;32mTrue\u001b[0m\u001b[1;33m:\u001b[0m\u001b[1;33m\u001b[0m\u001b[1;33m\u001b[0m\u001b[0m\n\u001b[1;32m--> 248\u001b[1;33m             \u001b[0mline\u001b[0m \u001b[1;33m=\u001b[0m \u001b[0mself\u001b[0m\u001b[1;33m.\u001b[0m\u001b[0m_readline\u001b[0m\u001b[1;33m(\u001b[0m\u001b[1;33m)\u001b[0m\u001b[1;33m\u001b[0m\u001b[1;33m\u001b[0m\u001b[0m\n\u001b[0m\u001b[0;32m    249\u001b[0m             \u001b[1;32mif\u001b[0m \u001b[0mline\u001b[0m\u001b[1;33m:\u001b[0m\u001b[1;33m\u001b[0m\u001b[1;33m\u001b[0m\u001b[0m\n\u001b[0;32m    250\u001b[0m                 \u001b[0mself\u001b[0m\u001b[1;33m.\u001b[0m\u001b[0m_filelineno\u001b[0m \u001b[1;33m+=\u001b[0m \u001b[1;36m1\u001b[0m\u001b[1;33m\u001b[0m\u001b[1;33m\u001b[0m\u001b[0m\n",
      "\u001b[1;32m~\\Anaconda3\\lib\\fileinput.py\u001b[0m in \u001b[0;36m_readline\u001b[1;34m(self)\u001b[0m\n\u001b[0;32m    364\u001b[0m                     \u001b[0mself\u001b[0m\u001b[1;33m.\u001b[0m\u001b[0m_file\u001b[0m \u001b[1;33m=\u001b[0m \u001b[0mself\u001b[0m\u001b[1;33m.\u001b[0m\u001b[0m_openhook\u001b[0m\u001b[1;33m(\u001b[0m\u001b[0mself\u001b[0m\u001b[1;33m.\u001b[0m\u001b[0m_filename\u001b[0m\u001b[1;33m,\u001b[0m \u001b[0mself\u001b[0m\u001b[1;33m.\u001b[0m\u001b[0m_mode\u001b[0m\u001b[1;33m)\u001b[0m\u001b[1;33m\u001b[0m\u001b[1;33m\u001b[0m\u001b[0m\n\u001b[0;32m    365\u001b[0m                 \u001b[1;32melse\u001b[0m\u001b[1;33m:\u001b[0m\u001b[1;33m\u001b[0m\u001b[1;33m\u001b[0m\u001b[0m\n\u001b[1;32m--> 366\u001b[1;33m                     \u001b[0mself\u001b[0m\u001b[1;33m.\u001b[0m\u001b[0m_file\u001b[0m \u001b[1;33m=\u001b[0m \u001b[0mopen\u001b[0m\u001b[1;33m(\u001b[0m\u001b[0mself\u001b[0m\u001b[1;33m.\u001b[0m\u001b[0m_filename\u001b[0m\u001b[1;33m,\u001b[0m \u001b[0mself\u001b[0m\u001b[1;33m.\u001b[0m\u001b[0m_mode\u001b[0m\u001b[1;33m)\u001b[0m\u001b[1;33m\u001b[0m\u001b[1;33m\u001b[0m\u001b[0m\n\u001b[0m\u001b[0;32m    367\u001b[0m         \u001b[0mself\u001b[0m\u001b[1;33m.\u001b[0m\u001b[0m_readline\u001b[0m \u001b[1;33m=\u001b[0m \u001b[0mself\u001b[0m\u001b[1;33m.\u001b[0m\u001b[0m_file\u001b[0m\u001b[1;33m.\u001b[0m\u001b[0mreadline\u001b[0m  \u001b[1;31m# hide FileInput._readline\u001b[0m\u001b[1;33m\u001b[0m\u001b[1;33m\u001b[0m\u001b[0m\n\u001b[0;32m    368\u001b[0m         \u001b[1;32mreturn\u001b[0m \u001b[0mself\u001b[0m\u001b[1;33m.\u001b[0m\u001b[0m_readline\u001b[0m\u001b[1;33m(\u001b[0m\u001b[1;33m)\u001b[0m\u001b[1;33m\u001b[0m\u001b[1;33m\u001b[0m\u001b[0m\n",
      "\u001b[1;31mFileNotFoundError\u001b[0m: [Errno 2] No such file or directory: '../../../data/label/1.mol'"
     ]
    }
   ],
   "source": [
    "element = 'H'\n",
    "label_dir = '../../../data/label/'\n",
    "qm9data = QM9('../../../data/main_data/qm9/qm9.db',download=True,remove_uncharacterized=True)\n",
    "number_molecules = 5000\n",
    "\n",
    "label(element,qm9data,number_molecules,label_dir)"
   ]
  },
  {
   "cell_type": "code",
   "execution_count": 30,
   "id": "60ff2301",
   "metadata": {},
   "outputs": [
    {
     "data": {
      "text/plain": [
       "0"
      ]
     },
     "execution_count": 30,
     "metadata": {},
     "output_type": "execute_result"
    }
   ],
   "source": [
    "import subprocess\n",
    "subprocess.call(['cmd', '/k', 'obabel ../../../data/label/0.xyz -O ../../../data/label/0.mol'])"
   ]
  },
  {
   "cell_type": "code",
   "execution_count": null,
   "id": "ffe16727",
   "metadata": {},
   "outputs": [],
   "source": []
  },
  {
   "cell_type": "code",
   "execution_count": null,
   "id": "15fd46ae",
   "metadata": {},
   "outputs": [],
   "source": []
  }
 ],
 "metadata": {
  "kernelspec": {
   "display_name": "Python 3",
   "language": "python",
   "name": "python3"
  },
  "language_info": {
   "codemirror_mode": {
    "name": "ipython",
    "version": 3
   },
   "file_extension": ".py",
   "mimetype": "text/x-python",
   "name": "python",
   "nbconvert_exporter": "python",
   "pygments_lexer": "ipython3",
   "version": "3.8.5"
  }
 },
 "nbformat": 4,
 "nbformat_minor": 5
}
