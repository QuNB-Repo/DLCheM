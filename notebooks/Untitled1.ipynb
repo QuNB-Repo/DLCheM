{
 "cells": [
  {
   "cell_type": "code",
   "execution_count": 4,
   "metadata": {},
   "outputs": [],
   "source": [
    "import fileinput\n",
    "import random\n",
    "import os\n",
    "\n",
    "\n",
    "#from rdkit import Chem\n",
    "#from rdkit.Chem import AllChem\n",
    "#from rdkit.Chem import rdmolfiles"
   ]
  },
  {
   "cell_type": "code",
   "execution_count": 5,
   "metadata": {},
   "outputs": [],
   "source": [
    "class autocombinatorial_batteries():\n",
    "    def __init__(self,symmetric,number_generate,benzene_file_dir):\n",
    "        self.symmetric = symmetric\n",
    "        self.number_generate = number_generate\n",
    "        self.benzene_file_dir = benzene_file_dir\n",
    "        \n",
    "        #Choose how many rings\n",
    "        number_rings = choose_rings()\n",
    "        \n",
    "        #If two rings, choose a linker from a list\n",
    "        \n",
    "        \n",
    "        vector = ([])\n",
    "        #Construct vector\n",
    "        if number_rings == 2:\n",
    "            for i in range(12):\n",
    "                vector.append([])\n",
    "        elif number_rings == 1:\n",
    "            for i in range(6):\n",
    "                vector.append([])    \n",
    "                \n",
    "        print(vector)\n",
    "            \n",
    "        \n",
    "        \n",
    "        #vector can be of distinct\n",
    "        \n",
    "        \n",
    "        #Construct geometry file (using chemdraw will really help here)\n",
    "    \n",
    "    \n",
    "    \n",
    "def choose_rings():\n",
    "    number_rings = random.choice((1,2))\n",
    "    print(number_rings)\n",
    "    return number_rings\n",
    "    \n",
    "    \n",
    "    \n",
    "\n"
   ]
  },
  {
   "cell_type": "code",
   "execution_count": 7,
   "metadata": {},
   "outputs": [
    {
     "name": "stdout",
     "output_type": "stream",
     "text": [
      "2\n",
      "[[], [], [], [], [], [], [], [], [], [], [], []]\n"
     ]
    },
    {
     "data": {
      "text/plain": [
       "<__main__.autocombinatorial_batteries at 0x7f7bec0eb090>"
      ]
     },
     "execution_count": 7,
     "metadata": {},
     "output_type": "execute_result"
    }
   ],
   "source": [
    "number_generate = 1\n",
    "symmetric = 1\n",
    "benzene_file_dir = './autocombinatorial_batteries'\n",
    "\n",
    "autocombinatorial_batteries(symmetric,number_generate,benzene_file_dir)\n",
    "\n",
    "\n",
    "\n",
    "\n"
   ]
  },
  {
   "cell_type": "code",
   "execution_count": null,
   "metadata": {},
   "outputs": [],
   "source": []
  },
  {
   "cell_type": "code",
   "execution_count": null,
   "metadata": {},
   "outputs": [],
   "source": []
  }
 ],
 "metadata": {
  "kernelspec": {
   "display_name": "Python 3",
   "language": "python",
   "name": "python3"
  },
  "language_info": {
   "codemirror_mode": {
    "name": "ipython",
    "version": 3
   },
   "file_extension": ".py",
   "mimetype": "text/x-python",
   "name": "python",
   "nbconvert_exporter": "python",
   "pygments_lexer": "ipython3",
   "version": "3.7.6"
  }
 },
 "nbformat": 4,
 "nbformat_minor": 4
}
