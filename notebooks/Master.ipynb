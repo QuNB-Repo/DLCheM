{
 "cells": [
  {
   "cell_type": "code",
   "execution_count": 3,
   "id": "274cedaf",
   "metadata": {},
   "outputs": [],
   "source": [
    "'''\n",
    "The following is the Master program which runs all routines\n",
    "concerned with analyzing SchNet/QM9 data\n",
    "\n",
    "NOTE that the program (especially the labelling part) is designed\n",
    "for linux systems. It may work on Windows, but you have to ensure\n",
    "that first part of the label stays the same ../../../\n",
    "\n",
    "Examples are shown below for how to run the 1) routines of training\n",
    "SchNet 2) run inputs on trained SchNet & extracting layers, 3) labelling\n",
    "qm9 dataset per atom according to functional group it is in, 4) \n",
    "running pca, t-sne routines on data, and more\n",
    "'''\n",
    "\n",
    "from schnetpack.datasets import QM9\n",
    "\n",
    "\n",
    "from DLChem import label_qm9_h\n",
    "from DLChem import label_qm9_n\n",
    "from DLChem import label_qm9_o\n",
    "from DLChem import training_schnet_energy\n",
    "from DLChem import training_schnet_dipole\n",
    "#from DLChem import pca\n",
    "\n",
    "qm9data = QM9('../../data/QM9/qm9.db',download=False,\n",
    "              remove_uncharacterized=True)"
   ]
  },
  {
   "cell_type": "code",
   "execution_count": 4,
   "id": "c7bd387d",
   "metadata": {},
   "outputs": [
    {
     "name": "stdout",
     "output_type": "stream",
     "text": [
      "0.0% complete\n"
     ]
    },
    {
     "name": "stderr",
     "output_type": "stream",
     "text": [
      "C:\\Users\\aelsamma\\Anaconda3\\lib\\site-packages\\schnetpack\\data\\atoms.py:327: UserWarning: The given NumPy array is not writeable, and PyTorch does not support non-writeable tensors. This means you can write to the underlying (supposedly non-writeable) NumPy array using the tensor. You may want to copy the array to protect its data or make it writeable before converting it to a tensor. This type of warning will be suppressed for the rest of this program. (Triggered internally at  ..\\torch\\csrc\\utils\\tensor_numpy.cpp:143.)\n",
      "  properties[pname] = torch.FloatTensor(prop)\n",
      "C:\\Users\\aelsamma\\Anaconda3\\lib\\site-packages\\ase\\atoms.py:967: VisibleDeprecationWarning: Use get_global_number_of_atoms() instead\n",
      "  warnings.warn('Use get_global_number_of_atoms() instead',\n"
     ]
    },
    {
     "name": "stdout",
     "output_type": "stream",
     "text": [
      "10.0% complete\n",
      "20.0% complete\n",
      "30.0% complete\n",
      "40.0% complete\n",
      "50.0% complete\n",
      "60.0% complete\n",
      "70.0% complete\n",
      "80.0% complete\n",
      "90.0% complete\n"
     ]
    },
    {
     "data": {
      "text/plain": [
       "<DLChem.label_qm9_n.label_N at 0x2114b89c610>"
      ]
     },
     "execution_count": 4,
     "metadata": {},
     "output_type": "execute_result"
    }
   ],
   "source": [
    "## how to use the labelling code\n",
    "\n",
    "element = 'N'\n",
    "number_data = 5000\n",
    "\n",
    "label_dir = '../../data/label_qm9/%s/' %(element+'/'+str(number_data))\n",
    "\n",
    "label_qm9_n.label_N(qm9data,label_dir,number_data,element)\n"
   ]
  },
  {
   "cell_type": "code",
   "execution_count": null,
   "id": "c48b7590",
   "metadata": {},
   "outputs": [],
   "source": [
    "## how to use schnet training subroutine\n",
    "\n",
    "name_model = 'dipole-qm9-1'\n",
    "trained_model_path = '../../data-copy/trained_models/'+name_model\n",
    "num_train = 1000\n",
    "num_val = 500\n",
    "n_in = 30\n",
    "n_atomic_basis = 30\n",
    "n_filters = 30 \n",
    "n_gaussians = 20\n",
    "n_interactions = 3\n",
    "cutoff = 4\n",
    "device = 'cpu'\n",
    "\n",
    "training_schnet_dipole.train_schnet_model(trained_model_path,qm9data,num_train,num_val,n_in,n_atomic_basis,n_filters,n_gaussians,n_interactions,cutoff,device)\n",
    "\n",
    "#"
   ]
  },
  {
   "cell_type": "code",
   "execution_count": null,
   "id": "b547c01c",
   "metadata": {},
   "outputs": [],
   "source": [
    "\n"
   ]
  },
  {
   "cell_type": "code",
   "execution_count": null,
   "id": "c6284569",
   "metadata": {},
   "outputs": [],
   "source": []
  },
  {
   "cell_type": "code",
   "execution_count": null,
   "id": "ce376988",
   "metadata": {},
   "outputs": [],
   "source": []
  }
 ],
 "metadata": {
  "kernelspec": {
   "display_name": "Python 3",
   "language": "python",
   "name": "python3"
  },
  "language_info": {
   "codemirror_mode": {
    "name": "ipython",
    "version": 3
   },
   "file_extension": ".py",
   "mimetype": "text/x-python",
   "name": "python",
   "nbconvert_exporter": "python",
   "pygments_lexer": "ipython3",
   "version": "3.8.5"
  }
 },
 "nbformat": 4,
 "nbformat_minor": 5
}
