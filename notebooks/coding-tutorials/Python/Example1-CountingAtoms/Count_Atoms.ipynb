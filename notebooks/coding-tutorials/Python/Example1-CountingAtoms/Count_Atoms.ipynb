{
 "cells": [
  {
   "cell_type": "code",
   "execution_count": 1,
   "metadata": {},
   "outputs": [],
   "source": [
    "import numpy as np\n",
    "import fileinput"
   ]
  },
  {
   "cell_type": "code",
   "execution_count": 2,
   "metadata": {},
   "outputs": [
    {
     "name": "stdout",
     "output_type": "stream",
     "text": [
      "H :  5 \n",
      "C :  2 \n",
      "N :  1 \n",
      "O :  1\n"
     ]
    },
    {
     "data": {
      "text/plain": [
       "31"
      ]
     },
     "execution_count": 2,
     "metadata": {},
     "output_type": "execute_result"
    }
   ],
   "source": [
    "\n",
    "#Initialize vector that will hold the counts of the atoms\n",
    "\n",
    "count_of_elements = np.zeros((4))\n",
    "\n",
    "\n",
    "# Create file_name object to be used for fileinput\n",
    "acetamide_filepath = './Acetamide_Geometry.txt'\n",
    "\n",
    "for line in fileinput.FileInput(acetamide_filepath,inplace=0):\n",
    "    if 'H ' in line:\n",
    "        count_of_elements[0] = count_of_elements[0] + 1\n",
    "    if 'C ' in line:\n",
    "        count_of_elements[1] = count_of_elements[1] + 1\n",
    "    if 'N ' in line:\n",
    "        count_of_elements[2] = count_of_elements[2] + 1\n",
    "    if 'O ' in line:\n",
    "        count_of_elements[3] = count_of_elements[3] + 1\n",
    "\n",
    "print(\n",
    "      'H : ',  int(count_of_elements[0]),  '\\n'\n",
    "      'C : ', int(count_of_elements[1]),  '\\n'\n",
    "      'N : ', int(count_of_elements[2]),  '\\n'\n",
    "      'O : ', int(count_of_elements[3])\n",
    "     )\n",
    "\n",
    "output_filepath = './counts.txt'\n",
    "output_file_object = open(output_filepath, encoding = 'UTF-8', mode='w')\n",
    "\n",
    "string = 'H : ' +  str(count_of_elements[0]) +  '\\n' \\\n",
    "+ 'C : '+ str(count_of_elements[1]) +  '\\n' \\\n",
    "+ 'N : '+ str(count_of_elements[2]) + '\\n' \\\n",
    "+ 'O : '+ str(count_of_elements[3])\n",
    "\n",
    "output_file_object.write(string)\n",
    "\n",
    "\n",
    "    "
   ]
  },
  {
   "cell_type": "code",
   "execution_count": null,
   "metadata": {},
   "outputs": [],
   "source": []
  }
 ],
 "metadata": {
  "kernelspec": {
   "display_name": "Python 3",
   "language": "python",
   "name": "python3"
  },
  "language_info": {
   "codemirror_mode": {
    "name": "ipython",
    "version": 3
   },
   "file_extension": ".py",
   "mimetype": "text/x-python",
   "name": "python",
   "nbconvert_exporter": "python",
   "pygments_lexer": "ipython3",
   "version": "3.7.6"
  }
 },
 "nbformat": 4,
 "nbformat_minor": 4
}
