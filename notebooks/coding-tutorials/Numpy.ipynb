{
 "cells": [
  {
   "cell_type": "code",
   "execution_count": 142,
   "metadata": {},
   "outputs": [
    {
     "name": "stdout",
     "output_type": "stream",
     "text": [
      "[[-1.]]\n"
     ]
    }
   ],
   "source": [
    "import numpy as np\n",
    "\n",
    "i = -np.ones((1,1), dtype=np.float32)\n",
    "print(i)"
   ]
  },
  {
   "cell_type": "code",
   "execution_count": null,
   "metadata": {},
   "outputs": [],
   "source": []
  },
  {
   "cell_type": "code",
   "execution_count": 143,
   "metadata": {},
   "outputs": [
    {
     "name": "stdout",
     "output_type": "stream",
     "text": [
      "[[0. 1. 2. 3. 4.]\n",
      " [0. 1. 2. 3. 4.]\n",
      " [0. 1. 2. 3. 4.]\n",
      " [0. 1. 2. 3. 4.]\n",
      " [0. 1. 2. 3. 4.]]\n"
     ]
    }
   ],
   "source": [
    "n = 5\n",
    "\n",
    "i = np.tile(np.arange(n, dtype=np.float32)[np.newaxis], (n,1))\n",
    "\n",
    "print(i)"
   ]
  },
  {
   "cell_type": "code",
   "execution_count": 144,
   "metadata": {},
   "outputs": [
    {
     "name": "stdout",
     "output_type": "stream",
     "text": [
      "[[1. 2. 3. 4.]\n",
      " [0. 2. 3. 4.]\n",
      " [0. 1. 3. 4.]\n",
      " [0. 1. 2. 4.]\n",
      " [0. 1. 2. 3.]]\n"
     ]
    }
   ],
   "source": [
    "# ~np.eye deletes all diagonal elements and squishes to 1D array\n",
    "# for atomic systems, this can be used to represent that all atoms are neighbors \n",
    "# but of course not neighbors to themselves (delete diagonals) and reshape\n",
    "\n",
    "i = i[~np.eye(n,dtype=np.bool)].reshape(n,n-1)\n",
    "print(i)"
   ]
  },
  {
   "cell_type": "code",
   "execution_count": 145,
   "metadata": {},
   "outputs": [
    {
     "name": "stdout",
     "output_type": "stream",
     "text": [
      "[[1 2 3]\n",
      " [1 2 3]]\n",
      "(2, 3)\n"
     ]
    }
   ],
   "source": [
    "## np.array When creating multidimensional arrays note the square brackets! \n",
    "\n",
    "grid = np.array([[1,2,3],[1,2,3]])\n",
    "print(grid)\n",
    "print(grid.shape)"
   ]
  },
  {
   "cell_type": "code",
   "execution_count": 146,
   "metadata": {},
   "outputs": [
    {
     "name": "stdout",
     "output_type": "stream",
     "text": [
      "[[ 1.  2.  3.  4. -1.]\n",
      " [ 0.  2.  3.  4. -1.]\n",
      " [ 0.  1.  3.  4. -1.]\n",
      " [ 0.  1.  2.  4. -1.]\n",
      " [ 0.  1.  2.  3. -1.]]\n"
     ]
    }
   ],
   "source": [
    "# np.hstack, stack a column to the right\n",
    "# np.vstack, stack a row at the bottom\n",
    "i = np.hstack([i, -np.ones((n,1))])\n",
    "print(i)"
   ]
  },
  {
   "cell_type": "code",
   "execution_count": 141,
   "metadata": {},
   "outputs": [],
   "source": [
    "## grid\n"
   ]
  },
  {
   "cell_type": "code",
   "execution_count": null,
   "metadata": {},
   "outputs": [],
   "source": []
  }
 ],
 "metadata": {
  "kernelspec": {
   "display_name": "Python 3",
   "language": "python",
   "name": "python3"
  },
  "language_info": {
   "codemirror_mode": {
    "name": "ipython",
    "version": 3
   },
   "file_extension": ".py",
   "mimetype": "text/x-python",
   "name": "python",
   "nbconvert_exporter": "python",
   "pygments_lexer": "ipython3",
   "version": "3.7.6"
  }
 },
 "nbformat": 4,
 "nbformat_minor": 4
}
