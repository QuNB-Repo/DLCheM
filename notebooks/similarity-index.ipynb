{
 "cells": [
  {
   "cell_type": "code",
   "execution_count": 2,
   "metadata": {},
   "outputs": [
    {
     "name": "stdout",
     "output_type": "stream",
     "text": [
      "[0.0, 0.3333333333333333, 0.3333333333333333, 0.4, 0.0, 0.5, 0.3333333333333333, 0.0, 0.4, 0.2, 0.2222222222222222, 0.15384615384615385, 0.0, 0.3333333333333333, 0.2, 0.25, 0.16666666666666666, 0.25, 0.18181818181818182, 0.2, 0.2857142857142857, 0.25, 0.2222222222222222, 0.2222222222222222, 0.16666666666666666, 0.16666666666666666, 0.16666666666666666, 0.2222222222222222, 0.1, 0.0, 0.18181818181818182, 0.3333333333333333, 0.2, 0.2, 0.2857142857142857, 0.18181818181818182, 0.10526315789473684, 0.16666666666666666, 0.13333333333333333, 0.2857142857142857, 0.14285714285714285, 0.15384615384615385, 0.05263157894736842, 0.047619047619047616, 0.045454545454545456, 0.0625, 0.25, 0.15384615384615385, 0.125, 0.13333333333333333, 0.08695652173913043, 0.13333333333333333, 0.10526315789473684, 0.15384615384615385, 0.18181818181818182, 0.125, 0.11764705882352941, 0.11764705882352941, 0.15384615384615385, 0.11764705882352941, 0.07142857142857142, 0.1111111111111111, 0.14285714285714285, 0.10526315789473684, 0.1111111111111111, 0.058823529411764705, 0.10526315789473684, 0.1, 0.0, 0.09523809523809523, 0.14285714285714285, 0.14285714285714285, 0.2222222222222222, 0.14285714285714285, 0.13333333333333333, 0.14285714285714285, 0.07692307692307693, 0.09090909090909091, 0.07142857142857142, 0.10526315789473684, 0.07407407407407407, 0.06896551724137931, 0.09090909090909091, 0.08, 0.14285714285714285, 0.09090909090909091, 0.09523809523809523, 0.11764705882352941, 0.10526315789473684, 0.13333333333333333, 0.08695652173913043, 0.07692307692307693, 0.08333333333333333]\n"
     ]
    },
    {
     "name": "stderr",
     "output_type": "stream",
     "text": [
      "RDKit WARNING: [14:30:10] Warning: molecule is tagged as 3D, but all Z coords are zero\n",
      "RDKit WARNING: [14:30:10] Warning: molecule is tagged as 3D, but all Z coords are zero\n",
      "RDKit WARNING: [14:30:10] Warning: molecule is tagged as 3D, but all Z coords are zero\n"
     ]
    }
   ],
   "source": [
    "import os\n",
    "\n",
    "from rdkit import Chem\n",
    "from rdkit import DataStructs\n",
    "from rdkit.Chem.Fingerprints import FingerprintMols\n",
    "import pandas as pd\n",
    "\n",
    "ms = []\n",
    "for i in range(100):\n",
    "    molfile = '../../../data/similarity/molecules/%d.mol' % (i)\n",
    "    ms.append(Chem.MolFromMolFile(molfile))\n",
    "    \n",
    "    fps = [FingerprintMols.FingerprintMol(x) for x in ms]\n",
    "    \n",
    "    sim = []\n",
    "    for n in range(len(fps)-1): # -1 so the last fp will not be used\n",
    "        s = DataStructs.BulkTanimotoSimilarity(fps[n], fps[n+1:]) \n",
    "        sim.append(s)\n",
    "\n",
    "\n",
    "print(sim[6])"
   ]
  },
  {
   "cell_type": "code",
   "execution_count": 4,
   "metadata": {},
   "outputs": [
    {
     "name": "stdout",
     "output_type": "stream",
     "text": [
      "1.0319802889462266\n"
     ]
    }
   ],
   "source": [
    "import numpy as np\n",
    "import math\n",
    "from numpy import genfromtxt, savetxt\n",
    "\n",
    "pcafile = '../../../data/pca-tsne/qm9_i3_30f_10000_5000/fullytrained/5000-test-points/representation/pcah.csv' \n",
    "pca = np.genfromtxt(pcafile,delimiter=',')\n",
    "\n",
    "dis = 0\n",
    "for i in range(30):\n",
    "    calc = (pca[16][i]-pca[24][i])**2\n",
    "    dis = dis + calc\n",
    "    dis = math.sqrt(dis)\n",
    "\n",
    "print(dis)"
   ]
  },
  {
   "cell_type": "code",
   "execution_count": 10,
   "metadata": {},
   "outputs": [
    {
     "name": "stdout",
     "output_type": "stream",
     "text": [
      "1.1841954319292047\n"
     ]
    }
   ],
   "source": [
    "import numpy as np\n",
    "from numpy import genfromtxt, savetxt\n",
    "\n",
    "pcafile = '../../../data/pca-tsne/qm9_i3_30f_10000_5000/fullytrained/5000-test-points/representation/pcah.csv' \n",
    "pca = np.genfromtxt(pcafile,delimiter=',')\n",
    "\n",
    "dis = 0\n",
    "for i in range(3):\n",
    "    calc = (pca[16][i]-pca[24][i])**2\n",
    "    dis = dis + calc\n",
    "    dis = math.sqrt(dis)\n",
    "\n",
    "print(dis)"
   ]
  },
  {
   "cell_type": "code",
   "execution_count": null,
   "metadata": {},
   "outputs": [],
   "source": []
  },
  {
   "cell_type": "code",
   "execution_count": null,
   "metadata": {},
   "outputs": [],
   "source": []
  }
 ],
 "metadata": {
  "kernelspec": {
   "display_name": "Python 3",
   "language": "python",
   "name": "python3"
  },
  "language_info": {
   "codemirror_mode": {
    "name": "ipython",
    "version": 3
   },
   "file_extension": ".py",
   "mimetype": "text/x-python",
   "name": "python",
   "nbconvert_exporter": "python",
   "pygments_lexer": "ipython3",
   "version": "3.7.9"
  }
 },
 "nbformat": 4,
 "nbformat_minor": 4
}
