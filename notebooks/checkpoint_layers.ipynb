{
 "cells": [
  {
   "cell_type": "code",
   "execution_count": 1,
   "metadata": {},
   "outputs": [],
   "source": [
    "import torch\n",
    "import schnetpack as spk\n",
    "import math\n",
    "\n",
    "import numpy as np\n",
    "from numpy import savetxt"
   ]
  },
  {
   "cell_type": "markdown",
   "metadata": {},
   "source": [
    "# Define functions"
   ]
  },
  {
   "cell_type": "code",
   "execution_count": 2,
   "metadata": {},
   "outputs": [],
   "source": [
    "def print_molecule(props):\n",
    "    \n",
    "    # load x,y,z coordinates tensors\n",
    "    x = props['_positions'][ :,0]\n",
    "    y = props['_positions'][ :,1]\n",
    "    z = props['_positions'][ :,2]\n",
    "    x = x.numpy()\n",
    "    y = y.numpy()\n",
    "    z = z.numpy()\n",
    "    \n",
    "    for i in range(len(z)):\n",
    "        if props['_atomic_numbers'][i] == 1:\n",
    "            print('H',x[i],y[i],z[i])\n",
    "        if props['_atomic_numbers'][i] == 6:\n",
    "            print('C',x[i],y[i],z[i])\n",
    "        if props['_atomic_numbers'][i] == 7:\n",
    "            print('N',x[i],y[i],z[i])     \n",
    "        if props['_atomic_numbers'][i] == 8:\n",
    "            print('O',x[i],y[i],z[i])\n",
    "        if props['_atomic_numbers'][i] == 9:\n",
    "            print('F',x[i],y[i],z[i]) \n",
    "    print('')  \n",
    "    return z"
   ]
  },
  {
   "cell_type": "code",
   "execution_count": 3,
   "metadata": {},
   "outputs": [],
   "source": [
    "def hook_layer(self, inp_tensor, out_tensor):\n",
    "    # Self is included and refers to the model class\n",
    "    # Global allows us to utilize embedding_output outside the current function scope\n",
    "    global layer_output\n",
    "    #Update the embedding_output variable to be equal to our output tensor\n",
    "    layer_output=out_tensor "
   ]
  },
  {
   "cell_type": "code",
   "execution_count": 4,
   "metadata": {},
   "outputs": [],
   "source": [
    "def convert_2D(number_of_atoms,layer_output):\n",
    "    layer = np.zeros((number_of_atoms,30))\n",
    "    for i in range(number_of_atoms):\n",
    "        for j in range(30):\n",
    "            layer[i,j] = layer_output[0][i][j]\n",
    "    return layer"
   ]
  },
  {
   "cell_type": "code",
   "execution_count": null,
   "metadata": {},
   "outputs": [],
   "source": []
  },
  {
   "cell_type": "markdown",
   "metadata": {},
   "source": [
    "# Load model and run forward passes using molecules of QM9 dataset"
   ]
  },
  {
   "cell_type": "code",
   "execution_count": 7,
   "metadata": {
    "scrolled": true
   },
   "outputs": [
    {
     "name": "stdout",
     "output_type": "stream",
     "text": [
      "None\n"
     ]
    },
    {
     "ename": "RuntimeError",
     "evalue": "Error(s) in loading state_dict for AtomisticModel:\n\tMissing key(s) in state_dict: \"representation.embedding.weight\", \"representation.distance_expansion.width\", \"representation.distance_expansion.offsets\", \"representation.interactions.0.filter_network.0.weight\", \"representation.interactions.0.filter_network.0.bias\", \"representation.interactions.0.filter_network.1.weight\", \"representation.interactions.0.filter_network.1.bias\", \"representation.interactions.0.cutoff_network.cutoff\", \"representation.interactions.0.cfconv.in2f.weight\", \"representation.interactions.0.cfconv.f2out.weight\", \"representation.interactions.0.cfconv.f2out.bias\", \"representation.interactions.0.cfconv.filter_network.0.weight\", \"representation.interactions.0.cfconv.filter_network.0.bias\", \"representation.interactions.0.cfconv.filter_network.1.weight\", \"representation.interactions.0.cfconv.filter_network.1.bias\", \"representation.interactions.0.cfconv.cutoff_network.cutoff\", \"representation.interactions.0.dense.weight\", \"representation.interactions.0.dense.bias\", \"representation.interactions.1.filter_network.0.weight\", \"representation.interactions.1.filter_network.0.bias\", \"representation.interactions.1.filter_network.1.weight\", \"representation.interactions.1.filter_network.1.bias\", \"representation.interactions.1.cutoff_network.cutoff\", \"representation.interactions.1.cfconv.in2f.weight\", \"representation.interactions.1.cfconv.f2out.weight\", \"representation.interactions.1.cfconv.f2out.bias\", \"representation.interactions.1.cfconv.filter_network.0.weight\", \"representation.interactions.1.cfconv.filter_network.0.bias\", \"representation.interactions.1.cfconv.filter_network.1.weight\", \"representation.interactions.1.cfconv.filter_network.1.bias\", \"representation.interactions.1.cfconv.cutoff_network.cutoff\", \"representation.interactions.1.dense.weight\", \"representation.interactions.1.dense.bias\", \"representation.interactions.2.filter_network.0.weight\", \"representation.interactions.2.filter_network.0.bias\", \"representation.interactions.2.filter_network.1.weight\", \"representation.interactions.2.filter_network.1.bias\", \"representation.interactions.2.cutoff_network.cutoff\", \"representation.interactions.2.cfconv.in2f.weight\", \"representation.interactions.2.cfconv.f2out.weight\", \"representation.interactions.2.cfconv.f2out.bias\", \"representation.interactions.2.cfconv.filter_network.0.weight\", \"representation.interactions.2.cfconv.filter_network.0.bias\", \"representation.interactions.2.cfconv.filter_network.1.weight\", \"representation.interactions.2.cfconv.filter_network.1.bias\", \"representation.interactions.2.cfconv.cutoff_network.cutoff\", \"representation.interactions.2.dense.weight\", \"representation.interactions.2.dense.bias\", \"representation.interactions.3.filter_network.0.weight\", \"representation.interactions.3.filter_network.0.bias\", \"representation.interactions.3.filter_network.1.weight\", \"representation.interactions.3.filter_network.1.bias\", \"representation.interactions.3.cutoff_network.cutoff\", \"representation.interactions.3.cfconv.in2f.weight\", \"representation.interactions.3.cfconv.f2out.weight\", \"representation.interactions.3.cfconv.f2out.bias\", \"representation.interactions.3.cfconv.filter_network.0.weight\", \"representation.interactions.3.cfconv.filter_network.0.bias\", \"representation.interactions.3.cfconv.filter_network.1.weight\", \"representation.interactions.3.cfconv.filter_network.1.bias\", \"representation.interactions.3.cfconv.cutoff_network.cutoff\", \"representation.interactions.3.dense.weight\", \"representation.interactions.3.dense.bias\", \"representation.interactions.4.filter_network.0.weight\", \"representation.interactions.4.filter_network.0.bias\", \"representation.interactions.4.filter_network.1.weight\", \"representation.interactions.4.filter_network.1.bias\", \"representation.interactions.4.cutoff_network.cutoff\", \"representation.interactions.4.cfconv.in2f.weight\", \"representation.interactions.4.cfconv.f2out.weight\", \"representation.interactions.4.cfconv.f2out.bias\", \"representation.interactions.4.cfconv.filter_network.0.weight\", \"representation.interactions.4.cfconv.filter_network.0.bias\", \"representation.interactions.4.cfconv.filter_network.1.weight\", \"representation.interactions.4.cfconv.filter_network.1.bias\", \"representation.interactions.4.cfconv.cutoff_network.cutoff\", \"representation.interactions.4.dense.weight\", \"representation.interactions.4.dense.bias\", \"output_modules.0.atomref.weight\", \"output_modules.0.out_net.1.out_net.0.weight\", \"output_modules.0.out_net.1.out_net.0.bias\", \"output_modules.0.out_net.1.out_net.1.weight\", \"output_modules.0.out_net.1.out_net.1.bias\", \"output_modules.0.standardize.mean\", \"output_modules.0.standardize.stddev\". \n\tUnexpected key(s) in state_dict: \"epoch\", \"step\", \"best_loss\", \"optimizer\", \"hooks\", \"model\". ",
     "output_type": "error",
     "traceback": [
      "\u001b[0;31m---------------------------------------------------------------------------\u001b[0m",
      "\u001b[0;31mRuntimeError\u001b[0m                              Traceback (most recent call last)",
      "\u001b[0;32m<ipython-input-7-c46f257c3627>\u001b[0m in \u001b[0;36m<module>\u001b[0;34m\u001b[0m\n\u001b[1;32m     30\u001b[0m \u001b[0;31m#qm9_i6_30f_20g-1000-500-4_300.pth\u001b[0m\u001b[0;34m\u001b[0m\u001b[0;34m\u001b[0m\u001b[0;34m\u001b[0m\u001b[0m\n\u001b[1;32m     31\u001b[0m \u001b[0;31m# load model's state dictionary from saved checkpoint\u001b[0m\u001b[0;34m\u001b[0m\u001b[0;34m\u001b[0m\u001b[0;34m\u001b[0m\u001b[0m\n\u001b[0;32m---> 32\u001b[0;31m \u001b[0mmodel\u001b[0m\u001b[0;34m.\u001b[0m\u001b[0mload_state_dict\u001b[0m\u001b[0;34m(\u001b[0m\u001b[0mload_checkpoint\u001b[0m\u001b[0;34m)\u001b[0m\u001b[0;34m\u001b[0m\u001b[0;34m\u001b[0m\u001b[0m\n\u001b[0m\u001b[1;32m     33\u001b[0m \u001b[0;34m\u001b[0m\u001b[0m\n\u001b[1;32m     34\u001b[0m \u001b[0;34m\u001b[0m\u001b[0m\n",
      "\u001b[0;32m~/Programs/anaconda3/lib/python3.7/site-packages/torch/nn/modules/module.py\u001b[0m in \u001b[0;36mload_state_dict\u001b[0;34m(self, state_dict, strict)\u001b[0m\n\u001b[1;32m   1050\u001b[0m         \u001b[0;32mif\u001b[0m \u001b[0mlen\u001b[0m\u001b[0;34m(\u001b[0m\u001b[0merror_msgs\u001b[0m\u001b[0;34m)\u001b[0m \u001b[0;34m>\u001b[0m \u001b[0;36m0\u001b[0m\u001b[0;34m:\u001b[0m\u001b[0;34m\u001b[0m\u001b[0;34m\u001b[0m\u001b[0m\n\u001b[1;32m   1051\u001b[0m             raise RuntimeError('Error(s) in loading state_dict for {}:\\n\\t{}'.format(\n\u001b[0;32m-> 1052\u001b[0;31m                                self.__class__.__name__, \"\\n\\t\".join(error_msgs)))\n\u001b[0m\u001b[1;32m   1053\u001b[0m         \u001b[0;32mreturn\u001b[0m \u001b[0m_IncompatibleKeys\u001b[0m\u001b[0;34m(\u001b[0m\u001b[0mmissing_keys\u001b[0m\u001b[0;34m,\u001b[0m \u001b[0munexpected_keys\u001b[0m\u001b[0;34m)\u001b[0m\u001b[0;34m\u001b[0m\u001b[0;34m\u001b[0m\u001b[0m\n\u001b[1;32m   1054\u001b[0m \u001b[0;34m\u001b[0m\u001b[0m\n",
      "\u001b[0;31mRuntimeError\u001b[0m: Error(s) in loading state_dict for AtomisticModel:\n\tMissing key(s) in state_dict: \"representation.embedding.weight\", \"representation.distance_expansion.width\", \"representation.distance_expansion.offsets\", \"representation.interactions.0.filter_network.0.weight\", \"representation.interactions.0.filter_network.0.bias\", \"representation.interactions.0.filter_network.1.weight\", \"representation.interactions.0.filter_network.1.bias\", \"representation.interactions.0.cutoff_network.cutoff\", \"representation.interactions.0.cfconv.in2f.weight\", \"representation.interactions.0.cfconv.f2out.weight\", \"representation.interactions.0.cfconv.f2out.bias\", \"representation.interactions.0.cfconv.filter_network.0.weight\", \"representation.interactions.0.cfconv.filter_network.0.bias\", \"representation.interactions.0.cfconv.filter_network.1.weight\", \"representation.interactions.0.cfconv.filter_network.1.bias\", \"representation.interactions.0.cfconv.cutoff_network.cutoff\", \"representation.interactions.0.dense.weight\", \"representation.interactions.0.dense.bias\", \"representation.interactions.1.filter_network.0.weight\", \"representation.interactions.1.filter_network.0.bias\", \"representation.interactions.1.filter_network.1.weight\", \"representation.interactions.1.filter_network.1.bias\", \"representation.interactions.1.cutoff_network.cutoff\", \"representation.interactions.1.cfconv.in2f.weight\", \"representation.interactions.1.cfconv.f2out.weight\", \"representation.interactions.1.cfconv.f2out.bias\", \"representation.interactions.1.cfconv.filter_network.0.weight\", \"representation.interactions.1.cfconv.filter_network.0.bias\", \"representation.interactions.1.cfconv.filter_network.1.weight\", \"representation.interactions.1.cfconv.filter_network.1.bias\", \"representation.interactions.1.cfconv.cutoff_network.cutoff\", \"representation.interactions.1.dense.weight\", \"representation.interactions.1.dense.bias\", \"representation.interactions.2.filter_network.0.weight\", \"representation.interactions.2.filter_network.0.bias\", \"representation.interactions.2.filter_network.1.weight\", \"representation.interactions.2.filter_network.1.bias\", \"representation.interactions.2.cutoff_network.cutoff\", \"representation.interactions.2.cfconv.in2f.weight\", \"representation.interactions.2.cfconv.f2out.weight\", \"representation.interactions.2.cfconv.f2out.bias\", \"representation.interactions.2.cfconv.filter_network.0.weight\", \"representation.interactions.2.cfconv.filter_network.0.bias\", \"representation.interactions.2.cfconv.filter_network.1.weight\", \"representation.interactions.2.cfconv.filter_network.1.bias\", \"representation.interactions.2.cfconv.cutoff_network.cutoff\", \"representation.interactions.2.dense.weight\", \"representation.interactions.2.dense.bias\", \"representation.interactions.3.filter_network.0.weight\", \"representation.interactions.3.filter_network.0.bias\", \"representation.interactions.3.filter_network.1.weight\", \"representation.interactions.3.filter_network.1.bias\", \"representation.interactions.3.cutoff_network.cutoff\", \"representation.interactions.3.cfconv.in2f.weight\", \"representation.interactions.3.cfconv.f2out.weight\", \"representation.interactions.3.cfconv.f2out.bias\", \"representation.interactions.3.cfconv.filter_network.0.weight\", \"representation.interactions.3.cfconv.filter_network.0.bias\", \"representation.interactions.3.cfconv.filter_network.1.weight\", \"representation.interactions.3.cfconv.filter_network.1.bias\", \"representation.interactions.3.cfconv.cutoff_network.cutoff\", \"representation.interactions.3.dense.weight\", \"representation.interactions.3.dense.bias\", \"representation.interactions.4.filter_network.0.weight\", \"representation.interactions.4.filter_network.0.bias\", \"representation.interactions.4.filter_network.1.weight\", \"representation.interactions.4.filter_network.1.bias\", \"representation.interactions.4.cutoff_network.cutoff\", \"representation.interactions.4.cfconv.in2f.weight\", \"representation.interactions.4.cfconv.f2out.weight\", \"representation.interactions.4.cfconv.f2out.bias\", \"representation.interactions.4.cfconv.filter_network.0.weight\", \"representation.interactions.4.cfconv.filter_network.0.bias\", \"representation.interactions.4.cfconv.filter_network.1.weight\", \"representation.interactions.4.cfconv.filter_network.1.bias\", \"representation.interactions.4.cfconv.cutoff_network.cutoff\", \"representation.interactions.4.dense.weight\", \"representation.interactions.4.dense.bias\", \"output_modules.0.atomref.weight\", \"output_modules.0.out_net.1.out_net.0.weight\", \"output_modules.0.out_net.1.out_net.0.bias\", \"output_modules.0.out_net.1.out_net.1.weight\", \"output_modules.0.out_net.1.out_net.1.bias\", \"output_modules.0.standardize.mean\", \"output_modules.0.standardize.stddev\". \n\tUnexpected key(s) in state_dict: \"epoch\", \"step\", \"best_loss\", \"optimizer\", \"hooks\", \"model\". "
     ]
    }
   ],
   "source": [
    "# Load QM9 dataset\n",
    "from schnetpack.datasets import QM9\n",
    "\n",
    "qm9data = QM9('./qm9.db', download=True, remove_uncharacterized=True)\n",
    "\n",
    "# Load split file \n",
    "train, val, test = spk.data.train_test_split(qm9data,split_file='../../../data/trained_models/qm9_i6_30f/split.npz')\n",
    "\n",
    "# Load atom ref data \n",
    "atomrefs = qm9data.get_atomref(QM9.U0)\n",
    "# Define SchNet representation model\n",
    "\n",
    "schnet = spk.representation.SchNet(\n",
    "    n_atom_basis=30, n_filters=30, n_gaussians=20, n_interactions=5,\n",
    "    cutoff=4. , cutoff_network=spk.nn.cutoff.CosineCutoff\n",
    ")\n",
    "\n",
    "# Define SchNet output model and property to be predicted\n",
    "\n",
    "output_U0 = spk.atomistic.Atomwise(n_in=30, atomref=atomrefs[QM9.U0])\n",
    "\n",
    "# Define atomistic model\n",
    "\n",
    "model = spk.AtomisticModel(representation=schnet,output_modules=output_U0)\n",
    "\n",
    "# Load saved checkpoint file\n",
    "checkpoint_path = '../../../data/trained_models/qm9_i6_30f/checkpoints/checkpoint-330.pth.tar'\n",
    "load_checkpoint = torch.load(checkpoint_path)\n",
    "\n",
    "#qm9_i6_30f_20g-1000-500-4_300.pth\n",
    "# load model's state dictionary from saved checkpoint\n",
    "model.load_state_dict(load_checkpoint)\n",
    "\n",
    "\n",
    "number_of_inputs = 5000\n",
    "\n",
    "#set up device for forward pass\n",
    "device='cpu'\n",
    "\n",
    "# load atoms converter \n",
    "converter = spk.data.AtomsConverter(device=device)\n",
    "\n",
    "# load spk calculator\n",
    "calculator = spk.interfaces.SpkCalculator(model=model, device=device, energy=QM9.U0)\n",
    "\n",
    "data = np.zeros((1,30))\n",
    "datay = np.zeros((1))\n",
    "for idx in range(number_of_inputs):\n",
    "        \n",
    "    # load data for molecule\n",
    "    at, props = qm9data.get_properties(idx)\n",
    "        \n",
    "    # print molecule for identification\n",
    "    print(idx)\n",
    "    z = print_molecule(props)\n",
    "    number_of_atoms=len(z)\n",
    "        \n",
    "    # set calculator on molecule\n",
    "    at.set_calculator(calculator)\n",
    "        \n",
    "    # convert qm9 data to machine-readable form\n",
    "    inputs = converter(at)\n",
    "        \n",
    "    #Instatiate layer output\n",
    "    layer_output=None\n",
    "        \n",
    "    # Forward hook the model's interaction layer \n",
    "    model.representation.interactions[0].register_forward_hook(hook_layer)\n",
    "        \n",
    "    # Forward pass molecules through the model\n",
    "    model(inputs)\n",
    "\n",
    "#    from schnetpack.nn.blocks import ret\n",
    "#    print(ret)\n",
    "    \n",
    "    #yi=yi.detach().numpy()\n",
    "    #print(yi)\n",
    "    #convert layer tensor to 2D array\n",
    "    rows = convert_2D(number_of_atoms,layer_output)\n",
    "\n",
    "    #save the vector of every oxygen atom encountered\n",
    "    for i in range(number_of_atoms):\n",
    "        if props['_atomic_numbers'][i] == 8:\n",
    "            data = np.vstack((data,rows[i]))\n",
    "    \n",
    "#    for i in range(number_of_atoms):\n",
    "#        if props['_atomic_numbers'][i] == 1:\n",
    "#            datay = np.vstack((datay,yi[0][i]))\n",
    "            \n",
    "    \n",
    "            \n",
    "savetxt('../../../data/test.csv',data,delimiter=',')\n",
    "savetxt('../../../data/ae.csv',datay,delimiter=',')"
   ]
  },
  {
   "cell_type": "code",
   "execution_count": null,
   "metadata": {},
   "outputs": [],
   "source": [
    "model_load_state_"
   ]
  },
  {
   "cell_type": "code",
   "execution_count": null,
   "metadata": {},
   "outputs": [],
   "source": []
  },
  {
   "cell_type": "code",
   "execution_count": null,
   "metadata": {},
   "outputs": [],
   "source": []
  },
  {
   "cell_type": "code",
   "execution_count": null,
   "metadata": {},
   "outputs": [],
   "source": []
  }
 ],
 "metadata": {
  "kernelspec": {
   "display_name": "Python 3",
   "language": "python",
   "name": "python3"
  },
  "language_info": {
   "codemirror_mode": {
    "name": "ipython",
    "version": 3
   },
   "file_extension": ".py",
   "mimetype": "text/x-python",
   "name": "python",
   "nbconvert_exporter": "python",
   "pygments_lexer": "ipython3",
   "version": "3.7.6"
  }
 },
 "nbformat": 4,
 "nbformat_minor": 4
}
