{
 "cells": [
  {
   "cell_type": "code",
   "execution_count": 31,
   "metadata": {},
   "outputs": [],
   "source": [
    "import pandas as pd\n",
    "import statsmodels.api as sm\n",
    "\n",
    "import matplotlib.pyplot as plt\n",
    "import matplotlib\n",
    "from mpl_toolkits import mplot3d\n",
    "import matplotlib.patches as mpatches\n",
    "# read excel (examples of how to set up your data given in folder)\n",
    "data = pd.read_csv(\"../../../data/regression_last_layer/data.csv\") \n",
    "\n",
    "df = pd.DataFrame(data,columns=['emb1','emb2','emb3','emb4','emb5','emb6','emb7','emb8','emb9',\n",
    "                                'emb10','emb11','emb12','emb13','emb14','emb15','AE'])"
   ]
  },
  {
   "cell_type": "code",
   "execution_count": 48,
   "metadata": {},
   "outputs": [
    {
     "name": "stdout",
     "output_type": "stream",
     "text": [
      "          emb1\n",
      "0    -0.658010\n",
      "1    -0.312883\n",
      "2    -0.427874\n",
      "3    -0.455127\n",
      "4    -0.445268\n",
      "...        ...\n",
      "5866  0.226435\n",
      "5867  0.226952\n",
      "5868 -0.041095\n",
      "5869  0.155976\n",
      "5870  0.168454\n",
      "\n",
      "[5871 rows x 1 columns]\n"
     ]
    },
    {
     "data": {
      "text/plain": [
       "<matplotlib.collections.PathCollection at 0x7f77a8260c50>"
      ]
     },
     "execution_count": 48,
     "metadata": {},
     "output_type": "execute_result"
    },
    {
     "data": {
      "image/png": "[encoded data removed]",
      "text/plain": [
       "<Figure size 432x288 with 1 Axes>"
      ]
     },
     "metadata": {
      "needs_background": "light"
     },
     "output_type": "display_data"
    },
    {
     "data": {
      "text/plain": [
       "<Figure size 1440x1440 with 0 Axes>"
      ]
     },
     "metadata": {},
     "output_type": "display_data"
    }
   ],
   "source": [
    "X = df[['emb1','emb2','emb3','emb4','emb5','emb6','emb7','emb8','emb9','emb10','emb11','emb12','emb13','emb14','emb15']]\n",
    "Y = df[['AE']]\n",
    "\n",
    "print(df[['emb1']])\n",
    "\n",
    "ax = plt.axes()\n",
    "plt.figure(figsize=(20,20))\n",
    "ax.set_xlabel('First PC')\n",
    "ax.set_ylabel('AE')\n",
    "\n",
    "\n",
    "ax.scatter(df[['emb5']],df[['AE']])\n",
    "\n"
   ]
  },
  {
   "cell_type": "code",
   "execution_count": 27,
   "metadata": {},
   "outputs": [
    {
     "name": "stdout",
     "output_type": "stream",
     "text": [
      "                            OLS Regression Results                            \n",
      "==============================================================================\n",
      "Dep. Variable:                     AE   R-squared:                       1.000\n",
      "Model:                            OLS   Adj. R-squared:                  1.000\n",
      "Method:                 Least Squares   F-statistic:                 1.085e+17\n",
      "Date:                Wed, 07 Apr 2021   Prob (F-statistic):               0.00\n",
      "Time:                        09:38:15   Log-Likelihood:                 82218.\n",
      "No. Observations:                5871   AIC:                        -1.644e+05\n",
      "Df Residuals:                    5855   BIC:                        -1.643e+05\n",
      "Df Model:                          15                                         \n",
      "Covariance Type:            nonrobust                                         \n",
      "==============================================================================\n",
      "                 coef    std err          t      P>|t|      [0.025      0.975]\n",
      "------------------------------------------------------------------------------\n",
      "const          0.0287   1.96e-08   1.46e+06      0.000       0.029       0.029\n",
      "emb1          -0.0166    1.6e-08  -1.04e+06      0.000      -0.017      -0.017\n",
      "emb2           0.3398   5.79e-09   5.87e+07      0.000       0.340       0.340\n",
      "emb3           0.0963   6.01e-09    1.6e+07      0.000       0.096       0.096\n",
      "emb4           0.3150   1.25e-08   2.52e+07      0.000       0.315       0.315\n",
      "emb5           0.1729   5.43e-09   3.18e+07      0.000       0.173       0.173\n",
      "emb6          -0.2355   5.38e-09  -4.38e+07      0.000      -0.236      -0.236\n",
      "emb7           0.2250    2.5e-09   9.02e+07      0.000       0.225       0.225\n",
      "emb8          -0.3363   7.26e-09  -4.63e+07      0.000      -0.336      -0.336\n",
      "emb9          -0.0564   7.57e-09  -7.45e+06      0.000      -0.056      -0.056\n",
      "emb10          0.2428   4.64e-09   5.24e+07      0.000       0.243       0.243\n",
      "emb11          0.0068   9.52e-09   7.19e+05      0.000       0.007       0.007\n",
      "emb12          0.0277   1.14e-08   2.43e+06      0.000       0.028       0.028\n",
      "emb13         -0.5233   4.79e-09  -1.09e+08      0.000      -0.523      -0.523\n",
      "emb14         -0.4012   5.04e-09  -7.96e+07      0.000      -0.401      -0.401\n",
      "emb15         -0.3874   4.31e-09     -9e+07      0.000      -0.387      -0.387\n",
      "==============================================================================\n",
      "Omnibus:                      185.261   Durbin-Watson:                   1.948\n",
      "Prob(Omnibus):                  0.000   Jarque-Bera (JB):              502.721\n",
      "Skew:                          -0.013   Prob(JB):                    6.85e-110\n",
      "Kurtosis:                       4.433   Cond. No.                         52.5\n",
      "==============================================================================\n",
      "\n",
      "Warnings:\n",
      "[1] Standard Errors assume that the covariance matrix of the errors is correctly specified.\n"
     ]
    }
   ],
   "source": [
    "# with statsmodels\n",
    "X = sm.add_constant(X) # adding a constant\n",
    " \n",
    "model = sm.OLS(Y, X).fit()\n",
    "predictions = model.predict(X) \n",
    " \n",
    "print_model = model.summary()\n",
    "print(print_model)\n",
    "\n",
    "\n"
   ]
  },
  {
   "cell_type": "code",
   "execution_count": null,
   "metadata": {},
   "outputs": [],
   "source": []
  },
  {
   "cell_type": "code",
   "execution_count": null,
   "metadata": {},
   "outputs": [],
   "source": []
  }
 ],
 "metadata": {
  "kernelspec": {
   "display_name": "Python 3",
   "language": "python",
   "name": "python3"
  },
  "language_info": {
   "codemirror_mode": {
    "name": "ipython",
    "version": 3
   },
   "file_extension": ".py",
   "mimetype": "text/x-python",
   "name": "python",
   "nbconvert_exporter": "python",
   "pygments_lexer": "ipython3",
   "version": "3.7.6"
  }
 },
 "nbformat": 4,
 "nbformat_minor": 4
}
