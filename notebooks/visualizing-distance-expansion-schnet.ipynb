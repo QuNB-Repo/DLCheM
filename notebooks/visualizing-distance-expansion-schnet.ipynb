{
 "cells": [
  {
   "cell_type": "code",
   "execution_count": 1,
   "metadata": {},
   "outputs": [],
   "source": [
    "import schnetpack as spk\n",
    "import torch\n",
    "import schnetpack.nn \n",
    "import schnetpack.data\n",
    "import math\n",
    "\n",
    "from schnetpack.datasets import QM9"
   ]
  },
  {
   "cell_type": "code",
   "execution_count": 2,
   "metadata": {},
   "outputs": [
    {
     "name": "stdout",
     "output_type": "stream",
     "text": [
      "tensor([8, 1, 1])\n",
      "tensor([[-5.6249e-02,  3.5458e-02,  7.2602e-04],\n",
      "        [ 4.2878e-02, -9.2151e-01, -5.3409e-03],\n",
      "        [ 8.4990e-01,  3.5871e-01, -6.1824e-03]])\n"
     ]
    },
    {
     "name": "stderr",
     "output_type": "stream",
     "text": [
      "C:\\Users\\aelsamma\\Anaconda3\\lib\\site-packages\\schnetpack\\data\\atoms.py:327: UserWarning: The given NumPy array is not writeable, and PyTorch does not support non-writeable tensors. This means you can write to the underlying (supposedly non-writeable) NumPy array using the tensor. You may want to copy the array to protect its data or make it writeable before converting it to a tensor. This type of warning will be suppressed for the rest of this program. (Triggered internally at  ..\\torch\\csrc\\utils\\tensor_numpy.cpp:143.)\n",
      "  properties[pname] = torch.FloatTensor(prop)\n",
      "C:\\Users\\aelsamma\\Anaconda3\\lib\\site-packages\\ase\\atoms.py:967: VisibleDeprecationWarning: Use get_global_number_of_atoms() instead\n",
      "  warnings.warn('Use get_global_number_of_atoms() instead',\n"
     ]
    }
   ],
   "source": [
    "\n",
    "# Download QM9 dataset \n",
    "qm9data = QM9('./qm9.db', download=True, remove_uncharacterized=True)\n",
    "\n",
    "#idx is the index of the dataset\n",
    "idx = 2\n",
    "\n",
    "# load data for molecule\n",
    "at, props = qm9data.get_properties(idx)\n",
    "\n",
    "#print properties\n",
    "print(props['_atomic_numbers'])\n",
    "print(props['_positions'])\n",
    "\n"
   ]
  },
  {
   "cell_type": "code",
   "execution_count": 20,
   "metadata": {},
   "outputs": [
    {
     "name": "stdout",
     "output_type": "stream",
     "text": [
      "Prediction: -2079.822\n",
      "Keys: ['_atomic_numbers', '_positions', '_cell', '_neighbors', '_cell_offset', '_atom_mask', '_neighbor_mask', 'representation']\n",
      "Truth: -2079.078\n",
      "DISTANCES\n",
      "tensor([[[0.9621, 0.9621],\n",
      "         [0.9621, 1.5134],\n",
      "         [0.9621, 1.5134]]])\n",
      "WIDTH\n",
      "tensor([0.2105, 0.2105, 0.2105, 0.2105, 0.2105, 0.2105, 0.2105, 0.2105, 0.2105,\n",
      "        0.2105, 0.2105, 0.2105, 0.2105, 0.2105, 0.2105, 0.2105, 0.2105, 0.2105,\n",
      "        0.2105, 0.2105])\n",
      "DIFF\n",
      "tensor([[[[ 0.9621,  0.7516,  0.5411,  0.3305,  0.1200, -0.0905, -0.3011,\n",
      "           -0.5116, -0.7221, -0.9326, -1.1432, -1.3537, -1.5642, -1.7747,\n",
      "           -1.9853, -2.1958, -2.4063, -2.6168, -2.8274, -3.0379],\n",
      "          [ 0.9621,  0.7516,  0.5411,  0.3305,  0.1200, -0.0905, -0.3011,\n",
      "           -0.5116, -0.7221, -0.9326, -1.1432, -1.3537, -1.5642, -1.7747,\n",
      "           -1.9853, -2.1958, -2.4063, -2.6168, -2.8274, -3.0379]],\n",
      "\n",
      "         [[ 0.9621,  0.7516,  0.5411,  0.3305,  0.1200, -0.0905, -0.3011,\n",
      "           -0.5116, -0.7221, -0.9326, -1.1432, -1.3537, -1.5642, -1.7747,\n",
      "           -1.9853, -2.1958, -2.4063, -2.6168, -2.8274, -3.0379],\n",
      "          [ 1.5134,  1.3028,  1.0923,  0.8818,  0.6713,  0.4607,  0.2502,\n",
      "            0.0397, -0.1709, -0.3814, -0.5919, -0.8024, -1.0130, -1.2235,\n",
      "           -1.4340, -1.6445, -1.8551, -2.0656, -2.2761, -2.4866]],\n",
      "\n",
      "         [[ 0.9621,  0.7516,  0.5411,  0.3305,  0.1200, -0.0905, -0.3011,\n",
      "           -0.5116, -0.7221, -0.9326, -1.1432, -1.3537, -1.5642, -1.7747,\n",
      "           -1.9853, -2.1958, -2.4063, -2.6168, -2.8274, -3.0379],\n",
      "          [ 1.5134,  1.3028,  1.0923,  0.8818,  0.6713,  0.4607,  0.2502,\n",
      "            0.0397, -0.1709, -0.3814, -0.5919, -0.8024, -1.0130, -1.2235,\n",
      "           -1.4340, -1.6445, -1.8551, -2.0656, -2.2761, -2.4866]]]])\n",
      "GAUSS\n",
      "tensor([[[[2.9167e-05, 1.7079e-03, 3.6792e-02, 2.9157e-01, 8.5005e-01,\n",
      "           9.1170e-01, 3.5972e-01, 5.2213e-02, 2.7880e-03, 5.4767e-05,\n",
      "           3.9578e-07, 1.0522e-09, 1.0291e-12, 3.7024e-16, 4.9005e-20,\n",
      "           2.3862e-24, 4.2743e-29, 2.8167e-34, 6.8282e-40, 0.0000e+00],\n",
      "          [2.9167e-05, 1.7079e-03, 3.6792e-02, 2.9157e-01, 8.5006e-01,\n",
      "           9.1170e-01, 3.5972e-01, 5.2213e-02, 2.7880e-03, 5.4767e-05,\n",
      "           3.9578e-07, 1.0522e-09, 1.0290e-12, 3.7024e-16, 4.9004e-20,\n",
      "           2.3861e-24, 4.2742e-29, 2.8166e-34, 6.8281e-40, 0.0000e+00]],\n",
      "\n",
      "         [[2.9167e-05, 1.7079e-03, 3.6792e-02, 2.9157e-01, 8.5005e-01,\n",
      "           9.1170e-01, 3.5972e-01, 5.2213e-02, 2.7880e-03, 5.4767e-05,\n",
      "           3.9578e-07, 1.0522e-09, 1.0291e-12, 3.7024e-16, 4.9005e-20,\n",
      "           2.3862e-24, 4.2743e-29, 2.8167e-34, 6.8282e-40, 0.0000e+00],\n",
      "          [6.0142e-12, 4.8298e-09, 1.4269e-06, 1.5508e-04, 6.2006e-03,\n",
      "           9.1204e-02, 4.9351e-01, 9.8240e-01, 7.1942e-01, 1.9381e-01,\n",
      "           1.9208e-02, 7.0033e-04, 9.3934e-06, 4.6349e-08, 8.4134e-11,\n",
      "           5.6184e-14, 1.3802e-17, 1.2474e-21, 4.1471e-26, 5.0722e-31]],\n",
      "\n",
      "         [[2.9167e-05, 1.7079e-03, 3.6792e-02, 2.9157e-01, 8.5006e-01,\n",
      "           9.1170e-01, 3.5972e-01, 5.2213e-02, 2.7880e-03, 5.4767e-05,\n",
      "           3.9578e-07, 1.0522e-09, 1.0290e-12, 3.7024e-16, 4.9004e-20,\n",
      "           2.3861e-24, 4.2742e-29, 2.8166e-34, 6.8281e-40, 0.0000e+00],\n",
      "          [6.0142e-12, 4.8298e-09, 1.4269e-06, 1.5508e-04, 6.2006e-03,\n",
      "           9.1204e-02, 4.9351e-01, 9.8240e-01, 7.1942e-01, 1.9381e-01,\n",
      "           1.9208e-02, 7.0033e-04, 9.3934e-06, 4.6349e-08, 8.4134e-11,\n",
      "           5.6184e-14, 1.3802e-17, 1.2474e-21, 4.1471e-26, 5.0722e-31]]]])\n",
      "tensor([[2.9167e-05, 1.7079e-03, 3.6792e-02, 2.9157e-01, 8.5005e-01, 9.1170e-01,\n",
      "         3.5972e-01, 5.2213e-02, 2.7880e-03, 5.4767e-05, 3.9578e-07, 1.0522e-09,\n",
      "         1.0291e-12, 3.7024e-16, 4.9005e-20, 2.3862e-24, 4.2743e-29, 2.8167e-34,\n",
      "         6.8282e-40, 0.0000e+00],\n",
      "        [2.9167e-05, 1.7079e-03, 3.6792e-02, 2.9157e-01, 8.5006e-01, 9.1170e-01,\n",
      "         3.5972e-01, 5.2213e-02, 2.7880e-03, 5.4767e-05, 3.9578e-07, 1.0522e-09,\n",
      "         1.0290e-12, 3.7024e-16, 4.9004e-20, 2.3861e-24, 4.2742e-29, 2.8166e-34,\n",
      "         6.8281e-40, 0.0000e+00]])\n"
     ]
    },
    {
     "name": "stderr",
     "output_type": "stream",
     "text": [
      "C:\\Users\\aelsamma\\Anaconda3\\lib\\site-packages\\ase\\atoms.py:967: VisibleDeprecationWarning: Use get_global_number_of_atoms() instead\n",
      "  warnings.warn('Use get_global_number_of_atoms() instead',\n"
     ]
    }
   ],
   "source": [
    "\n",
    "model = torch.load(\"../../../data/trained_models/qm9_i6_30f_10000_5000/best_model\", map_location=torch.device('cpu'))\n",
    "\n",
    "\n",
    "# Load split file \n",
    "train, val, test = spk.data.train_test_split(qm9data, split_file='../../../data/trained_models/qm9_i6_30f_10000_5000/split.npz')\n",
    "\n",
    "\n",
    "device = 'cpu'\n",
    "\n",
    "calculator = spk.interfaces.SpkCalculator(model=model, device=device, energy=QM9.U0)\n",
    "converter = spk.data.AtomsConverter(device=device)\n",
    "\n",
    "# set calculator on molecule\n",
    "at.set_calculator(calculator)\n",
    "\n",
    "# convert qm9 data to machine-readable form\n",
    "inputs = converter(at)\n",
    "\n",
    "\n",
    "pred = model(inputs)\n",
    "\n",
    "print('Prediction:', pred[QM9.U0].detach().cpu().numpy()[0,0])\n",
    "print('Keys:', list(inputs.keys()))\n",
    "print('Truth:', props[QM9.U0].cpu().numpy()[0])\n",
    "\n",
    "from schnetpack.nn.acsf import diff\n",
    "from schnetpack.nn.acsf import off\n",
    "from schnetpack.nn.acsf import wid\n",
    "from schnetpack.nn.neighbors import distances\n",
    "\n",
    "\n",
    "\n",
    "coeff = -0.5/torch.pow(wid,2)\n",
    "gauss = torch.exp(coeff*torch.pow(diff,2))\n",
    "\n",
    "print('DISTANCES')\n",
    "print(distances)\n",
    "print('WIDTH')\n",
    "print(wid)\n",
    "print('DIFF')\n",
    "print(diff)\n",
    "print('GAUSS')\n",
    "print(gauss)\n"
   ]
  },
  {
   "cell_type": "code",
   "execution_count": 26,
   "metadata": {},
   "outputs": [
    {
     "name": "stdout",
     "output_type": "stream",
     "text": [
      "tensor(2.5066)\n"
     ]
    }
   ],
   "source": [
    "\n",
    "print(sum(gauss[0][0][0]))"
   ]
  },
  {
   "cell_type": "code",
   "execution_count": 30,
   "metadata": {},
   "outputs": [
    {
     "name": "stdout",
     "output_type": "stream",
     "text": [
      "0.5276452518098256\n"
     ]
    },
    {
     "data": {
      "text/plain": [
       "[<matplotlib.lines.Line2D at 0x12f5fddf280>]"
      ]
     },
     "execution_count": 30,
     "metadata": {},
     "output_type": "execute_result"
    },
    {
     "data": {
      "image/png": "[encoded data removed]",
      "text/plain": [
       "<Figure size 432x288 with 1 Axes>"
      ]
     },
     "metadata": {
      "needs_background": "light"
     },
     "output_type": "display_data"
    }
   ],
   "source": [
    "import numpy as np\n",
    "import matplotlib.pyplot as plt\n",
    "from scipy.stats import gaussian_kde\n",
    "import math\n",
    "\n",
    "x_axis = np.arange(-10,10,0.01)\n",
    "mean = 0.9621\n",
    "sd = 0.2105\n",
    "\n",
    "normal = math.sqrt(2*math.pi*(sd)**2)\n",
    "print(normal)\n",
    "\n",
    "\n",
    "plt.plot(x_axis,norm.pdf(x_axis,mean,sd))"
   ]
  },
  {
   "cell_type": "code",
   "execution_count": 32,
   "metadata": {},
   "outputs": [
    {
     "data": {
      "image/png": "[encoded data removed]",
      "text/plain": [
       "<Figure size 432x288 with 1 Axes>"
      ]
     },
     "metadata": {
      "needs_background": "light"
     },
     "output_type": "display_data"
    }
   ],
   "source": [
    "from matplotlib import pyplot as plt\n",
    "import numpy as np\n",
    "\n",
    "def gaussian(x, mu, sig):\n",
    "    return np.exp(-np.power(x - mu, 2.) / (2 * np.power(sig, 2.)))\n",
    "\n",
    "x_values = np.linspace(-3, 3, 120)\n",
    "for mu, sig in [((0.9621,0.2105))]:\n",
    "    plt.plot(x_values, gaussian(x_values, mu, sig))\n",
    "\n",
    "plt.show()"
   ]
  },
  {
   "cell_type": "code",
   "execution_count": null,
   "metadata": {},
   "outputs": [],
   "source": []
  }
 ],
 "metadata": {
  "kernelspec": {
   "display_name": "Python 3",
   "language": "python",
   "name": "python3"
  },
  "language_info": {
   "codemirror_mode": {
    "name": "ipython",
    "version": 3
   },
   "file_extension": ".py",
   "mimetype": "text/x-python",
   "name": "python",
   "nbconvert_exporter": "python",
   "pygments_lexer": "ipython3",
   "version": "3.8.5"
  }
 },
 "nbformat": 4,
 "nbformat_minor": 4
}
