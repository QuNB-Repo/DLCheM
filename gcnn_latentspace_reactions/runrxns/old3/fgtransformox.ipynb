{
 "cells": [
  {
   "attachments": {},
   "cell_type": "markdown",
   "metadata": {},
   "source": [
    "Runs the fg transform tool "
   ]
  },
  {
   "attachments": {},
   "cell_type": "markdown",
   "metadata": {},
   "source": [
    "For Methylation Reaction (with no optimization)"
   ]
  },
  {
   "cell_type": "code",
   "execution_count": null,
   "metadata": {},
   "outputs": [],
   "source": [
    "'''\n",
    "date modified - 2024-02-16\n",
    "Runs the state reaction tool, which runs a variety of reactions on datasets\n",
    "\n",
    "    dataset_filepath            - starting db file which will hold starting reactants \n",
    "    labelH_filepath             - label H1, important to find out which H to remove\n",
    "    labelH_filepathacarb        - label H2, importaant to find out which second hydrogen to remove (if applicable)\n",
    "    reactantout_filepath        - reactant output, init.xyz file, each molecule will serve as reactant\n",
    "    productout_filepath         - product output, trans.xyz file, each molecule will serve as corresponding product of reaction\n",
    "    \n",
    "    \n",
    "    statereaction               - the main code being executed, handles all types of reactions being studies\n",
    "\n",
    "    number_trans                - code returns number of products formed for record keeping (the real outputs are the init and trans.xyz,.db files)\n",
    "'''\n",
    "from fgtransform import statereaction\n",
    "\n",
    "#Dataset\n",
    "dataset_filepath = 'data/datasets/QM9/qm9.db'\n",
    "\n",
    "\n",
    "#H-TYPE TRANSFORMATION\n",
    "labelH1_filepath = 'data/autolabel/Hqm910000labelpert2/labelpert2ver2.csv'\n",
    "labelH2_filepath = 'data/autolabel/Hqm910000labelpert2/labelpert2ver2.csv'\n",
    "#OUTPUT\n",
    "reactantout_filepath = 'data/fgtransform/model1/oxidation/optimize/1alcsaldspert2/init.xyz'\n",
    "productout_filepath = 'data/fgtransform/model1/oxidation/optimize/1alcsaldspert2/trans.xyz'\n",
    "#pert3\n",
    "#remove all H's of CH3-CH2-C and evaluate O embs ---> CH2-CH2-C...O (pert 3)\n",
    "#labelH1id = 17\n",
    "\n",
    "#OH -> O for primary alcohol O embedding\n",
    "#pert 1 - 3, pret2 - 9, pert 3 - 21,  pert 4 - 69, pert5 - 324 ... for pert6 use pentanol!! \n",
    "targetlabelH1 = 9\n",
    "#pert 2 - 14, pert 2, pert 3, pert4 ... onwards, just make sure that for pert 2 oxidation you add the extra one that is also allowed in the OR condition\n",
    "targetlabelH2 = 14\n",
    "#need to allow for branching at the alpha! for depth = 2...\n",
    "#still use two labelH for depth = 3 and above\n",
    "targetlabelH3 = 16\n",
    "\n",
    "#number of molecules to scan the dataset for reactant labels\n",
    "n_molecules = [0,10000]\n",
    "\n",
    "#available property of the dataset\n",
    "available_properties = ['energy']\n",
    "\n",
    "#whether to perform an optimization on the product with MMFF94 force field from RDKit\n",
    "optimize = False\n",
    "\n",
    "#Initialize state reaction\n",
    "statereaction = statereaction.transform(dataset_filepath,labelH1_filepath,targetlabelH1,reactantout_filepath,productout_filepath,n_molecules,available_properties)\n",
    "\n",
    "#Run an oxidation, return number of products formed\n",
    "number_trans = statereaction.oxidalcs(labelH2_filepath,targetlabelH2,targetlabelH3,optimize)"
   ]
  },
  {
   "cell_type": "code",
   "execution_count": null,
   "metadata": {},
   "outputs": [],
   "source": [
    "print(number_trans)"
   ]
  },
  {
   "attachments": {},
   "cell_type": "markdown",
   "metadata": {},
   "source": []
  },
  {
   "attachments": {},
   "cell_type": "markdown",
   "metadata": {},
   "source": [
    "FGTransform Analysis"
   ]
  },
  {
   "attachments": {},
   "cell_type": "markdown",
   "metadata": {},
   "source": []
  },
  {
   "attachments": {},
   "cell_type": "markdown",
   "metadata": {},
   "source": [
    "#Run extract embeddings on init and trans"
   ]
  },
  {
   "cell_type": "code",
   "execution_count": 2,
   "metadata": {},
   "outputs": [
    {
     "name": "stderr",
     "output_type": "stream",
     "text": [
      "/home/amerelsamman/anaconda3/envs/dlchem/lib/python3.7/site-packages/tqdm/auto.py:21: TqdmWarning: IProgress not found. Please update jupyter and ipywidgets. See https://ipywidgets.readthedocs.io/en/stable/user_install.html\n",
      "  from .autonotebook import tqdm as notebook_tqdm\n"
     ]
    },
    {
     "name": "stdout",
     "output_type": "stream",
     "text": [
      "0\n"
     ]
    },
    {
     "name": "stderr",
     "output_type": "stream",
     "text": [
      "/home/amerelsamman/anaconda3/envs/dlchem/lib/python3.7/site-packages/schnetpack/data/atoms.py:327: UserWarning: The given NumPy array is not writable, and PyTorch does not support non-writable tensors. This means writing to this tensor will result in undefined behavior. You may want to copy the array to protect its data or make it writable before converting it to a tensor. This type of warning will be suppressed for the rest of this program. (Triggered internally at ../torch/csrc/utils/tensor_numpy.cpp:199.)\n",
      "  properties[pname] = torch.FloatTensor(prop)\n",
      "/home/amerelsamman/anaconda3/envs/dlchem/lib/python3.7/site-packages/ase/atoms.py:968: VisibleDeprecationWarning: Use get_global_number_of_atoms() instead\n",
      "  np.VisibleDeprecationWarning)\n"
     ]
    },
    {
     "name": "stdout",
     "output_type": "stream",
     "text": [
      "0\n"
     ]
    }
   ],
   "source": [
    "#Run extract embeddings on init and trans\n",
    "from extractembeddings import allelementextract\n",
    "\n",
    "init_dataset_filepath = 'data/fgtransform/model1/oxidation/optimize/1alcsaldspert2/init.db'\n",
    "init_save_filepath = 'data/fgtransform/model1/oxidation/optimize/1alcsaldspert2/initO.csv'\n",
    "trans_dataset_filepath = 'data/fgtransform/model1/oxidation/optimize/1alcsaldspert2/trans.db'\n",
    "trans_save_filepath = 'data/fgtransform/model1/oxidation/optimize/1alcsaldspert2/transO.csv'\n",
    "\n",
    "model_filepath = 'data/trainedmodels/model1/best_model'\n",
    "start = 0\n",
    "end = 644\n",
    "n_features = 128\n",
    "n_layers = [5,6]\n",
    "all_elements = False\n",
    "element = [8]\n",
    "qm9=False\n",
    "available_properties = ['energy']\n",
    "#label_file =  '../../data/labeldataset/%s/label%s%s.csv' %(element,element,number_inputs)\n",
    "\n",
    "#run extract on init and trans\n",
    "#default: True\n",
    "label = False\n",
    "restrict_label = False\n",
    "allowed_labels = [8,7]\n",
    "scratch_file = 'temp2.xyz'\n",
    "\n",
    "add_header = False\n",
    "\n",
    "#allelementextract.extract(qm9,init_dataset_filepath,model_filepath,init_save_filepath,start,end,n_features,n_layers,all_elements,element,available_properties=available_properties)\n",
    "allelementextract.extract(qm9,init_dataset_filepath,model_filepath,init_save_filepath,start,end,n_features,n_layers,all_elements,element,available_properties=available_properties,label=label,add_header=add_header)\n",
    "allelementextract.extract(qm9,trans_dataset_filepath,model_filepath,trans_save_filepath,start,end,n_features,n_layers,all_elements,element,available_properties=available_properties,label=label,add_header=add_header)\n"
   ]
  },
  {
   "attachments": {},
   "cell_type": "markdown",
   "metadata": {},
   "source": [
    "transform with average diff vector and use pca on both"
   ]
  },
  {
   "cell_type": "code",
   "execution_count": null,
   "metadata": {},
   "outputs": [],
   "source": [
    "from tools.utils import utils_fgtransform, utils_dimred, utils_numericalfiletools\n",
    "\n",
    "n_molecules = 17\n",
    "n_features = 128\n",
    "fg_trans_fildir = 'data/fgtransform/model1/oxidation/optimize/1alcsaldspert5/'\n",
    "\n",
    "\n",
    "#Calculate average diff vector\n",
    "data_filepath1 = fg_trans_fildir+ 'initO.csv'\n",
    "data_filepath2 = fg_trans_fildir+ 'transO.csv'\n",
    "diff_mean = utils_fgtransform.vecdiffmean(data_filepath1,data_filepath2,n_features,n_molecules,fg_trans_fildir)\n",
    "\n",
    "\n",
    "#Perform transformation/'\n",
    "vec_filepath = fg_trans_fildir+ 'Odiff.csv'\n",
    "save_filepath = fg_trans_fildir+ 'artO.csv'\n",
    "utils_fgtransform.add_vectomat(vec_filepath,data_filepath1,n_features,save_filepath)\n",
    "\n",
    "\n",
    "true_trans_filepath = fg_trans_fildir+ 'transO.csv'\n",
    "art_trans_filepath = fg_trans_fildir+ 'artO.csv'\n",
    "start_trans_idx = 0\n",
    "stack_qm9 = True\n",
    "qm9embs_filepath = 'data/embs/model1-10000/layer5/Oembs/embs.csv'\n",
    "#DO NOT SORT! \n",
    "utils_fgtransform.nearest_trans(true_trans_filepath,art_trans_filepath,n_molecules,n_features,start_trans_idx,stack_qm9,qm9embs_filepath)\n",
    "\n",
    "\n"
   ]
  },
  {
   "cell_type": "code",
   "execution_count": 3,
   "metadata": {},
   "outputs": [],
   "source": [
    "fg_trans_fildir = 'data/fgtransform/model1/oxidation/optimize/1alcsaldspert2/'\n",
    "data_filepath1 = fg_trans_fildir+ 'initO.csv'\n",
    "data_filepath2 = fg_trans_fildir+ 'transO.csv'\n",
    "\n",
    "from tools.utils import utils_numericalfiletools\n",
    "n_data1 = 644\n",
    "n_data2 = 644\n",
    "single_dim = False\n",
    "skip_header1 = False\n",
    "skip_header2 = False\n",
    "save_filepath = fg_trans_fildir+'bothO.csv'\n",
    "utils_numericalfiletools.vstacktwofiles(data_filepath1,data_filepath2,save_filepath,n_data1,n_data2,single_dim,skip_header1,skip_header2)"
   ]
  },
  {
   "cell_type": "code",
   "execution_count": 4,
   "metadata": {},
   "outputs": [],
   "source": [
    "#stack embs and bothO (for PCA including the reaction embeddings for accurate representation, especially in neighbor test)\n",
    "\n",
    "n_data1 = 644*2\n",
    "n_data2 = 13076\n",
    "single_dim = False\n",
    "skip_header1 = False\n",
    "skip_header2 = False\n",
    "data_filepath1 = fg_trans_fildir+'bothO.csv'\n",
    "data_filepath2 = 'data/embs/model1-10000/layer5/Oembs/embsnoheader.csv'\n",
    "save_filepath = fg_trans_fildir + 'bothOembs.csv'\n",
    "utils_numericalfiletools.vstacktwofiles(data_filepath1,data_filepath2,save_filepath,n_data1,n_data2,single_dim,skip_header1,skip_header2)\n"
   ]
  },
  {
   "cell_type": "markdown",
   "metadata": {},
   "source": [
    "Linear regression on transformation vector while setting the intercept of the solution to diff zeroth order\n"
   ]
  },
  {
   "cell_type": "code",
   "execution_count": 9,
   "metadata": {},
   "outputs": [
    {
     "name": "stdout",
     "output_type": "stream",
     "text": [
      "291\n",
      "mse 0.1205900581696623\n",
      "r2 0.8367096081716874\n"
     ]
    }
   ],
   "source": [
    "import numpy as np\n",
    "from numpy import genfromtxt\n",
    "from sklearn.linear_model import LinearRegression\n",
    "from sklearn.metrics import mean_squared_error, r2_score\n",
    "\n",
    "from sklearn.model_selection import train_test_split\n",
    "from sklearn.preprocessing import StandardScaler\n",
    "import math \n",
    "from sklearn.preprocessing import PolynomialFeatures\n",
    "\n",
    "# Load data into a Pandas DataFrame\n",
    "xy_data = genfromtxt('data/fgtransform/model1/oxidation/optimize/1alcsaldspert3/lrfull/bothO.csv',delimiter=',',encoding='utf-8-sig')\n",
    "#y_diff = genfromtxt('data/fgtransform/model1/oxidation/optimize/1alcsaldspert3/initOpcadiff.csv',delimiter=',',encoding='utf-8-sig')\n",
    "\n",
    "#y_diff = y_diff[0:5]\n",
    "\n",
    "# Split data into X and y\n",
    "X_train = xy_data[:291,0:128]\n",
    "#X_test = xy_data[250:291,0:10]\n",
    "#128 --> pka\n",
    "#138 --> nmr\n",
    "#138 onwards --> electron density \n",
    "y_train = xy_data[291:,0:128]\n",
    "#y_test = xy_data[541:582,0:10]\n",
    "\n",
    "print(X_train.shape[0])\n",
    "\n",
    "# Add a column of 1s to X for the intercept term\n",
    "X_train = np.concatenate((np.ones((X_train.shape[0], 1)), X_train), axis=1)\n",
    "\n",
    "# Calculate the coefficients\n",
    "XT = np.transpose(X_train)\n",
    "coefficients = np.linalg.inv(XT.dot(X_train)).dot(XT).dot(y_train)\n",
    "\n",
    "use_train = True\n",
    "\n",
    "if use_train == True: \n",
    "    predictions = np.dot(X_train, coefficients)\n",
    "    # Evaluate the model\n",
    "    mse = mean_squared_error(y_train, predictions)\n",
    "    r2 = r2_score(y_train, predictions)\n",
    "else:\n",
    "    predictions = np.dot(X_test, coefficients)\n",
    "    # Evaluate the model\n",
    "    mse = mean_squared_error(y_test, predictions)\n",
    "    r2 = r2_score(y_test, predictions)\n",
    "\n",
    "print('mse',math.sqrt(mse))\n",
    "print('r2',r2)"
   ]
  },
  {
   "cell_type": "code",
   "execution_count": 10,
   "metadata": {},
   "outputs": [],
   "source": [
    "fg_trans_fildir = 'data/fgtransform/model1/oxidation/optimize/1alcsaldspert3/lrfull/'\n",
    "\n",
    "np.savetxt(fg_trans_fildir+'artOlr.csv',predictions,delimiter=',')\n",
    "\n",
    "#save the y_int\n",
    "np.savetxt(fg_trans_fildir+'artOlrint.csv',coefficients[0],delimiter=',')"
   ]
  },
  {
   "cell_type": "code",
   "execution_count": 8,
   "metadata": {},
   "outputs": [
    {
     "name": "stdout",
     "output_type": "stream",
     "text": [
      "0\n",
      "16\n",
      "24\n",
      "26\n",
      "29\n",
      "44\n",
      "52\n",
      "53\n",
      "54\n",
      "63\n",
      "66\n",
      "72\n",
      "89\n",
      "91\n",
      "126\n",
      "159\n",
      "161\n",
      "186\n",
      "190\n",
      "191\n",
      "198\n",
      "200\n",
      "201\n",
      "203\n",
      "223\n",
      "224\n",
      "225\n",
      "232\n",
      "234\n",
      "238\n",
      "241\n",
      "245\n",
      "260\n",
      "272\n",
      "277\n",
      "286\n",
      "290\n",
      "matched 87.62886597938144 %\n"
     ]
    }
   ],
   "source": [
    "from tools.utils import utils_fgtransform\n",
    "\n",
    "n_molecules = 291\n",
    "n_features = 128\n",
    "fg_trans_fildir = 'data/fgtransform/model1/oxidation/optimize/1alcsaldspert3/lrfull/'\n",
    "\n",
    "stack_qm9 = True\n",
    "qm9embs_filepath = 'data/embs/model1-10000/layer5/Oembs/embsnoheader.csv'\n",
    "\n",
    "true_trans_filepath = fg_trans_fildir+ 'bothO.csv'\n",
    "start_trans_idx = 291\n",
    "art_trans_filepath = fg_trans_fildir+ 'artOlr.csv'\n",
    "#DO NOT SORT! \n",
    "utils_fgtransform.nearest_trans(true_trans_filepath,art_trans_filepath,n_molecules,n_features,start_trans_idx,stack_qm9,qm9embs_filepath)\n",
    "\n"
   ]
  },
  {
   "cell_type": "code",
   "execution_count": null,
   "metadata": {},
   "outputs": [],
   "source": []
  },
  {
   "cell_type": "code",
   "execution_count": null,
   "metadata": {},
   "outputs": [],
   "source": []
  },
  {
   "cell_type": "code",
   "execution_count": null,
   "metadata": {},
   "outputs": [],
   "source": []
  },
  {
   "cell_type": "code",
   "execution_count": null,
   "metadata": {},
   "outputs": [],
   "source": []
  },
  {
   "cell_type": "code",
   "execution_count": null,
   "metadata": {},
   "outputs": [],
   "source": []
  },
  {
   "cell_type": "code",
   "execution_count": null,
   "metadata": {},
   "outputs": [],
   "source": []
  },
  {
   "cell_type": "code",
   "execution_count": null,
   "metadata": {},
   "outputs": [],
   "source": []
  },
  {
   "cell_type": "markdown",
   "metadata": {},
   "source": [
    "Line Plot of the Transformation\n"
   ]
  },
  {
   "cell_type": "code",
   "execution_count": null,
   "metadata": {},
   "outputs": [],
   "source": [
    "from tools.utils import utils_fgtransform, utils_dimred, utils_numericalfiletools\n",
    "n_molecules = 68\n",
    "n_features = 128\n",
    "fg_trans_fildir = 'data/fgtransform/model1/oxidation/1alcsaldspert3/'\n",
    "\n",
    "\n",
    "#must stack initOtransform with initO call it bothO\n",
    "init_filepath = fg_trans_fildir+ 'initO.csv'\n",
    "inittrans_filepath = fg_trans_fildir+ 'initOtransform.csv'\n",
    "save_filepath = fg_trans_fildir+ 'bothOtransform.csv'\n",
    "n_data1 = n_molecules\n",
    "n_data2 = n_molecules\n",
    "utils_numericalfiletools.vstacktwofiles(init_filepath,inittrans_filepath,save_filepath,n_data1,n_data2,single_dim=False,skip_header1=1,skip_header2=0)\n",
    "\n",
    "n_molecules = n_molecules*2\n",
    "#Dimensionality reduction on new file with init and inittransformed\n",
    "data_filepath = fg_trans_fildir+ 'bothOtransform.csv'\n",
    "save_filepath = fg_trans_fildir+ 'initOtransform.csv'\n",
    "apply_filepath = fg_trans_fildir+'bothOtransform.csv'\n",
    "n_components = 128\n",
    "skip_header =  0\n",
    "scale_data = False\n",
    "utils_dimred.pca(data_filepath,n_components,n_features,scale_data,save_filepath, n_molecules,skip_header,apply_filepath=apply_filepath)\n",
    "\n",
    "data_filepath = fg_trans_fildir+ 'initOtransformpca.csv'\n",
    "save_filepath = fg_trans_fildir+ 'initOtransformpcavecs.csv'\n",
    "#Make vector plotting file from the pca (x1,y1,x2,y2) \n",
    "#(half the data is init, half is trans after compilation)\n",
    "utils_fgtransform.scatters_to_vectors(data_filepath,save_filepath)"
   ]
  }
 ],
 "metadata": {
  "kernelspec": {
   "display_name": "Python 3.7.13 ('embs')",
   "language": "python",
   "name": "python3"
  },
  "language_info": {
   "codemirror_mode": {
    "name": "ipython",
    "version": 3
   },
   "file_extension": ".py",
   "mimetype": "text/x-python",
   "name": "python",
   "nbconvert_exporter": "python",
   "pygments_lexer": "ipython3",
   "version": "3.7.16"
  },
  "orig_nbformat": 4,
  "vscode": {
   "interpreter": {
    "hash": "3e527e0fb9cd72c404b77fc0eaab204e19d8957c418c0845e3410ddf58030085"
   }
  }
 },
 "nbformat": 4,
 "nbformat_minor": 2
}
