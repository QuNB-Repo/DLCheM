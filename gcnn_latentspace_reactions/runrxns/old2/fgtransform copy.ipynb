{
 "cells": [
  {
   "attachments": {},
   "cell_type": "markdown",
   "metadata": {},
   "source": [
    "Runs the fg transform tool "
   ]
  },
  {
   "attachments": {},
   "cell_type": "markdown",
   "metadata": {},
   "source": [
    "For Methylation Reaction (with no optimization)"
   ]
  },
  {
   "cell_type": "code",
   "execution_count": null,
   "metadata": {},
   "outputs": [],
   "source": [
    "from fgtransform import methyltransform\n",
    "\n",
    "#Dataset\n",
    "dataset_filepath = 'data/datasets/QM9/qm9.db'\n",
    "\n",
    "\n",
    "#H-TYPE TRANSFORMATION\n",
    "targetlabelH_filepath = 'data/autolabel/Hqm9alllabelpert4/labelpert4ver2.csv'\n",
    "\n",
    "#2alcseths\n",
    "#pert2 ---> HO-CH-CC \n",
    "#H_id = 33\n",
    "#pert 4 ---> try idx = 384!! good secondary alcohol, pert4 ---> OH-CH-CH2CH2-CC ---> 54 found for opt\n",
    "#H_id\n",
    "H_id = 83\n",
    "\n",
    "\n",
    "#1alcseths\n",
    "# pert1\n",
    "#H_id = 3\n",
    "#pert3\n",
    "#H_id = 21\n",
    "#pert4\n",
    "#H_id = 69\n",
    "#pert5\n",
    "#H_id = 324\n",
    "#pert6\n",
    "#H_id = 1643\n",
    "\n",
    "# TARGET EMBEDDING VECTOR TYPE\n",
    "atom_num = 8\n",
    "\n",
    "#NOTE number_molecules cannot be in middle of dataset (as the code stands right now)\n",
    "n_molecules = 10000\n",
    "\n",
    "#OUTPUT\n",
    "output_filepath1 = 'data/fgtransform/model1/methylation/2alcsethspert4opt/init.xyz'\n",
    "output_filepath2 = 'data/fgtransform/model1/methylation/2alcsethspert4opt/trans.xyz'\n",
    "\n",
    "#NOTE REMEMBER TO MAKE THIS FOLDER FIRST!!!!!!!!!!\n",
    "scratch_file = 'scratch/'\n",
    "\n",
    "count_target = methyltransform.opt(dataset_filepath,targetlabelH_filepath,H_id,output_filepath1,output_filepath2,n_molecules,atom_num,scratch_file)"
   ]
  },
  {
   "cell_type": "code",
   "execution_count": null,
   "metadata": {},
   "outputs": [],
   "source": [
    "from numpy import savetxt\n",
    "\n",
    "print(count_target)"
   ]
  },
  {
   "attachments": {},
   "cell_type": "markdown",
   "metadata": {},
   "source": [
    "FGTransform Analysis"
   ]
  },
  {
   "attachments": {},
   "cell_type": "markdown",
   "metadata": {},
   "source": [
    "#Run extract embeddings on init and trans"
   ]
  },
  {
   "cell_type": "code",
   "execution_count": 1,
   "metadata": {},
   "outputs": [
    {
     "name": "stderr",
     "output_type": "stream",
     "text": [
      "/home/amerelsamman/anaconda3/envs/dlchem/lib/python3.7/site-packages/tqdm/auto.py:21: TqdmWarning: IProgress not found. Please update jupyter and ipywidgets. See https://ipywidgets.readthedocs.io/en/stable/user_install.html\n",
      "  from .autonotebook import tqdm as notebook_tqdm\n"
     ]
    },
    {
     "name": "stdout",
     "output_type": "stream",
     "text": [
      "0\n"
     ]
    },
    {
     "name": "stderr",
     "output_type": "stream",
     "text": [
      "/home/amerelsamman/anaconda3/envs/dlchem/lib/python3.7/site-packages/schnetpack/data/atoms.py:327: UserWarning: The given NumPy array is not writable, and PyTorch does not support non-writable tensors. This means writing to this tensor will result in undefined behavior. You may want to copy the array to protect its data or make it writable before converting it to a tensor. This type of warning will be suppressed for the rest of this program. (Triggered internally at ../torch/csrc/utils/tensor_numpy.cpp:199.)\n",
      "  properties[pname] = torch.FloatTensor(prop)\n",
      "/home/amerelsamman/anaconda3/envs/dlchem/lib/python3.7/site-packages/ase/atoms.py:968: VisibleDeprecationWarning: Use get_global_number_of_atoms() instead\n",
      "  np.VisibleDeprecationWarning)\n"
     ]
    },
    {
     "name": "stdout",
     "output_type": "stream",
     "text": [
      "0\n"
     ]
    }
   ],
   "source": [
    "#Run extract embeddings on init and trans\n",
    "from extractembeddings import allelementextract\n",
    "\n",
    "init_dataset_filepath = 'data/fgtransform/model1/methylation/2alcsethspert4opt/init.db'\n",
    "init_save_filepath = 'data/fgtransform/model1/methylation/2alcsethspert4opt/initO.csv'\n",
    "trans_dataset_filepath = 'data/fgtransform/model1/methylation/2alcsethspert4opt/trans.db'\n",
    "trans_save_filepath = 'data/fgtransform/model1/methylation/2alcsethspert4opt/transO.csv'\n",
    "\n",
    "model_filepath = 'data/trainedmodels/model1/best_model'\n",
    "start = 0\n",
    "end = 54\n",
    "n_features = 128\n",
    "n_layers = [5,6]\n",
    "all_elements = False\n",
    "element = 8\n",
    "qm9=False\n",
    "available_properties = ['energy']\n",
    "#label_file =  '../../data/labeldataset/%s/label%s%s.csv' %(element,element,number_inputs)\n",
    "\n",
    "#run extract on init and trans\n",
    "allelementextract.extract(qm9,init_dataset_filepath,model_filepath,init_save_filepath,start,end,n_features,n_layers,all_elements,element,available_properties=available_properties)\n",
    "allelementextract.extract(qm9,trans_dataset_filepath,model_filepath,trans_save_filepath,start,end,n_features,n_layers,all_elements,element,available_properties=available_properties)\n"
   ]
  },
  {
   "attachments": {},
   "cell_type": "markdown",
   "metadata": {},
   "source": [
    "transform with average diff vector and use pca on both"
   ]
  },
  {
   "cell_type": "code",
   "execution_count": 2,
   "metadata": {},
   "outputs": [
    {
     "name": "stdout",
     "output_type": "stream",
     "text": [
      "data [[ 1.38057110e-01 -4.54460740e-01  1.39081070e+00 ...  5.00000000e+00\n",
      "  -2.04688800e+03             nan]\n",
      " [ 4.99121810e-01 -3.85551780e-01  1.28453870e+00 ...  5.00000000e+00\n",
      "  -2.04697850e+03             nan]\n",
      " [ 7.00004800e-01 -3.35017980e-01  1.53768340e+00 ...  5.00000000e+00\n",
      "  -2.04691030e+03             nan]\n",
      " ...\n",
      " [ 4.44845200e-01 -4.04564920e-01  1.29143080e+00 ...  5.00000000e+00\n",
      "  -2.04681970e+03             nan]\n",
      " [ 4.75530980e-01 -1.24298245e-01  1.42448280e+00 ...  5.00000000e+00\n",
      "  -2.04683780e+03             nan]\n",
      " [ 8.80815000e-01 -4.86560600e-01  1.27828090e+00 ...  5.00000000e+00\n",
      "  -2.04675570e+03             nan]]\n",
      "vec [ 5.04393154e-01 -4.01802958e-01  2.99790795e-01 -6.67230546e-03\n",
      " -3.83708743e-01  4.99292859e-01  8.98805379e-02  7.69547160e-01\n",
      " -7.64508508e-01 -6.88458563e-01 -3.15124817e-01  7.41379317e-01\n",
      "  3.76609231e-01  8.03065122e-01 -2.19509943e-01 -1.09522848e+00\n",
      "  3.09627325e-01  3.07461243e-01 -1.47427046e-01  1.36639170e+00\n",
      "  1.05148843e+00 -1.21151524e-01 -1.45065916e+00 -9.25649525e-01\n",
      " -7.95787351e-02  1.59704781e+00 -3.83228437e-01  6.90057652e-01\n",
      "  6.86073172e-01 -5.37475559e-01  3.81648029e-01 -2.50376286e-01\n",
      " -2.88348987e-01  6.83332248e-01  2.62469328e-02 -3.26712517e-01\n",
      " -5.47299285e-01  1.00442098e+00  5.38005703e-01 -6.82765468e-01\n",
      " -2.28846767e-01  5.47037617e-01  2.87890016e-01 -1.38076242e-01\n",
      " -4.07769965e-01  4.20063889e-02  5.23823389e-03 -5.70732182e-01\n",
      "  1.41014838e+00  7.46777533e-01 -2.15677550e-01  3.76927970e-01\n",
      " -7.48397532e-01 -2.69267028e-01  2.64831490e-01  3.15417135e-01\n",
      " -3.24869248e-02  7.41027580e-02  9.40205889e-04 -1.33388551e-02\n",
      "  6.34830269e-02 -1.71748693e-01  9.57311978e-01 -2.20103946e-01\n",
      " -2.06004285e-03 -5.98872098e-01 -2.32957814e-01 -2.78429016e-01\n",
      " -4.19913034e-01  5.23648695e-01 -9.08739588e-01  6.02082027e-01\n",
      " -1.61147111e-01  1.63111070e-01  2.74627029e-01  5.54178630e-01\n",
      " -1.99804407e-01 -3.13199741e-01  2.63860399e-01  3.42249161e-01\n",
      "  1.18798165e-01  4.84074690e-01 -8.54321092e-01  9.97847103e-01\n",
      "  1.68492332e-01  5.98298458e-01 -5.56618394e-01  5.20749888e-01\n",
      "  5.48876039e-01 -3.79369413e-01  9.37304911e-01 -8.30247362e-01\n",
      "  2.18902195e-01  6.56511743e-01  9.14886092e-02  2.82308207e-01\n",
      " -5.38636286e-01 -6.73253281e-01 -2.34373148e-01  4.91307003e-01\n",
      " -7.43789439e-01  3.53631820e-01 -3.17023092e-01 -1.31168157e+00\n",
      "  2.52038864e-01 -4.22148331e-01  2.69625783e-01  2.40508646e-02\n",
      "  2.76298767e-01 -7.38378581e-01  3.78508352e-01  2.66919095e-01\n",
      " -6.31899551e-01 -1.14186108e+00  4.81240603e-01  1.21007168e+00\n",
      " -5.11335152e-01  3.38746215e-01 -1.10407767e+00 -2.77486940e-01\n",
      " -6.05301690e-01  3.94943937e-01  7.64820321e-01 -4.44128207e-01\n",
      " -6.09891570e-01 -5.41764043e-01 -6.21407342e-01  6.10121105e-01]\n",
      "0\n",
      "[ 0.  1.  2.  3.  4.  5.  6. 50.  8.  9. 37. 11. 24. 24. 14. 46. 48. 34.\n",
      " 36. 19.  4. 21. 53. 23. 23. 13.  6. 27. 29. 29. 50. 31. 53. 33. 34. 35.\n",
      " 36. 37. 21. 19. 19. 41. 43. 43. 44. 42. 46. 47. 48. 49. 50. 52. 52. 53.]\n",
      "matched 66.66666666666666 %\n"
     ]
    }
   ],
   "source": [
    "from tools.utils import utils_fgtransform, utils_dimred, utils_numericalfiletools\n",
    "\n",
    "n_molecules = 54\n",
    "n_features = 128\n",
    "fg_trans_fildir = 'data/fgtransform/model1/methylation/2alcsethspert4opt/'\n",
    "\n",
    "#Calculate average diff vector\n",
    "data_filepath1 = fg_trans_fildir+ 'initO.csv'\n",
    "data_filepath2 = fg_trans_fildir+ 'transO.csv'\n",
    "diff_mean = utils_fgtransform.vecdiffmean(data_filepath1,data_filepath2,n_features,n_molecules)\n",
    "\n",
    "\n",
    "#Perform transformation\n",
    "vec_filepath = fg_trans_fildir+ 'initOdiff.csv'\n",
    "save_filepath = fg_trans_fildir+ 'initOtransform.csv'\n",
    "utils_fgtransform.add_vectomat(vec_filepath,data_filepath1,n_features,save_filepath)\n",
    "\n",
    "from tools.utils import utils_fgtransform\n",
    "\n",
    "true_trans_filepath = fg_trans_fildir+ 'transO.csv'\n",
    "art_trans_filepath = fg_trans_fildir+ 'initOtransform.csv'\n",
    "#DO NOT SORT! \n",
    "utils_fgtransform.nearest_trans(true_trans_filepath,art_trans_filepath,n_molecules,n_features)\n",
    "\n",
    "\n"
   ]
  },
  {
   "cell_type": "code",
   "execution_count": 3,
   "metadata": {},
   "outputs": [
    {
     "ename": "TypeError",
     "evalue": "vstacktwofiles() got multiple values for argument 'single_dim'",
     "output_type": "error",
     "traceback": [
      "\u001b[0;31m---------------------------------------------------------------------------\u001b[0m",
      "\u001b[0;31mTypeError\u001b[0m                                 Traceback (most recent call last)",
      "\u001b[0;32m/tmp/ipykernel_30219/147215964.py\u001b[0m in \u001b[0;36m<module>\u001b[0;34m\u001b[0m\n\u001b[1;32m     11\u001b[0m \u001b[0mn_data1\u001b[0m \u001b[0;34m=\u001b[0m \u001b[0mn_molecules\u001b[0m\u001b[0;34m\u001b[0m\u001b[0;34m\u001b[0m\u001b[0m\n\u001b[1;32m     12\u001b[0m \u001b[0mn_data2\u001b[0m \u001b[0;34m=\u001b[0m \u001b[0mn_molecules\u001b[0m\u001b[0;34m\u001b[0m\u001b[0;34m\u001b[0m\u001b[0m\n\u001b[0;32m---> 13\u001b[0;31m \u001b[0mutils_numericalfiletools\u001b[0m\u001b[0;34m.\u001b[0m\u001b[0mvstacktwofiles\u001b[0m\u001b[0;34m(\u001b[0m\u001b[0minit_filepath\u001b[0m\u001b[0;34m,\u001b[0m\u001b[0minittrans_filepath\u001b[0m\u001b[0;34m,\u001b[0m\u001b[0msave_filepath\u001b[0m\u001b[0;34m,\u001b[0m\u001b[0mn_data1\u001b[0m\u001b[0;34m,\u001b[0m\u001b[0mn_data2\u001b[0m\u001b[0;34m,\u001b[0m\u001b[0mn_molecules\u001b[0m\u001b[0;34m,\u001b[0m\u001b[0msingle_dim\u001b[0m\u001b[0;34m=\u001b[0m\u001b[0;32mFalse\u001b[0m\u001b[0;34m,\u001b[0m\u001b[0mskip_header1\u001b[0m\u001b[0;34m=\u001b[0m\u001b[0;36m1\u001b[0m\u001b[0;34m,\u001b[0m\u001b[0mskip_header2\u001b[0m\u001b[0;34m=\u001b[0m\u001b[0;36m0\u001b[0m\u001b[0;34m)\u001b[0m\u001b[0;34m\u001b[0m\u001b[0;34m\u001b[0m\u001b[0m\n\u001b[0m\u001b[1;32m     14\u001b[0m \u001b[0;34m\u001b[0m\u001b[0m\n\u001b[1;32m     15\u001b[0m \u001b[0mn_molecules\u001b[0m \u001b[0;34m=\u001b[0m \u001b[0mn_molecules\u001b[0m\u001b[0;34m*\u001b[0m\u001b[0;36m2\u001b[0m\u001b[0;34m\u001b[0m\u001b[0;34m\u001b[0m\u001b[0m\n",
      "\u001b[0;31mTypeError\u001b[0m: vstacktwofiles() got multiple values for argument 'single_dim'"
     ]
    }
   ],
   "source": [
    "from tools.utils import utils_fgtransform, utils_dimred, utils_numericalfiletools\n",
    "n_molecules = 54\n",
    "n_features = 128\n",
    "fg_trans_fildir = 'data/fgtransform/model1/2alcsethspert2opt/'\n",
    "\n",
    "\n",
    "#must stack initOtransform with initO call it bothO\n",
    "init_filepath = fg_trans_fildir+ 'initO.csv'\n",
    "inittrans_filepath = fg_trans_fildir+ 'initOtransform.csv'\n",
    "save_filepath = fg_trans_fildir+ 'bothOtransform.csv'\n",
    "n_data1 = n_molecules\n",
    "n_data2 = n_molecules\n",
    "utils_numericalfiletools.vstacktwofiles(init_filepath,inittrans_filepath,save_filepath,n_data1,n_data2,n_molecules,single_dim=False,skip_header1=1,skip_header2=0)\n",
    "\n",
    "n_molecules = n_molecules*2\n",
    "#Dimensionality reduction on new file with init and inittransformed\n",
    "data_filepath = fg_trans_fildir+ 'bothOtransform.csv'\n",
    "save_filepath = fg_trans_fildir+ 'initOtransform.csv'\n",
    "n_components = 128\n",
    "skip_header =  0\n",
    "scale_data = False\n",
    "utils_dimred.pca(data_filepath,n_components,n_features,scale_data,save_filepath, n_molecules,skip_header)\n",
    "\n",
    "data_filepath = fg_trans_fildir+ 'initOtransformpca.csv'\n",
    "save_filepath = fg_trans_fildir+ 'initOtransformpcavecs.csv'\n",
    "#Make vector plotting file from the pca (x1,y1,x2,y2) \n",
    "#(half the data is init, half is trans after compilation)\n",
    "utils_fgtransform.scatters_to_vectors(data_filepath,save_filepath)"
   ]
  }
 ],
 "metadata": {
  "kernelspec": {
   "display_name": "Python 3.7.13 ('embs')",
   "language": "python",
   "name": "python3"
  },
  "language_info": {
   "codemirror_mode": {
    "name": "ipython",
    "version": 3
   },
   "file_extension": ".py",
   "mimetype": "text/x-python",
   "name": "python",
   "nbconvert_exporter": "python",
   "pygments_lexer": "ipython3",
   "version": "3.7.16"
  },
  "orig_nbformat": 4,
  "vscode": {
   "interpreter": {
    "hash": "3e527e0fb9cd72c404b77fc0eaab204e19d8957c418c0845e3410ddf58030085"
   }
  }
 },
 "nbformat": 4,
 "nbformat_minor": 2
}
