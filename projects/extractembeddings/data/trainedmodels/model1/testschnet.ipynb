{
 "cells": [
  {
   "cell_type": "code",
   "execution_count": 1,
   "metadata": {},
   "outputs": [
    {
     "name": "stderr",
     "output_type": "stream",
     "text": [
      "/home/amerelsamman/anaconda3/envs/dlchem/lib/python3.7/site-packages/tqdm/auto.py:21: TqdmWarning: IProgress not found. Please update jupyter and ipywidgets. See https://ipywidgets.readthedocs.io/en/stable/user_install.html\n",
      "  from .autonotebook import tqdm as notebook_tqdm\n"
     ]
    }
   ],
   "source": [
    "from schnetpack.datasets import QM9\n",
    "import schnetpack as spk\n",
    "from schnetpack import AtomsData\n",
    "import torch\n",
    "\n",
    "\n",
    "def run_schnet_model(dataset_filepath,model_filepath,idx,using_qm9):\n",
    "#Load testing data\n",
    "\n",
    "    if using_qm9 == True:\n",
    "        qm9data = QM9(dataset_filepath,download=False,\n",
    "                    remove_uncharacterized=True)\n",
    "    else:\n",
    "        qm9data = AtomsData(dataset_filepath,available_properties=['energy'])\n",
    "\n",
    "#    print(dataset_filepath)\n",
    "#    print(model_filepath)\n",
    "\n",
    "    model = torch.load(model_filepath, map_location=torch.device('cpu'))\n",
    "\n",
    "    at, props = qm9data.get_properties(idx)\n",
    "\n",
    "    positions = props['_positions']\n",
    "\n",
    "    #set device\n",
    "    device = 'cpu'\n",
    "\n",
    "    # load the data converter which will convert the data to machine-readable format for the algorithm\n",
    "    converter = spk.data.AtomsConverter(device=device)\n",
    "    # convert data to machine-readable form\n",
    "    inputs = converter(at)\n",
    "\n",
    "    #use model on inputs  \n",
    "    pred = model(inputs)\n",
    "\n",
    "#    print('Keys:', list(inputs.keys()))\n",
    "#    print('Prediction:', pred[QM9.U0].detach().cpu().numpy()[0,0])\n",
    "#    print('Truth:', props[QM9.U0][0])\n",
    "    return pred[QM9.U0].detach().cpu().numpy()[0,0]"
   ]
  },
  {
   "cell_type": "code",
   "execution_count": 5,
   "metadata": {},
   "outputs": [
    {
     "data": {
      "text/plain": [
       "-2103.7466"
      ]
     },
     "execution_count": 5,
     "metadata": {},
     "output_type": "execute_result"
    }
   ],
   "source": [
    "#set qm9 ==False if you are not using qm9 dataset \n",
    "using_qm9 = True\n",
    "dataset_filepath = 'data/datasets/QM9/qm9.db'\n",
    "\n",
    "#test molecule\n",
    "idx=3\n",
    "\n",
    "#trainedmodel\n",
    "model_filepath = 'data/trainedmodels/model1/best_model'\n",
    "#load it with torch, and use CPU if you trained with CPU\n",
    "\n",
    "run_schnet_model(dataset_filepath,model_filepath,idx,using_qm9)"
   ]
  }
 ],
 "metadata": {
  "kernelspec": {
   "display_name": "dlchem",
   "language": "python",
   "name": "python3"
  },
  "language_info": {
   "codemirror_mode": {
    "name": "ipython",
    "version": 3
   },
   "file_extension": ".py",
   "mimetype": "text/x-python",
   "name": "python",
   "nbconvert_exporter": "python",
   "pygments_lexer": "ipython3",
   "version": "3.7.16"
  },
  "orig_nbformat": 4
 },
 "nbformat": 4,
 "nbformat_minor": 2
}
