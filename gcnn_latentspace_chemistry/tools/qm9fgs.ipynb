{
 "cells": [
  {
   "attachments": {},
   "cell_type": "markdown",
   "metadata": {},
   "source": [
    "QM9 tools with functional group labels"
   ]
  },
  {
   "attachments": {},
   "cell_type": "markdown",
   "metadata": {},
   "source": [
    "Count fg labels in a dataset "
   ]
  },
  {
   "cell_type": "code",
   "execution_count": null,
   "metadata": {},
   "outputs": [],
   "source": [
    "\n",
    "from utils import utils_qm9fgs\n",
    "\n",
    "label_filepath = '../data/articleplots/rawdata/embs/layer5/Oembs/embs.csv'\n",
    "label_column = 133\n",
    "number_fgs = 25\n",
    "\n",
    "start_atomidx = 0\n",
    "end_atomidx = 13076\n",
    "\n",
    "where_is_lonely_class = True\n",
    "\n",
    "\n",
    "utils_qm9fgs.countfgs(label_filepath, number_fgs,label_column,start_atomidx,end_atomidx,where_is_lonely_class)"
   ]
  },
  {
   "attachments": {},
   "cell_type": "markdown",
   "metadata": {},
   "source": [
    "Extract molecules in QM9 based on FG label"
   ]
  },
  {
   "cell_type": "code",
   "execution_count": null,
   "metadata": {},
   "outputs": [],
   "source": [
    "\n",
    "### IF YOU ARE LOOKING FOR JUST EMBEDDING OF PARTICULAR FG LABEL, THIS STEP IS USELESS\n",
    "### USE THE LABEL FILE\n",
    "\n",
    "\n",
    "\n",
    "#DO NOT USE THIS...USE LABEL FILE WHEN NECESSECARY\n",
    "from utils import utils_qm9fgs\n",
    "\n",
    "#INPUT\n",
    "label_filepath = '../extractembeddings/data/O/model2/qm9-all/labelold.csv'\n",
    "qm9_filepath = '../data/datasets/QM9/qm9.db'\n",
    "subset_filepath = '../temp/qm9_ethersonly/qm9_ethers.xyz'\n",
    "label_idx = 1\n",
    "\n",
    "utils_qm9fgs.extractfg(qm9_filepath,label_filepath,subset_filepath,label_idx)\n",
    "\n",
    "\n"
   ]
  },
  {
   "attachments": {},
   "cell_type": "markdown",
   "metadata": {},
   "source": [
    "    Extract molecules in QM9 based on range"
   ]
  },
  {
   "cell_type": "code",
   "execution_count": 1,
   "metadata": {},
   "outputs": [
    {
     "name": "stderr",
     "output_type": "stream",
     "text": [
      "/home/amerelsamman/anaconda3/envs/dlchem/lib/python3.7/site-packages/tqdm/auto.py:21: TqdmWarning: IProgress not found. Please update jupyter and ipywidgets. See https://ipywidgets.readthedocs.io/en/stable/user_install.html\n",
      "  from .autonotebook import tqdm as notebook_tqdm\n",
      "/home/amerelsamman/anaconda3/envs/dlchem/lib/python3.7/site-packages/schnetpack/data/atoms.py:327: UserWarning: The given NumPy array is not writable, and PyTorch does not support non-writable tensors. This means writing to this tensor will result in undefined behavior. You may want to copy the array to protect its data or make it writable before converting it to a tensor. This type of warning will be suppressed for the rest of this program. (Triggered internally at ../torch/csrc/utils/tensor_numpy.cpp:199.)\n",
      "  properties[pname] = torch.FloatTensor(prop)\n",
      "/home/amerelsamman/anaconda3/envs/dlchem/lib/python3.7/site-packages/ase/atoms.py:968: VisibleDeprecationWarning: Use get_global_number_of_atoms() instead\n",
      "  np.VisibleDeprecationWarning)\n"
     ]
    }
   ],
   "source": [
    "from utils import utils_qm9fgs\n",
    "\n",
    "qm9_filepath = '../data/datasets/QM9/qm9.db'\n",
    "subset_filepath = '../data/datasets/embsNMR-brooke/molecules/mol.xyz'\n",
    "mol_range = [0,156]\n",
    "\n",
    "#NOTE conditions \n",
    "# To extract (if contains) a particular element ONLY \n",
    "# is handled internally\n",
    "\n",
    "#NOTE Brooke's dataset skips molecule 45, and 96\n",
    "#BY ACCIDENT!!!!!!!!!!!!!!!!!!!\n",
    "\n",
    "utils_qm9fgs.extractrange(qm9_filepath,subset_filepath,mol_range)"
   ]
  },
  {
   "cell_type": "code",
   "execution_count": null,
   "metadata": {},
   "outputs": [],
   "source": []
  },
  {
   "cell_type": "code",
   "execution_count": null,
   "metadata": {},
   "outputs": [],
   "source": []
  },
  {
   "cell_type": "code",
   "execution_count": null,
   "metadata": {},
   "outputs": [],
   "source": []
  }
 ],
 "metadata": {
  "kernelspec": {
   "display_name": "Python 3.7.13 ('embs')",
   "language": "python",
   "name": "python3"
  },
  "language_info": {
   "codemirror_mode": {
    "name": "ipython",
    "version": 3
   },
   "file_extension": ".py",
   "mimetype": "text/x-python",
   "name": "python",
   "nbconvert_exporter": "python",
   "pygments_lexer": "ipython3",
   "version": "3.7.16"
  },
  "orig_nbformat": 4,
  "vscode": {
   "interpreter": {
    "hash": "3e527e0fb9cd72c404b77fc0eaab204e19d8957c418c0845e3410ddf58030085"
   }
  }
 },
 "nbformat": 4,
 "nbformat_minor": 2
}
