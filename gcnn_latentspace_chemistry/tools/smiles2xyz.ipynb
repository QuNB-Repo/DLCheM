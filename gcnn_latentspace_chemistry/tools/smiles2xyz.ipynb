{
 "cells": [
  {
   "cell_type": "markdown",
   "metadata": {},
   "source": [
    "Processes a vector of smiles strings into xyz file"
   ]
  },
  {
   "cell_type": "code",
   "execution_count": 2,
   "metadata": {},
   "outputs": [],
   "source": [
    "from rdkit import Chem\n",
    "from rdkit.Chem import AllChem\n",
    "\n",
    "def smiles_to_xyz(smiles_list):\n",
    "    xyz_list = []\n",
    "    \n",
    "    for smiles in smiles_list:\n",
    "        mol = Chem.MolFromSmiles(smiles)\n",
    "        if mol is None:\n",
    "            raise ValueError(f\"Invalid SMILES string: {smiles}\")\n",
    "\n",
    "        # Add hydrogens\n",
    "        mol = Chem.AddHs(mol)\n",
    "\n",
    "        # Generate 3D coordinates\n",
    "        AllChem.EmbedMolecule(mol, AllChem.ETKDG())\n",
    "        if mol.GetNumConformers() == 0:\n",
    "            raise ValueError(f\"Unable to generate 3D coordinates for SMILES: {smiles}\")\n",
    "\n",
    "        # Get XYZ string representation\n",
    "        xyz_string = Chem.MolToXYZBlock(mol, confId=0)\n",
    "\n",
    "        # Add \" 0.0000\" after the number of atoms line with a space before\n",
    "        xyz_string = xyz_string.split('\\n', 1)\n",
    "        xyz_string = xyz_string[0] + \"\\n0.0000\" + xyz_string[1]\n",
    "\n",
    "        xyz_list.append(xyz_string)\n",
    "    return xyz_list\n",
    "\n",
    "def save_xyz_file(xyz_list, file_path):\n",
    "    with open(file_path, 'w') as f:\n",
    "        f.write(''.join(xyz_list))  # No separator between XYZ strings\n",
    "\n"
   ]
  },
  {
   "cell_type": "code",
   "execution_count": 12,
   "metadata": {},
   "outputs": [
    {
     "name": "stdout",
     "output_type": "stream",
     "text": [
      "XYZ strings saved to 'output.xyz' file.\n"
     ]
    }
   ],
   "source": [
    "import pandas as pd \n",
    "\n",
    "data_filepath = '../../data/embs/embslogs/smileslogs-prunedsmiles2xyzFAIL-.csv'\n",
    "data = pd.read_csv(data_filepath,delimiter=',')\n",
    "smiles = data.iloc[:1320,1]\n",
    "# Example usage\n",
    "smiles_list = smiles.tolist()\n",
    "\n",
    "try:\n",
    "    xyz_list = smiles_to_xyz(smiles_list)\n",
    "\n",
    "    # Save all XYZ strings into one file without space between molecules\n",
    "    save_xyz_file(xyz_list, \"../../data/embs/embslogs/logSmols.xyz\")\n",
    "    print(\"XYZ strings saved to 'output.xyz' file.\")\n",
    "except ValueError as e:\n",
    "    print(e)\n"
   ]
  },
  {
   "cell_type": "markdown",
   "metadata": {},
   "source": [
    "Process melting point strings to array/series and save"
   ]
  },
  {
   "cell_type": "code",
   "execution_count": null,
   "metadata": {},
   "outputs": [],
   "source": [
    "\n",
    "data_filepath = '../data/datasets/embsMP/smiles-mps.csv'\n",
    "data = pd.read_csv(data_filepath,delimiter=',')\n",
    "mps = data.iloc[:1000,1]\n",
    "mps = mps.tolist()"
   ]
  },
  {
   "cell_type": "code",
   "execution_count": null,
   "metadata": {},
   "outputs": [],
   "source": [
    "import re\n",
    "\n",
    "def extract_first_number(s):\n",
    "    # Use regular expression to find the first number in the string\n",
    "    match = re.search(r'[-+]?\\d*\\.\\d+|\\d+', s)\n",
    "    if match:\n",
    "        return int(float(match.group()))\n",
    "    else:\n",
    "        return None\n",
    "\n",
    "# Example list of strings\n",
    "strings_list =  mps\n",
    "\n",
    "# Extract the first number from each string and store in an array\n",
    "numbers_array = [extract_first_number(s) for s in strings_list]\n",
    "\n",
    "# Save the numbers array to a file\n",
    "output_file = \"../data/datasets/embsMP/mps.csv\"\n",
    "with open(output_file, 'w') as f:\n",
    "    for num in numbers_array:\n",
    "        f.write(str(num) + ',\\n')\n",
    "\n",
    "print(\"Numbers saved to 'numbers.txt' file.\")\n"
   ]
  },
  {
   "cell_type": "markdown",
   "metadata": {},
   "source": [
    "Process melting points to a vector of number targets, y"
   ]
  }
 ],
 "metadata": {
  "kernelspec": {
   "display_name": "dlchem",
   "language": "python",
   "name": "python3"
  },
  "language_info": {
   "codemirror_mode": {
    "name": "ipython",
    "version": 3
   },
   "file_extension": ".py",
   "mimetype": "text/x-python",
   "name": "python",
   "nbconvert_exporter": "python",
   "pygments_lexer": "ipython3",
   "version": "3.7.16"
  },
  "orig_nbformat": 4
 },
 "nbformat": 4,
 "nbformat_minor": 2
}
