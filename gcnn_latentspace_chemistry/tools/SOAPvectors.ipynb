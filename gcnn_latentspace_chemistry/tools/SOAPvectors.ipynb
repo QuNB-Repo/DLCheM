{
 "cells": [
  {
   "cell_type": "markdown",
   "metadata": {},
   "source": [
    "SOAP energy regression to compare with SchNet and embeddings"
   ]
  },
  {
   "cell_type": "code",
   "execution_count": null,
   "metadata": {},
   "outputs": [
    {
     "ename": "",
     "evalue": "",
     "output_type": "error",
     "traceback": [
      "\u001b[1;31mRunning cells with 'c:\\Users\\aelsamma\\AppData\\Local\\Programs\\Python\\Python39\\python.exe' requires the ipykernel package.\n",
      "\u001b[1;31mRun the following command to install 'ipykernel' into the Python environment. \n",
      "\u001b[1;31mCommand: 'c:/Users/aelsamma/AppData/Local/Programs/Python/Python39/python.exe -m pip install ipykernel -U --user --force-reinstall'"
     ]
    }
   ],
   "source": [
    "from dscribe.descriptors import SOAP\n",
    "from ase.build import molecule\n",
    "from schnetpack.datasets import QM9\n",
    "from numpy import savetxt\n",
    "\n",
    "rcut = 6\n",
    "nmax = 6\n",
    "lmax = 10\n",
    "\n",
    "qm9_true = True\n",
    "db_filepath = '../data/'\n",
    "start = 0\n",
    "end = 100\n",
    "\n"
   ]
  },
  {
   "cell_type": "code",
   "execution_count": null,
   "metadata": {},
   "outputs": [],
   "source": [
    "#initialize SOAP\n",
    "species = ['H','C','N','O','F']\n",
    "\n",
    "soap = SOAP(\n",
    "    species = species,\n",
    "    periodic = False,\n",
    "    rcut = rcut,\n",
    "    nmax = nmax,\n",
    "    lmax = lmax,\n",
    ")   \n",
    "\n",
    "#Check that you are using QM9 data base to load that one properly\n",
    "if qm9_true == True:\n",
    "    qm9data = QM9(db_filepath,download=False,remove_uncharacterized=True)\n",
    "#Else, raise not yet implemented for other databases errors\n",
    "else:\n",
    "    raise(NotImplementedError,\"Not yet implemented for other datasets\")\n",
    "\n",
    "\n",
    "#start an array\n",
    "soaps_outputs = []\n",
    "\n",
    "#go through each molecule in the dataset\n",
    "for idx in range(start,end):\n",
    "\n",
    "    #loading bar\n",
    "    if idx % 1000 == 0:\n",
    "        print(idx)\n",
    "\n",
    "    #output atomistic representations and properties\n",
    "    at, props = qm9data.get_properties(idx)\n",
    "\n",
    "    #extract number of atoms from props\n",
    "    number_atoms = len(props['_atomic_numbers'])\n",
    "\n",
    "    #check the type of element you are looking for to make comparison \n",
    "    if target_element in props['_atomic_numbers']:\n",
    "\n",
    "        #run soap on at, atomistic system variable\n",
    "        soap_molecule = soap.create(at)\n",
    "        \n",
    "        #go through each atom, check atomic number is the one you want, and output soap representation into a file\n",
    "        for each_atom in range(number_atoms):\n",
    "\n",
    "\n",
    "            #check that the element is equal to target \n",
    "            if props['_atomic_numbers'][each_atom] == target_element:\n",
    "                \n",
    "                #append soap outputs vector with soap of this atom\n",
    "                soaps_outputs.append(soap_molecule[each_atom])\n",
    "\n",
    "#savet the collected soaps array\n",
    "savetxt(savesoaps_filepath,soaps_outputs,delimiter=',')\n"
   ]
  }
 ],
 "metadata": {
  "kernelspec": {
   "display_name": "dlchem2",
   "language": "python",
   "name": "python3"
  },
  "language_info": {
   "codemirror_mode": {
    "name": "ipython",
    "version": 3
   },
   "file_extension": ".py",
   "mimetype": "text/x-python",
   "name": "python",
   "nbconvert_exporter": "python",
   "pygments_lexer": "ipython3",
   "version": "3.7.16"
  }
 },
 "nbformat": 4,
 "nbformat_minor": 2
}
