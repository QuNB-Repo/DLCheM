{
 "cells": [
  {
   "cell_type": "markdown",
   "metadata": {},
   "source": [
    "Functions that calculate time of inference of a schnet model...\n",
    "\n",
    "can construct a set of ordered moelcules (straight chain alcohols) and then statistical computation of inference for each"
   ]
  },
  {
   "cell_type": "code",
   "execution_count": 41,
   "metadata": {},
   "outputs": [],
   "source": [
    "from rdkit import Chem\n",
    "from rdkit.Chem import AllChem\n",
    "import os\n",
    "\n",
    "\n",
    "starting_molfilepath = 'utils/data/timing/methanol.mol'\n",
    "carbon_number = 2\n",
    "molecule = Chem.MolFromMolFile(starting_molfilepath)\n",
    "molecule = Chem.MolToMolBlock(molecule)\n",
    "number_atoms = 9\n",
    "\n",
    "c_line = '    0.0000   -0.0000   -0.0000 C   0  0  0  0  0  0  0  0  0  0  0  0  \\n'\n",
    "\n",
    "save_xyzfilepath = 'utils/data/timing/strchnalcs.xyz'\n",
    "xyz_file = open(save_xyzfilepath,mode='a')\n",
    "\n",
    "for i in range(50):\n",
    "\n",
    "    if carbon_number < 9:\n",
    "        bond_line = '  '+str(carbon_number)+'  '+str(carbon_number+1) + '  1  0' \n",
    "    if carbon_number  == 9:\n",
    "        bond_line = ' '+str(carbon_number)+'  '+str(carbon_number+1) + '  1  0'    \n",
    "    if carbon_number > 9:\n",
    "        bond_line = ' '+str(carbon_number)+' '+str(carbon_number+1) + '  1  0'     \n",
    "    \n",
    "    new_molecule = ''\n",
    "    for line_index, line in enumerate(molecule.split('\\n')):\n",
    "        if line_index == 3:\n",
    "            if carbon_number < 9:\n",
    "                line = line.replace(line,'  '+str(carbon_number+1)+'  '+str(carbon_number)+line[6:40])\n",
    "            if carbon_number == 9:\n",
    "                line = line.replace(line,' '+str(carbon_number+1)+'  '+str(carbon_number)+line[6:40])\n",
    "            if carbon_number > 9:\n",
    "                line = line.replace(line,' '+str(carbon_number+1)+' '+str(carbon_number)+line[6:40])   \n",
    "        if line_index == 3 + carbon_number+1: \n",
    "            line = c_line + bond_line + '\\n' + line\n",
    "        new_molecule = new_molecule + line +'\\n'\n",
    "    \n",
    "    temp_molfilepath = 'utils/data/timing/temp/strchnalcs%s.mol' %(i)\n",
    "    temp_molfile = open(temp_molfilepath,mode='w')\n",
    "\n",
    "    molecule = new_molecule\n",
    "    carbon_number = carbon_number+1\n",
    "\n",
    "    new_molecule = Chem.MolFromMolBlock(new_molecule)\n",
    "    new_molecule = Chem.AddHs(new_molecule,addCoords=True)\n",
    "    AllChem.EmbedMolecule(new_molecule)\n",
    "    #AllChem.MMFFOptimizeMolecule(new_molecule)\n",
    "    new_molecule = Chem.MolToMolBlock(new_molecule)\n",
    "\n",
    "    temp_molfile.write(new_molecule)\n",
    "    temp_molfile.close()\n",
    "\n",
    "    temp_xyzfilepath = temp_molfilepath.replace('mol','xyz')\n",
    "    os.system('obabel ' + temp_molfilepath + ' -O ' + temp_xyzfilepath + ' >/dev/null 2>&1') \n",
    "\n",
    "    temp_xyzfile = open(temp_xyzfilepath,mode='r')\n",
    "\n",
    "    for line_index, line in enumerate(temp_xyzfile.read().split('\\n')):\n",
    "        if line_index == 1:\n",
    "            line = line.replace(line,'0.0000')\n",
    "\n",
    "        if line_index < number_atoms+2:\n",
    "            xyz_file.write(line + ' \\n')\n",
    "        if line_index == number_atoms+2:\n",
    "            xyz_file.write(line[0:46])   \n",
    "\n",
    "    number_atoms = number_atoms + 3\n",
    "    temp_xyzfile.close()\n",
    "\n",
    "    os.system('rm ' + temp_molfilepath)\n",
    "    os.system('rm ' + temp_xyzfilepath)\n",
    "\n",
    "xyz_file.close()\n",
    "\n"
   ]
  },
  {
   "cell_type": "markdown",
   "metadata": {},
   "source": [
    "Time inference statistics"
   ]
  },
  {
   "cell_type": "code",
   "execution_count": 1,
   "metadata": {},
   "outputs": [
    {
     "name": "stderr",
     "output_type": "stream",
     "text": [
      "/home/amerelsamman/anaconda3/envs/embs/lib/python3.7/site-packages/tqdm/auto.py:22: TqdmWarning: IProgress not found. Please update jupyter and ipywidgets. See https://ipywidgets.readthedocs.io/en/stable/user_install.html\n",
      "  from .autonotebook import tqdm as notebook_tqdm\n"
     ]
    },
    {
     "name": "stdout",
     "output_type": "stream",
     "text": [
      "0.008400063157081604\n"
     ]
    }
   ],
   "source": [
    "from utils import utils_schnet\n",
    "import time\n",
    "\n",
    "start = time.time()\n",
    "\n",
    "for i in range(10000):\n",
    "#dataset\n",
    "    #dataset_filepath = 'chiral-1.db'\n",
    "    #dataset_filepath = 'fgtransform/data/model2/1alcseths/trans.db'\n",
    "    qm9 = False\n",
    "    dataset_filepath = 'utils/data/timing/strchnalcs.db'\n",
    "\n",
    "    #test molecule\n",
    "    idx=5\n",
    "\n",
    "    #trainedmodel\n",
    "    model_filepath = '../data/trainedmodels/model2/best_model'\n",
    "    #load it with torch, and use CPU if you trained with CPU\n",
    "\n",
    "    pred = utils_schnet.run_model(dataset_filepath,model_filepath,idx,qm9)\n",
    "\n",
    "end = time.time()\n",
    "\n",
    "print(pred)\n",
    "print((end - start)/10000)"
   ]
  },
  {
   "cell_type": "code",
   "execution_count": null,
   "metadata": {},
   "outputs": [],
   "source": []
  }
 ],
 "metadata": {
  "kernelspec": {
   "display_name": "Python 3.7.13 ('embs')",
   "language": "python",
   "name": "python3"
  },
  "language_info": {
   "codemirror_mode": {
    "name": "ipython",
    "version": 3
   },
   "file_extension": ".py",
   "mimetype": "text/x-python",
   "name": "python",
   "nbconvert_exporter": "python",
   "pygments_lexer": "ipython3",
   "version": "3.7.13"
  },
  "orig_nbformat": 4,
  "vscode": {
   "interpreter": {
    "hash": "3e527e0fb9cd72c404b77fc0eaab204e19d8957c418c0845e3410ddf58030085"
   }
  }
 },
 "nbformat": 4,
 "nbformat_minor": 2
}
