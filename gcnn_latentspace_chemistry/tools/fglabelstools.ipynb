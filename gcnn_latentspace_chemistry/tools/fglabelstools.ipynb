{
 "cells": [
  {
   "attachments": {},
   "cell_type": "markdown",
   "metadata": {},
   "source": [
    "Label converter: converts from LDA labels to gnuplot colors"
   ]
  },
  {
   "cell_type": "code",
   "execution_count": 12,
   "metadata": {},
   "outputs": [],
   "source": [
    "import numpy as np\n",
    "from numpy import genfromtxt, savetxt\n",
    "\n",
    "label_filepath = '../data/eucdist/pkaeucdist/pk1wlabels.csv'\n",
    "pka_label = genfromtxt(label_filepath,delimiter=',',encoding='utf-8-sig')\n",
    "\n",
    "label_data = pka_label[:,1]\n",
    "\n",
    "lda_to_gnu_converter_dictionary = {\n",
    "    0:  [16711680,13],\n",
    "    1:  [16747520,7],\n",
    "    2:  [16776960,11],\n",
    "    3:  [6737322,1],\n",
    "    4:  [3978097,15],\n",
    "    5:  [10025880,9],\n",
    "    6:  [10025880,9],\n",
    "    7:  [11393254,2],\n",
    "    8:  [6266528,5],\n",
    "    9:  [8900346,13],\n",
    "    10: [4286945,13],\n",
    "    11: [6591981,3],\n",
    "    12: [15787660,7],\n",
    "    13: [16766720,5],\n",
    "    14: [11674146,15],\n",
    "    15: [16758465,11],\n",
    "    16: [16770273,1],\n",
    "    17: [16716947,3],\n",
    "    18: [16738740,15],\n",
    "    19: [16716947,3],\n",
    "    20: [14524637,5],\n",
    "    21: [8388736,5],\n",
    "    22: [14381203,9],\n",
    "    23: [16738740,7],\n",
    "    24: [10824234,7],\n",
    "    25: [12433259,13],\n",
    "    26: [4915330,3],\n",
    "    27: [13468991,9],\n",
    "    28: [5597999,7],\n",
    "    29: [9127187,5],\n",
    "}\n"
   ]
  },
  {
   "cell_type": "code",
   "execution_count": 13,
   "metadata": {},
   "outputs": [],
   "source": [
    "\n",
    "new_label = []\n",
    "for each_label in range(len(label_data)):\n",
    "    \n",
    "    new_label.append(lda_to_gnu_converter_dictionary[label_data[each_label]])\n",
    "    "
   ]
  },
  {
   "cell_type": "code",
   "execution_count": 14,
   "metadata": {},
   "outputs": [],
   "source": [
    "new_label = np.asarray(new_label)\n",
    "\n",
    "new_label = np.hstack((pka_label,new_label))\n"
   ]
  },
  {
   "cell_type": "code",
   "execution_count": 15,
   "metadata": {},
   "outputs": [
    {
     "name": "stdout",
     "output_type": "stream",
     "text": [
      "[[1.3270000e+01 1.4000000e+01 1.1674146e+07 1.5000000e+01]\n",
      " [3.7370000e+00 2.9000000e+01 9.1271870e+06 5.0000000e+00]\n",
      " [1.5500000e+01 5.0000000e+00 1.0025880e+07 9.0000000e+00]\n",
      " ...\n",
      " [4.4200000e+00 8.0000000e+00 6.2665280e+06 5.0000000e+00]\n",
      " [4.7000000e+00 8.0000000e+00 6.2665280e+06 5.0000000e+00]\n",
      " [4.2100000e+00 8.0000000e+00 6.2665280e+06 5.0000000e+00]]\n"
     ]
    }
   ],
   "source": [
    "print(new_label)\n",
    "\n",
    "savetxt('test.csv',new_label,delimiter=',')"
   ]
  },
  {
   "cell_type": "code",
   "execution_count": null,
   "metadata": {},
   "outputs": [],
   "source": []
  }
 ],
 "metadata": {
  "kernelspec": {
   "display_name": "dlchem",
   "language": "python",
   "name": "python3"
  },
  "language_info": {
   "codemirror_mode": {
    "name": "ipython",
    "version": 3
   },
   "file_extension": ".py",
   "mimetype": "text/x-python",
   "name": "python",
   "nbconvert_exporter": "python",
   "pygments_lexer": "ipython3",
   "version": "3.7.16"
  },
  "orig_nbformat": 4
 },
 "nbformat": 4,
 "nbformat_minor": 2
}
