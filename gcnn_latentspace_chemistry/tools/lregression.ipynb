{
 "cells": [
  {
   "attachments": {},
   "cell_type": "markdown",
   "metadata": {},
   "source": [
    "Linear Regression From SciKit-Learn"
   ]
  },
  {
   "cell_type": "code",
   "execution_count": 1,
   "metadata": {},
   "outputs": [],
   "source": [
    "import numpy as np\n",
    "from numpy import genfromtxt\n",
    "from sklearn.linear_model import LinearRegression\n",
    "from sklearn.metrics import mean_squared_error, r2_score\n",
    "\n",
    "from sklearn.model_selection import train_test_split\n",
    "from sklearn.preprocessing import StandardScaler\n",
    "import math \n",
    "from sklearn.preprocessing import PolynomialFeatures\n",
    "\n",
    "# Load data into a Pandas DataFrame\n",
    "x_data = genfromtxt('../data/embs/old/model1-10000/layer6/embslayer6-addedfromprevlayer.csv',delimiter=',',encoding='utf-8-sig',skip_header=1)\n",
    "\n",
    "# Split data into X and y\n",
    "X = x_data[:,0:128]\n",
    "#128 --> pka, NMR \n",
    "#137  --> ae \n",
    "#138 onwards --> electron density \n",
    "y = x_data[:,137]\n",
    "\n",
    "#label to split as well\n",
    "label = x_data[:,129:133]\n",
    "\n",
    "# Split the dataset into training and testing sets\n",
    "X_train, X_test, y_train, y_test, label_train, label_test = train_test_split(X, y, label, test_size=0.2, random_state=50)\n",
    "\n",
    "use_train_for_test = False\n",
    "\n",
    "save_pred_filepath = '../data/embs/old/model1-10000/layer6/lrtrainpredictionsAE' #NO .csv!!"
   ]
  },
  {
   "cell_type": "code",
   "execution_count": 2,
   "metadata": {},
   "outputs": [
    {
     "name": "stdout",
     "output_type": "stream",
     "text": [
      "Mean square-root error: 42.772435694030484\n",
      "R-squared: 0.9960998794004171\n"
     ]
    }
   ],
   "source": [
    "# Transform features to quadratic form\n",
    "#poly = PolynomialFeatures(degree=2)  # Use degree 2 for quadratic regression\n",
    "#X_train = poly.fit_transform(X_train)\n",
    "#X_test = poly.fit_transform(X_test)\n",
    "\n",
    "# Create a LinearRegression object\n",
    "lr = LinearRegression()\n",
    "\n",
    "# Standardize the data\n",
    "#scaler_X = StandardScaler()\n",
    "#scaler_y = StandardScaler()\n",
    "\n",
    "#X_train_scaled = scaler_X.fit_transform(X_train)\n",
    "#X_test_scaled = scaler_X.transform(X_test)\n",
    "\n",
    "#y_train_scaled = scaler_y.fit_transform(y_train.reshape(-1,1))\n",
    "#y_test_scaled = scaler_y.transform(y_test.reshape(-1,1))\n",
    "\n",
    "# Fit the model\n",
    "lr.fit(X_train, y_train)\n",
    "\n",
    "if use_train_for_test == True:\n",
    "    # Make predictions\n",
    "    predictions = lr.predict(X_train)\n",
    "#    predictions = scaler_y.inverse_transform(predictions)\n",
    "\n",
    "    # Evaluate the model\n",
    "    mse = mean_squared_error(y_train, predictions)\n",
    "    r2 = r2_score(y_train, predictions)\n",
    "else:\n",
    "    # Make predictions\n",
    "    predictions = lr.predict(X_test)\n",
    "#    predictions = scaler_y.inverse_transform(predictions_scaled)\n",
    "\n",
    "    # Evaluate the model\n",
    "    mse = mean_squared_error(y_test, predictions)\n",
    "    r2 = r2_score(y_test, predictions)\n",
    "\n",
    "print('Mean square-root error:', math.sqrt(mse))\n",
    "print('R-squared:', r2)\n"
   ]
  },
  {
   "cell_type": "code",
   "execution_count": null,
   "metadata": {},
   "outputs": [],
   "source": [
    "testfile_path = '../data/perturbation/targetall-useavg-subavg/qm9-0-1000-all/d1-p1.csv'\n",
    "test_data = genfromtxt(testfile_path,delimiter=',',encoding='utf-8-sig',skip_header=1)\n",
    "\n",
    "# Split data into X and y\n",
    "X_test = test_data[:,0:128]\n",
    "#128 --> pka, NMR \n",
    "#138 onwards --> electron density \n",
    "y_test = test_data[:,128]\n",
    "\n",
    "predictions = lr.predict(X_test)\n",
    "#    predictions = scaler_y.inverse_transform(predictions_scaled)\n",
    "\n",
    "# Evaluate the model\n",
    "mse = mean_squared_error(y_test, predictions)\n",
    "r2 = r2_score(y_test, predictions)\n",
    "\n",
    "\n"
   ]
  },
  {
   "cell_type": "code",
   "execution_count": null,
   "metadata": {},
   "outputs": [],
   "source": [
    "print('Mean square-root error:', math.sqrt(mse))\n",
    "print('R-squared:', r2)"
   ]
  },
  {
   "cell_type": "code",
   "execution_count": null,
   "metadata": {},
   "outputs": [],
   "source": [
    "unique_fgs = np.unique(x_data[:,129])\n",
    "print(unique_fgs)"
   ]
  },
  {
   "cell_type": "markdown",
   "metadata": {},
   "source": [
    "#Pearson coefficients on each unique FG"
   ]
  },
  {
   "cell_type": "code",
   "execution_count": null,
   "metadata": {},
   "outputs": [],
   "source": [
    "from scipy.stats import pearsonr\n",
    "\n",
    "# Calculate the number of features (columns) in X\n",
    "num_features = X_train.shape[1]\n",
    "\n",
    "# Initialize an array to store the correlation coefficients\n",
    "correlated_features_for_all_fgs = []\n",
    "correlations_of_features_for_all_fgs = []\n",
    "\n",
    "for each_fg in unique_fgs:\n",
    "    \n",
    "    X_fg = x_data[np.where(x_data[:,129] == each_fg)]\n",
    "\n",
    "    X_data_fg = X_fg[:,0:128]\n",
    "    y_data_fg = X_fg[:,128]\n",
    "\n",
    "    correlated_features = []\n",
    "    correlations_of_features = []\n",
    "\n",
    "    for each_feature in range(num_features):\n",
    "        \n",
    "        feature = X_data_fg[:, each_feature]  # Extract the i-th feature from X\n",
    "\n",
    "        corr_coeff, p_value = pearsonr(X_data_fg[:,each_feature], y_data_fg)  # Compute Pearson correlation coefficient\n",
    "\n",
    "        if p_value < 0.005:\n",
    "            correlated_features.append(each_feature)\n",
    "            correlations_of_features.append(corr_coeff)\n",
    "        \n",
    "    correlated_features_for_all_fgs.append(correlated_features+ [each_fg])\n",
    "\n",
    "    correlations_of_features_for_all_fgs.append(correlations_of_features + [each_fg])"
   ]
  },
  {
   "cell_type": "code",
   "execution_count": null,
   "metadata": {},
   "outputs": [],
   "source": [
    "print(correlated_features_for_all_fgs)"
   ]
  },
  {
   "cell_type": "code",
   "execution_count": null,
   "metadata": {},
   "outputs": [],
   "source": [
    "import csv\n",
    "# Specify the CSV file path\n",
    "csv_file_path = \"../data/embs/embspKA-stef/pearsonanalysis/correlated_features.csv\"\n",
    "\n",
    "# Write the uneven list of lists to a CSV file\n",
    "with open(csv_file_path, 'w', newline='') as csv_file:\n",
    "    writer = csv.writer(csv_file)\n",
    "    writer.writerows(correlated_features_for_all_fgs)\n",
    "\n",
    "print(f\"CSV file saved to {csv_file_path}\")"
   ]
  },
  {
   "cell_type": "code",
   "execution_count": null,
   "metadata": {},
   "outputs": [],
   "source": []
  },
  {
   "cell_type": "code",
   "execution_count": null,
   "metadata": {},
   "outputs": [],
   "source": []
  },
  {
   "cell_type": "code",
   "execution_count": null,
   "metadata": {},
   "outputs": [],
   "source": []
  },
  {
   "cell_type": "code",
   "execution_count": null,
   "metadata": {},
   "outputs": [],
   "source": [
    "from scipy.stats import pearsonr\n",
    "\n",
    "# Calculate the number of features (columns) in X\n",
    "num_features = X_train.shape[1]\n",
    "\n",
    "# Initialize an array to store the correlation coefficients\n",
    "strong_correlations = []\n",
    "\n",
    "# Loop through each feature in X and calculate the Pearson correlation coefficient with y\n",
    "for i in range(num_features):\n",
    "    feature = X_train[:, i]  # Extract the i-th feature from X\n",
    "    corr_coeff, p_value = pearsonr(feature, y_train)  # Compute Pearson correlation coefficient\n",
    "\n",
    "    # Interpret the results\n",
    "    if p_value < 0.00005:  # You can choose a significance level (e.g., 0.05)\n",
    "        correlation_coeffs.append()\n"
   ]
  },
  {
   "cell_type": "code",
   "execution_count": null,
   "metadata": {},
   "outputs": [],
   "source": [
    "\n",
    "# Print the results\n",
    "print(f\"Pearson Correlation Coefficients: {correlation_coeffs}\")\n",
    "print(f\"P-value: {p_values}\")\n",
    "\n",
    "negative_corr = []\n",
    "positive_corr = []\n",
    "no_corr = []\n",
    "for each_feature in range(128):\n",
    "    # Interpret the results\n",
    "    if p_values[each_feature] < 0.00005:  # You can choose a significance level (e.g., 0.05)\n",
    "        if correlation_coeffs[each_feature] > 0:\n",
    "            positive_corr.append(each_feature)\n",
    "        elif correlation_coeffs[each_feature] < 0:\n",
    "            negative_corr.append(each_feature)\n",
    "        else:\n",
    "            no_corr.append(each_feature)\n",
    "    else:\n",
    "        no_corr.append(each_feature)\n",
    "\n",
    "print(\"There is a statistically significant positive correlation: \",positive_corr)\n",
    "print(\"There is a statistically significant negative correlation: \",negative_corr)\n",
    "print(\"There is no statistically significant correlation:\", no_corr)"
   ]
  },
  {
   "cell_type": "code",
   "execution_count": null,
   "metadata": {},
   "outputs": [],
   "source": []
  },
  {
   "cell_type": "code",
   "execution_count": null,
   "metadata": {},
   "outputs": [],
   "source": []
  },
  {
   "cell_type": "code",
   "execution_count": null,
   "metadata": {},
   "outputs": [],
   "source": []
  },
  {
   "cell_type": "markdown",
   "metadata": {},
   "source": [
    "Parsing predictions of LR by FG"
   ]
  },
  {
   "cell_type": "code",
   "execution_count": null,
   "metadata": {},
   "outputs": [],
   "source": [
    "\n",
    "print(np.shape(label_train))\n",
    "print(np.shape(predictions))\n",
    "\n",
    "print(predictions)\n",
    "\n",
    "for i in range(np.shape(predictions)[1]):\n",
    "\n",
    "    if use_train_for_test == True:\n",
    "        y_train = y_train.reshape(-1,1) \n",
    "        save_predictions = np.column_stack((predictions[:,i],y_train[:,i],label_train))\n",
    "    elif use_train_for_test == False: \n",
    "        y_test = y_test.reshape(-1,1) \n",
    "        save_predictions = np.column_stack((predictions[:,i],y_test[:,i],label_test))\n",
    "        \n",
    "    filepath =  save_pred_filepath + '%s.csv' %(i) \n",
    "    np.savetxt(filepath,save_predictions,delimiter=',')\n"
   ]
  },
  {
   "cell_type": "markdown",
   "metadata": {},
   "source": [
    "Custom testing"
   ]
  },
  {
   "cell_type": "code",
   "execution_count": null,
   "metadata": {},
   "outputs": [],
   "source": [
    "custom_test_path = '../data/embs/embspKA-stef/inductive/embs.csv'\n",
    "\n",
    "custom_test_data = genfromtxt(custom_test_path,delimiter=',',encoding='utf-8-sig',skip_header=1)\n",
    "\n",
    "X_tst= custom_test_data[:,0:128]\n",
    "\n",
    "X_tst_scaled = scaler_X.transform(X_tst)\n",
    "\n",
    "# Make predictions\n",
    "predictions_scaled = lr.predict(X_tst_scaled)\n",
    "predictions = scaler_y.inverse_transform(predictions_scaled)\n",
    "print(predictions)\n"
   ]
  },
  {
   "cell_type": "code",
   "execution_count": null,
   "metadata": {},
   "outputs": [],
   "source": []
  },
  {
   "cell_type": "code",
   "execution_count": null,
   "metadata": {},
   "outputs": [],
   "source": []
  },
  {
   "cell_type": "code",
   "execution_count": null,
   "metadata": {},
   "outputs": [],
   "source": []
  },
  {
   "cell_type": "code",
   "execution_count": null,
   "metadata": {},
   "outputs": [],
   "source": []
  },
  {
   "cell_type": "code",
   "execution_count": null,
   "metadata": {},
   "outputs": [],
   "source": []
  },
  {
   "cell_type": "code",
   "execution_count": null,
   "metadata": {},
   "outputs": [],
   "source": []
  },
  {
   "cell_type": "code",
   "execution_count": null,
   "metadata": {},
   "outputs": [],
   "source": []
  },
  {
   "cell_type": "code",
   "execution_count": null,
   "metadata": {},
   "outputs": [],
   "source": [
    "from scipy.stats import t\n",
    "\n",
    "def pearson_coeff_totaldata(feature,target,apply_data,total_data):\n",
    "\n",
    "    feature = feature.astype(np.int32)\n",
    "\n",
    "    x_mean = np.mean(total_data[:,feature])\n",
    "    y_mean = np.mean(total_data[:,target])\n",
    "\n",
    "    print(x_mean,y_mean)\n",
    "    print(apply_data[0][feature])\n",
    "\n",
    "    correlation_sum_numerator = 0\n",
    "    correlation_sum_denominator = 0\n",
    "    for each_data in range(len(apply_data)):\n",
    "\n",
    "        correlation_sum_numerator = correlation_sum_numerator + (apply_data[each_data][feature]-x_mean)*(apply_data[each_data][target]-y_mean)\n",
    "        correlation_sum_denominator = correlation_sum_denominator + ((math.sqrt((apply_data[each_data][feature]-x_mean)**2))*(math.sqrt((apply_data[each_data][target]-y_mean)**2)))\n",
    "    \n",
    "\n",
    "    pearson = correlation_sum_numerator/correlation_sum_denominator\n",
    "    df = len(apply_data[:,target]) - 2\n",
    "\n",
    "    # Calculate t-statistic\n",
    "    t_statistic = pearson * np.sqrt(df / (1 - pearson ** 2))\n",
    "    \n",
    "    # Calculate two-tailed p-value\n",
    "    p_value = 2 * (1 - t.cdf(abs(t_statistic), df))\n",
    "\n",
    "    return pearson, p_value\n",
    "\n"
   ]
  }
 ],
 "metadata": {
  "kernelspec": {
   "display_name": "dlchem",
   "language": "python",
   "name": "python3"
  },
  "language_info": {
   "codemirror_mode": {
    "name": "ipython",
    "version": 3
   },
   "file_extension": ".py",
   "mimetype": "text/x-python",
   "name": "python",
   "nbconvert_exporter": "python",
   "pygments_lexer": "ipython3",
   "version": "3.7.16"
  },
  "orig_nbformat": 4
 },
 "nbformat": 4,
 "nbformat_minor": 2
}
