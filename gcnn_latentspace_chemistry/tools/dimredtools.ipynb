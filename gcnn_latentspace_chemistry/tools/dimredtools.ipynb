{
 "cells": [
  {
   "attachments": {},
   "cell_type": "markdown",
   "metadata": {},
   "source": [
    "Dimension reduction tools (PCA, t-SNE)"
   ]
  },
  {
   "attachments": {},
   "cell_type": "markdown",
   "metadata": {},
   "source": [
    "PCA on dataset"
   ]
  },
  {
   "cell_type": "code",
   "execution_count": null,
   "metadata": {},
   "outputs": [],
   "source": [
    "from utils import utils_dimred\n",
    "import numpy as np\n",
    "\n",
    "'''\n",
    "Uses PCA on data and retains the label of the data, \n",
    "saves ev, cov, eigs along with PCA projection of the data\n",
    "\n",
    "    Args:\n",
    "       QM9EMBS_FILEPATH             - filepath where qm9 embeddings (of the same elements and layer) are found\n",
    "                                      these will be used to provide\n",
    "       REACTPROD_EMBSSTACKED_\n",
    "       FILEPATH                     - the filepath that holds both reactants and products embeddings stacked on top of each other \n",
    "                                      this will be the data which we will apply our pca fit on \n",
    "       SAVE_FILEPATH                - the filepath to save the results of the pca projection on the apply data\n",
    "                                      same place as the apply data but labelled with  'pca.csv'\n",
    "       N_COMPONENTS                 - the number of components\n",
    "       N_FEATURES                   - the number of features\n",
    "       SKIP_HEADER_FULL             - 1/0 boolean to skip header on the fit data if there is one\n",
    "       SKIP_HEADER_APPLY            - 1/0 boolean to skip header on the apply data if there is one\n",
    "       SCALE_DATA                   - boolean to scale data using StandardScalar on the fit data\n",
    "\n",
    "          Process:\n",
    "        utils_dimred.pca            - a tool that runs pca fitting and applying\n",
    "                                      and keeps the label on the data, saves pca filepath\n",
    "                                      eigenvalues, eigenvectors, and covatiance of the pca fit\n",
    "    Returns:\n",
    "        the pca files (pca on the apply data, eig, ev, cov, of the fit)\n",
    "'''\n",
    "\n",
    "FITDATA_FILEPATH = '../Cembslayer6.csv'\n",
    "APPLYDATA_FILEPATH = '../Cembslayer6.csv'\n",
    "\n",
    "#Dimensionality reduction on new file with init and inittransformed\n",
    "N_COMPONENTS = 128\n",
    "N_FEATURES = 128\n",
    "SKIP_HEADER_FULL =  1\n",
    "SKIP_HEADER_APPLY = 1\n",
    "SCALE_DATA = False\n",
    "utils_dimred.pca(FITDATA_FILEPATH,N_COMPONENTS,N_FEATURES,SCALE_DATA,APPLYDATA_FILEPATH,SKIP_HEADER_FULL,SKIP_HEADER_APPLY,APPLYDATA_FILEPATH)\n"
   ]
  },
  {
   "cell_type": "code",
   "execution_count": null,
   "metadata": {},
   "outputs": [],
   "source": []
  },
  {
   "cell_type": "code",
   "execution_count": 1,
   "metadata": {},
   "outputs": [
    {
     "name": "stderr",
     "output_type": "stream",
     "text": [
      "c:\\Users\\aelsamma\\.conda\\envs\\dlchem2\\lib\\site-packages\\sklearn\\manifold\\_t_sne.py:783: FutureWarning: The default initialization in TSNE will change from 'random' to 'pca' in 1.2.\n",
      "  FutureWarning,\n",
      "c:\\Users\\aelsamma\\.conda\\envs\\dlchem2\\lib\\site-packages\\sklearn\\manifold\\_t_sne.py:793: FutureWarning: The default learning rate in TSNE will change from 200.0 to 'auto' in 1.2.\n",
      "  FutureWarning,\n"
     ]
    },
    {
     "name": "stdout",
     "output_type": "stream",
     "text": [
      "../data/embs/aimnet/aefOpcatsne70.csv\n"
     ]
    }
   ],
   "source": [
    "from utils import utils_dimred\n",
    "'''\n",
    "t-SNE dimension reduction on dataset\n",
    "\n",
    "'''\n",
    "#for tsne\n",
    "\n",
    "data_filepath ='../data/embs/aimnet/aefOpca.csv'\n",
    "n_features=256\n",
    "n_data = 13076\n",
    "dimension = 2\n",
    "perp = 70\n",
    "\n",
    "utils_dimred.tsne(data_filepath,dimension,perp,n_features,n_data)\n"
   ]
  },
  {
   "attachments": {},
   "cell_type": "markdown",
   "metadata": {},
   "source": [
    "UMAP"
   ]
  },
  {
   "cell_type": "code",
   "execution_count": null,
   "metadata": {},
   "outputs": [],
   "source": [
    "import umap\n",
    "from numpy import genfromtxt\n",
    "\n",
    "\n",
    "data_filepath = '../data/embs/model1-10000/layer5/Cembs.csv'\n",
    "data = genfromtxt(data_filepath,delimiter=',')\n",
    "save_filepath = 'embsHumap.csv' \n",
    "\n",
    "# Define your UMAP transformer with default parameters\n",
    "umap_transformer = umap.UMAP()\n",
    "\n",
    "# Fit the UMAP transformer to your data\n",
    "umap_transformer.fit(data)\n",
    "\n",
    "# Transform your data using the UMAP transformer\n",
    "X_umap = umap_transformer.transform(data)\n"
   ]
  }
 ],
 "metadata": {
  "kernelspec": {
   "display_name": "dlchem",
   "language": "python",
   "name": "python3"
  },
  "language_info": {
   "codemirror_mode": {
    "name": "ipython",
    "version": 3
   },
   "file_extension": ".py",
   "mimetype": "text/x-python",
   "name": "python",
   "nbconvert_exporter": "python",
   "pygments_lexer": "ipython3",
   "version": "3.7.16"
  },
  "orig_nbformat": 4
 },
 "nbformat": 4,
 "nbformat_minor": 2
}
