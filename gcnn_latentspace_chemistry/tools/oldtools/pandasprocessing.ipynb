{
 "cells": [
  {
   "cell_type": "code",
   "execution_count": 3,
   "metadata": {},
   "outputs": [],
   "source": [
    "import pandas as pd"
   ]
  },
  {
   "cell_type": "code",
   "execution_count": 7,
   "metadata": {},
   "outputs": [],
   "source": [
    "data_filepath = '../data/sn2e2TS/compiled_TS_sn2embs.csv'\n",
    "output_filepath = '../data/sn2e2TS/compiled_TS_sn2embsC.csv'\n",
    "\n",
    "# Read the CSV file\n",
    "df = pd.read_csv(data_filepath)\n",
    "\n",
    "# Filter rows based on the value in the 'Category' column\n",
    "filtered_df = df[(df['atomic_number'] == 6)]\n",
    "\n",
    "# Save the filtered rows to a new CSV file\n",
    "filtered_df.to_csv(output_filepath, index=False)"
   ]
  },
  {
   "cell_type": "markdown",
   "metadata": {},
   "source": [
    "Add heading to a csv file"
   ]
  },
  {
   "cell_type": "code",
   "execution_count": null,
   "metadata": {},
   "outputs": [],
   "source": []
  }
 ],
 "metadata": {
  "kernelspec": {
   "display_name": "dlchem2",
   "language": "python",
   "name": "python3"
  },
  "language_info": {
   "codemirror_mode": {
    "name": "ipython",
    "version": 3
   },
   "file_extension": ".py",
   "mimetype": "text/x-python",
   "name": "python",
   "nbconvert_exporter": "python",
   "pygments_lexer": "ipython3",
   "version": "3.7.16"
  }
 },
 "nbformat": 4,
 "nbformat_minor": 2
}
