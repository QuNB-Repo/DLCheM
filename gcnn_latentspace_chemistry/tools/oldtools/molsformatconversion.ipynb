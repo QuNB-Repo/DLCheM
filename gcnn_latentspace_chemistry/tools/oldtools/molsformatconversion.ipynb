{
 "cells": [
  {
   "cell_type": "markdown",
   "metadata": {},
   "source": [
    "Tools that help with converting between molecular data formats (mol, xyz, SMILES)"
   ]
  },
  {
   "cell_type": "markdown",
   "metadata": {},
   "source": [
    "from xyz to mols (from at, props)"
   ]
  },
  {
   "cell_type": "code",
   "execution_count": null,
   "metadata": {},
   "outputs": [],
   "source": [
    "import os \n",
    "\n",
    "def xyz2mol(props):\n",
    "\n",
    "    atomic_nums = props['_atomic_numbers']\n",
    "    #make xyz block out of molecule for RDKit\n",
    "    xyz_coords = props['_positions']\n",
    "\n",
    "    xyz_string = f\"{len(atomic_nums)}\\n0.000 \\n\"\n",
    "    for i in range(len(atomic_nums)):\n",
    "        xyz_string += f\"{atomic_nums[i]} {xyz_coords[i][0]:.6f} {xyz_coords[i][1]:.6f} {xyz_coords[i][2]:.6f}\\n\"\n",
    "\n",
    "\n",
    "    #open temporary folder to write xyz into\n",
    "\n",
    "    file = open('temp.xyz',mode='w')\n",
    "    file.write(xyz_string)\n",
    "    file.close()\n",
    "\n",
    "    os.system('obabel temp.xyz -O temp.mol')\n",
    "    \n",
    "    \n",
    "    mol_filename = 'temp.mol'\n",
    "    return mol_filename"
   ]
  },
  {
   "cell_type": "markdown",
   "metadata": {},
   "source": [
    "db file to SMILES strings data"
   ]
  },
  {
   "cell_type": "code",
   "execution_count": null,
   "metadata": {},
   "outputs": [],
   "source": [
    "from schnetpack.datasets import QM9\n",
    "from rdkit import Chem\n",
    "\n",
    "db_filepath = '../data/datasets/QM9/qm9.db'\n",
    "molfiles_dir = '../data/datasets/QM9/molfiles/'\n",
    "\n",
    "range_molecules = [0,3500] \n",
    "\n",
    "data = QM9(db_filepath,download=False,remove_uncharacterized=True)\n",
    "\n",
    "smiles_data = []"
   ]
  },
  {
   "cell_type": "code",
   "execution_count": null,
   "metadata": {},
   "outputs": [],
   "source": [
    "\n",
    "molecules_pruned_smilesconversionfailed = [205,212,263,273,333,334,771,773,775,776,834,844,846,913,922,929,932,946,954,1045,1391,1451,1452,1596,1597,1598,1603,1623,3630,3631,3633,3691,3707,3744,3746]\n",
    "for each_molecule in range(range_molecules[0],range_molecules[1]):\n",
    "    if each_molecule not in molecules_pruned_smilesconversionfailed:\n",
    "        print(each_molecule)\n",
    "        at, props = data.get_properties(each_molecule)\n",
    "\n",
    "        mol_filename = xyz2mol(props)\n",
    "\n",
    "        mol = Chem.MolFromMolFile(mol_filename)\n",
    "        smiles = Chem.MolToSmiles(mol)\n",
    "\n",
    "        smiles_data.append([smiles,props['energy_U0'].detach().numpy()[0]])\n",
    "\n",
    "print(smiles_data)\n",
    "\n",
    "    "
   ]
  },
  {
   "cell_type": "code",
   "execution_count": null,
   "metadata": {},
   "outputs": [],
   "source": [
    "import pandas as pd \n",
    "\n",
    "df = pd.DataFrame(smiles_data, columns=['SMILES', 'Energy'])\n",
    "df.to_csv('../data/datasets/QM9/QM9SMILES/first3500-prunedfailedconver.csv',index=False)"
   ]
  },
  {
   "cell_type": "code",
   "execution_count": null,
   "metadata": {},
   "outputs": [],
   "source": []
  },
  {
   "cell_type": "code",
   "execution_count": null,
   "metadata": {},
   "outputs": [],
   "source": []
  },
  {
   "cell_type": "markdown",
   "metadata": {},
   "source": [
    "Smiles to Mol"
   ]
  },
  {
   "cell_type": "code",
   "execution_count": 47,
   "metadata": {},
   "outputs": [],
   "source": [
    "def xyz_element_to_atomicnumbers(xyz):\n",
    "\n",
    "    elements_to_atomicnumb = {'H ': '1',\n",
    "                              'C ': '6',\n",
    "                              'N ': '7',\n",
    "                              'O ': '8',\n",
    "                              'F ': '9',\n",
    "                              'P ': '15',\n",
    "                              'S ': '16',\n",
    "                              'Cl': '17',\n",
    "                              'Br': '35',\n",
    "                              'I ': '53',\n",
    "                              '': '',\n",
    "    }\n",
    "\n",
    "\n",
    "    new_xyz = ''\n",
    "    for line_index, each_line in enumerate(xyz.split('\\n')):\n",
    "        if line_index > 1:\n",
    "            atomic_number = elements_to_atomicnumb[each_line[0:2]]\n",
    "            each_line = each_line.replace(each_line[0:2],atomic_number+' ')\n",
    "\n",
    "        new_xyz = new_xyz + each_line +'\\n'\n",
    "\n",
    "    return new_xyz\n",
    "        \n",
    "\n",
    "        \n",
    "\n"
   ]
  },
  {
   "cell_type": "code",
   "execution_count": 52,
   "metadata": {},
   "outputs": [
    {
     "name": "stdout",
     "output_type": "stream",
     "text": [
      "OC(=O)C1=CC=CC(=C1Cl)Cl\n",
      "15\n",
      "\n",
      "8     -3.102560   -0.096676    0.094099\n",
      "6     -2.050439    0.655546   -0.424991\n",
      "8     -2.317822    1.667906   -1.124418\n",
      "6     -0.640866    0.262966   -0.185215\n",
      "6     -0.310553   -1.103628   -0.168674\n",
      "6      1.007111   -1.514787    0.033580\n",
      "6      2.013940   -0.570136    0.222506\n",
      "6      1.710474    0.794054    0.214165\n",
      "6      0.383625    1.222288    0.011617\n",
      "17      0.020653    2.950479    0.069627\n",
      "17      3.016942    1.945290    0.468858\n",
      "1     -2.944115   -0.885115    0.709473\n",
      "1     -1.068913   -1.858062   -0.336325\n",
      "1      1.249213   -2.569801    0.037907\n",
      "1      3.033309   -0.900325    0.377790\n",
      " \n",
      "\n"
     ]
    }
   ],
   "source": [
    "from rdkit import Chem\n",
    "from rdkit.Chem import AllChem\n",
    "import pandas as pd\n",
    "\n",
    "smiles_filepath = '../Smiles2vec-master/data/IGC50.csv'\n",
    "\n",
    "smiles_igc50 = pd.read_csv(smiles_filepath,delimiter=',')\n",
    "smiles_list = smiles_igc50['smiles']\n",
    "\n",
    "for each_smiles in range(2,3):\n",
    "\n",
    "    # Read MOL file\n",
    "    #mol_file_path = '../../dlchem/temp.mol'\n",
    "    #mol = Chem.MolFromMolFile(mol_file_path)\n",
    "\n",
    "    smiles = smiles_list[each_smiles]\n",
    "    mol = Chem.MolFromSmiles(smiles)\n",
    "\n",
    "    print(smiles)\n",
    "    # Generate 3D coordinates\n",
    "    mol = Chem.AddHs(mol)\n",
    "\n",
    "    AllChem.EmbedMolecule(mol)\n",
    "    AllChem.UFFOptimizeMolecule(mol)\n",
    "\n",
    "    xyz = Chem.MolToXYZBlock(mol)\n",
    "    \n",
    "    xyz = xyz_element_to_atomicnumbers(xyz)\n",
    "    print(xyz)\n",
    "    output_mol_filename = \"../Smiles2vec-master/data/igc50mols/%s.mol\" %(each_smiles)\n",
    "    output_xyz_filename = \"../Smiles2vec-master/data/igc50mols/%s.xyz\" %(each_smiles)\n",
    "    # Write molecule to a .mol file\n",
    "    writer = Chem.rdmolfiles.MolToMolFile(mol, output_mol_filename)  # Replace \"output.mol\" with your desired filename\n",
    "\n",
    "    xyz_file = open(output_xyz_filename,mode='w')\n",
    "    xyz_file.write(xyz)\n",
    "    xyz_file.close()"
   ]
  },
  {
   "cell_type": "code",
   "execution_count": null,
   "metadata": {},
   "outputs": [],
   "source": []
  },
  {
   "cell_type": "markdown",
   "metadata": {},
   "source": []
  },
  {
   "cell_type": "markdown",
   "metadata": {},
   "source": [
    "MOL to XYZ"
   ]
  },
  {
   "cell_type": "code",
   "execution_count": 9,
   "metadata": {},
   "outputs": [],
   "source": [
    "\n"
   ]
  }
 ],
 "metadata": {
  "kernelspec": {
   "display_name": "dlchem2",
   "language": "python",
   "name": "python3"
  },
  "language_info": {
   "codemirror_mode": {
    "name": "ipython",
    "version": 3
   },
   "file_extension": ".py",
   "mimetype": "text/x-python",
   "name": "python",
   "nbconvert_exporter": "python",
   "pygments_lexer": "ipython3",
   "version": "3.7.16"
  }
 },
 "nbformat": 4,
 "nbformat_minor": 2
}
