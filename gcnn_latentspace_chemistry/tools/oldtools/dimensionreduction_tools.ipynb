{
 "cells": [
  {
   "cell_type": "markdown",
   "metadata": {},
   "source": [
    "Dimension Reduction Tools"
   ]
  },
  {
   "cell_type": "markdown",
   "metadata": {},
   "source": [
    "PCA"
   ]
  },
  {
   "cell_type": "code",
   "execution_count": 5,
   "metadata": {},
   "outputs": [],
   "source": [
    "import numpy as np\n",
    "from sklearn.preprocessing import StandardScaler\n",
    "from sklearn.decomposition import  PCA\n",
    "\n",
    "data_filepath = '../data/sn2e2TS/embse2.csv'\n",
    "#data_filepath = '../data/fgtransform/model1/oxidation/optimize/1alcsaldspert3/bothO.csv'\n",
    "save_filepath = '../data/sn2e2TS/embse2.csv'\n",
    "apply_filepath = '../data/sn2e2TS/embse2.csv'\n",
    "\n",
    "#I think they won't be the same you have to apply them at the same time\n",
    "# In a linear space, you can always find a set of basis that is invariant\n",
    "# (still gives the same PCA results in terms of variance of eigenvectors)\n",
    "# I think you must ensure you are applying the same vectors every time not sure\n",
    "\n",
    "n_components = 128\n",
    "n_features = 128\n",
    "n_data =  49066\n",
    "scale_data = False\n",
    "skip_header_full = 1\n",
    "skip_header_apply = 1\n"
   ]
  },
  {
   "cell_type": "code",
   "execution_count": 6,
   "metadata": {},
   "outputs": [],
   "source": [
    "\n",
    "import scipy.linalg as la\n",
    "\n",
    "full_data = np.genfromtxt(data_filepath,delimiter=',',encoding='utf-8-sig',skip_header=skip_header_full)\n",
    "apply_data = np.genfromtxt(apply_filepath,delimiter=',',encoding='utf-8-sig',skip_header=skip_header_apply)\n",
    "\n",
    "x_data = full_data[0:n_data,0:n_features]\n",
    "\n",
    "\n",
    "if scale_data == True:\n",
    "    scaler = StandardScaler()\n",
    "    scaler.fit(x_data)\n",
    "    x_data = scaler.transform(x_data,random_state=100)\n",
    "\n",
    "#perform PCA decomposition of the data\n",
    "pca = PCA(random_state=100,n_components=n_components)\n",
    "pca.fit(x_data)\n",
    "\n",
    "\n",
    "x_pca = pca.transform(apply_data[:,0:n_features])\n",
    "\n",
    "cov = pca.get_covariance()\n",
    "eig, ev = la.eig(cov)\n",
    "total = sum(eig.real)\n",
    "evt=np.transpose(ev)\n",
    "unit=np.matmul(ev,evt)\n",
    "\n"
   ]
  },
  {
   "cell_type": "code",
   "execution_count": 7,
   "metadata": {},
   "outputs": [],
   "source": [
    "#add columns after n_features \n",
    "x_pca = np.hstack((x_pca,apply_data[:n_data,n_features:]))\n",
    "\n",
    "eig = np.column_stack((np.arange(0,n_features,1),np.log(eig),eig))\n",
    "\n",
    "save_filepathpca = save_filepath.replace('.csv','pca.csv')\n",
    "np.savetxt(save_filepathpca, x_pca, delimiter=',')\n",
    "\n",
    "\n",
    "save_filepatheig = save_filepath.replace('.csv','eig.csv')\n",
    "eig=eig.real\n",
    "np.savetxt(save_filepatheig, eig, delimiter=',')\n",
    "\n",
    "\n",
    "save_filepatheig = save_filepath.replace('.csv','ev.csv')\n",
    "ev=ev.real\n",
    "np.savetxt(save_filepatheig, ev, delimiter=',')\n",
    "\n",
    "save_filepathcov = save_filepath.replace('.csv','cov.csv')\n",
    "cov=cov.real\n",
    "np.savetxt(save_filepathcov, cov, delimiter=',')\n"
   ]
  },
  {
   "cell_type": "code",
   "execution_count": null,
   "metadata": {},
   "outputs": [],
   "source": [
    "\n"
   ]
  },
  {
   "cell_type": "code",
   "execution_count": null,
   "metadata": {},
   "outputs": [],
   "source": []
  }
 ],
 "metadata": {
  "kernelspec": {
   "display_name": "dlchem2",
   "language": "python",
   "name": "python3"
  },
  "language_info": {
   "codemirror_mode": {
    "name": "ipython",
    "version": 3
   },
   "file_extension": ".py",
   "mimetype": "text/x-python",
   "name": "python",
   "nbconvert_exporter": "python",
   "pygments_lexer": "ipython3",
   "version": "3.7.16"
  }
 },
 "nbformat": 4,
 "nbformat_minor": 2
}
