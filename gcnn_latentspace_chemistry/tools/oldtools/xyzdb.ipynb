{
 "cells": [
  {
   "cell_type": "markdown",
   "metadata": {},
   "source": [
    "Extract xyz data from db file"
   ]
  },
  {
   "cell_type": "code",
   "execution_count": 5,
   "metadata": {},
   "outputs": [],
   "source": [
    "from schnetpack.datasets import QM9, AtomsData\n",
    "\n",
    "db_filepath = '../data/datasets/QM9/qm9.db'\n",
    "#Which molecule index to print? \n",
    "#ex idx = 32 is O16 from euc_dist analysis! \n",
    "idx = 32\n",
    "#If you are using QM9\n",
    "qm9 = True\n",
    "#If not using QM9, need to specify the db's properties\n",
    "available_properties = ['NA']"
   ]
  },
  {
   "cell_type": "code",
   "execution_count": 6,
   "metadata": {},
   "outputs": [
    {
     "name": "stdout",
     "output_type": "stream",
     "text": [
      "8\n",
      "0.0000\n",
      "O 0.8357715 1.3373044 -0.00080194796\n",
      "C 0.8575883 -0.084277265 -0.008656541\n",
      "C -0.5077634 -0.5948881 0.0016466676\n",
      "C -1.623125 -1.0397791 0.009920608\n",
      "H 1.7503725 1.6372886 -0.007630262\n",
      "H 1.3756938 -0.4718312 -0.90070695\n",
      "H 1.392608 -0.48135367 0.86910504\n",
      "H -2.6118317 -1.4274471 0.017277308\n"
     ]
    }
   ],
   "source": [
    "#Define data_type\n",
    "data_type = QM9 if qm9 else AtomsData\n",
    "\n",
    "#Get all the QM9 data\n",
    "data = data_type(db_filepath, download=False, remove_uncharacterized=qm9)\n",
    "\n",
    "#Get target molecule's properties\n",
    "at, props = data.get_properties(idx)\n",
    "props['_positions'] = props['_positions'].detach().numpy()\n",
    "props['_atomic_numbers'] = props['_atomic_numbers'].detach().numpy()\n",
    "\n",
    "#Element symbols dictionary\n",
    "element_symbols = {1: 'H', 6: 'C', 7: 'N', 8: 'O', 9: 'F'}\n",
    "\n",
    "#For each atomic number print xyz\n",
    "print(len(props['_positions']))\n",
    "print('0.0000')\n",
    "for k, atomic_number in enumerate(props['_atomic_numbers']):\n",
    "    if atomic_number in element_symbols:\n",
    "        symbol = element_symbols[atomic_number]\n",
    "        coordinates = ' '.join(map(str, props['_positions'][k]))\n",
    "        print(f'{symbol} {coordinates}')\n"
   ]
  }
 ],
 "metadata": {
  "kernelspec": {
   "display_name": "dlchem",
   "language": "python",
   "name": "python3"
  },
  "language_info": {
   "codemirror_mode": {
    "name": "ipython",
    "version": 3
   },
   "file_extension": ".py",
   "mimetype": "text/x-python",
   "name": "python",
   "nbconvert_exporter": "python",
   "pygments_lexer": "ipython3",
   "version": "3.7.16"
  }
 },
 "nbformat": 4,
 "nbformat_minor": 2
}
