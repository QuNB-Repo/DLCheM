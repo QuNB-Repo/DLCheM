{
 "cells": [
  {
   "attachments": {},
   "cell_type": "markdown",
   "metadata": {},
   "source": [
    "TCAV tools for interpreting neural nets: LDA classification, neural net classificaiton"
   ]
  },
  {
   "attachments": {},
   "cell_type": "markdown",
   "metadata": {},
   "source": [
    "Run LDA fit and view fit results (accuracy, accuracy per class, prob matrix...)"
   ]
  },
  {
   "cell_type": "code",
   "execution_count": 1,
   "metadata": {},
   "outputs": [],
   "source": [
    "from utils import utils_tcav, utils_tcav2\n",
    "\n",
    "\n",
    "#load data file\n",
    "#FOR THE ARTICLE USE THIS!!! :\n",
    "#data_filepath = '../data/lda-oldldalabel/model1-10000qm9/embs.csv'\n",
    "data_filepath = '../data/embs/'\n",
    "#define columns of data that contain X, and column that is y\n",
    "x_cols = [0,128]\n",
    "y_col = 134\n",
    "\n",
    "#number of class labels in data\n",
    "n_class = 20\n",
    "\n",
    "#fraction of data to be used in testing\n",
    "test_fraction = 0.3\n",
    "\n",
    "#additional testing filepath\n",
    "X_test_filepath = '../data/lda-oldldalabel/model1-10000qm9/embs.csv'\n",
    "\n",
    "#method\n",
    "#method = 'lda'\n",
    "get_probmat = False\n",
    "\n",
    "LDA = utils_tcav.LDAwrapper(data_filepath,x_cols,y_col,n_class,test_fraction)\n",
    "\n",
    "\n"
   ]
  },
  {
   "cell_type": "code",
   "execution_count": 2,
   "metadata": {},
   "outputs": [
    {
     "name": "stdout",
     "output_type": "stream",
     "text": [
      "0.99974509304104\n"
     ]
    }
   ],
   "source": [
    "accuracy, predicted_classes = LDA.FitResults()\n",
    "\n",
    "print(accuracy)\n",
    "#savetxt('../temp/ldaroot/coefs.csv',coef_,delimiter=',')\n",
    "#savetxt('../temp/ldaroot/inters.csv',intercept_,delimiter=',')\n",
    "#savetxt('../temp/ldaroot/covariance.csv',covariance_,delimiter=',')\n"
   ]
  },
  {
   "cell_type": "code",
   "execution_count": null,
   "metadata": {},
   "outputs": [],
   "source": [
    "print(predicted_classes)\n"
   ]
  },
  {
   "cell_type": "code",
   "execution_count": null,
   "metadata": {},
   "outputs": [],
   "source": [
    "import numpy as np\n",
    "from numpy import savetxt\n",
    "\n",
    "savetxt('../data/lda-oldldalabel/model1-10000qm9/confusionmatrix.csv',probability_matrix,delimiter=',')"
   ]
  },
  {
   "attachments": {},
   "cell_type": "markdown",
   "metadata": {},
   "source": [
    "Test LDA fit with extra data"
   ]
  },
  {
   "cell_type": "code",
   "execution_count": 5,
   "metadata": {},
   "outputs": [],
   "source": [
    "test_filepath = '../data/fgtransform/model1/oxidation/1alcsoxpert3/rxns/timestep200-scale0.005/1000scan/rxn/Oembsrxn.csv'\n",
    "predicted_classes  = LDA.TestResults(test_filepath)"
   ]
  },
  {
   "cell_type": "code",
   "execution_count": 7,
   "metadata": {},
   "outputs": [
    {
     "name": "stdout",
     "output_type": "stream",
     "text": [
      "[2. 2. 2. ... 7. 7. 7.]\n"
     ]
    }
   ],
   "source": [
    "from numpy import savetxt\n",
    "\n",
    "print(predicted_classes)\n",
    "\n",
    "savetxt('../data/fgtransform/model1/oxidation/1alcsoxpert3/rxns/timestep200-scale0.005/1000scan/rxn/predicted_classesqm9.csv',predicted_classes,delimiter=',')\n"
   ]
  },
  {
   "cell_type": "code",
   "execution_count": null,
   "metadata": {},
   "outputs": [],
   "source": [
    "print(accuracy)\n",
    "print(accuracy_perclass)"
   ]
  },
  {
   "cell_type": "code",
   "execution_count": null,
   "metadata": {},
   "outputs": [],
   "source": [
    "\n",
    "rootpoint_filepath = '../temp/ldaroot/rootpoints.csv'\n",
    "\n",
    "LDA.RootPointStudy(rootpoint_filepath)"
   ]
  },
  {
   "attachments": {},
   "cell_type": "markdown",
   "metadata": {},
   "source": [
    "Find out how many classes there are in the y file"
   ]
  },
  {
   "cell_type": "code",
   "execution_count": null,
   "metadata": {},
   "outputs": [],
   "source": [
    "import numpy as np\n",
    "from numpy import genfromtxt\n",
    "\n",
    "file = '../data/embs/model2/rep3/O/qm9-all/labelslda.csv'\n",
    "\n",
    "\n",
    "data = genfromtxt(file,delimiter=',',encoding='utf-8-sig')\n",
    "\n",
    "\n",
    "max = np.max(data[:,0])\n",
    "dim = max+1\n",
    "print(dim)"
   ]
  },
  {
   "attachments": {},
   "cell_type": "markdown",
   "metadata": {},
   "source": [
    "Support vector machine "
   ]
  },
  {
   "cell_type": "code",
   "execution_count": null,
   "metadata": {},
   "outputs": [],
   "source": [
    "from utils import utils_tcav, utils_tcav2\n",
    "\n",
    "#load data file\n",
    "data_filepath = '../data/lda-oldldalabel/model1-10000qm9/embs.csv'\n",
    "#define columns of data that contain X, and column that is y\n",
    "x_cols = [0,134]\n",
    "y_col = 134\n",
    "\n",
    "#number of class labels in data\n",
    "n_class = 20\n",
    "\n",
    "#fraction of data to be used in testing\n",
    "test_fraction = 0.3\n",
    "\n",
    "#additional testing filepath\n",
    "X_test_filepath = None\n",
    "\n",
    "#method\n",
    "method = 'svm'\n",
    "\n",
    "SVM = utils_tcav2.LDASVMwrapper(data_filepath,x_cols,y_col,n_class,test_fraction,method)\n",
    "\n",
    "accuracy, accuracy_perclass, probability_matrix = SVM.FitResults()\n",
    "print(accuracy_perclass)\n",
    "print(1-accuracy)\n",
    "\n",
    "#savetxt('../temp/ldaroot/coefs.csv',coef_,delimiter=',')\n",
    "#savetxt('../temp/ldaroot/inters.csv',intercept_,delimiter=',')\n",
    "#savetxt('../temp/ldaroot/covariance.csv',covariance_,delimiter=',')\n"
   ]
  }
 ],
 "metadata": {
  "kernelspec": {
   "display_name": "Python 3.7.13 ('embs')",
   "language": "python",
   "name": "python3"
  },
  "language_info": {
   "codemirror_mode": {
    "name": "ipython",
    "version": 3
   },
   "file_extension": ".py",
   "mimetype": "text/x-python",
   "name": "python",
   "nbconvert_exporter": "python",
   "pygments_lexer": "ipython3",
   "version": "3.7.16"
  },
  "orig_nbformat": 4,
  "vscode": {
   "interpreter": {
    "hash": "3e527e0fb9cd72c404b77fc0eaab204e19d8957c418c0845e3410ddf58030085"
   }
  }
 },
 "nbformat": 4,
 "nbformat_minor": 2
}
