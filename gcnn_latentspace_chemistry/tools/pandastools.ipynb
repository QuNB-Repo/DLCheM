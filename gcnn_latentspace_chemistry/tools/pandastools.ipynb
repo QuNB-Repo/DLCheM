{
 "cells": [
  {
   "cell_type": "code",
   "execution_count": null,
   "metadata": {},
   "outputs": [],
   "source": [
    "'''\n",
    "Tools to work with csv files using pandas, specifically for processing embs files\n",
    "\n",
    "'''\n",
    "\n",
    "\n",
    "\n",
    "import pandas as pd\n",
    "from utils import utils_pandastools\n",
    "\n",
    "#ORRRRRR!!!!!!\n",
    "#ORRRRRR\n",
    "#####!!!! NOT AND\n",
    "data_filepath = '../data/embs/model1-10000/embs.csv'\n",
    "output_filepath = '../data/embs/model1-10000/Fembs.csv'\n",
    "element1 = 9\n",
    "element2 = 5\n",
    "column1 = 'atomic_number'\n",
    "column2 = 'layer'\n",
    "\n",
    "utils_pandastools.filter_file_two_categories_AND(data_filepath,element1,element2,output_filepath,column1,column2)\n"
   ]
  },
  {
   "cell_type": "code",
   "execution_count": 2,
   "metadata": {},
   "outputs": [],
   "source": [
    "\n",
    "import pandas as pd\n",
    "from utils import utils_pandastools\n",
    "\n",
    "data_filepath = '../data/embs/old/model1-10000/layer6/embslayer6-withcarbacid.csv'\n",
    "output_filepath = '../data/embs/old/model1-10000/layer6/Oembslayer6-withcarbacid.csv'\n",
    "element = 8\n",
    "column = 'atomic_number'\n",
    "\n",
    "utils_pandastools.filter_file_one_category(data_filepath,element,output_filepath,column)\n"
   ]
  },
  {
   "cell_type": "markdown",
   "metadata": {},
   "source": [
    "add two datafiles (ex. emb_1 + v_1 to make the next emb_2)"
   ]
  },
  {
   "cell_type": "code",
   "execution_count": null,
   "metadata": {},
   "outputs": [],
   "source": [
    "import pandas as pd\n",
    "import numpy as np\n",
    "\n",
    "data1_filepath = '../data/embs/model1-10000/layer5/embslayer4.csv'\n",
    "data2_filepath = '../data/embs/model1-10000/layer5/vlayer4.csv'\n",
    "\n",
    "data1 = pd.read_csv(data1_filepath)\n",
    "data2 = pd.read_csv(data2_filepath)\n",
    "\n",
    "print(data1.values)\n",
    "\n",
    "data = data1.values[:,0:128] + data2.values[:,0:128]\n",
    "\n",
    "data = np.hstack((data,data1.values[:,128:]))\n",
    "\n",
    "print(data[:,:-1])\n",
    "\n",
    "np.savetxt('../data/embs/model1-10000/layer5/embslayer5_addedfromprevlayer.csv',data[:,:-1],delimiter=',')\n",
    "\n",
    "\n"
   ]
  },
  {
   "cell_type": "code",
   "execution_count": null,
   "metadata": {},
   "outputs": [],
   "source": []
  },
  {
   "cell_type": "code",
   "execution_count": null,
   "metadata": {},
   "outputs": [],
   "source": []
  },
  {
   "cell_type": "code",
   "execution_count": null,
   "metadata": {},
   "outputs": [],
   "source": []
  }
 ],
 "metadata": {
  "kernelspec": {
   "display_name": "dlchem",
   "language": "python",
   "name": "python3"
  },
  "language_info": {
   "codemirror_mode": {
    "name": "ipython",
    "version": 3
   },
   "file_extension": ".py",
   "mimetype": "text/x-python",
   "name": "python",
   "nbconvert_exporter": "python",
   "pygments_lexer": "ipython3",
   "version": "3.7.16"
  },
  "orig_nbformat": 4
 },
 "nbformat": 4,
 "nbformat_minor": 2
}
