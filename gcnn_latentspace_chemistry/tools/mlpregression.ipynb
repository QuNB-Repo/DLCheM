{
 "cells": [
  {
   "cell_type": "markdown",
   "metadata": {},
   "source": [
    "MLP Tool"
   ]
  },
  {
   "cell_type": "code",
   "execution_count": 1,
   "metadata": {},
   "outputs": [
    {
     "name": "stderr",
     "output_type": "stream",
     "text": [
      "c:\\Users\\aelsamma\\Anaconda3\\envs\\dlchem6\\lib\\site-packages\\sklearn\\neural_network\\_multilayer_perceptron.py:1599: DataConversionWarning: A column-vector y was passed when a 1d array was expected. Please change the shape of y to (n_samples, ), for example using ravel().\n",
      "  y = column_or_1d(y, warn=True)\n"
     ]
    },
    {
     "name": "stdout",
     "output_type": "stream",
     "text": [
      "Mean Square-root Error: 1.4925829589642705\n",
      "0.819563985498875\n"
     ]
    },
    {
     "name": "stderr",
     "output_type": "stream",
     "text": [
      "c:\\Users\\aelsamma\\Anaconda3\\envs\\dlchem6\\lib\\site-packages\\sklearn\\neural_network\\_multilayer_perceptron.py:696: ConvergenceWarning: Stochastic Optimizer: Maximum iterations (200) reached and the optimization hasn't converged yet.\n",
      "  ConvergenceWarning,\n"
     ]
    }
   ],
   "source": [
    "from sklearn.neural_network import MLPRegressor\n",
    "from sklearn.model_selection import train_test_split\n",
    "from sklearn.metrics import mean_squared_error, r2_score\n",
    "from sklearn.preprocessing import StandardScaler\n",
    "\n",
    "from numpy import genfromtxt\n",
    "\n",
    "# Load data into a Pandas DataFrame\n",
    "x_data = genfromtxt('../data/embs/embspKA-stef/1layerNN-1L1NLbias258/601Oembs.csv',delimiter=',',encoding='utf-8-sig',skip_header=1)\n",
    "\n",
    "# Split data into X and y\n",
    "X = x_data[:,0:128]\n",
    "#128 --> pka, NMR \n",
    "#138 onwards --> electron density \n",
    "y = x_data[:,128]\n",
    "\n",
    "label = x_data[:,129:133]\n",
    "\n",
    "#label to split as well\n",
    "# Assuming your dataset is stored in X and y\n",
    "# X should contain the first 128 features, and y should contain the corresponding target values\n",
    "\n",
    "# Split the dataset into training and testing sets\n",
    "X_train, X_test, y_train, y_test, label_train, label_test = train_test_split(X, y, label, test_size=0.2, random_state=50)\n",
    "\n",
    "use_train_for_test = False \n",
    "\n",
    "\n",
    "# Standardize the data\n",
    "scaler_X = StandardScaler()\n",
    "scaler_y = StandardScaler()\n",
    "\n",
    "X_train_scaled = scaler_X.fit_transform(X_train)\n",
    "X_test_scaled = scaler_X.transform(X_test)\n",
    "\n",
    "y_train_scaled = scaler_y.fit_transform(y_train.reshape(-1, 1))\n",
    "y_test_scaled = scaler_y.transform(y_test.reshape(-1, 1))\n",
    "\n",
    "# Create an MLPRegressor model\n",
    "model = MLPRegressor(hidden_layer_sizes=(200,200), activation='logistic', random_state=42)\n",
    "\n",
    "# Train the model\n",
    "model.fit(X_train_scaled, y_train_scaled)\n",
    "\n",
    "\n",
    "if use_train_for_test == True:\n",
    "    # Make predictions\n",
    "    predictions_scaled = model.predict(X_train_scaled)\n",
    "    predictions = scaler_y.inverse_transform(predictions_scaled)\n",
    "\n",
    "    # Evaluate the model\n",
    "    mse = mean_squared_error(y_train, predictions)\n",
    "    r2 = r2_score(y_train, predictions)\n",
    "else:\n",
    "    # Make predictions\n",
    "    predictions_scaled = model.predict(X_test_scaled)\n",
    "    predictions = scaler_y.inverse_transform(predictions_scaled.reshape(-1, 1))\n",
    "\n",
    "    # Evaluate the model\n",
    "    mse = mean_squared_error(y_test, predictions)\n",
    "    r2 = r2_score(y_test, predictions)\n",
    "\n",
    "import math\n",
    "print(\"Mean Square-root Error:\", math.sqrt(mse))\n",
    "print(r2)"
   ]
  },
  {
   "cell_type": "markdown",
   "metadata": {},
   "source": [
    "Test the ones from 5000-6000 "
   ]
  },
  {
   "cell_type": "code",
   "execution_count": 21,
   "metadata": {},
   "outputs": [
    {
     "name": "stdout",
     "output_type": "stream",
     "text": [
      "[[ 6.73119770e-01 -9.51074620e-01  7.91478950e-01 ...  5.00000000e+00\n",
      "  -2.04606960e+03             nan]\n",
      " [-5.69457640e-01  1.96116492e-01  1.64892563e+00 ...  5.00000000e+00\n",
      "  -2.04749130e+03             nan]\n",
      " [-1.32256100e-02 -3.45614160e-01  6.69564300e-01 ...  5.00000000e+00\n",
      "  -2.04654080e+03             nan]\n",
      " ...\n",
      " [-6.57988785e-01 -1.54054826e-01  2.38495001e+00 ...  5.00000000e+00\n",
      "  -2.04825590e+03             nan]\n",
      " [ 1.14769748e+00 -3.87425200e-02  1.13655392e+00 ...  5.00000000e+00\n",
      "  -2.04804270e+03             nan]\n",
      " [ 2.69633990e-02  1.01960132e+00  1.01233864e+00 ...  5.00000000e+00\n",
      "  -2.04791310e+03             nan]]\n"
     ]
    }
   ],
   "source": [
    "test_data = genfromtxt('../data/embs/old/model1-10000/layer6/Oembslayer6-withcarbacid.csv',delimiter=',',encoding='utf-8-sig',skip_header=1)\n",
    "\n",
    "print(test_data)\n",
    "# Split data into X and y\n",
    "#FOR CARBON 5000-6000\n",
    "#X_test = test_data[23769:29442,0:128]\n",
    "#y_test = test_data[23769:29442,137]\n",
    "\n",
    "#FOR HYDRO 5000-6000\n",
    "#NOTE the last H in this set is the carb acid triply fluorinated! \n",
    "X_test = test_data[5871:7004,0:128]\n",
    "#y_test = test_data[36244:44601,137]\n",
    "\n",
    "#FOR Oxy 5000-6000\n",
    "#NOTE the last H in this set is the carb acid triply fluorinated! \n",
    "predictions_scaled = model.predict(X_test)\n",
    "predictions = scaler_y.inverse_transform(predictions_scaled.reshape(-1, 1))\n",
    "\n",
    "\n",
    "#FOR NMR\n",
    "\n",
    "y_test = predictions"
   ]
  },
  {
   "cell_type": "code",
   "execution_count": 33,
   "metadata": {},
   "outputs": [
    {
     "name": "stdout",
     "output_type": "stream",
     "text": [
      "1133\n",
      "1133\n"
     ]
    }
   ],
   "source": [
    "print(len(y_test))\n",
    "\n",
    "import numpy as np\n",
    "\n",
    "testfile_path = '../carbacidd1-p2.csv'\n",
    "pert_test_data = genfromtxt(testfile_path,delimiter=',',encoding='utf-8-sig',skip_header=0)\n",
    "O_test_data = pert_test_data[pert_test_data[:,129] == 8]\n",
    "\n",
    "print(len(O_test_data))"
   ]
  },
  {
   "cell_type": "code",
   "execution_count": 34,
   "metadata": {},
   "outputs": [
    {
     "name": "stdout",
     "output_type": "stream",
     "text": [
      "Mean Square-root Error: 1.3932548787099177\n",
      "0.913173752657863\n"
     ]
    }
   ],
   "source": [
    "import numpy as np\n",
    "\n",
    "\n",
    "# Split data into X and y\n",
    "X_test = O_test_data[:,0:128]\n",
    "#128 --> pka, NMR \n",
    "#138 onwards --> electron density \n",
    "\n",
    "predictions_scaled = model.predict(X_test)\n",
    "predictions = scaler_y.inverse_transform(predictions_scaled.reshape(-1, 1))\n",
    "\n",
    "# Evaluate the model\n",
    "mse = mean_squared_error(y_test.reshape(-1,1), predictions)\n",
    "r2 = r2_score(y_test, predictions)\n",
    "\n",
    "import math\n",
    "print(\"Mean Square-root Error:\", math.sqrt(mse))\n",
    "print(r2)\n",
    "\n",
    "pred_vs_true = np.hstack((predictions,y_test.reshape(-1,1)))\n"
   ]
  },
  {
   "cell_type": "code",
   "execution_count": 35,
   "metadata": {},
   "outputs": [
    {
     "name": "stdout",
     "output_type": "stream",
     "text": [
      "[2.78975962]\n"
     ]
    }
   ],
   "source": [
    "#Carb acid H, eV\n",
    "print(predictions[-2])"
   ]
  },
  {
   "cell_type": "code",
   "execution_count": 13,
   "metadata": {},
   "outputs": [],
   "source": [
    "import numpy as np\n",
    "np.savetxt('../data/perturbation/targetall-useavg-subavg/qm9-5000-6000-all/mlp/Haewcarbacid/d1-p1-predvstru.csv',pred_vs_true,delimiter=',')"
   ]
  },
  {
   "cell_type": "code",
   "execution_count": null,
   "metadata": {},
   "outputs": [],
   "source": [
    "Carbacid ae over perts\n",
    "\n",
    "1 --> -16.84337022\n",
    "2 --> -16.84757487\n",
    "3 --> -16.92961348\n",
    "4 --> -16.91248546"
   ]
  },
  {
   "cell_type": "code",
   "execution_count": null,
   "metadata": {},
   "outputs": [],
   "source": []
  },
  {
   "cell_type": "code",
   "execution_count": null,
   "metadata": {},
   "outputs": [],
   "source": [
    "import numpy as np\n",
    "\n",
    "print(np.shape(label_train))\n",
    "print(np.shape(predictions))\n",
    "\n",
    "print(predictions)\n",
    "\n",
    "for i in range(np.shape(predictions)[1]):\n",
    "\n",
    "    if use_train_for_test == True: \n",
    "        save_predictions = np.column_stack((predictions[:,i],y_train[:,i],label_train))\n",
    "    elif use_train_for_test == False: \n",
    "        save_predictions = np.column_stack((predictions[:,i],y_test[:,i],label_test))\n",
    "        \n",
    "    save_pred_filepath = '../data/embs/embsdensity-ince/mlptestpredictions%s.csv'  %(str(i)) \n",
    "    np.savetxt(save_pred_filepath,save_predictions,delimiter=',')\n"
   ]
  },
  {
   "cell_type": "markdown",
   "metadata": {},
   "source": []
  },
  {
   "cell_type": "code",
   "execution_count": null,
   "metadata": {},
   "outputs": [],
   "source": [
    "import numpy as np\n",
    "\n",
    "save_pred_filepath = '../data/embs/embsdensity-ince/mlptestpredictions300-300-300relu.csv'\n",
    "\n",
    "predictions = np.column_stack((y_pred,y_test,label_test))\n",
    "\n",
    "np.savetxt(save_pred_filepath,predictions,delimiter=',')"
   ]
  },
  {
   "cell_type": "code",
   "execution_count": null,
   "metadata": {},
   "outputs": [],
   "source": []
  }
 ],
 "metadata": {
  "kernelspec": {
   "display_name": "dlchem",
   "language": "python",
   "name": "python3"
  },
  "language_info": {
   "codemirror_mode": {
    "name": "ipython",
    "version": 3
   },
   "file_extension": ".py",
   "mimetype": "text/x-python",
   "name": "python",
   "nbconvert_exporter": "python",
   "pygments_lexer": "ipython3",
   "version": "3.7.16"
  },
  "orig_nbformat": 4
 },
 "nbformat": 4,
 "nbformat_minor": 2
}
