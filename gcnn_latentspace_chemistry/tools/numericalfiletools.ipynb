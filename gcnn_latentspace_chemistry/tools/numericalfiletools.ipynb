{
 "cells": [
  {
   "attachments": {},
   "cell_type": "markdown",
   "metadata": {},
   "source": [
    "Numpy tools and postprocessing (stack numerical files, remove last column, remove last row... )"
   ]
  },
  {
   "attachments": {},
   "cell_type": "markdown",
   "metadata": {},
   "source": [
    "Vstack two files"
   ]
  },
  {
   "cell_type": "code",
   "execution_count": null,
   "metadata": {},
   "outputs": [],
   "source": [
    "\n",
    "from utils import utils_numericalfiletools\n",
    "\n",
    "filepath1 = '../extractembeddings/data/O/model2/qm9-all/rep3u0.csv'\n",
    "filepath2 = '../strchnalcs.csv'\n",
    "save_filepath = '../rep3u0strchnalcs.csv'\n",
    "n_data = 350\n",
    "single_dim = False\n",
    "\n",
    "utils_numericalfiletools.vstacktwofiles(filepath1,filepath2,n_data,single_dim,save_filepath)"
   ]
  },
  {
   "attachments": {},
   "cell_type": "markdown",
   "metadata": {},
   "source": [
    "Hstack two files"
   ]
  },
  {
   "cell_type": "code",
   "execution_count": 4,
   "metadata": {},
   "outputs": [],
   "source": [
    "from utils import utils_numericalfiletools\n",
    "\n",
    "filepath1 = '../temp/articleplots/embs/emb/O/embstsne50.csv'\n",
    "filepath2 = '../temp/articleplots/labels/O10000gnulabel.csv'\n",
    "single_dim = False\n",
    "save_filepath = '../temp/articleplots/tsne/tsne.csv'\n",
    "\n",
    "utils_numericalfiletools.hstacktwofiles(filepath1,filepath2,single_dim,save_filepath)"
   ]
  },
  {
   "attachments": {},
   "cell_type": "markdown",
   "metadata": {},
   "source": [
    "Remove last column"
   ]
  },
  {
   "cell_type": "code",
   "execution_count": 2,
   "metadata": {},
   "outputs": [],
   "source": [
    "from utils import utils_numericalfiletools\n",
    "\n",
    "filepath = '../temp/emb/O/embs.csv'\n",
    "\n",
    "utils_numericalfiletools.removelastcol(filepath)"
   ]
  },
  {
   "attachments": {},
   "cell_type": "markdown",
   "metadata": {},
   "source": [
    "Divide dataset in half (for training and testing on LDA)"
   ]
  },
  {
   "cell_type": "code",
   "execution_count": null,
   "metadata": {},
   "outputs": [],
   "source": [
    "from utils import utils_numericalfiletools\n",
    "\n",
    "dataset_filepath = '../temp/statistical/model5-7allrep3embs/O.csv'\n",
    "save_filepath = '../temp/statistical/lda/7O'\n",
    "\n",
    "utils_numericalfiletools.split_2(dataset_filepath,save_filepath)"
   ]
  },
  {
   "attachments": {},
   "cell_type": "markdown",
   "metadata": {},
   "source": [
    "Add two files (component by component)"
   ]
  },
  {
   "cell_type": "code",
   "execution_count": 7,
   "metadata": {},
   "outputs": [],
   "source": [
    "from utils import utils_numericalfiletools \n",
    "\n",
    "dataset1_filepath = '../data/embs/model1-10000/layer5/Oembs/embs.csv'\n",
    "dataset2_filepath = '../data/embs/model1-10000/layer5/Ov/v.csv'\n",
    "\n",
    "features = [0,128]\n",
    "\n",
    "save_filepath = '../data/embs/model1-10000/layer6/Oembs/embs.csv'\n",
    "\n",
    "utils_numericalfiletools.addtwofiles(dataset1_filepath,dataset2_filepath,features,save_filepath)"
   ]
  },
  {
   "cell_type": "code",
   "execution_count": null,
   "metadata": {},
   "outputs": [],
   "source": []
  },
  {
   "cell_type": "code",
   "execution_count": null,
   "metadata": {},
   "outputs": [],
   "source": [
    "\n"
   ]
  },
  {
   "cell_type": "code",
   "execution_count": null,
   "metadata": {},
   "outputs": [],
   "source": []
  },
  {
   "cell_type": "code",
   "execution_count": null,
   "metadata": {},
   "outputs": [],
   "source": []
  }
 ],
 "metadata": {
  "kernelspec": {
   "display_name": "dlchem",
   "language": "python",
   "name": "python3"
  },
  "language_info": {
   "codemirror_mode": {
    "name": "ipython",
    "version": 3
   },
   "file_extension": ".py",
   "mimetype": "text/x-python",
   "name": "python",
   "nbconvert_exporter": "python",
   "pygments_lexer": "ipython3",
   "version": "3.7.16"
  },
  "orig_nbformat": 4,
  "vscode": {
   "interpreter": {
    "hash": "ad367a3a7fabd35813922d60e62f1b034d8722685e652937c49bb38d6efd6790"
   }
  }
 },
 "nbformat": 4,
 "nbformat_minor": 2
}
