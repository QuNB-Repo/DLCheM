{
 "cells": [
  {
   "attachments": {},
   "cell_type": "markdown",
   "metadata": {},
   "source": [
    "Tools associated with xyz and database (db) files, reading, writing, counting molecules, ... etc"
   ]
  },
  {
   "cell_type": "code",
   "execution_count": null,
   "metadata": {},
   "outputs": [],
   "source": [
    "import numpy as np\n",
    "\n",
    "from numpy import savetxt, genfromtxt\n",
    "\n",
    "from utils import utils_xyzdbmol\n"
   ]
  },
  {
   "attachments": {},
   "cell_type": "markdown",
   "metadata": {},
   "source": [
    "bunch xyz files into one file"
   ]
  },
  {
   "cell_type": "code",
   "execution_count": null,
   "metadata": {},
   "outputs": [],
   "source": [
    "from utils import utils_xyzdb\n",
    "\n",
    "xyz_folder_dir = '../temp/nmr/'\n",
    "big_xyzfilename = '../temp/nmr/all.xyz'\n",
    "\n",
    "utils_xyzdb.bunch_xyz(xyz_folder_dir,big_xyzfilename)"
   ]
  },
  {
   "attachments": {},
   "cell_type": "markdown",
   "metadata": {},
   "source": [
    "Generate db file from xyz file"
   ]
  },
  {
   "cell_type": "code",
   "execution_count": 2,
   "metadata": {},
   "outputs": [
    {
     "name": "stdout",
     "output_type": "stream",
     "text": [
      "dict_keys(['0.0000'])\n",
      "[array([0.], dtype=float32)]\n",
      "Properties: [{'energy': array([0.], dtype=float32)}]\n"
     ]
    }
   ],
   "source": [
    "from utils import utils_xyzdbmol\n",
    "\n",
    "dataset_filepath = \"../carbacid.xyz\"\n",
    "available_properties = ['energy']\n",
    "utils_xyzdbmol.generate_dbfromxyz(dataset_filepath,available_properties)"
   ]
  },
  {
   "attachments": {},
   "cell_type": "markdown",
   "metadata": {},
   "source": [
    "Extract molecules from db file"
   ]
  },
  {
   "cell_type": "code",
   "execution_count": null,
   "metadata": {},
   "outputs": [],
   "source": [
    "#0.13 0.117\n",
    "from utils import utils_xyzdbmol\n",
    "\n",
    "\n",
    "qm9 = False\n",
    "db_filepath = \"../data/fgtransform/model1/sym_alkane_straightchaintest/mols.db\"\n",
    "idx = 1\n",
    "available_properties = ['energy']\n",
    "\n",
    "#6-4-3 ringed oxygen (O45724, -1 from excel!! )\n",
    "#idx =  37889\n",
    "\n",
    "#3-oxopentanenitrile, eucdist_O1490 (remember -1 from excel)\n",
    "#idx = 1398\n",
    "#1-2propynol, eucdist_O16\n",
    "#idx=32\n",
    "\n",
    "#QM9 idx\n",
    "#primary straight alcohols, strchnalcs -  2 (water),7 (methanol), 13, 39, 130\n",
    "\n",
    "utils_xyzdbmol.usedb(db_filepath,idx,qm9, available_properties)\n"
   ]
  },
  {
   "attachments": {},
   "cell_type": "markdown",
   "metadata": {},
   "source": [
    "Count number of molecules in database (db) file"
   ]
  },
  {
   "cell_type": "code",
   "execution_count": null,
   "metadata": {},
   "outputs": [],
   "source": [
    "\n",
    "filepath = '../fgtransform/data/model2/1alcsethspert1noopt/trans.xyz'\n",
    "utils_xyzdb.countxyz(filepath)"
   ]
  },
  {
   "attachments": {},
   "cell_type": "markdown",
   "metadata": {},
   "source": [
    "Extract from QM9, various properties"
   ]
  },
  {
   "cell_type": "code",
   "execution_count": null,
   "metadata": {},
   "outputs": [],
   "source": [
    "from pickle import FALSE\n",
    "from schnetpack.datasets import QM9\n",
    "\n",
    "\n",
    "\n",
    "qm9data = QM9('../data/datasets/QM9/qm9.db',download=FALSE,remove_uncharacterized=True)\n",
    "\n",
    "idx =0\n",
    "qm9data.get_properties(idx)\n",
    "\n",
    "rotational_constant_A_data = []\n",
    "for idx in range(len(qm9data)):\n",
    "    at, props = qm9data.get_properties(idx)\n",
    "\n",
    "    for i in range(len(props['_atomic_numbers'])):\n",
    "        if props['_atomic_numbers'][i] == 8:\n",
    "            rotational_constant_A = props['rotational_constant_A']\n",
    "            rotational_constant_A_data.append(rotational_constant_A)\n",
    "\n"
   ]
  },
  {
   "cell_type": "code",
   "execution_count": null,
   "metadata": {},
   "outputs": [],
   "source": [
    "from numpy import savetxt\n",
    "\n",
    "savetxt('../rotational_constant_A.csv',rotational_constant_A_data,delimiter=',')"
   ]
  },
  {
   "cell_type": "markdown",
   "metadata": {},
   "source": [
    "Convert db to xyz "
   ]
  },
  {
   "cell_type": "code",
   "execution_count": null,
   "metadata": {},
   "outputs": [],
   "source": [
    "\n",
    "db_filepath = '../data/datasets/embspKA-stef/pk1db/pK1.db'\n",
    "\n",
    "from schnetpack import AtomsData\n",
    "\n",
    "db_data = AtomsData(db_filepath,available_properties=['pK1'])\n",
    "\n",
    "output_xyzfilepath = '../data/datasets/embspKA-stef/pk1db/pK1rem-0-1-233-290-368-606.xyz'\n",
    "xyz_file = open(output_xyzfilepath,mode='w')\n",
    "\n",
    "skip_molecules = [0,1,233,290,368,606]\n",
    "\n",
    "for each_molecule in range(len(db_data)):\n",
    "    at, props = db_data.get_properties(each_molecule)\n",
    "\n",
    "    atomic_numbers = props['_atomic_numbers'].detach().numpy()\n",
    "    props['_positions'] = props['_positions'].detach().numpy()\n",
    "\n",
    "    if each_molecule not in skip_molecules:\n",
    "\n",
    "        xyz_file.write(str(len(atomic_numbers))+'\\n' + '0.0000 \\n')\n",
    "        for each_atom in range(len(atomic_numbers)):\n",
    "            if atomic_numbers[each_atom] == 1:\n",
    "                xyz_file.write('H ' + str(props['_positions'][each_atom][0]) + ' ' + str(props['_positions'][each_atom][1]) + ' ' + str(props['_positions'][each_atom][2]) + '\\n')\n",
    "            if atomic_numbers[each_atom] == 6:\n",
    "                xyz_file.write('C ' + str(props['_positions'][each_atom][0]) + ' ' + str(props['_positions'][each_atom][1]) + ' ' + str(props['_positions'][each_atom][2]) + '\\n')\n",
    "            if atomic_numbers[each_atom] == 7: \n",
    "                xyz_file.write('N ' + str(props['_positions'][each_atom][0]) + ' ' + str(props['_positions'][each_atom][1]) + ' ' + str(props['_positions'][each_atom][2]) + '\\n')\n",
    "            if atomic_numbers[each_atom] == 8:\n",
    "                xyz_file.write('O ' + str(props['_positions'][each_atom][0]) + ' ' + str(props['_positions'][each_atom][1]) + ' ' + str(props['_positions'][each_atom][2]) + '\\n')\n",
    "            if atomic_numbers[each_atom] == 9:\n",
    "                xyz_file.write('F ' + str(props['_positions'][each_atom][0]) + ' ' + str(props['_positions'][each_atom][1]) + ' ' + str(props['_positions'][each_atom][2]) + '\\n')\n",
    "            \n",
    "xyz_file.close()\n",
    "\n",
    "    "
   ]
  }
 ],
 "metadata": {
  "kernelspec": {
   "display_name": "dlchem",
   "language": "python",
   "name": "python3"
  },
  "language_info": {
   "codemirror_mode": {
    "name": "ipython",
    "version": 3
   },
   "file_extension": ".py",
   "mimetype": "text/x-python",
   "name": "python",
   "nbconvert_exporter": "python",
   "pygments_lexer": "ipython3",
   "version": "3.7.16"
  },
  "orig_nbformat": 4
 },
 "nbformat": 4,
 "nbformat_minor": 2
}
