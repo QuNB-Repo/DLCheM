{
 "cells": [
  {
   "attachments": {},
   "cell_type": "markdown",
   "metadata": {},
   "source": [
    "Tools associated with embedding vector transformations"
   ]
  },
  {
   "cell_type": "code",
   "execution_count": null,
   "metadata": {},
   "outputs": [],
   "source": [
    "import numpy as np\n",
    "\n",
    "from numpy import savetxt, genfromtxt\n",
    "\n",
    "from utils import utils_fgtransform\n"
   ]
  },
  {
   "attachments": {},
   "cell_type": "markdown",
   "metadata": {},
   "source": [
    "Construct label file with one label id"
   ]
  },
  {
   "cell_type": "code",
   "execution_count": null,
   "metadata": {},
   "outputs": [],
   "source": [
    "n_data = 116\n",
    "label_id = 105\n",
    "save_filepath = '../initlabel.csv'\n",
    "\n",
    "#Following code assumes one label id of type per molecule\n",
    "utils_fgtransform.labelfile(n_data,label_id,save_filepath)"
   ]
  },
  {
   "attachments": {},
   "cell_type": "markdown",
   "metadata": {},
   "source": [
    "Calculate mean difference vector "
   ]
  },
  {
   "cell_type": "code",
   "execution_count": null,
   "metadata": {},
   "outputs": [],
   "source": [
    "data_filepath1 = '../data/fgtransform/model1/1alcsethspert4/initO.csv'\n",
    "data_filepath2 = '../data/fgtransform/model1/1alcsethspert4/transO.csv'\n",
    "num_features = 128\n",
    "n_molecules = 125\n",
    "diff_mean = utils_fgtransform.vecdiffmean(data_filepath1,data_filepath2,num_features,n_molecules)"
   ]
  },
  {
   "attachments": {},
   "cell_type": "markdown",
   "metadata": {},
   "source": [
    "Add mean difference vector to initial datapoints"
   ]
  },
  {
   "cell_type": "code",
   "execution_count": 1,
   "metadata": {},
   "outputs": [
    {
     "name": "stdout",
     "output_type": "stream",
     "text": [
      "data [[ 1.6747686e-01 -4.2186546e-01  1.2861267e+00 ...  5.0000000e+00\n",
      "  -2.0466660e+03            nan]\n",
      " [ 2.3793608e-02 -1.7720997e-01  1.1012164e+00 ...  5.0000000e+00\n",
      "  -2.0467238e+03            nan]\n",
      " [ 9.6808580e-02 -1.7941944e-01  1.2290553e+00 ...  5.0000000e+00\n",
      "  -2.0467245e+03            nan]\n",
      " ...\n",
      " [ 1.6821513e-01 -3.7316810e-01  1.4925250e+00 ...  5.0000000e+00\n",
      "  -2.0467314e+03            nan]\n",
      " [ 7.5340810e-02 -1.4938168e-01  1.5876156e+00 ...  5.0000000e+00\n",
      "  -2.0467231e+03            nan]\n",
      " [ 2.1141022e-01 -3.9742255e-01  1.2788593e+00 ...  5.0000000e+00\n",
      "  -2.0467122e+03            nan]]\n",
      "vec [-0.3284939  -0.37227978 -1.4117109   0.20517992  0.90881399  0.5222509\n",
      "  0.08293957  1.36147351 -2.16221857 -1.32096635  0.31220059  0.30085221\n",
      " -0.03274385  1.12195097 -0.68769608 -3.07946935  0.51113611  0.84654145\n",
      " -0.10565563  2.71410319  1.00751732 -0.82345476 -0.96987299 -0.68161655\n",
      "  0.89154448  0.57702069  1.16492851 -0.6084747   1.17908861 -0.57407207\n",
      "  1.9658175  -1.08347723 -0.44530497  0.01110152  1.52980846  0.53274522\n",
      "  0.18884597 -0.46278167 -0.28662941 -1.50313179  1.48314852  1.38072903\n",
      " -0.01451007  0.88472535 -0.62540888  1.80193844  0.6348822  -1.54183539\n",
      "  1.60087764  0.02532228  0.76977626  0.50047397  1.63661892  0.60723969\n",
      " -0.05023648  1.40327209  1.68094775  0.54267431 -0.28876001 -1.0679155\n",
      " -2.04836225  1.01993029  0.97543875 -0.26676938 -0.00420311 -1.30252957\n",
      " -0.5363207   0.29712413 -0.16850101  0.83867294 -2.09091949  1.04954489\n",
      " -0.7257568   0.15716751  0.27908835  1.22777559  0.10101089  0.1052623\n",
      "  1.24071853 -0.04847047  0.53026173  0.24275495 -1.84390448  1.0996291\n",
      " -0.3194798  -0.36173796  0.21979203  0.63699405  0.07254877 -0.83570784\n",
      "  0.74175733  0.32079769  0.10958997 -0.4864171   0.86364777  0.45701488\n",
      " -0.97586448 -1.81097384  0.48549049  2.13909575 -1.84417317  0.95702383\n",
      " -0.75567416 -2.48672538  0.87489363 -2.54323112  0.40928265  0.51822885\n",
      "  1.85521153  0.83395163 -0.43727264  2.38296142 -0.03418603  0.15244554\n",
      "  0.64266679  0.57437849  0.38653657  0.96924656 -1.59158981  0.44902717\n",
      " -0.15882184  1.91379727  0.32099105  0.07965627 -2.12146224 -1.19112489\n",
      " -2.97348199  0.23421495]\n",
      "new_data [[ 4.95970761e-01 -4.95856757e-02  2.69783760e+00 ...  2.12683019e+00\n",
      "   1.15502619e+00 -2.71084454e-01]\n",
      " [ 3.52287509e-01  1.95069814e-01  2.51292730e+00 ...  1.59394005e+00\n",
      "   1.01310069e+00 -2.83208955e-01]\n",
      " [ 4.25302481e-01  1.92860344e-01  2.64076620e+00 ...  1.51600579e+00\n",
      "   1.17534159e+00 -1.27604620e-01]\n",
      " ...\n",
      " [ 4.96709031e-01 -8.88315700e-04  2.90423590e+00 ...  1.36242131e+00\n",
      "   1.36905719e+00 -4.39421670e-01]\n",
      " [ 4.03834711e-01  2.22898104e-01  2.99932650e+00 ...  1.33311084e+00\n",
      "   1.42563579e+00 -3.22527400e-01]\n",
      " [ 5.39904121e-01 -2.51427657e-02  2.69057020e+00 ...  1.76888153e+00\n",
      "   9.18220394e-01 -2.82725450e-01]]\n"
     ]
    }
   ],
   "source": [
    "from utils import utils_fgtransform\n",
    "\n",
    "vec_filepath = '../data/fgtransform/model1/1alcsethspert4/initOdiff.csv'\n",
    "data_filepath = '../data/fgtransform/model1/1alcsethspert4/initO.csv'\n",
    "n_features = 128\n",
    "\n",
    "utils_fgtransform.add_vectomat(vec_filepath,data_filepath,n_features)"
   ]
  },
  {
   "attachments": {},
   "cell_type": "markdown",
   "metadata": {},
   "source": [
    "Calculate mean and magnitude of vector"
   ]
  },
  {
   "cell_type": "code",
   "execution_count": null,
   "metadata": {},
   "outputs": [],
   "source": [
    "vec_filepath = 'diff.csv'\n",
    "utils_fgtransform.mean_vec(vec_filepath)"
   ]
  },
  {
   "attachments": {},
   "cell_type": "markdown",
   "metadata": {},
   "source": [
    "Check transformation vector's nearest neighbor"
   ]
  },
  {
   "cell_type": "code",
   "execution_count": 2,
   "metadata": {},
   "outputs": [
    {
     "name": "stdout",
     "output_type": "stream",
     "text": [
      "0\n",
      "[  0.   1.   2.   3.  15.   5.   6.   7.   8.   9.  10.  11.  12.  13.\n",
      "  58.  15.  16.  17.  27.  75.  20.  21.  22.  23.  24.  25.  26.  27.\n",
      "  28.  29.  30.  31.  32.  33.  34.  35.  22.  37.  38.  39.  40.  22.\n",
      "  42.  43.  44.  45.  46.  14.  48.  49.  50.  27.  52.  53.  54.  15.\n",
      "  56.  57.  58.  59.  60.  61.  62.  16.  64.  65.  66.  67.  68.  69.\n",
      "  70.  71.  72.  73.  86.  75.  76.  77.  78.  79.  80. 102.  82.  83.\n",
      "  84.  85.  86.  87.  88.  89.  90.  91.  92.  93.  94.  95.  96.  11.\n",
      "  24.  99. 100.  11. 102. 106. 104. 105. 106. 107. 108. 109. 110. 111.\n",
      " 112. 113. 114. 115. 116. 117. 118. 121. 120. 121. 118. 123. 124.]\n",
      "matched 90.4 %\n"
     ]
    }
   ],
   "source": [
    "from utils import utils_fgtransform\n",
    "\n",
    "\n",
    "true_trans_filepath = '../data/fgtransform/model1/1alcsethspert4/transO.csv'\n",
    "art_trans_filepath = '../data/fgtransform/model1/1alcsethspert4/initOtransformed.csv'\n",
    "n_molecules = 125\n",
    "n_features = 128\n",
    "\n",
    "#DO NOT SORT! \n",
    "utils_fgtransform.nearest_trans(true_trans_filepath,art_trans_filepath,n_molecules,n_features)\n",
    "    \n"
   ]
  },
  {
   "attachments": {},
   "cell_type": "markdown",
   "metadata": {},
   "source": [
    "Calculating change in transformation vector over the orders"
   ]
  },
  {
   "cell_type": "code",
   "execution_count": null,
   "metadata": {},
   "outputs": [],
   "source": [
    "import numpy as np\n",
    "from numpy import genfromtxt\n",
    "\n",
    "order2_filepath = '../fgtransform/data/model2/1alcseths2order/diff.csv'\n",
    "order3_filepath ='../fgtransform/data/model2/1alcseths3ordernoopt/diff.csv'\n",
    "order4_filepath ='../fgtransform/data/model2/1alcseths4ordernoopt/diff.csv'\n",
    "order5_filepath ='../fgtransform/data/model2/1alcseths5ordernoopt/diff.csv'\n",
    "order6_filepath ='../fgtransform/data/model2/1alcseths6ordernoopt/diff.csv'\n",
    "\n",
    "order2 = genfromtxt(order2_filepath,delimiter=',',encoding='utf-8-sig')\n",
    "order3 = genfromtxt(order3_filepath,delimiter=',',encoding='utf-8-sig')\n",
    "order4 = genfromtxt(order4_filepath,delimiter=',',encoding='utf-8-sig')\n",
    "order5 = genfromtxt(order5_filepath,delimiter=',',encoding='utf-8-sig')\n",
    "order6 = genfromtxt(order6_filepath,delimiter=',',encoding='utf-8-sig')\n",
    "\n",
    "print(order2)\n",
    "print(order3)\n",
    "print(order4)\n",
    "print(order5)\n",
    "print(order6)\n",
    "\n",
    "diff0 = np.linalg.norm(order3-order2)\n",
    "print(diff0)\n",
    "\n",
    "diff1 = np.linalg.norm(order4-order3)\n",
    "print(diff1)\n",
    "\n",
    "diff2 = np.linalg.norm(order5-order4)\n",
    "print(diff2)\n",
    "\n",
    "diff3 = np.linalg.norm(order6-order5)\n",
    "print(diff3)"
   ]
  },
  {
   "attachments": {},
   "cell_type": "markdown",
   "metadata": {},
   "source": []
  },
  {
   "cell_type": "code",
   "execution_count": null,
   "metadata": {},
   "outputs": [],
   "source": []
  }
 ],
 "metadata": {
  "kernelspec": {
   "display_name": "dlchem",
   "language": "python",
   "name": "python3"
  },
  "language_info": {
   "codemirror_mode": {
    "name": "ipython",
    "version": 3
   },
   "file_extension": ".py",
   "mimetype": "text/x-python",
   "name": "python",
   "nbconvert_exporter": "python",
   "pygments_lexer": "ipython3",
   "version": "3.7.16"
  },
  "orig_nbformat": 4,
  "vscode": {
   "interpreter": {
    "hash": "ad367a3a7fabd35813922d60e62f1b034d8722685e652937c49bb38d6efd6790"
   }
  }
 },
 "nbformat": 4,
 "nbformat_minor": 2
}
