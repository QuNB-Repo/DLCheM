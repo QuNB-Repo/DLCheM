{
 "cells": [
  {
   "cell_type": "markdown",
   "metadata": {},
   "source": []
  },
  {
   "cell_type": "code",
   "execution_count": 4,
   "metadata": {},
   "outputs": [
    {
     "name": "stdout",
     "output_type": "stream",
     "text": [
      "(2, 2048)\n"
     ]
    }
   ],
   "source": [
    "import numpy as np\n",
    "\n",
    "# Assuming you have loaded your CSV data into the 'data' array\n",
    "dataset = np.genfromtxt('../data/embstodists/distance_organizedpca/16at-1225/oxidation/embs.csv',delimiter=',',encoding='utf-8-sig',skip_header=1)\n",
    "dataset = dataset[:,0:128]\n",
    "\n",
    "# Reshape the dataset to split it into chunks of 16 rows\n",
    "reshaped_dataset = dataset.reshape(2, 16, 128)\n",
    "\n",
    "# Flatten each chunk along the 16 rows axis\n",
    "flattened_chunks = reshaped_dataset.reshape(2, 2048)\n",
    "\n",
    "# The final result will be a 2x2048 array\n",
    "print(flattened_chunks.shape)  # Output: (2, 2048)"
   ]
  },
  {
   "cell_type": "code",
   "execution_count": 6,
   "metadata": {},
   "outputs": [],
   "source": [
    "np.savetxt('../data/embstodists/distance_organizedpca/16at-1225/oxidation/embs_flattened.csv',flattened_chunks,delimiter=',')"
   ]
  }
 ],
 "metadata": {
  "kernelspec": {
   "display_name": "Python 3",
   "language": "python",
   "name": "python3"
  },
  "language_info": {
   "codemirror_mode": {
    "name": "ipython",
    "version": 3
   },
   "file_extension": ".py",
   "mimetype": "text/x-python",
   "name": "python",
   "nbconvert_exporter": "python",
   "pygments_lexer": "ipython3",
   "version": "3.7.16"
  },
  "orig_nbformat": 4
 },
 "nbformat": 4,
 "nbformat_minor": 2
}
