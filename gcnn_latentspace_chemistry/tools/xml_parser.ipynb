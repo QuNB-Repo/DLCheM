{
 "cells": [
  {
   "cell_type": "code",
   "execution_count": null,
   "metadata": {},
   "outputs": [],
   "source": [
    "import requests\n",
    "import xml.etree.ElementTree as ET\n",
    "\n",
    "def extract_information(xml_url):\n",
    "    response = requests.get(xml_url)\n",
    "\n",
    "    if response.status_code == 200:\n",
    "        xml_data = response.content\n",
    "        root = None\n",
    "        try:\n",
    "            root = ET.fromstring(xml_data)\n",
    "        except ET.ParseError as e:\n",
    "            print(f\"Error: Parsing XML failed for URL {xml_url}\")\n",
    "            print(f\"Exception: {e}\")\n",
    "\n",
    "        extracted_data = None\n",
    "    \n",
    "        if root is not None:\n",
    "            extracted_data = []\n",
    "            # Find all <kind> and <value> elements\n",
    "            kind_elements = root.findall(\".//kind\")\n",
    "            value_elements = root.findall(\".//value\")\n",
    "\n",
    "            if len(kind_elements) == len(value_elements):\n",
    "                for kind_element, value_element in zip(kind_elements, value_elements):\n",
    "                    kind = kind_element.text\n",
    "                    value = value_element.text\n",
    "\n",
    "                    extracted_data.append({\n",
    "                        'kind': kind,\n",
    "                        'value': value,\n",
    "                    })\n",
    "\n",
    "    \n",
    "            else:\n",
    "                print(\"Error: Number of <kind> elements does not match the number of <value> elements in the XML.\")\n",
    "                return None\n",
    "            \n",
    "        return extracted_data\n",
    "    \n",
    "    else:\n",
    " #       print(f\"Error: Unable to fetch data from {xml_url}\")\n",
    "        return None\n",
    "\n",
    "\n",
    "\n",
    "def format_number_with_zeroes(number, fixed_length):\n",
    "    # Convert the number to a string and use zfill to add leading zeroes\n",
    "    formatted_number = str(number).zfill(fixed_length)\n",
    "    return formatted_number\n",
    "\n",
    "smiles = []\n",
    "melting_pts = []\n"
   ]
  },
  {
   "cell_type": "code",
   "execution_count": null,
   "metadata": {},
   "outputs": [],
   "source": [
    "\n",
    "if __name__ == \"__main__\":\n",
    "    for i in range(0,5000):\n",
    "\n",
    "        if i % 1000 == 0:\n",
    "            print(i)\n",
    "\n",
    "        formatted_i = format_number_with_zeroes(i, fixed_length=7)\n",
    "        xml_url = \"https://np-mrd.org/natural_products/NP%s.xml\" %(formatted_i)\n",
    "        extracted_data = extract_information(xml_url)\n",
    "\n",
    "        melting_found = False\n",
    "\n",
    "        if extracted_data:\n",
    "            for data in extracted_data:\n",
    "#                print(\"Kind:\", data['kind'])\n",
    "#                print(\"Value:\", data['value'])\n",
    "#                print(\"-\" * 20)\n",
    "                    \n",
    "                if data['kind'] == 'logs':\n",
    "                    melting_found = True\n",
    "                    melting_pts.append(data['value'])\n",
    "                if data['kind'] == 'smiles' and melting_found == True:\n",
    "                    smiles.append(data['value'])\n",
    "\n"
   ]
  },
  {
   "cell_type": "code",
   "execution_count": null,
   "metadata": {},
   "outputs": [],
   "source": [
    "print(melting_pts)\n",
    "print(smiles)\n",
    "print(len(melting_pts),len(smiles))"
   ]
  },
  {
   "cell_type": "code",
   "execution_count": null,
   "metadata": {},
   "outputs": [],
   "source": [
    "import pandas as pd \n",
    "\n",
    "vector1 = pd.Series(melting_pts)\n",
    "vector2 = pd.Series(smiles)\n",
    "\n",
    "matrix_data = pd.concat([vector1, vector2], axis=1)\n",
    "# Save the DataFrame to a CSV file named 'matrix_data.csv'\n",
    "\n",
    "matrix_data.to_csv('matrix_data1904.csv', index=False)"
   ]
  },
  {
   "cell_type": "code",
   "execution_count": null,
   "metadata": {},
   "outputs": [],
   "source": [
    "\n"
   ]
  }
 ],
 "metadata": {
  "kernelspec": {
   "display_name": "dlchem",
   "language": "python",
   "name": "python3"
  },
  "language_info": {
   "codemirror_mode": {
    "name": "ipython",
    "version": 3
   },
   "file_extension": ".py",
   "mimetype": "text/x-python",
   "name": "python",
   "nbconvert_exporter": "python",
   "pygments_lexer": "ipython3",
   "version": "3.7.16"
  },
  "orig_nbformat": 4
 },
 "nbformat": 4,
 "nbformat_minor": 2
}
