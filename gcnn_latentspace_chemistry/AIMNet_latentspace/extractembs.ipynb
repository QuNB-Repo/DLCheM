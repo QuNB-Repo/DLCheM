{
 "cells": [
  {
   "cell_type": "code",
   "execution_count": 1,
   "metadata": {},
   "outputs": [
    {
     "name": "stderr",
     "output_type": "stream",
     "text": [
      "c:\\Users\\aelsamma\\Anaconda3\\envs\\dlchem6\\lib\\site-packages\\tqdm\\auto.py:21: TqdmWarning: IProgress not found. Please update jupyter and ipywidgets. See https://ipywidgets.readthedocs.io/en/stable/user_install.html\n",
      "  from .autonotebook import tqdm as notebook_tqdm\n"
     ]
    }
   ],
   "source": [
    "import sys\n",
    "sys.path.append('..')\n",
    "#WORKS ON TORCH==1.4.1, schnetpack == 0.3\n",
    "from aimnet import load_AIMNetMT_ens, load_AIMNetSMD_ens\n",
    "import ase\n",
    "import ase.optimize\n",
    "import ase.md\n",
    "import numpy as np"
   ]
  },
  {
   "cell_type": "markdown",
   "metadata": {},
   "source": [
    "### Load pre-trained esnsembles of AIMNet models\n",
    "\n",
    "load_AIMNetMT_ens - loads a model trained to wB97x/def2-TZVPP energies, atomic electric moments (charges, dipoles, etc) and volumes\n",
    "\n",
    "load_AIMNetSMD_ens - loads a model obtained by transfer learning towards SMD-wB97x/def2-TZVPP energies"
   ]
  },
  {
   "cell_type": "code",
   "execution_count": 4,
   "metadata": {
    "scrolled": false
   },
   "outputs": [
    {
     "name": "stdout",
     "output_type": "stream",
     "text": [
      "0\n"
     ]
    },
    {
     "ename": "OperationalError",
     "evalue": "unable to open database file",
     "output_type": "error",
     "traceback": [
      "\u001b[1;31m---------------------------------------------------------------------------\u001b[0m",
      "\u001b[1;31mOperationalError\u001b[0m                          Traceback (most recent call last)",
      "\u001b[1;32m~\\AppData\\Local\\Temp\\ipykernel_3812\\3067710977.py\u001b[0m in \u001b[0;36m<module>\u001b[1;34m\u001b[0m\n\u001b[0;32m     37\u001b[0m \u001b[1;33m\u001b[0m\u001b[0m\n\u001b[0;32m     38\u001b[0m     \u001b[1;31m#load properties of molecule\u001b[0m\u001b[1;33m\u001b[0m\u001b[1;33m\u001b[0m\u001b[1;33m\u001b[0m\u001b[0m\n\u001b[1;32m---> 39\u001b[1;33m     \u001b[0matoms\u001b[0m\u001b[1;33m,\u001b[0m \u001b[0mprops\u001b[0m \u001b[1;33m=\u001b[0m \u001b[0mqm9_data\u001b[0m\u001b[1;33m.\u001b[0m\u001b[0mget_properties\u001b[0m\u001b[1;33m(\u001b[0m\u001b[0mmolecule_i\u001b[0m\u001b[1;33m)\u001b[0m\u001b[1;33m\u001b[0m\u001b[1;33m\u001b[0m\u001b[0m\n\u001b[0m\u001b[0;32m     40\u001b[0m \u001b[1;33m\u001b[0m\u001b[0m\n\u001b[0;32m     41\u001b[0m     \u001b[1;31m#convert\u001b[0m\u001b[1;33m\u001b[0m\u001b[1;33m\u001b[0m\u001b[1;33m\u001b[0m\u001b[0m\n",
      "\u001b[1;32mc:\\Users\\aelsamma\\Anaconda3\\envs\\dlchem6\\lib\\site-packages\\schnetpack\\data\\atoms.py\u001b[0m in \u001b[0;36mget_properties\u001b[1;34m(self, idx)\u001b[0m\n\u001b[0;32m    299\u001b[0m         \"\"\"\n\u001b[0;32m    300\u001b[0m         \u001b[0midx\u001b[0m \u001b[1;33m=\u001b[0m \u001b[0mself\u001b[0m\u001b[1;33m.\u001b[0m\u001b[0m_subset_index\u001b[0m\u001b[1;33m(\u001b[0m\u001b[0midx\u001b[0m\u001b[1;33m)\u001b[0m\u001b[1;33m\u001b[0m\u001b[1;33m\u001b[0m\u001b[0m\n\u001b[1;32m--> 301\u001b[1;33m         \u001b[1;32mwith\u001b[0m \u001b[0mconnect\u001b[0m\u001b[1;33m(\u001b[0m\u001b[0mself\u001b[0m\u001b[1;33m.\u001b[0m\u001b[0mdbpath\u001b[0m\u001b[1;33m)\u001b[0m \u001b[1;32mas\u001b[0m \u001b[0mconn\u001b[0m\u001b[1;33m:\u001b[0m\u001b[1;33m\u001b[0m\u001b[1;33m\u001b[0m\u001b[0m\n\u001b[0m\u001b[0;32m    302\u001b[0m             \u001b[0mrow\u001b[0m \u001b[1;33m=\u001b[0m \u001b[0mconn\u001b[0m\u001b[1;33m.\u001b[0m\u001b[0mget\u001b[0m\u001b[1;33m(\u001b[0m\u001b[0midx\u001b[0m \u001b[1;33m+\u001b[0m \u001b[1;36m1\u001b[0m\u001b[1;33m)\u001b[0m\u001b[1;33m\u001b[0m\u001b[1;33m\u001b[0m\u001b[0m\n\u001b[0;32m    303\u001b[0m         \u001b[0mat\u001b[0m \u001b[1;33m=\u001b[0m \u001b[0mrow\u001b[0m\u001b[1;33m.\u001b[0m\u001b[0mtoatoms\u001b[0m\u001b[1;33m(\u001b[0m\u001b[1;33m)\u001b[0m\u001b[1;33m\u001b[0m\u001b[1;33m\u001b[0m\u001b[0m\n",
      "\u001b[1;32mc:\\Users\\aelsamma\\Anaconda3\\envs\\dlchem6\\lib\\site-packages\\ase\\db\\sqlite.py\u001b[0m in \u001b[0;36m__enter__\u001b[1;34m(self)\u001b[0m\n\u001b[0;32m    176\u001b[0m         \u001b[1;32massert\u001b[0m \u001b[0mself\u001b[0m\u001b[1;33m.\u001b[0m\u001b[0mconnection\u001b[0m \u001b[1;32mis\u001b[0m \u001b[1;32mNone\u001b[0m\u001b[1;33m\u001b[0m\u001b[1;33m\u001b[0m\u001b[0m\n\u001b[0;32m    177\u001b[0m         \u001b[0mself\u001b[0m\u001b[1;33m.\u001b[0m\u001b[0mchange_count\u001b[0m \u001b[1;33m=\u001b[0m \u001b[1;36m0\u001b[0m\u001b[1;33m\u001b[0m\u001b[1;33m\u001b[0m\u001b[0m\n\u001b[1;32m--> 178\u001b[1;33m         \u001b[0mself\u001b[0m\u001b[1;33m.\u001b[0m\u001b[0mconnection\u001b[0m \u001b[1;33m=\u001b[0m \u001b[0mself\u001b[0m\u001b[1;33m.\u001b[0m\u001b[0m_connect\u001b[0m\u001b[1;33m(\u001b[0m\u001b[1;33m)\u001b[0m\u001b[1;33m\u001b[0m\u001b[1;33m\u001b[0m\u001b[0m\n\u001b[0m\u001b[0;32m    179\u001b[0m         \u001b[1;32mreturn\u001b[0m \u001b[0mself\u001b[0m\u001b[1;33m\u001b[0m\u001b[1;33m\u001b[0m\u001b[0m\n\u001b[0;32m    180\u001b[0m \u001b[1;33m\u001b[0m\u001b[0m\n",
      "\u001b[1;32mc:\\Users\\aelsamma\\Anaconda3\\envs\\dlchem6\\lib\\site-packages\\ase\\db\\sqlite.py\u001b[0m in \u001b[0;36m_connect\u001b[1;34m(self)\u001b[0m\n\u001b[0;32m    171\u001b[0m \u001b[1;33m\u001b[0m\u001b[0m\n\u001b[0;32m    172\u001b[0m     \u001b[1;32mdef\u001b[0m \u001b[0m_connect\u001b[0m\u001b[1;33m(\u001b[0m\u001b[0mself\u001b[0m\u001b[1;33m)\u001b[0m\u001b[1;33m:\u001b[0m\u001b[1;33m\u001b[0m\u001b[1;33m\u001b[0m\u001b[0m\n\u001b[1;32m--> 173\u001b[1;33m         \u001b[1;32mreturn\u001b[0m \u001b[0msqlite3\u001b[0m\u001b[1;33m.\u001b[0m\u001b[0mconnect\u001b[0m\u001b[1;33m(\u001b[0m\u001b[0mself\u001b[0m\u001b[1;33m.\u001b[0m\u001b[0mfilename\u001b[0m\u001b[1;33m,\u001b[0m \u001b[0mtimeout\u001b[0m\u001b[1;33m=\u001b[0m\u001b[1;36m20\u001b[0m\u001b[1;33m)\u001b[0m\u001b[1;33m\u001b[0m\u001b[1;33m\u001b[0m\u001b[0m\n\u001b[0m\u001b[0;32m    174\u001b[0m \u001b[1;33m\u001b[0m\u001b[0m\n\u001b[0;32m    175\u001b[0m     \u001b[1;32mdef\u001b[0m \u001b[0m__enter__\u001b[0m\u001b[1;33m(\u001b[0m\u001b[0mself\u001b[0m\u001b[1;33m)\u001b[0m\u001b[1;33m:\u001b[0m\u001b[1;33m\u001b[0m\u001b[1;33m\u001b[0m\u001b[0m\n",
      "\u001b[1;31mOperationalError\u001b[0m: unable to open database file"
     ]
    }
   ],
   "source": [
    "import torch\n",
    "import schnetpack as spk\n",
    "from schnetpack.datasets import QM9\n",
    "\n",
    "'''\n",
    "This code runs a pretrained AIMNet model on QM9 dataset and extract embeddings from it. SchNetPack here helps to load the QM9 dataset\n",
    "and also convert the db molecules to input ready for the AIMNet neural network\n",
    "\n",
    "    Args:\n",
    "        QM9_FILEPATH            - filepath where qm9 db database is being kept\n",
    "        QM9_RANGE               - range of QM9 data you want to extract embeddings of\n",
    "        AFV_N_FEATURES          - number of features for atomic feature vectors of the pretrained AIMNet model\n",
    "        AEF_N_FEATURES          - number of features for atomic environment vectors of the pretrained AIMNet model\n",
    "\n",
    "\n",
    "    Returns:\n",
    "        AFV_EMBS                - initially empty np array, will hold the atomic feature vector embeddings of AIMNet as a numpy array of (n_data*n_features)\n",
    "        AEF_EMBS                - initially empty np array, will hold the atomic environment vector embeddings of AIMNet as a numpy array of (n_data*n_features)\n",
    "'''\n",
    "\n",
    "\n",
    "QM9_FILEPATH = '../../data/datasets/QM9/qm9.db'\n",
    "QM9_RANGE = [0,10000]\n",
    "AFV_N_FEATURES = 16\n",
    "AEF_N_FEATUERS = 256\n",
    "\n",
    "\n",
    "#Load QM9 filepath using schnetpack.datasets QM9 method, which loads QM9 db file efficiently\n",
    "qm9_data = QM9(QM9_FILEPATH,download=False,remove_uncharacterized=True)\n",
    "\n",
    "#initialize empty arrays that will hold afv and aef embeddings of AIMNet\n",
    "afv_embs = np.zeros((1,AFV_N_FEATURES))\n",
    "aef_embs = np.zeros((1,AEF_N_FEATUERS))\n",
    "\n",
    "\n",
    "#a difctionary converting atomic numbers available to integers\n",
    "atomic_numbers_to_idx = {1:  0,\n",
    "                        6:  1,\n",
    "                        7:  2,\n",
    "                        8:  3,\n",
    "                        16: 4,\n",
    "                        9:  5,\n",
    "                        17: 6}\n",
    "\n",
    "\n",
    "#Run through a range of molecules in QM9\n",
    "for molecule_i in range(QM9_RANGE[0],QM9_RANGE[1]):\n",
    "\n",
    "    #simple loading bar\n",
    "    if molecule_i % 1000 == 0:\n",
    "        print(molecule_i)\n",
    "\n",
    "    #load properties of molecule\n",
    "    atoms, props = qm9_data.get_properties(molecule_i)\n",
    "\n",
    "    #load Atoms Converter,\n",
    "    #which converts loaded ase (Atomic Simulation Environment) molecule to be ready as neural network input\n",
    "    converter = spk.data.AtomsConverter(device='cpu')\n",
    "\n",
    "    #convert ase input into xyz input ready for \n",
    "    inputs = converter(atoms)\n",
    "\n",
    "    #get the atomic numbers from the inputs\n",
    "    atomic_numbers = inputs['_atomic_numbers'].detach().numpy()\n",
    "\n",
    "    #convert atomic numbers to corrsponding integer value from dictionary\n",
    "    atomic_numbers_in_idx = [atomic_numbers_to_idx[atomic_numbers[0][each_element]] for each_element in range(len(inputs['_atomic_numbers'][0]))]\n",
    "\n",
    "    #convert the integerized atomic numebrs into a tensor\n",
    "    atomic_numbers_in_idx = torch.tensor([atomic_numbers_in_idx])\n",
    "\n",
    "    #load pretrained AIMNe model \n",
    "    model_gas = load_AIMNetMT_ens()\n",
    "\n",
    "    #get prediction, atomic feature vectors, atomic environment vectors from \n",
    "    pred, afv, aef = model_gas(inputs['_positions'],atomic_numbers_in_idx)\n",
    "\n",
    "    #\n",
    "    afv = afv.detach().numpy()\n",
    "    aef = aef.detach().numpy()\n",
    "\n",
    "    afv_embs = np.vstack((afv_embs,afv[0]))\n",
    "    aef_embs = np.vstack((aef_embs,aef[0]))\n",
    "\n"
   ]
  },
  {
   "cell_type": "code",
   "execution_count": 3,
   "metadata": {},
   "outputs": [],
   "source": [
    "np.savetxt('../../afv.csv',afv_embs,delimiter=',')\n",
    "np.savetxt('../../aef.csv',aef_embs,delimiter=',')"
   ]
  }
 ],
 "metadata": {
  "kernelspec": {
   "display_name": "Python 3",
   "language": "python",
   "name": "python3"
  },
  "language_info": {
   "codemirror_mode": {
    "name": "ipython",
    "version": 3
   },
   "file_extension": ".py",
   "mimetype": "text/x-python",
   "name": "python",
   "nbconvert_exporter": "python",
   "pygments_lexer": "ipython3",
   "version": "3.7.16"
  }
 },
 "nbformat": 4,
 "nbformat_minor": 2
}
