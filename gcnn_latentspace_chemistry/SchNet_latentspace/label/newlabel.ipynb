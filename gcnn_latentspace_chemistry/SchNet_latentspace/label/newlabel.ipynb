{
 "cells": [
  {
   "cell_type": "code",
   "execution_count": 1,
   "metadata": {},
   "outputs": [
    {
     "name": "stderr",
     "output_type": "stream",
     "text": [
      "/home/amerelsamman/anaconda3/envs/dlchem/lib/python3.7/site-packages/tqdm/auto.py:21: TqdmWarning: IProgress not found. Please update jupyter and ipywidgets. See https://ipywidgets.readthedocs.io/en/stable/user_install.html\n",
      "  from .autonotebook import tqdm as notebook_tqdm\n"
     ]
    },
    {
     "name": "stdout",
     "output_type": "stream",
     "text": [
      "0\n",
      "1000\n",
      "2000\n",
      "3000\n",
      "4000\n",
      "5000\n",
      "6000\n",
      "7000\n",
      "8000\n",
      "9000\n",
      "10000\n",
      "11000\n",
      "12000\n",
      "13000\n",
      "14000\n",
      "15000\n",
      "16000\n",
      "17000\n",
      "18000\n",
      "19000\n",
      "{'H-O': 16568551, 'C-HHO': 5919846, 'H-C': 12603593, 'C-HHHO': 9773829, 'C-CHHH': 11318436, 'C-CHO': 5450445, 'N-CHH': 4554406, 'C-HNO': 16723852, 'H-N': 7763220, 'C-CHHO': 5607908, 'C-CCO': 4397639, 'C-CNO': 9224298, 'C-NNO': 4654087, 'C-CCHO': 4737495, 'C-CC': 4898522, 'C-CH': 309480, 'C-CN': 1321037, 'N-C': 11194746, 'O-C': 3301423, 'C-CCHH': 9690315, 'C-HHHN': 8335278, 'N-CCH': 6615265, 'C-HOO': 13085284, 'O-CC': 6156087, 'O-CH': 14506613, 'C-CCN': 13576449, 'N-CO': 11321203, 'C-CCH': 8626576, 'C-CHN': 4473712, 'N-CC': 3001886, 'C-CCCO': 10273317, 'C-CCCH': 12862428, 'N-CCC': 10110882, 'N-CH': 7075099, 'C-COO': 8133550, 'C-NOO': 8915327, 'C-CHHN': 13195061, 'C-HNN': 7636875, 'C-CCHN': 2103120, 'C-HHOO': 16251376, 'N-CN': 10364055, 'N-NO': 14764169, 'N-NN': 1808835, 'O-HN': 16538953, 'C-OOO': 12188546, 'C-CCC': 14927814, 'C-CNN': 15699887, 'C-CCCC': 11572526, 'N-CHHH': 4605442, 'C-CCCN': 2247182, 'C-CHOO': 1088627, 'C-NNN': 2949352, 'N-CHN': 7389818, 'O-CN': 5136632, 'N-HNN': 1339254, 'O-NN': 2544592, 'F-C': 16687233, 'C-CFFF': 4824892, 'C-CCOO': 12156856, 'N-CCN': 3712400, 'N-CNN': 7575411, 'N-CCHH': 216347, 'O-N': 1290636, 'N-CCCH': 9282263}\n",
      "{'H-O': 1, 'C-HHO': 2, 'H-C': 3, 'C-HHHO': 4, 'C-CHHH': 5, 'C-CHO': 6, 'N-CHH': 7, 'C-HNO': 8, 'H-N': 9, 'C-CHHO': 10, 'C-CCO': 11, 'C-CNO': 12, 'C-NNO': 13, 'C-CCHO': 14, 'C-CC': 15, 'C-CH': 16, 'C-CN': 17, 'N-C': 18, 'O-C': 19, 'C-CCHH': 20, 'C-HHHN': 21, 'N-CCH': 22, 'C-HOO': 23, 'O-CC': 24, 'O-CH': 25, 'C-CCN': 26, 'N-CO': 27, 'C-CCH': 28, 'C-CHN': 29, 'N-CC': 30, 'C-CCCO': 31, 'C-CCCH': 32, 'N-CCC': 33, 'N-CH': 34, 'C-COO': 35, 'C-NOO': 36, 'C-CHHN': 37, 'C-HNN': 38, 'C-CCHN': 39, 'C-HHOO': 40, 'N-CN': 41, 'N-NO': 42, 'N-NN': 43, 'O-HN': 44, 'C-OOO': 45, 'C-CCC': 46, 'C-CNN': 47, 'C-CCCC': 48, 'N-CHHH': 49, 'C-CCCN': 50, 'C-CHOO': 51, 'C-NNN': 52, 'N-CHN': 53, 'O-CN': 54, 'N-HNN': 55, 'O-NN': 56, 'F-C': 57, 'C-CFFF': 58, 'C-CCOO': 59, 'N-CCN': 60, 'N-CNN': 61, 'N-CCHH': 62, 'O-N': 63, 'N-CCCH': 64}\n",
      "{'H-O': 12, 'C-HHO': 5, 'H-C': 8, 'C-HHHO': 13, 'C-CHHH': 8, 'C-CHO': 11, 'N-CHH': 10, 'C-HNO': 15, 'H-N': 11, 'C-CHHO': 7, 'C-CCO': 5, 'C-CNO': 2, 'C-NNO': 1, 'C-CCHO': 11, 'C-CC': 20, 'C-CH': 5, 'C-CN': 13, 'N-C': 1, 'O-C': 10, 'C-CCHH': 2, 'C-HHHN': 1, 'N-CCH': 15, 'C-HOO': 7, 'O-CC': 15, 'O-CH': 2, 'C-CCN': 8, 'N-CO': 7, 'C-CCH': 5, 'C-CHN': 15, 'N-CC': 2, 'C-CCCO': 20, 'C-CCCH': 12, 'N-CCC': 1, 'N-CH': 7, 'C-COO': 7, 'C-NOO': 10, 'C-CHHN': 2, 'C-HNN': 7, 'C-CCHN': 5, 'C-HHOO': 20, 'N-CN': 2, 'N-NO': 10, 'N-NN': 12, 'O-HN': 10, 'C-OOO': 5, 'C-CCC': 1, 'C-CNN': 13, 'C-CCCC': 8, 'N-CHHH': 10, 'C-CCCN': 15, 'C-CHOO': 5, 'C-NNN': 15, 'N-CHN': 12, 'O-CN': 8, 'N-HNN': 13, 'O-NN': 20, 'F-C': 20, 'C-CFFF': 7, 'C-CCOO': 7, 'N-CCN': 12, 'N-CNN': 2, 'N-CCHH': 1, 'O-N': 13, 'N-CCCH': 13}\n"
     ]
    },
    {
     "data": {
      "text/plain": [
       "<label.newlabel.main.Label at 0x7f79cb0febd0>"
      ]
     },
     "execution_count": 1,
     "metadata": {},
     "output_type": "execute_result"
    }
   ],
   "source": [
    "from label.newlabel import main\n",
    "\n",
    "#choose element, can choose 'all' to do all atoms in order\n",
    "elements = [8]\n",
    "start = 0\n",
    "end = 20000\n",
    "\n",
    "#define label save file path\n",
    "label_filepath = 'Olabelexpand.csv' \n",
    "\n",
    "#some settings, qm9 if you are using qm9 data, \n",
    "#expand to duplicate labels per interaction of the atom,\n",
    "#expandinter to label the interacting atom instead\n",
    "qm9 = True\n",
    "expand = False\n",
    "expandinter = True\n",
    " \n",
    "\n",
    "#dataset filepath\n",
    "#dataset_filepath = 'fgtransform/data/model2/1alcsalds/trans.db' \n",
    "dataset_filepath = 'data/datasets/QM9/qm9.db'\n",
    "\n",
    "#available properties only relevant for when dataset is not QM9\n",
    "available_properties = ['energy']\n",
    "\n",
    "#define colors/markers dictionary\n",
    "colorsmarkers = {}\n",
    "\n",
    "#run the labeller\n",
    "main.Label(qm9,dataset_filepath,label_filepath,start,end,elements,expand,expandinter,available_properties,colorsmarkers)\n",
    "\n"
   ]
  },
  {
   "cell_type": "code",
   "execution_count": null,
   "metadata": {},
   "outputs": [],
   "source": []
  },
  {
   "cell_type": "code",
   "execution_count": null,
   "metadata": {},
   "outputs": [],
   "source": []
  }
 ],
 "metadata": {
  "kernelspec": {
   "display_name": "dlchem",
   "language": "python",
   "name": "python3"
  },
  "language_info": {
   "codemirror_mode": {
    "name": "ipython",
    "version": 3
   },
   "file_extension": ".py",
   "mimetype": "text/x-python",
   "name": "python",
   "nbconvert_exporter": "python",
   "pygments_lexer": "ipython3",
   "version": "3.7.16"
  },
  "orig_nbformat": 4
 },
 "nbformat": 4,
 "nbformat_minor": 2
}
