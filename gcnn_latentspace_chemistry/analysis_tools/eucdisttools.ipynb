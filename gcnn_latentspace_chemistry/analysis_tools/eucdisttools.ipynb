{
 "cells": [
  {
   "cell_type": "markdown",
   "metadata": {},
   "source": [
    "Tools for calculating distance between embedding vectors and making a distribution\n"
   ]
  },
  {
   "cell_type": "markdown",
   "metadata": {},
   "source": [
    "Euc_dist distribution"
   ]
  },
  {
   "cell_type": "code",
   "execution_count": null,
   "metadata": {},
   "outputs": [],
   "source": [
    "from utils import utils_eucdist\n",
    "\n",
    "label_filepath = '../temp/nmr/Clabel.csv'\n",
    "data_filepath = '../temp/nmr/Cembs.csv'\n",
    "save_filepath = '../temp/nmr/eucdist0.csv'\n",
    "numb_categories = (0,44)\n",
    "#need to find the element idx not the molecule idx\n",
    "element_idx = 4\n",
    "bin_size = 0.01\n",
    "numb_bins = 10000\n",
    "init_bin = 0.0\n",
    "\n",
    "euc_dist = utils_eucdist.EucDistDistribution(element_idx,label_filepath,data_filepath,bin_size,numb_bins,init_bin,numb_categories,save_filepath)\n",
    "\n",
    "\n",
    "#extract of euc_dist distribution out\n",
    "for i in range(len(euc_dist)):\n",
    "    if 0.0 < euc_dist[i][0] < 0.5:\n",
    "        print(euc_dist[i])\n"
   ]
  },
  {
   "attachments": {},
   "cell_type": "markdown",
   "metadata": {},
   "source": [
    "Distance matrix X vs Distance Matrix Y in a long column"
   ]
  },
  {
   "cell_type": "code",
   "execution_count": null,
   "metadata": {},
   "outputs": [],
   "source": [
    "from utils import utils_eucdist\n",
    "\n",
    "data_filepath = '../data/eucdist/nmreucdist/Cembs.csv'\n",
    "save_filepath = '../data/eucdist/nmreucdist/CembsvsNMRdists.csv'\n",
    "x_features = [0:128]\n",
    "y_features = [140]\n",
    "\n",
    "\n",
    "utils_eucdist.distmatXvsYscatter(data_filepath,save_filepath,n_features)"
   ]
  },
  {
   "attachments": {},
   "cell_type": "markdown",
   "metadata": {},
   "source": [
    "Distance row x vs distance row y "
   ]
  },
  {
   "cell_type": "code",
   "execution_count": 5,
   "metadata": {},
   "outputs": [],
   "source": [
    "from utils import utils_eucdist\n",
    "\n",
    "element_idx = 6\n",
    "data_filepath = '../data/eucdist/nmreucdist/Cembs.csv'\n",
    "save_filepath = '../data/eucdist/nmreucdist/embsvsnmrdists.csv'\n",
    "\n",
    "\n",
    "utils_eucdist.euc_dist_vs_atomy(element_idx,data_filepath,save_filepath)"
   ]
  },
  {
   "attachments": {},
   "cell_type": "markdown",
   "metadata": {},
   "source": [
    "Extracting within a euc_dist range "
   ]
  },
  {
   "cell_type": "code",
   "execution_count": null,
   "metadata": {},
   "outputs": [],
   "source": [
    "from numpy import savetxt\n",
    "from utils import utils_eucdist\n",
    "\n",
    "data_filepath = '../data/embs/model2/rep3/O/qm9-all/rep3u0.csv'\n",
    "label_filepath = '../data/embs/model2/rep3/O/qm9-all/labelold.csv'\n",
    "qm9_filepath = '../data/datasets/QM9/qm9.db'\n",
    "element_idx = 75\n",
    "\n",
    "dists = utils_eucdist.distvsE(data_filepath,label_filepath,qm9_filepath,element_idx)\n",
    "\n",
    "print(dists)\n",
    "savetxt('../temp/eucdist/2-propynol16/dists.csv',dists,delimiter=',')"
   ]
  },
  {
   "cell_type": "markdown",
   "metadata": {},
   "source": [
    "Calculate distance vs atomiztaion energy, similar molecules (Via distance) should have similar atomization energy"
   ]
  },
  {
   "cell_type": "code",
   "execution_count": null,
   "metadata": {},
   "outputs": [],
   "source": [
    "from numpy import savetxt\n",
    "from utils import utils_eucdist\n",
    "\n",
    "data_filepath = '../data/embs/model2/rep3/O/qm9-all/rep3u0.csv'\n",
    "ae_filepath = '../data/embs/model2/rep3/O/qm9-all/rep3u0ae.csv'\n",
    "element_idx = 16\n",
    "\n",
    "dists = utils_eucdist.distvsAE(data_filepath,ae_filepath,element_idx)\n",
    "\n",
    "savetxt('../temp/eucdist/2-propynol16/distsae.csv',dists,delimiter=',')"
   ]
  },
  {
   "attachments": {},
   "cell_type": "markdown",
   "metadata": {},
   "source": [
    "Analyzing distances between interaction layers (does the Euclidean distance change of the vector decrease? Because it seems interactions update is always around the same mean value...)"
   ]
  },
  {
   "cell_type": "code",
   "execution_count": null,
   "metadata": {},
   "outputs": [],
   "source": [
    "from utils import utils_eucdist\n",
    "\n",
    "\n",
    "layer1_filepath = '../data/articleplots/rawdata/embs/layer5/Oembs/embs.csv'\n",
    "layer2_filepath = '../data/articleplots/rawdata/embs/layer2/Oembs/embs.csv'\n",
    "\n",
    "\n",
    "distance, average_distances = utils_eucdist.euc_dist_bw_layers(layer1_filepath,layer2_filepath)\n",
    "\n",
    "\n"
   ]
  },
  {
   "cell_type": "code",
   "execution_count": null,
   "metadata": {},
   "outputs": [],
   "source": [
    "print(distance)\n",
    "print(average_distances)"
   ]
  },
  {
   "attachments": {},
   "cell_type": "markdown",
   "metadata": {},
   "source": [
    "Euclidean distance of a file "
   ]
  },
  {
   "cell_type": "code",
   "execution_count": null,
   "metadata": {},
   "outputs": [],
   "source": [
    "import numpy as np\n",
    "from numpy import genfromtxt\n",
    "\n",
    "\n",
    "\n",
    "data_filepath = '../data/embs/model1-10000/layer6/Oembs/strchnalcsembs.csv'\n",
    "\n",
    "data = genfromtxt(data_filepath,delimiter=',',encoding='utf-8-sig')\n",
    "\n",
    "\n"
   ]
  },
  {
   "cell_type": "code",
   "execution_count": null,
   "metadata": {},
   "outputs": [],
   "source": [
    "distance = [np.linalg.norm(data[x,0:128]-data[x+1,0:128]) for x in range(5)]"
   ]
  },
  {
   "cell_type": "code",
   "execution_count": null,
   "metadata": {},
   "outputs": [],
   "source": [
    "print(distance)"
   ]
  },
  {
   "cell_type": "code",
   "execution_count": null,
   "metadata": {},
   "outputs": [],
   "source": []
  }
 ],
 "metadata": {
  "kernelspec": {
   "display_name": "dlchem",
   "language": "python",
   "name": "python3"
  },
  "language_info": {
   "codemirror_mode": {
    "name": "ipython",
    "version": 3
   },
   "file_extension": ".py",
   "mimetype": "text/x-python",
   "name": "python",
   "nbconvert_exporter": "python",
   "pygments_lexer": "ipython3",
   "version": "3.7.16"
  },
  "orig_nbformat": 4,
  "vscode": {
   "interpreter": {
    "hash": "f7061e88c2c02224927c218be181fb0aedc22e91abb1f0cda64dbedfa93f1ea7"
   }
  }
 },
 "nbformat": 4,
 "nbformat_minor": 2
}
