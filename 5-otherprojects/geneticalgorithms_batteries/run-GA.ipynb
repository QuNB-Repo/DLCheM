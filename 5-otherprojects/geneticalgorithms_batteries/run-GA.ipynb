{
 "cells": [
  {
   "cell_type": "code",
   "execution_count": 1,
   "metadata": {},
   "outputs": [],
   "source": [
    "\n",
    "from autocombinatorial_GA import build_GA\n",
    "\n",
    "'''\n",
    "Code that runs the genetic algorithm of the autocombinatorial code. \n",
    "combines two parents to create a child molecule which may have better\n",
    "properties than either parent\n",
    "\n",
    "Args: \n",
    "    INITIAL_MOL_FILEPATH   \n",
    "        - where the initial bpy molecule is found\n",
    "    MAX_NUMBER_N\n",
    "        - max number of N atoms to add after crossover\n",
    "    MAX_NUMBER_fG\n",
    "        - max number of functional groups to add after crossover\n",
    "    MAX_NUMBER_DB\n",
    "        - max number of double bonds to add after crossover\n",
    "    DOUBLE\n",
    "        - where a double bond linker is involved in the genetic crossover\n",
    "\n",
    "returns genetically produced molecules \n",
    "'''\n",
    "\n",
    "\n",
    "INITIAL_MOL_FILEPATH = './buildingblocks_GA/startingmolfile.mol'\n",
    "MAX_NUMBER_N = 4\n",
    "MAX_NUMBER_FG = 2\n",
    "MAX_NUMBER_DB = 3\n",
    "DOUBLE = True\n",
    "\n",
    "for i in range(1):\n",
    "    print('molecule number?')\n",
    "    molecule_number = input()\n",
    "    molecule_number = str(molecule_number)\n",
    "    MOLECULE_NAME = '%s-' %(molecule_number)\n",
    "    molecule = build_GA.autocombinatorial_GA(initial_mol_filepath=INITIAL_MOL_FILEPATH,max_number_n=MAX_NUMBER_N,max_number_fg=MAX_NUMBER_FG,max_number_db=MAX_NUMBER_DB,molecule_name=MOLECULE_NAME)\n",
    "    molecule.crossover(double=DOUBLE)\n",
    "    molecule.add_n()\n",
    "    molecule.add_fg()\n",
    "    molecule.add_db()\n",
    "    molecule.symmetrize()\n",
    "    molecule.linker()\n",
    "    molecule.finalize()\n",
    "    molecule.show()\n",
    "    molecule.remove()"
   ]
  },
  {
   "cell_type": "code",
   "execution_count": null,
   "metadata": {},
   "outputs": [],
   "source": [
    "'''\n",
    "Geometry optimize genetically produced molecules \n",
    "AND convert to GAMESS input files for all oxidation states:\n",
    "cation, neutral, anion, in gas and in DMF solvent. \n",
    "\n",
    "    MOLECULE_NUMBER \n",
    "        - Molecule number of the GA file to optimize and create GAMESS\n",
    "        input file \n",
    "    MOLECULES_FILEPATH\n",
    "        - filepath where the genetically produced molecule files are stored\n",
    "    OUTPUT_FILEPATH\n",
    "        - filepath where the optimize GA molecule file is to be stored for all types\n",
    "        neutral-gas, neutral-dmf, cation-gas, cation-dmf, anion-gas, anion-dmf\n",
    "    INP_CONVERTED_FILEPATH\n",
    "        - filepath to store .inp converted molecules (using obabel) \n",
    "        to be used for quick visualization\n",
    "    GAMESs_FILEPATH\n",
    "        - filepath to store the final GAMESS input files for all oxidation states of bpy derivative:\n",
    "        cation, anion, neutral, and in both gas and DMF solvent. Level of theory is B3LYP/CCD\n",
    "    \n",
    "'''\n",
    "\n",
    "import os\n",
    "import fileinput\n",
    "\n",
    "import optimize_ga\n",
    "\n",
    "MOLECULE_NUMBER= 512\n",
    "MOLECULES_FILEPATH = './molecules_GA/mol-files/mol-files-GA/'\n",
    "OUTPUT_FILEPATH = './molecules_GA/mol-files/output-mol/'\n",
    "INP_CONVERTED_FILEPATH = './molecules_GA/mol-files/inp-mol/'\n",
    "GAMESS_FILEPATH = './molecules_GA/mol-files/GAMESSfiles/'\n",
    "\n",
    "\n",
    "optimize_ga(MOLECULE_NUMBER,MOLECULES_FILEPATH,OUTPUT_FILEPATH,INP_CONVERTED_FILEPATH,GAMESS_FILEPATH)\n"
   ]
  },
  {
   "cell_type": "code",
   "execution_count": null,
   "metadata": {},
   "outputs": [],
   "source": []
  },
  {
   "cell_type": "markdown",
   "metadata": {},
   "source": [
    "###### "
   ]
  }
 ],
 "metadata": {
  "kernelspec": {
   "display_name": "Python 3",
   "language": "python",
   "name": "python3"
  },
  "language_info": {
   "codemirror_mode": {
    "name": "ipython",
    "version": 3
   },
   "file_extension": ".py",
   "mimetype": "text/x-python",
   "name": "python",
   "nbconvert_exporter": "python",
   "pygments_lexer": "ipython3",
   "version": "3.8.5"
  }
 },
 "nbformat": 4,
 "nbformat_minor": 4
}
