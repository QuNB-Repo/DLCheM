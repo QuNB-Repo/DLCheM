{
 "cells": [
  {
   "cell_type": "code",
   "execution_count": 1,
   "metadata": {},
   "outputs": [],
   "source": [
    "from autocombinatorial import build"
   ]
  },
  {
   "cell_type": "code",
   "execution_count": null,
   "metadata": {},
   "outputs": [],
   "source": [
    "'''\n",
    "Last Modified: 2024/10/02\n",
    "\n",
    "Runs random generation of bpy-type molecules for the genetic algorithm\n",
    "Picks out random number and types of functional groups & double bonds\n",
    "to place in random positions around the ring and chooses one linker \n",
    "type to link the two rings, to make a symmetric bi pyridine-type product.\n",
    "\n",
    "    INITIAL_MOL_FILEPATH\n",
    "        - starting bpy mol file path\n",
    "    MAX_NUMBER_N\n",
    "        - max number of nitrogens allowed on the ring\n",
    "    MAX_NUMBER_FG\n",
    "        - max number o functional groups allowed on the ring\n",
    "    MAX_NUMBER_DB\n",
    "        - max number of double bonds allowed on the ring\n",
    "    MOLECULE_NAME \n",
    "        - name of molecule generation, usually an iteration \"%s\" %(i)\n",
    "        over the number of molecules to generate\n",
    "    NUMBER_TO_GENERATE \n",
    "        - number of molecules to generate\n",
    "    \n",
    "Generates combinatorial possibilities of bpy-type molecules\n",
    "'''\n",
    "\n",
    "\n",
    "\n",
    "INITIAL_MOL_FILEPATH = './buildingblocks/startingmolfile.mol'\n",
    "MAX_NUMBER_N = 4 # can be as much as you want, try to keep low\n",
    "MAX_NUMBER_FG = 2 #can be as much as you want, will account for valency, but try not to overcrowd the ring! \n",
    "MAX_NUMBER_DB = 6 #also as above... \n",
    "DOUBLE = True # whether you want the double linker or not! \n",
    "NUMBER_TO_GENERATE = 100\n",
    "\n",
    "for i in range(NUMBER_TO_GENERATE):\n",
    "    MOLECULE_NAME = '%s-' %(i)\n",
    "    molecule = build.autocombinatorial(initial_mol_filepath=INITIAL_MOL_FILEPATH,max_number_n=MAX_NUMBER_N,max_number_fg=MAX_NUMBER_FG,max_number_db=MAX_NUMBER_DB,double=DOUBLE,molecule_name=MOLECULE_NAME)\n",
    "    molecule.add_n()\n",
    "    molecule.add_fg()\n",
    "    molecule.add_db()\n",
    "    molecule.symmetrize()\n",
    "    molecule.linker()\n",
    "    molecule.finalize()\n",
    "    molecule.show() \n",
    "    molecule.remove()\n",
    "\n"
   ]
  }
 ],
 "metadata": {
  "kernelspec": {
   "display_name": "Python 3.7.13 ('embs')",
   "language": "python",
   "name": "python3"
  },
  "language_info": {
   "codemirror_mode": {
    "name": "ipython",
    "version": 3
   },
   "file_extension": ".py",
   "mimetype": "text/x-python",
   "name": "python",
   "nbconvert_exporter": "python",
   "pygments_lexer": "ipython3",
   "version": "3.7.13"
  },
  "orig_nbformat": 4,
  "vscode": {
   "interpreter": {
    "hash": "3e527e0fb9cd72c404b77fc0eaab204e19d8957c418c0845e3410ddf58030085"
   }
  }
 },
 "nbformat": 4,
 "nbformat_minor": 2
}
