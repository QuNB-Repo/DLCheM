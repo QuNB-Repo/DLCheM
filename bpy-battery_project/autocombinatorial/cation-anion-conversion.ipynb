{
 "cells": [
  {
   "cell_type": "code",
   "execution_count": 6,
   "metadata": {},
   "outputs": [
    {
     "name": "stdout",
     "output_type": "stream",
     "text": [
      "how many inputs are you replacing?\n",
      "100\n"
     ]
    }
   ],
   "source": [
    "'''\n",
    "This routine changes all autocombinatorial \n",
    "GAMESS files in directory to charge=2 and inputs \n",
    "solvation lines.\n",
    "\n",
    "add description as it changes\n",
    "\n",
    "Author: Claire Anderson\n",
    "''' \n",
    "\n",
    "import numpy as np\n",
    "import fileinput \n",
    "import random\n",
    "\n",
    "\n",
    "# set up strings to be replaced in the input files\n",
    "string1 = (' MAXIT=200 ICHARG=2 MULT=1 ISPHER=1')\n",
    "#string2 = (' $PCM SOLVNT=DMF SMD=.TRUE. $END' + '\\n' ' $FORCE METHOD=SEMINUM $END')\n",
    "\n",
    "#input, ask how many calculations do you want to replace?\n",
    "print('how many inputs are you replacing?')\n",
    "number_of_inputs = input()\n",
    "number_of_inputs = int(number_of_inputs)\n",
    "\n",
    "\n",
    "for i in range(number_of_inputs):\n",
    "    \n",
    "    \n",
    "    #load the labelled input\n",
    "    name_input = str(i+1) + 'final.inp'\n",
    "    \n",
    "    \n",
    "    # number the trial\n",
    "    trial_number = i+1\n",
    "    # name the trial \"test+num\" but set num as string object not an interget object\n",
    "    name_output = 'cation' + str(trial_number) + '.inp'\n",
    "    output_file = open(name_output, mode = \"w\", encoding=\"utf-8\")\n",
    "    \n",
    "    for line in fileinput.FileInput(name_input,inplace=0):\n",
    "        if ' MAXIT=200 ICHARG=0 MULT=1 ISPHER=1' in line:\n",
    "            #NOTE THAT YOU MUST PUT '+\\n' in order to replace the line fully\n",
    "            line = line.replace(line, string1 + '\\n')\n",
    "#        if ' $STATPT HESS=READ $END' in line:\n",
    "#            line = line.replace(line, line + string2 + '\\n')\n",
    "        output_file.write(line)\n",
    "        \n",
    "output_file.close()"
   ]
  },
  {
   "cell_type": "code",
   "execution_count": null,
   "metadata": {},
   "outputs": [],
   "source": []
  },
  {
   "cell_type": "code",
   "execution_count": null,
   "metadata": {},
   "outputs": [],
   "source": []
  }
 ],
 "metadata": {
  "kernelspec": {
   "display_name": "Python 3",
   "language": "python",
   "name": "python3"
  },
  "language_info": {
   "codemirror_mode": {
    "name": "ipython",
    "version": 3
   },
   "file_extension": ".py",
   "mimetype": "text/x-python",
   "name": "python",
   "nbconvert_exporter": "python",
   "pygments_lexer": "ipython3",
   "version": "3.7.9"
  }
 },
 "nbformat": 4,
 "nbformat_minor": 4
}
