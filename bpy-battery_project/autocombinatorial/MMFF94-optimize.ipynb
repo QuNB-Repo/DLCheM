{
 "cells": [
  {
   "cell_type": "code",
   "execution_count": 1,
   "id": "religious-marking",
   "metadata": {},
   "outputs": [],
   "source": [
    "from rdkit import Chem\n",
    "from rdkit.Chem import AllChem\n",
    "from rdkit.Chem import rdmolfiles\n",
    "\n",
    "\n",
    "m = Chem.MolFromMolFile('bpy.mol')\n",
    "m = Chem.AddHs(m)\n",
    "#    molecule=Chem.MolToMolBlock(m)\n",
    "AllChem.MMFFOptimizeMolecule(m)\n",
    "Chem.rdmolfiles.MolToMolFile(m,'bpy-opt.mol')"
   ]
  },
  {
   "cell_type": "code",
   "execution_count": null,
   "id": "verified-packing",
   "metadata": {},
   "outputs": [],
   "source": []
  }
 ],
 "metadata": {
  "kernelspec": {
   "display_name": "Python 3",
   "language": "python",
   "name": "python3"
  },
  "language_info": {
   "codemirror_mode": {
    "name": "ipython",
    "version": 3
   },
   "file_extension": ".py",
   "mimetype": "text/x-python",
   "name": "python",
   "nbconvert_exporter": "python",
   "pygments_lexer": "ipython3",
   "version": "3.7.9"
  }
 },
 "nbformat": 4,
 "nbformat_minor": 5
}
