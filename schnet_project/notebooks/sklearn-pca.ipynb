{
 "cells": [
  {
   "cell_type": "code",
   "execution_count": 73,
   "metadata": {
    "scrolled": false
   },
   "outputs": [
    {
     "name": "stdout",
     "output_type": "stream",
     "text": [
      "[ 1.40560575e+01+0.00000000e+00j  7.40353984e+00+0.00000000e+00j\n",
      "  8.58863419e+00+0.00000000e+00j -8.82800313e-16+0.00000000e+00j\n",
      " -4.10904554e-16+4.02514404e-16j -4.10904554e-16-4.02514404e-16j\n",
      "  5.04798757e-16+0.00000000e+00j  8.83109866e-18+3.76332891e-16j\n",
      "  8.83109866e-18-3.76332891e-16j  3.68916818e-16+0.00000000e+00j\n",
      " -1.96315338e-16+2.64883627e-16j -1.96315338e-16-2.64883627e-16j\n",
      "  1.81513749e-16+2.11116052e-16j  1.81513749e-16-2.11116052e-16j\n",
      "  2.46504490e-16+0.00000000e+00j  2.06578314e-16+8.90566731e-17j\n",
      "  2.06578314e-16-8.90566731e-17j  1.19042304e-16+9.79631837e-17j\n",
      "  1.19042304e-16-9.79631837e-17j  7.77827930e-18+1.44455469e-16j\n",
      "  7.77827930e-18-1.44455469e-16j -1.76022065e-16+1.86444376e-17j\n",
      " -1.76022065e-16-1.86444376e-17j -9.92510923e-17+9.49174177e-17j\n",
      " -9.92510923e-17-9.49174177e-17j -1.31834707e-16+0.00000000e+00j\n",
      "  5.34328777e-17+7.32947955e-17j  5.34328777e-17-7.32947955e-17j\n",
      " -2.62849584e-17+3.91432194e-17j -2.62849584e-17-3.91432194e-17j]\n"
     ]
    },
    {
     "data": {
      "image/png": "[encoded data removed]",
      "text/plain": [
       "<Figure size 576x432 with 1 Axes>"
      ]
     },
     "metadata": {
      "needs_background": "light"
     },
     "output_type": "display_data"
    }
   ],
   "source": [
    "# The input of this program is a .csv data sheet\n",
    "# set up in a special format (see given example). \n",
    "# The program standardizes the input data then \n",
    "# performs PCA analysis on it. Outputs PCA graph \n",
    "# and covariance matrix. \n",
    "\n",
    "#import libraries\n",
    "\n",
    "import pandas as pd\n",
    "import matplotlib.pyplot as plt\n",
    "import matplotlib\n",
    "\n",
    "# read excel (examples of how to set up your data given in folder)\n",
    "data = pd.read_csv(\"./pca/interaction1/qm911-pca/embedding0-all.csv\") \n",
    "\n",
    "# scale the data \n",
    "from sklearn.preprocessing import StandardScaler\n",
    "scaler = StandardScaler()\n",
    "scaler.fit(data)\n",
    "scaled_data = scaler.transform(data)\n",
    "\n",
    "#print(scaled_data)\n",
    "\n",
    "#perform PCA fit and decompose the data\n",
    "from sklearn.decomposition import  PCA\n",
    "pca = PCA(n_components = 30)\n",
    "pca.fit(scaled_data)\n",
    "x_pca = pca.transform(scaled_data)      \n",
    "\n",
    "#print(x_pca.shape)\n",
    "#label= pd.read_csv(\"./pca/label.csv\")\n",
    "#labelO= pd.read_csv(\"./pca/labelO.csv\")\n",
    "#labelH=pd.read_csv(\"./pca/labelH22.csv\")\n",
    "\n",
    "#plot figure\n",
    "plt.figure(figsize=(8,6))\n",
    "plt.scatter(x_pca[:,0],x_pca[:,1])\n",
    "plt.xlabel('First Principal Component')\n",
    "plt.ylabel('Fourth Principal Component')\n",
    "\n",
    "\n",
    "cov = pca.get_covariance()\n",
    "#print(cov)\n",
    "# optional print covariance and associated eigenvectors\n",
    "#print('covariance')\n",
    "#print(cov)\n",
    "\n",
    "#print(pca.components_) \n",
    "\n",
    "import scipy.linalg as la\n",
    "eig, ev = la.eig(cov)\n",
    "print(eig)\n"
   ]
  },
  {
   "cell_type": "markdown",
   "metadata": {},
   "source": []
  },
  {
   "cell_type": "code",
   "execution_count": null,
   "metadata": {},
   "outputs": [],
   "source": []
  },
  {
   "cell_type": "code",
   "execution_count": null,
   "metadata": {},
   "outputs": [],
   "source": []
  }
 ],
 "metadata": {
  "kernelspec": {
   "display_name": "Python 3",
   "language": "python",
   "name": "python3"
  },
  "language_info": {
   "codemirror_mode": {
    "name": "ipython",
    "version": 3
   },
   "file_extension": ".py",
   "mimetype": "text/x-python",
   "name": "python",
   "nbconvert_exporter": "python",
   "pygments_lexer": "ipython3",
   "version": "3.7.6"
  }
 },
 "nbformat": 4,
 "nbformat_minor": 4
}
