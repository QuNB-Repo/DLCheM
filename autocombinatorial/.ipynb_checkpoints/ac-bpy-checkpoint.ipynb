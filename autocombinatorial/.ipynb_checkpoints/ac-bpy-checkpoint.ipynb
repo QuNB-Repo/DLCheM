{
 "cells": [
  {
   "cell_type": "code",
   "execution_count": 16,
   "metadata": {},
   "outputs": [
    {
     "name": "stdout",
     "output_type": "stream",
     "text": [
      "[0. 0. 0. 0. 0. 0. 0. 0. 0. 0.]\n",
      "[0. 0. 0. 0. 0. 0. 0. 0. 0. 0.]\n"
     ]
    }
   ],
   "source": [
    "label = np.zeros(10)\n",
    "print(label)\n",
    "with open(\"bpy.txt\", \"r\") as f:\n",
    "    lines = f.readlines()\n",
    "with open(\"bpy.txt\", \"w\") as f:\n",
    "    count = 0\n",
    "    for line in lines: \n",
    "        print(line)\n",
    "        if line.strip(\"\\n\") == \"H           1.0  -2.6581006574   0.3356280289  -0.6284400751\":\n",
    "            count = count + 1\n",
    "            f.write(line)\n",
    "            label[line] = count\n",
    "print(label)"
   ]
  },
  {
   "cell_type": "code",
   "execution_count": null,
   "metadata": {},
   "outputs": [],
   "source": []
  },
  {
   "cell_type": "code",
   "execution_count": null,
   "metadata": {},
   "outputs": [],
   "source": []
  },
  {
   "cell_type": "code",
   "execution_count": null,
   "metadata": {},
   "outputs": [],
   "source": []
  }
 ],
 "metadata": {
  "kernelspec": {
   "display_name": "Python 3",
   "language": "python",
   "name": "python3"
  },
  "language_info": {
   "codemirror_mode": {
    "name": "ipython",
    "version": 3
   },
   "file_extension": ".py",
   "mimetype": "text/x-python",
   "name": "python",
   "nbconvert_exporter": "python",
   "pygments_lexer": "ipython3",
   "version": "3.7.6"
  }
 },
 "nbformat": 4,
 "nbformat_minor": 4
}
