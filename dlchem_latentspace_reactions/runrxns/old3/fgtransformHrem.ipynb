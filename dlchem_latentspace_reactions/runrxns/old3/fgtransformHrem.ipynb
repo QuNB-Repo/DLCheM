{
 "cells": [
  {
   "attachments": {},
   "cell_type": "markdown",
   "metadata": {},
   "source": [
    "Runs the fg transform tool "
   ]
  },
  {
   "attachments": {},
   "cell_type": "markdown",
   "metadata": {},
   "source": [
    "For Methylation Reaction (with no optimization)"
   ]
  },
  {
   "cell_type": "code",
   "execution_count": 1,
   "metadata": {},
   "outputs": [
    {
     "name": "stderr",
     "output_type": "stream",
     "text": [
      "/home/amerelsamman/anaconda3/envs/dlchem/lib/python3.7/site-packages/tqdm/auto.py:21: TqdmWarning: IProgress not found. Please update jupyter and ipywidgets. See https://ipywidgets.readthedocs.io/en/stable/user_install.html\n",
      "  from .autonotebook import tqdm as notebook_tqdm\n",
      "/home/amerelsamman/anaconda3/envs/dlchem/lib/python3.7/site-packages/schnetpack/data/atoms.py:327: UserWarning: The given NumPy array is not writable, and PyTorch does not support non-writable tensors. This means writing to this tensor will result in undefined behavior. You may want to copy the array to protect its data or make it writable before converting it to a tensor. This type of warning will be suppressed for the rest of this program. (Triggered internally at ../torch/csrc/utils/tensor_numpy.cpp:199.)\n",
      "  properties[pname] = torch.FloatTensor(prop)\n",
      "/home/amerelsamman/anaconda3/envs/dlchem/lib/python3.7/site-packages/ase/atoms.py:968: VisibleDeprecationWarning: Use get_global_number_of_atoms() instead\n",
      "  np.VisibleDeprecationWarning)\n"
     ]
    },
    {
     "name": "stdout",
     "output_type": "stream",
     "text": [
      "Properties: [{'energy': array([0.], dtype=float32)}, {'energy': array([0.], dtype=float32)}, {'energy': array([0.], dtype=float32)}, {'energy': array([0.], dtype=float32)}, {'energy': array([0.], dtype=float32)}, {'energy': array([0.], dtype=float32)}, {'energy': array([0.], dtype=float32)}, {'energy': array([0.], dtype=float32)}, {'energy': array([0.], dtype=float32)}, {'energy': array([0.], dtype=float32)}, {'energy': array([0.], dtype=float32)}, {'energy': array([0.], dtype=float32)}, {'energy': array([0.], dtype=float32)}, {'energy': array([0.], dtype=float32)}, {'energy': array([0.], dtype=float32)}, {'energy': array([0.], dtype=float32)}, {'energy': array([0.], dtype=float32)}, {'energy': array([0.], dtype=float32)}, {'energy': array([0.], dtype=float32)}, {'energy': array([0.], dtype=float32)}, {'energy': array([0.], dtype=float32)}, {'energy': array([0.], dtype=float32)}, {'energy': array([0.], dtype=float32)}, {'energy': array([0.], dtype=float32)}, {'energy': array([0.], dtype=float32)}, {'energy': array([0.], dtype=float32)}, {'energy': array([0.], dtype=float32)}, {'energy': array([0.], dtype=float32)}, {'energy': array([0.], dtype=float32)}, {'energy': array([0.], dtype=float32)}, {'energy': array([0.], dtype=float32)}, {'energy': array([0.], dtype=float32)}, {'energy': array([0.], dtype=float32)}, {'energy': array([0.], dtype=float32)}, {'energy': array([0.], dtype=float32)}, {'energy': array([0.], dtype=float32)}, {'energy': array([0.], dtype=float32)}, {'energy': array([0.], dtype=float32)}, {'energy': array([0.], dtype=float32)}, {'energy': array([0.], dtype=float32)}, {'energy': array([0.], dtype=float32)}, {'energy': array([0.], dtype=float32)}, {'energy': array([0.], dtype=float32)}, {'energy': array([0.], dtype=float32)}, {'energy': array([0.], dtype=float32)}, {'energy': array([0.], dtype=float32)}, {'energy': array([0.], dtype=float32)}, {'energy': array([0.], dtype=float32)}, {'energy': array([0.], dtype=float32)}, {'energy': array([0.], dtype=float32)}, {'energy': array([0.], dtype=float32)}, {'energy': array([0.], dtype=float32)}, {'energy': array([0.], dtype=float32)}, {'energy': array([0.], dtype=float32)}, {'energy': array([0.], dtype=float32)}, {'energy': array([0.], dtype=float32)}, {'energy': array([0.], dtype=float32)}, {'energy': array([0.], dtype=float32)}, {'energy': array([0.], dtype=float32)}, {'energy': array([0.], dtype=float32)}, {'energy': array([0.], dtype=float32)}, {'energy': array([0.], dtype=float32)}, {'energy': array([0.], dtype=float32)}, {'energy': array([0.], dtype=float32)}, {'energy': array([0.], dtype=float32)}, {'energy': array([0.], dtype=float32)}, {'energy': array([0.], dtype=float32)}, {'energy': array([0.], dtype=float32)}]\n",
      "Properties: [{'energy': array([0.], dtype=float32)}, {'energy': array([0.], dtype=float32)}, {'energy': array([0.], dtype=float32)}, {'energy': array([0.], dtype=float32)}, {'energy': array([0.], dtype=float32)}, {'energy': array([0.], dtype=float32)}, {'energy': array([0.], dtype=float32)}, {'energy': array([0.], dtype=float32)}, {'energy': array([0.], dtype=float32)}, {'energy': array([0.], dtype=float32)}, {'energy': array([0.], dtype=float32)}, {'energy': array([0.], dtype=float32)}, {'energy': array([0.], dtype=float32)}, {'energy': array([0.], dtype=float32)}, {'energy': array([0.], dtype=float32)}, {'energy': array([0.], dtype=float32)}, {'energy': array([0.], dtype=float32)}, {'energy': array([0.], dtype=float32)}, {'energy': array([0.], dtype=float32)}, {'energy': array([0.], dtype=float32)}, {'energy': array([0.], dtype=float32)}, {'energy': array([0.], dtype=float32)}, {'energy': array([0.], dtype=float32)}, {'energy': array([0.], dtype=float32)}, {'energy': array([0.], dtype=float32)}, {'energy': array([0.], dtype=float32)}, {'energy': array([0.], dtype=float32)}, {'energy': array([0.], dtype=float32)}, {'energy': array([0.], dtype=float32)}, {'energy': array([0.], dtype=float32)}, {'energy': array([0.], dtype=float32)}, {'energy': array([0.], dtype=float32)}, {'energy': array([0.], dtype=float32)}, {'energy': array([0.], dtype=float32)}, {'energy': array([0.], dtype=float32)}, {'energy': array([0.], dtype=float32)}, {'energy': array([0.], dtype=float32)}, {'energy': array([0.], dtype=float32)}, {'energy': array([0.], dtype=float32)}, {'energy': array([0.], dtype=float32)}, {'energy': array([0.], dtype=float32)}, {'energy': array([0.], dtype=float32)}, {'energy': array([0.], dtype=float32)}, {'energy': array([0.], dtype=float32)}, {'energy': array([0.], dtype=float32)}, {'energy': array([0.], dtype=float32)}, {'energy': array([0.], dtype=float32)}, {'energy': array([0.], dtype=float32)}, {'energy': array([0.], dtype=float32)}, {'energy': array([0.], dtype=float32)}, {'energy': array([0.], dtype=float32)}, {'energy': array([0.], dtype=float32)}, {'energy': array([0.], dtype=float32)}, {'energy': array([0.], dtype=float32)}, {'energy': array([0.], dtype=float32)}, {'energy': array([0.], dtype=float32)}, {'energy': array([0.], dtype=float32)}, {'energy': array([0.], dtype=float32)}, {'energy': array([0.], dtype=float32)}, {'energy': array([0.], dtype=float32)}, {'energy': array([0.], dtype=float32)}, {'energy': array([0.], dtype=float32)}, {'energy': array([0.], dtype=float32)}, {'energy': array([0.], dtype=float32)}, {'energy': array([0.], dtype=float32)}, {'energy': array([0.], dtype=float32)}, {'energy': array([0.], dtype=float32)}, {'energy': array([0.], dtype=float32)}]\n"
     ]
    }
   ],
   "source": [
    "from fgtransform import statereaction\n",
    "\n",
    "#Dataset\n",
    "dataset_filepath = 'data/datasets/QM9/qm9.db'\n",
    "\n",
    "\n",
    "#H-TYPE TRANSFORMATION\n",
    "targetlabelH_filepath = 'data/autolabel/Hqm9alllabelpert4/labelpert4ver2.csv'\n",
    "\n",
    "#pert3\n",
    "#remove all H's of CH3-CH2-C and evaluate O embs ---> CH2-CH2-C...O (pert 3)\n",
    "#labelH1id = 17\n",
    "\n",
    "#pert 1 - 3, pret2 - 9, pert 3 - 21 \n",
    "#OH -> O for primary alcohol O embedding\n",
    "labelH1id = 69\n",
    "\n",
    "n_molecules = [0,10000]\n",
    "\n",
    "#OUTPUT\n",
    "output_filepath1 = 'data/fgtransform/model1/remove/H/1hydroxylOpert4/init.xyz'\n",
    "output_filepath2 = 'data/fgtransform/model1/remove/H/1hydroxylOpert4/trans.xyz'\n",
    "\n",
    "available_properties = ['energy']\n",
    "\n",
    "statereaction = statereaction.transform(dataset_filepath,targetlabelH_filepath,labelH1id,output_filepath1,output_filepath2,n_molecules,available_properties)\n",
    "number_trans = statereaction.removeH()"
   ]
  },
  {
   "cell_type": "code",
   "execution_count": null,
   "metadata": {},
   "outputs": [],
   "source": [
    "print(number_trans)"
   ]
  },
  {
   "attachments": {},
   "cell_type": "markdown",
   "metadata": {},
   "source": []
  },
  {
   "attachments": {},
   "cell_type": "markdown",
   "metadata": {},
   "source": [
    "FGTransform Analysis"
   ]
  },
  {
   "attachments": {},
   "cell_type": "markdown",
   "metadata": {},
   "source": []
  },
  {
   "attachments": {},
   "cell_type": "markdown",
   "metadata": {},
   "source": [
    "#Run extract embeddings on init and trans"
   ]
  },
  {
   "cell_type": "code",
   "execution_count": null,
   "metadata": {},
   "outputs": [],
   "source": [
    "#Run extract embeddings on init and trans\n",
    "from extractembeddings import allelementextract\n",
    "\n",
    "init_dataset_filepath = 'data/fgtransform/model1/remove/H/1hydroxylOpert4/init.db'\n",
    "init_save_filepath = 'data/fgtransform/model1/remove/H/1hydroxylOpert4/initO.csv'\n",
    "trans_dataset_filepath = 'data/fgtransform/model1/remove/H/1hydroxylOpert4/trans.db'\n",
    "trans_save_filepath = 'data/fgtransform/model1/remove/H/1hydroxylOpert4/transO.csv'\n",
    "\n",
    "model_filepath = 'data/trainedmodels/model1/best_model'\n",
    "start = 0\n",
    "end = 68\n",
    "n_features = 128\n",
    "n_layers = [5,6]\n",
    "all_elements = False\n",
    "element = [8]\n",
    "qm9=False\n",
    "available_properties = ['energy']\n",
    "#label_file =  '../../data/labeldataset/%s/label%s%s.csv' %(element,element,number_inputs)\n",
    "\n",
    "#run extract on init and trans\n",
    "#default: True\n",
    "label = False\n",
    "restrict_label = False\n",
    "allowed_labels = [8,7]\n",
    "scratch_file = 'temp2.xyz'\n",
    "\n",
    "\n",
    "#allelementextract.extract(qm9,init_dataset_filepath,model_filepath,init_save_filepath,start,end,n_features,n_layers,all_elements,element,available_properties=available_properties)\n",
    "allelementextract.extract(qm9,init_dataset_filepath,model_filepath,init_save_filepath,start,end,n_features,n_layers,all_elements,element,available_properties=available_properties,label=label)\n"
   ]
  },
  {
   "attachments": {},
   "cell_type": "markdown",
   "metadata": {},
   "source": [
    "transform with average diff vector and use pca on both"
   ]
  },
  {
   "cell_type": "code",
   "execution_count": null,
   "metadata": {},
   "outputs": [],
   "source": [
    "from tools.utils import utils_fgtransform, utils_dimred, utils_numericalfiletools\n",
    "\n",
    "n_molecules = 300\n",
    "n_features = 128\n",
    "fg_trans_fildir = 'data/fgtransform/model1/remove/H/1hydroxylOpert3/'\n",
    "\n",
    "#Calculate average diff vector\n",
    "data_filepath1 = fg_trans_fildir+ 'initO.csv'\n",
    "data_filepath2 = fg_trans_fildir+ 'transO.csv'\n",
    "diff_mean = utils_fgtransform.vecdiffmean(data_filepath1,data_filepath2,n_features,n_molecules)\n",
    "\n",
    "\n",
    "#Perform transformation\n",
    "vec_filepath = fg_trans_fildir+ 'initOdiff.csv'\n",
    "save_filepath = fg_trans_fildir+ 'initOtransform.csv'\n",
    "utils_fgtransform.add_vectomat(vec_filepath,data_filepath1,n_features,save_filepath)\n",
    "\n",
    "from tools.utils import utils_fgtransform\n",
    "\n",
    "true_trans_filepath = fg_trans_fildir+ 'transO.csv'\n",
    "art_trans_filepath = fg_trans_fildir+ 'initOtransform.csv'\n",
    "#DO NOT SORT! \n",
    "utils_fgtransform.nearest_trans(true_trans_filepath,art_trans_filepath,n_molecules,n_features)\n",
    "\n",
    "\n"
   ]
  },
  {
   "cell_type": "code",
   "execution_count": null,
   "metadata": {},
   "outputs": [],
   "source": [
    "from tools.utils import utils_fgtransform, utils_dimred, utils_numericalfiletools\n",
    "n_molecules = 68\n",
    "n_features = 128\n",
    "fg_trans_fildir = 'data/fgtransform/model1/oxidation/1alcsoxpert2/'\n",
    "\n",
    "\n",
    "#must stack initOtransform with initO call it bothO\n",
    "init_filepath = fg_trans_fildir+ 'initO.csv'\n",
    "inittrans_filepath = fg_trans_fildir+ 'initOtransform.csv'\n",
    "save_filepath = fg_trans_fildir+ 'bothOtransform.csv'\n",
    "n_data1 = n_molecules\n",
    "n_data2 = n_molecules\n",
    "utils_numericalfiletools.vstacktwofiles(init_filepath,inittrans_filepath,save_filepath,n_data1,n_data2,single_dim=False,skip_header1=1,skip_header2=0)\n",
    "\n",
    "n_molecules = n_molecules*2\n",
    "#Dimensionality reduction on new file with init and inittransformed\n",
    "data_filepath = fg_trans_fildir+ 'bothOtransform.csv'\n",
    "save_filepath = fg_trans_fildir+ 'initOtransform.csv'\n",
    "n_components = 128\n",
    "skip_header =  0\n",
    "scale_data = False\n",
    "utils_dimred.pca(data_filepath,n_components,n_features,scale_data,save_filepath, n_molecules,skip_header)\n",
    "\n",
    "data_filepath = fg_trans_fildir+ 'initOtransformpca.csv'\n",
    "save_filepath = fg_trans_fildir+ 'initOtransformpcavecs.csv'\n",
    "#Make vector plotting file from the pca (x1,y1,x2,y2) \n",
    "#(half the data is init, half is trans after compilation)\n",
    "utils_fgtransform.scatters_to_vectors(data_filepath,save_filepath)"
   ]
  }
 ],
 "metadata": {
  "kernelspec": {
   "display_name": "Python 3.7.13 ('embs')",
   "language": "python",
   "name": "python3"
  },
  "language_info": {
   "codemirror_mode": {
    "name": "ipython",
    "version": 3
   },
   "file_extension": ".py",
   "mimetype": "text/x-python",
   "name": "python",
   "nbconvert_exporter": "python",
   "pygments_lexer": "ipython3",
   "version": "3.7.16"
  },
  "orig_nbformat": 4,
  "vscode": {
   "interpreter": {
    "hash": "3e527e0fb9cd72c404b77fc0eaab204e19d8957c418c0845e3410ddf58030085"
   }
  }
 },
 "nbformat": 4,
 "nbformat_minor": 2
}
