{
 "cells": [
  {
   "attachments": {},
   "cell_type": "markdown",
   "metadata": {},
   "source": [
    "This code models chemical reactions in xyz/mol files \n",
    "so it can build datasets to use/analyze with machine learning application\n"
   ]
  },
  {
   "cell_type": "code",
   "execution_count": 1,
   "metadata": {},
   "outputs": [
    {
     "name": "stderr",
     "output_type": "stream",
     "text": [
      "/home/amerelsamman/anaconda3/envs/dlchem/lib/python3.7/site-packages/tqdm/auto.py:21: TqdmWarning: IProgress not found. Please update jupyter and ipywidgets. See https://ipywidgets.readthedocs.io/en/stable/user_install.html\n",
      "  from .autonotebook import tqdm as notebook_tqdm\n",
      "/home/amerelsamman/anaconda3/envs/dlchem/lib/python3.7/site-packages/schnetpack/data/atoms.py:327: UserWarning: The given NumPy array is not writable, and PyTorch does not support non-writable tensors. This means writing to this tensor will result in undefined behavior. You may want to copy the array to protect its data or make it writable before converting it to a tensor. This type of warning will be suppressed for the rest of this program. (Triggered internally at ../torch/csrc/utils/tensor_numpy.cpp:199.)\n",
      "  properties[pname] = torch.FloatTensor(prop)\n",
      "/home/amerelsamman/anaconda3/envs/dlchem/lib/python3.7/site-packages/ase/atoms.py:968: VisibleDeprecationWarning: Use get_global_number_of_atoms() instead\n",
      "  np.VisibleDeprecationWarning)\n"
     ]
    },
    {
     "name": "stdout",
     "output_type": "stream",
     "text": [
      "6600\n"
     ]
    }
   ],
   "source": [
    "from utils import reaxml\n",
    "\n",
    "\n",
    "#database properties\n",
    "qm9=True\n",
    "db_filepath = '../data/datasets/QM9/qm9.db'\n",
    "available_properties = ['energy']\n",
    "#find a specific molecule or a range of molecules\n",
    "#you want to react (possibly depending on if they have\n",
    "#the right \"key\" i.e. F.G. for the reaction \"door\")\n",
    "#ex. 1-2propynol is idx = 32\n",
    "#ex butanol idx = 130,\n",
    "#idx == 9 in the init.db of 1alcsethspert3\n",
    "\n",
    "#NOTE for now you CANNOT start at the beginning\n",
    "#DO NOT MODIFY FOR THAT or else you\n",
    "#will mess up the data counting (maybe later use the embs file directly)\n",
    "mol_range = [0,1000]\n",
    "\n",
    "#label filepath is the autolabel dir\n",
    "#choose labels to do the hydrogen shifting (oxidation)\n",
    "label_filepath = '../data/autolabel/Hqm9alllabelpert3/labelpert3ver2.csv'\n",
    "label1 = 21\n",
    "\n",
    "#timestep properties\n",
    "timesteps = 200\n",
    "#technically I think you are exponentially\n",
    "#increasing distance, if you are doing this bond vector technique\n",
    "scale_factor = 0.005\n",
    "\n",
    "#output filepath\n",
    "output_filepath = '../data/fgtransform/model1/oxidation/1alcsoxpert3/rxns/timestep200-scale0.01/1000scan/redo/outs.xyz'\n",
    "\n",
    "#Incase you want to start in middle of dataset, need to \n",
    "#tell which is the initial Hatom index\n",
    "initial_H_atom_idx = 0\n",
    "\n",
    "#initialize the reaction paramaters\n",
    "mols = reaxml.rxns(db_filepath,qm9,available_properties,mol_range,label_filepath,label1,timesteps,scale_factor,output_filepath,initial_H_atom_idx)\n",
    "#run the reaction\n",
    "mols.oxidize()"
   ]
  }
 ],
 "metadata": {
  "kernelspec": {
   "display_name": "dlchem",
   "language": "python",
   "name": "python3"
  },
  "language_info": {
   "codemirror_mode": {
    "name": "ipython",
    "version": 3
   },
   "file_extension": ".py",
   "mimetype": "text/x-python",
   "name": "python",
   "nbconvert_exporter": "python",
   "pygments_lexer": "ipython3",
   "version": "3.7.16"
  },
  "orig_nbformat": 4
 },
 "nbformat": 4,
 "nbformat_minor": 2
}
