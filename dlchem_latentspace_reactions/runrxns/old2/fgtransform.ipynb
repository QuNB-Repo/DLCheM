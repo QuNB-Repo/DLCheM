{
 "cells": [
  {
   "attachments": {},
   "cell_type": "markdown",
   "metadata": {},
   "source": [
    "Runs the fg transform tool "
   ]
  },
  {
   "attachments": {},
   "cell_type": "markdown",
   "metadata": {},
   "source": [
    "For Methylation Reaction (with no optimization)"
   ]
  },
  {
   "cell_type": "code",
   "execution_count": 1,
   "metadata": {},
   "outputs": [
    {
     "name": "stderr",
     "output_type": "stream",
     "text": [
      "/home/amerelsamman/anaconda3/envs/dlchem/lib/python3.7/site-packages/tqdm/auto.py:21: TqdmWarning: IProgress not found. Please update jupyter and ipywidgets. See https://ipywidgets.readthedocs.io/en/stable/user_install.html\n",
      "  from .autonotebook import tqdm as notebook_tqdm\n",
      "/home/amerelsamman/anaconda3/envs/dlchem/lib/python3.7/site-packages/schnetpack/data/atoms.py:327: UserWarning: The given NumPy array is not writable, and PyTorch does not support non-writable tensors. This means writing to this tensor will result in undefined behavior. You may want to copy the array to protect its data or make it writable before converting it to a tensor. This type of warning will be suppressed for the rest of this program. (Triggered internally at ../torch/csrc/utils/tensor_numpy.cpp:199.)\n",
      "  properties[pname] = torch.FloatTensor(prop)\n",
      "/home/amerelsamman/anaconda3/envs/dlchem/lib/python3.7/site-packages/ase/atoms.py:968: VisibleDeprecationWarning: Use get_global_number_of_atoms() instead\n",
      "  np.VisibleDeprecationWarning)\n",
      "RDKit ERROR: [11:58:36] Explicit valence for atom # 3 N, 4, is greater than permitted\n",
      "[11:58:36] Explicit valence for atom # 3 N, 4, is greater than permitted\n"
     ]
    },
    {
     "name": "stdout",
     "output_type": "stream",
     "text": [
      "#fg_found: 364\n"
     ]
    },
    {
     "name": "stderr",
     "output_type": "stream",
     "text": [
      "rm: cannot remove 'data/fgtransform/model1/methylation/2alcsethspert3/init.db': No such file or directory\n"
     ]
    },
    {
     "name": "stdout",
     "output_type": "stream",
     "text": [
      "Properties: [{'energy': array([0.], dtype=float32)}, {'energy': array([0.], dtype=float32)}, {'energy': array([0.], dtype=float32)}, {'energy': array([0.], dtype=float32)}, {'energy': array([0.], dtype=float32)}, {'energy': array([0.], dtype=float32)}, {'energy': array([0.], dtype=float32)}, {'energy': array([0.], dtype=float32)}, {'energy': array([0.], dtype=float32)}, {'energy': array([0.], dtype=float32)}, {'energy': array([0.], dtype=float32)}, {'energy': array([0.], dtype=float32)}, {'energy': array([0.], dtype=float32)}, {'energy': array([0.], dtype=float32)}, {'energy': array([0.], dtype=float32)}, {'energy': array([0.], dtype=float32)}, {'energy': array([0.], dtype=float32)}, {'energy': array([0.], dtype=float32)}, {'energy': array([0.], dtype=float32)}, {'energy': array([0.], dtype=float32)}, {'energy': array([0.], dtype=float32)}, {'energy': array([0.], dtype=float32)}, {'energy': array([0.], dtype=float32)}, {'energy': array([0.], dtype=float32)}, {'energy': array([0.], dtype=float32)}, {'energy': array([0.], dtype=float32)}, {'energy': array([0.], dtype=float32)}, {'energy': array([0.], dtype=float32)}, {'energy': array([0.], dtype=float32)}, {'energy': array([0.], dtype=float32)}, {'energy': array([0.], dtype=float32)}, {'energy': array([0.], dtype=float32)}, {'energy': array([0.], dtype=float32)}, {'energy': array([0.], dtype=float32)}, {'energy': array([0.], dtype=float32)}, {'energy': array([0.], dtype=float32)}, {'energy': array([0.], dtype=float32)}, {'energy': array([0.], dtype=float32)}, {'energy': array([0.], dtype=float32)}, {'energy': array([0.], dtype=float32)}, {'energy': array([0.], dtype=float32)}, {'energy': array([0.], dtype=float32)}, {'energy': array([0.], dtype=float32)}, {'energy': array([0.], dtype=float32)}, {'energy': array([0.], dtype=float32)}, {'energy': array([0.], dtype=float32)}, {'energy': array([0.], dtype=float32)}, {'energy': array([0.], dtype=float32)}, {'energy': array([0.], dtype=float32)}, {'energy': array([0.], dtype=float32)}, {'energy': array([0.], dtype=float32)}, {'energy': array([0.], dtype=float32)}, {'energy': array([0.], dtype=float32)}, {'energy': array([0.], dtype=float32)}, {'energy': array([0.], dtype=float32)}, {'energy': array([0.], dtype=float32)}, {'energy': array([0.], dtype=float32)}, {'energy': array([0.], dtype=float32)}, {'energy': array([0.], dtype=float32)}, {'energy': array([0.], dtype=float32)}, {'energy': array([0.], dtype=float32)}, {'energy': array([0.], dtype=float32)}, {'energy': array([0.], dtype=float32)}, {'energy': array([0.], dtype=float32)}, {'energy': array([0.], dtype=float32)}, {'energy': array([0.], dtype=float32)}, {'energy': array([0.], dtype=float32)}, {'energy': array([0.], dtype=float32)}, {'energy': array([0.], dtype=float32)}, {'energy': array([0.], dtype=float32)}, {'energy': array([0.], dtype=float32)}, {'energy': array([0.], dtype=float32)}, {'energy': array([0.], dtype=float32)}, {'energy': array([0.], dtype=float32)}, {'energy': array([0.], dtype=float32)}, {'energy': array([0.], dtype=float32)}, {'energy': array([0.], dtype=float32)}, {'energy': array([0.], dtype=float32)}, {'energy': array([0.], dtype=float32)}, {'energy': array([0.], dtype=float32)}, {'energy': array([0.], dtype=float32)}, {'energy': array([0.], dtype=float32)}, {'energy': array([0.], dtype=float32)}, {'energy': array([0.], dtype=float32)}, {'energy': array([0.], dtype=float32)}, {'energy': array([0.], dtype=float32)}, {'energy': array([0.], dtype=float32)}, {'energy': array([0.], dtype=float32)}, {'energy': array([0.], dtype=float32)}, {'energy': array([0.], dtype=float32)}, {'energy': array([0.], dtype=float32)}, {'energy': array([0.], dtype=float32)}, {'energy': array([0.], dtype=float32)}, {'energy': array([0.], dtype=float32)}, {'energy': array([0.], dtype=float32)}, {'energy': array([0.], dtype=float32)}, {'energy': array([0.], dtype=float32)}, {'energy': array([0.], dtype=float32)}, {'energy': array([0.], dtype=float32)}, {'energy': array([0.], dtype=float32)}, {'energy': array([0.], dtype=float32)}, {'energy': array([0.], dtype=float32)}, {'energy': array([0.], dtype=float32)}, {'energy': array([0.], dtype=float32)}, {'energy': array([0.], dtype=float32)}, {'energy': array([0.], dtype=float32)}, {'energy': array([0.], dtype=float32)}, {'energy': array([0.], dtype=float32)}, {'energy': array([0.], dtype=float32)}, {'energy': array([0.], dtype=float32)}, {'energy': array([0.], dtype=float32)}, {'energy': array([0.], dtype=float32)}, {'energy': array([0.], dtype=float32)}, {'energy': array([0.], dtype=float32)}, {'energy': array([0.], dtype=float32)}, {'energy': array([0.], dtype=float32)}, {'energy': array([0.], dtype=float32)}, {'energy': array([0.], dtype=float32)}, {'energy': array([0.], dtype=float32)}, {'energy': array([0.], dtype=float32)}, {'energy': array([0.], dtype=float32)}, {'energy': array([0.], dtype=float32)}, {'energy': array([0.], dtype=float32)}, {'energy': array([0.], dtype=float32)}, {'energy': array([0.], dtype=float32)}, {'energy': array([0.], dtype=float32)}, {'energy': array([0.], dtype=float32)}, {'energy': array([0.], dtype=float32)}, {'energy': array([0.], dtype=float32)}, {'energy': array([0.], dtype=float32)}, {'energy': array([0.], dtype=float32)}, {'energy': array([0.], dtype=float32)}, {'energy': array([0.], dtype=float32)}, {'energy': array([0.], dtype=float32)}, {'energy': array([0.], dtype=float32)}, {'energy': array([0.], dtype=float32)}, {'energy': array([0.], dtype=float32)}, {'energy': array([0.], dtype=float32)}, {'energy': array([0.], dtype=float32)}, {'energy': array([0.], dtype=float32)}, {'energy': array([0.], dtype=float32)}, {'energy': array([0.], dtype=float32)}, {'energy': array([0.], dtype=float32)}, {'energy': array([0.], dtype=float32)}, {'energy': array([0.], dtype=float32)}, {'energy': array([0.], dtype=float32)}, {'energy': array([0.], dtype=float32)}, {'energy': array([0.], dtype=float32)}, {'energy': array([0.], dtype=float32)}, {'energy': array([0.], dtype=float32)}, {'energy': array([0.], dtype=float32)}, {'energy': array([0.], dtype=float32)}, {'energy': array([0.], dtype=float32)}, {'energy': array([0.], dtype=float32)}, {'energy': array([0.], dtype=float32)}, {'energy': array([0.], dtype=float32)}, {'energy': array([0.], dtype=float32)}, {'energy': array([0.], dtype=float32)}, {'energy': array([0.], dtype=float32)}, {'energy': array([0.], dtype=float32)}, {'energy': array([0.], dtype=float32)}, {'energy': array([0.], dtype=float32)}, {'energy': array([0.], dtype=float32)}, {'energy': array([0.], dtype=float32)}, {'energy': array([0.], dtype=float32)}, {'energy': array([0.], dtype=float32)}, {'energy': array([0.], dtype=float32)}, {'energy': array([0.], dtype=float32)}, {'energy': array([0.], dtype=float32)}, {'energy': array([0.], dtype=float32)}, {'energy': array([0.], dtype=float32)}, {'energy': array([0.], dtype=float32)}, {'energy': array([0.], dtype=float32)}, {'energy': array([0.], dtype=float32)}, {'energy': array([0.], dtype=float32)}, {'energy': array([0.], dtype=float32)}, {'energy': array([0.], dtype=float32)}, {'energy': array([0.], dtype=float32)}, {'energy': array([0.], dtype=float32)}, {'energy': array([0.], dtype=float32)}, {'energy': array([0.], dtype=float32)}, {'energy': array([0.], dtype=float32)}, {'energy': array([0.], dtype=float32)}, {'energy': array([0.], dtype=float32)}, {'energy': array([0.], dtype=float32)}, {'energy': array([0.], dtype=float32)}, {'energy': array([0.], dtype=float32)}, {'energy': array([0.], dtype=float32)}, {'energy': array([0.], dtype=float32)}, {'energy': array([0.], dtype=float32)}, {'energy': array([0.], dtype=float32)}, {'energy': array([0.], dtype=float32)}, {'energy': array([0.], dtype=float32)}, {'energy': array([0.], dtype=float32)}, {'energy': array([0.], dtype=float32)}, {'energy': array([0.], dtype=float32)}, {'energy': array([0.], dtype=float32)}, {'energy': array([0.], dtype=float32)}, {'energy': array([0.], dtype=float32)}, {'energy': array([0.], dtype=float32)}, {'energy': array([0.], dtype=float32)}, {'energy': array([0.], dtype=float32)}, {'energy': array([0.], dtype=float32)}, {'energy': array([0.], dtype=float32)}, {'energy': array([0.], dtype=float32)}, {'energy': array([0.], dtype=float32)}, {'energy': array([0.], dtype=float32)}, {'energy': array([0.], dtype=float32)}, {'energy': array([0.], dtype=float32)}, {'energy': array([0.], dtype=float32)}, {'energy': array([0.], dtype=float32)}, {'energy': array([0.], dtype=float32)}, {'energy': array([0.], dtype=float32)}, {'energy': array([0.], dtype=float32)}, {'energy': array([0.], dtype=float32)}, {'energy': array([0.], dtype=float32)}, {'energy': array([0.], dtype=float32)}, {'energy': array([0.], dtype=float32)}, {'energy': array([0.], dtype=float32)}, {'energy': array([0.], dtype=float32)}, {'energy': array([0.], dtype=float32)}, {'energy': array([0.], dtype=float32)}, {'energy': array([0.], dtype=float32)}, {'energy': array([0.], dtype=float32)}, {'energy': array([0.], dtype=float32)}, {'energy': array([0.], dtype=float32)}, {'energy': array([0.], dtype=float32)}, {'energy': array([0.], dtype=float32)}, {'energy': array([0.], dtype=float32)}, {'energy': array([0.], dtype=float32)}, {'energy': array([0.], dtype=float32)}, {'energy': array([0.], dtype=float32)}, {'energy': array([0.], dtype=float32)}, {'energy': array([0.], dtype=float32)}, {'energy': array([0.], dtype=float32)}, {'energy': array([0.], dtype=float32)}, {'energy': array([0.], dtype=float32)}, {'energy': array([0.], dtype=float32)}, {'energy': array([0.], dtype=float32)}, {'energy': array([0.], dtype=float32)}, {'energy': array([0.], dtype=float32)}, {'energy': array([0.], dtype=float32)}, {'energy': array([0.], dtype=float32)}, {'energy': array([0.], dtype=float32)}, {'energy': array([0.], dtype=float32)}, {'energy': array([0.], dtype=float32)}, {'energy': array([0.], dtype=float32)}, {'energy': array([0.], dtype=float32)}, {'energy': array([0.], dtype=float32)}, {'energy': array([0.], dtype=float32)}, {'energy': array([0.], dtype=float32)}, {'energy': array([0.], dtype=float32)}, {'energy': array([0.], dtype=float32)}, {'energy': array([0.], dtype=float32)}, {'energy': array([0.], dtype=float32)}, {'energy': array([0.], dtype=float32)}, {'energy': array([0.], dtype=float32)}, {'energy': array([0.], dtype=float32)}, {'energy': array([0.], dtype=float32)}, {'energy': array([0.], dtype=float32)}, {'energy': array([0.], dtype=float32)}, {'energy': array([0.], dtype=float32)}, {'energy': array([0.], dtype=float32)}, {'energy': array([0.], dtype=float32)}, {'energy': array([0.], dtype=float32)}, {'energy': array([0.], dtype=float32)}, {'energy': array([0.], dtype=float32)}, {'energy': array([0.], dtype=float32)}, {'energy': array([0.], dtype=float32)}, {'energy': array([0.], dtype=float32)}, {'energy': array([0.], dtype=float32)}, {'energy': array([0.], dtype=float32)}, {'energy': array([0.], dtype=float32)}, {'energy': array([0.], dtype=float32)}, {'energy': array([0.], dtype=float32)}, {'energy': array([0.], dtype=float32)}, {'energy': array([0.], dtype=float32)}, {'energy': array([0.], dtype=float32)}, {'energy': array([0.], dtype=float32)}, {'energy': array([0.], dtype=float32)}, {'energy': array([0.], dtype=float32)}, {'energy': array([0.], dtype=float32)}, {'energy': array([0.], dtype=float32)}, {'energy': array([0.], dtype=float32)}, {'energy': array([0.], dtype=float32)}, {'energy': array([0.], dtype=float32)}, {'energy': array([0.], dtype=float32)}, {'energy': array([0.], dtype=float32)}, {'energy': array([0.], dtype=float32)}, {'energy': array([0.], dtype=float32)}, {'energy': array([0.], dtype=float32)}, {'energy': array([0.], dtype=float32)}, {'energy': array([0.], dtype=float32)}, {'energy': array([0.], dtype=float32)}, {'energy': array([0.], dtype=float32)}, {'energy': array([0.], dtype=float32)}, {'energy': array([0.], dtype=float32)}, {'energy': array([0.], dtype=float32)}, {'energy': array([0.], dtype=float32)}, {'energy': array([0.], dtype=float32)}, {'energy': array([0.], dtype=float32)}, {'energy': array([0.], dtype=float32)}, {'energy': array([0.], dtype=float32)}, {'energy': array([0.], dtype=float32)}, {'energy': array([0.], dtype=float32)}, {'energy': array([0.], dtype=float32)}, {'energy': array([0.], dtype=float32)}, {'energy': array([0.], dtype=float32)}, {'energy': array([0.], dtype=float32)}, {'energy': array([0.], dtype=float32)}, {'energy': array([0.], dtype=float32)}, {'energy': array([0.], dtype=float32)}, {'energy': array([0.], dtype=float32)}, {'energy': array([0.], dtype=float32)}, {'energy': array([0.], dtype=float32)}, {'energy': array([0.], dtype=float32)}, {'energy': array([0.], dtype=float32)}, {'energy': array([0.], dtype=float32)}, {'energy': array([0.], dtype=float32)}, {'energy': array([0.], dtype=float32)}, {'energy': array([0.], dtype=float32)}, {'energy': array([0.], dtype=float32)}, {'energy': array([0.], dtype=float32)}, {'energy': array([0.], dtype=float32)}, {'energy': array([0.], dtype=float32)}, {'energy': array([0.], dtype=float32)}, {'energy': array([0.], dtype=float32)}, {'energy': array([0.], dtype=float32)}, {'energy': array([0.], dtype=float32)}, {'energy': array([0.], dtype=float32)}, {'energy': array([0.], dtype=float32)}, {'energy': array([0.], dtype=float32)}, {'energy': array([0.], dtype=float32)}, {'energy': array([0.], dtype=float32)}, {'energy': array([0.], dtype=float32)}, {'energy': array([0.], dtype=float32)}, {'energy': array([0.], dtype=float32)}, {'energy': array([0.], dtype=float32)}, {'energy': array([0.], dtype=float32)}, {'energy': array([0.], dtype=float32)}, {'energy': array([0.], dtype=float32)}, {'energy': array([0.], dtype=float32)}, {'energy': array([0.], dtype=float32)}, {'energy': array([0.], dtype=float32)}, {'energy': array([0.], dtype=float32)}, {'energy': array([0.], dtype=float32)}, {'energy': array([0.], dtype=float32)}, {'energy': array([0.], dtype=float32)}, {'energy': array([0.], dtype=float32)}, {'energy': array([0.], dtype=float32)}, {'energy': array([0.], dtype=float32)}, {'energy': array([0.], dtype=float32)}, {'energy': array([0.], dtype=float32)}, {'energy': array([0.], dtype=float32)}, {'energy': array([0.], dtype=float32)}, {'energy': array([0.], dtype=float32)}, {'energy': array([0.], dtype=float32)}, {'energy': array([0.], dtype=float32)}, {'energy': array([0.], dtype=float32)}, {'energy': array([0.], dtype=float32)}, {'energy': array([0.], dtype=float32)}, {'energy': array([0.], dtype=float32)}, {'energy': array([0.], dtype=float32)}, {'energy': array([0.], dtype=float32)}]\n"
     ]
    },
    {
     "name": "stderr",
     "output_type": "stream",
     "text": [
      "rm: cannot remove 'data/fgtransform/model1/methylation/2alcsethspert3/trans.db': No such file or directory\n"
     ]
    },
    {
     "name": "stdout",
     "output_type": "stream",
     "text": [
      "Properties: [{'energy': array([0.], dtype=float32)}, {'energy': array([0.], dtype=float32)}, {'energy': array([0.], dtype=float32)}, {'energy': array([0.], dtype=float32)}, {'energy': array([0.], dtype=float32)}, {'energy': array([0.], dtype=float32)}, {'energy': array([0.], dtype=float32)}, {'energy': array([0.], dtype=float32)}, {'energy': array([0.], dtype=float32)}, {'energy': array([0.], dtype=float32)}, {'energy': array([0.], dtype=float32)}, {'energy': array([0.], dtype=float32)}, {'energy': array([0.], dtype=float32)}, {'energy': array([0.], dtype=float32)}, {'energy': array([0.], dtype=float32)}, {'energy': array([0.], dtype=float32)}, {'energy': array([0.], dtype=float32)}, {'energy': array([0.], dtype=float32)}, {'energy': array([0.], dtype=float32)}, {'energy': array([0.], dtype=float32)}, {'energy': array([0.], dtype=float32)}, {'energy': array([0.], dtype=float32)}, {'energy': array([0.], dtype=float32)}, {'energy': array([0.], dtype=float32)}, {'energy': array([0.], dtype=float32)}, {'energy': array([0.], dtype=float32)}, {'energy': array([0.], dtype=float32)}, {'energy': array([0.], dtype=float32)}, {'energy': array([0.], dtype=float32)}, {'energy': array([0.], dtype=float32)}, {'energy': array([0.], dtype=float32)}, {'energy': array([0.], dtype=float32)}, {'energy': array([0.], dtype=float32)}, {'energy': array([0.], dtype=float32)}, {'energy': array([0.], dtype=float32)}, {'energy': array([0.], dtype=float32)}, {'energy': array([0.], dtype=float32)}, {'energy': array([0.], dtype=float32)}, {'energy': array([0.], dtype=float32)}, {'energy': array([0.], dtype=float32)}, {'energy': array([0.], dtype=float32)}, {'energy': array([0.], dtype=float32)}, {'energy': array([0.], dtype=float32)}, {'energy': array([0.], dtype=float32)}, {'energy': array([0.], dtype=float32)}, {'energy': array([0.], dtype=float32)}, {'energy': array([0.], dtype=float32)}, {'energy': array([0.], dtype=float32)}, {'energy': array([0.], dtype=float32)}, {'energy': array([0.], dtype=float32)}, {'energy': array([0.], dtype=float32)}, {'energy': array([0.], dtype=float32)}, {'energy': array([0.], dtype=float32)}, {'energy': array([0.], dtype=float32)}, {'energy': array([0.], dtype=float32)}, {'energy': array([0.], dtype=float32)}, {'energy': array([0.], dtype=float32)}, {'energy': array([0.], dtype=float32)}, {'energy': array([0.], dtype=float32)}, {'energy': array([0.], dtype=float32)}, {'energy': array([0.], dtype=float32)}, {'energy': array([0.], dtype=float32)}, {'energy': array([0.], dtype=float32)}, {'energy': array([0.], dtype=float32)}, {'energy': array([0.], dtype=float32)}, {'energy': array([0.], dtype=float32)}, {'energy': array([0.], dtype=float32)}, {'energy': array([0.], dtype=float32)}, {'energy': array([0.], dtype=float32)}, {'energy': array([0.], dtype=float32)}, {'energy': array([0.], dtype=float32)}, {'energy': array([0.], dtype=float32)}, {'energy': array([0.], dtype=float32)}, {'energy': array([0.], dtype=float32)}, {'energy': array([0.], dtype=float32)}, {'energy': array([0.], dtype=float32)}, {'energy': array([0.], dtype=float32)}, {'energy': array([0.], dtype=float32)}, {'energy': array([0.], dtype=float32)}, {'energy': array([0.], dtype=float32)}, {'energy': array([0.], dtype=float32)}, {'energy': array([0.], dtype=float32)}, {'energy': array([0.], dtype=float32)}, {'energy': array([0.], dtype=float32)}, {'energy': array([0.], dtype=float32)}, {'energy': array([0.], dtype=float32)}, {'energy': array([0.], dtype=float32)}, {'energy': array([0.], dtype=float32)}, {'energy': array([0.], dtype=float32)}, {'energy': array([0.], dtype=float32)}, {'energy': array([0.], dtype=float32)}, {'energy': array([0.], dtype=float32)}, {'energy': array([0.], dtype=float32)}, {'energy': array([0.], dtype=float32)}, {'energy': array([0.], dtype=float32)}, {'energy': array([0.], dtype=float32)}, {'energy': array([0.], dtype=float32)}, {'energy': array([0.], dtype=float32)}, {'energy': array([0.], dtype=float32)}, {'energy': array([0.], dtype=float32)}, {'energy': array([0.], dtype=float32)}, {'energy': array([0.], dtype=float32)}, {'energy': array([0.], dtype=float32)}, {'energy': array([0.], dtype=float32)}, {'energy': array([0.], dtype=float32)}, {'energy': array([0.], dtype=float32)}, {'energy': array([0.], dtype=float32)}, {'energy': array([0.], dtype=float32)}, {'energy': array([0.], dtype=float32)}, {'energy': array([0.], dtype=float32)}, {'energy': array([0.], dtype=float32)}, {'energy': array([0.], dtype=float32)}, {'energy': array([0.], dtype=float32)}, {'energy': array([0.], dtype=float32)}, {'energy': array([0.], dtype=float32)}, {'energy': array([0.], dtype=float32)}, {'energy': array([0.], dtype=float32)}, {'energy': array([0.], dtype=float32)}, {'energy': array([0.], dtype=float32)}, {'energy': array([0.], dtype=float32)}, {'energy': array([0.], dtype=float32)}, {'energy': array([0.], dtype=float32)}, {'energy': array([0.], dtype=float32)}, {'energy': array([0.], dtype=float32)}, {'energy': array([0.], dtype=float32)}, {'energy': array([0.], dtype=float32)}, {'energy': array([0.], dtype=float32)}, {'energy': array([0.], dtype=float32)}, {'energy': array([0.], dtype=float32)}, {'energy': array([0.], dtype=float32)}, {'energy': array([0.], dtype=float32)}, {'energy': array([0.], dtype=float32)}, {'energy': array([0.], dtype=float32)}, {'energy': array([0.], dtype=float32)}, {'energy': array([0.], dtype=float32)}, {'energy': array([0.], dtype=float32)}, {'energy': array([0.], dtype=float32)}, {'energy': array([0.], dtype=float32)}, {'energy': array([0.], dtype=float32)}, {'energy': array([0.], dtype=float32)}, {'energy': array([0.], dtype=float32)}, {'energy': array([0.], dtype=float32)}, {'energy': array([0.], dtype=float32)}, {'energy': array([0.], dtype=float32)}, {'energy': array([0.], dtype=float32)}, {'energy': array([0.], dtype=float32)}, {'energy': array([0.], dtype=float32)}, {'energy': array([0.], dtype=float32)}, {'energy': array([0.], dtype=float32)}, {'energy': array([0.], dtype=float32)}, {'energy': array([0.], dtype=float32)}, {'energy': array([0.], dtype=float32)}, {'energy': array([0.], dtype=float32)}, {'energy': array([0.], dtype=float32)}, {'energy': array([0.], dtype=float32)}, {'energy': array([0.], dtype=float32)}, {'energy': array([0.], dtype=float32)}, {'energy': array([0.], dtype=float32)}, {'energy': array([0.], dtype=float32)}, {'energy': array([0.], dtype=float32)}, {'energy': array([0.], dtype=float32)}, {'energy': array([0.], dtype=float32)}, {'energy': array([0.], dtype=float32)}, {'energy': array([0.], dtype=float32)}, {'energy': array([0.], dtype=float32)}, {'energy': array([0.], dtype=float32)}, {'energy': array([0.], dtype=float32)}, {'energy': array([0.], dtype=float32)}, {'energy': array([0.], dtype=float32)}, {'energy': array([0.], dtype=float32)}, {'energy': array([0.], dtype=float32)}, {'energy': array([0.], dtype=float32)}, {'energy': array([0.], dtype=float32)}, {'energy': array([0.], dtype=float32)}, {'energy': array([0.], dtype=float32)}, {'energy': array([0.], dtype=float32)}, {'energy': array([0.], dtype=float32)}, {'energy': array([0.], dtype=float32)}, {'energy': array([0.], dtype=float32)}, {'energy': array([0.], dtype=float32)}, {'energy': array([0.], dtype=float32)}, {'energy': array([0.], dtype=float32)}, {'energy': array([0.], dtype=float32)}, {'energy': array([0.], dtype=float32)}, {'energy': array([0.], dtype=float32)}, {'energy': array([0.], dtype=float32)}, {'energy': array([0.], dtype=float32)}, {'energy': array([0.], dtype=float32)}, {'energy': array([0.], dtype=float32)}, {'energy': array([0.], dtype=float32)}, {'energy': array([0.], dtype=float32)}, {'energy': array([0.], dtype=float32)}, {'energy': array([0.], dtype=float32)}, {'energy': array([0.], dtype=float32)}, {'energy': array([0.], dtype=float32)}, {'energy': array([0.], dtype=float32)}, {'energy': array([0.], dtype=float32)}, {'energy': array([0.], dtype=float32)}, {'energy': array([0.], dtype=float32)}, {'energy': array([0.], dtype=float32)}, {'energy': array([0.], dtype=float32)}, {'energy': array([0.], dtype=float32)}, {'energy': array([0.], dtype=float32)}, {'energy': array([0.], dtype=float32)}, {'energy': array([0.], dtype=float32)}, {'energy': array([0.], dtype=float32)}, {'energy': array([0.], dtype=float32)}, {'energy': array([0.], dtype=float32)}, {'energy': array([0.], dtype=float32)}, {'energy': array([0.], dtype=float32)}, {'energy': array([0.], dtype=float32)}, {'energy': array([0.], dtype=float32)}, {'energy': array([0.], dtype=float32)}, {'energy': array([0.], dtype=float32)}, {'energy': array([0.], dtype=float32)}, {'energy': array([0.], dtype=float32)}, {'energy': array([0.], dtype=float32)}, {'energy': array([0.], dtype=float32)}, {'energy': array([0.], dtype=float32)}, {'energy': array([0.], dtype=float32)}, {'energy': array([0.], dtype=float32)}, {'energy': array([0.], dtype=float32)}, {'energy': array([0.], dtype=float32)}, {'energy': array([0.], dtype=float32)}, {'energy': array([0.], dtype=float32)}, {'energy': array([0.], dtype=float32)}, {'energy': array([0.], dtype=float32)}, {'energy': array([0.], dtype=float32)}, {'energy': array([0.], dtype=float32)}, {'energy': array([0.], dtype=float32)}, {'energy': array([0.], dtype=float32)}, {'energy': array([0.], dtype=float32)}, {'energy': array([0.], dtype=float32)}, {'energy': array([0.], dtype=float32)}, {'energy': array([0.], dtype=float32)}, {'energy': array([0.], dtype=float32)}, {'energy': array([0.], dtype=float32)}, {'energy': array([0.], dtype=float32)}, {'energy': array([0.], dtype=float32)}, {'energy': array([0.], dtype=float32)}, {'energy': array([0.], dtype=float32)}, {'energy': array([0.], dtype=float32)}, {'energy': array([0.], dtype=float32)}, {'energy': array([0.], dtype=float32)}, {'energy': array([0.], dtype=float32)}, {'energy': array([0.], dtype=float32)}, {'energy': array([0.], dtype=float32)}, {'energy': array([0.], dtype=float32)}, {'energy': array([0.], dtype=float32)}, {'energy': array([0.], dtype=float32)}, {'energy': array([0.], dtype=float32)}, {'energy': array([0.], dtype=float32)}, {'energy': array([0.], dtype=float32)}, {'energy': array([0.], dtype=float32)}, {'energy': array([0.], dtype=float32)}, {'energy': array([0.], dtype=float32)}, {'energy': array([0.], dtype=float32)}, {'energy': array([0.], dtype=float32)}, {'energy': array([0.], dtype=float32)}, {'energy': array([0.], dtype=float32)}, {'energy': array([0.], dtype=float32)}, {'energy': array([0.], dtype=float32)}, {'energy': array([0.], dtype=float32)}, {'energy': array([0.], dtype=float32)}, {'energy': array([0.], dtype=float32)}, {'energy': array([0.], dtype=float32)}, {'energy': array([0.], dtype=float32)}, {'energy': array([0.], dtype=float32)}, {'energy': array([0.], dtype=float32)}, {'energy': array([0.], dtype=float32)}, {'energy': array([0.], dtype=float32)}, {'energy': array([0.], dtype=float32)}, {'energy': array([0.], dtype=float32)}, {'energy': array([0.], dtype=float32)}, {'energy': array([0.], dtype=float32)}, {'energy': array([0.], dtype=float32)}, {'energy': array([0.], dtype=float32)}, {'energy': array([0.], dtype=float32)}, {'energy': array([0.], dtype=float32)}, {'energy': array([0.], dtype=float32)}, {'energy': array([0.], dtype=float32)}, {'energy': array([0.], dtype=float32)}, {'energy': array([0.], dtype=float32)}, {'energy': array([0.], dtype=float32)}, {'energy': array([0.], dtype=float32)}, {'energy': array([0.], dtype=float32)}, {'energy': array([0.], dtype=float32)}, {'energy': array([0.], dtype=float32)}, {'energy': array([0.], dtype=float32)}, {'energy': array([0.], dtype=float32)}, {'energy': array([0.], dtype=float32)}, {'energy': array([0.], dtype=float32)}, {'energy': array([0.], dtype=float32)}, {'energy': array([0.], dtype=float32)}, {'energy': array([0.], dtype=float32)}, {'energy': array([0.], dtype=float32)}, {'energy': array([0.], dtype=float32)}, {'energy': array([0.], dtype=float32)}, {'energy': array([0.], dtype=float32)}, {'energy': array([0.], dtype=float32)}, {'energy': array([0.], dtype=float32)}, {'energy': array([0.], dtype=float32)}, {'energy': array([0.], dtype=float32)}, {'energy': array([0.], dtype=float32)}, {'energy': array([0.], dtype=float32)}, {'energy': array([0.], dtype=float32)}, {'energy': array([0.], dtype=float32)}, {'energy': array([0.], dtype=float32)}, {'energy': array([0.], dtype=float32)}, {'energy': array([0.], dtype=float32)}, {'energy': array([0.], dtype=float32)}, {'energy': array([0.], dtype=float32)}, {'energy': array([0.], dtype=float32)}, {'energy': array([0.], dtype=float32)}, {'energy': array([0.], dtype=float32)}, {'energy': array([0.], dtype=float32)}, {'energy': array([0.], dtype=float32)}, {'energy': array([0.], dtype=float32)}, {'energy': array([0.], dtype=float32)}, {'energy': array([0.], dtype=float32)}, {'energy': array([0.], dtype=float32)}, {'energy': array([0.], dtype=float32)}, {'energy': array([0.], dtype=float32)}, {'energy': array([0.], dtype=float32)}, {'energy': array([0.], dtype=float32)}, {'energy': array([0.], dtype=float32)}, {'energy': array([0.], dtype=float32)}, {'energy': array([0.], dtype=float32)}, {'energy': array([0.], dtype=float32)}, {'energy': array([0.], dtype=float32)}, {'energy': array([0.], dtype=float32)}, {'energy': array([0.], dtype=float32)}, {'energy': array([0.], dtype=float32)}, {'energy': array([0.], dtype=float32)}, {'energy': array([0.], dtype=float32)}, {'energy': array([0.], dtype=float32)}, {'energy': array([0.], dtype=float32)}, {'energy': array([0.], dtype=float32)}, {'energy': array([0.], dtype=float32)}, {'energy': array([0.], dtype=float32)}, {'energy': array([0.], dtype=float32)}, {'energy': array([0.], dtype=float32)}, {'energy': array([0.], dtype=float32)}, {'energy': array([0.], dtype=float32)}, {'energy': array([0.], dtype=float32)}, {'energy': array([0.], dtype=float32)}, {'energy': array([0.], dtype=float32)}, {'energy': array([0.], dtype=float32)}, {'energy': array([0.], dtype=float32)}, {'energy': array([0.], dtype=float32)}, {'energy': array([0.], dtype=float32)}, {'energy': array([0.], dtype=float32)}, {'energy': array([0.], dtype=float32)}, {'energy': array([0.], dtype=float32)}, {'energy': array([0.], dtype=float32)}, {'energy': array([0.], dtype=float32)}, {'energy': array([0.], dtype=float32)}, {'energy': array([0.], dtype=float32)}, {'energy': array([0.], dtype=float32)}, {'energy': array([0.], dtype=float32)}, {'energy': array([0.], dtype=float32)}, {'energy': array([0.], dtype=float32)}, {'energy': array([0.], dtype=float32)}, {'energy': array([0.], dtype=float32)}]\n"
     ]
    }
   ],
   "source": [
    "from fgtransform import methyltransform\n",
    "\n",
    "#Dataset\n",
    "dataset_filepath = 'data/datasets/QM9/qm9.db'\n",
    "\n",
    "\n",
    "#H-TYPE TRANSFORMATION\n",
    "targetlabelH_filepath = 'data/autolabel/Hqm9alllabelpert2/labelpert2ver2.csv'\n",
    "\n",
    "#2alcsethsnoopt\n",
    "#pert1\n",
    "#H_id \n",
    "#pert2 \n",
    "H_id = 33\n",
    "#pert3\n",
    "#H_id\n",
    "\n",
    "\n",
    "#1alcsethsnoopt\n",
    "# pert1\n",
    "#H_id = 3\n",
    "#pert2\n",
    "#H_id = 21\n",
    "#pert3\n",
    "#H_id = 69\n",
    "#pert4\n",
    "#H_id = 324\n",
    "#pert5\n",
    "#H_id = 1643\n",
    "\n",
    "# TARGET EMBEDDING VECTOR TYPE\n",
    "atom_num = 8\n",
    "\n",
    "#NOTE number_molecules cannot be in middle of dataset (as the code stands right now)\n",
    "n_molecules = 10000\n",
    "\n",
    "#OUTPUT\n",
    "output_filepath1 = 'data/fgtransform/model1/methylation/2alcsethspert3/init.xyz'\n",
    "output_filepath2 = 'data/fgtransform/model1/methylation/2alcsethspert3/trans.xyz'\n",
    "\n",
    "#NOTE REMEMBER TO MAKE THIS FOLDER FIRST!!!!!!!!!!\n",
    "scratch_file = 'scratch/'\n",
    "\n",
    "methyltransform.noopt(dataset_filepath,targetlabelH_filepath,H_id,output_filepath1,output_filepath2,n_molecules,atom_num,scratch_file)"
   ]
  },
  {
   "attachments": {},
   "cell_type": "markdown",
   "metadata": {},
   "source": [
    "FGTransform Analysis"
   ]
  },
  {
   "attachments": {},
   "cell_type": "markdown",
   "metadata": {},
   "source": [
    "#Run extract embeddings on init and trans"
   ]
  },
  {
   "cell_type": "code",
   "execution_count": 4,
   "metadata": {},
   "outputs": [
    {
     "name": "stdout",
     "output_type": "stream",
     "text": [
      "0\n",
      "100\n",
      "200\n",
      "300\n",
      "0\n",
      "100\n",
      "200\n",
      "300\n"
     ]
    }
   ],
   "source": [
    "#Run extract embeddings on init and trans\n",
    "from extractembeddings import allelementextract\n",
    "\n",
    "init_dataset_filepath = 'data/fgtransform/model1/methylation/2alcsethspert3/init.db'\n",
    "init_save_filepath = 'data/fgtransform/model1/methylation/2alcsethspert3/initO.csv'\n",
    "trans_dataset_filepath = 'data/fgtransform/model1/methylation/2alcsethspert3/trans.db'\n",
    "trans_save_filepath = 'data/fgtransform/model1/methylation/2alcsethspert3/transO.csv'\n",
    "\n",
    "model_filepath = 'data/trainedmodels/model1/best_model'\n",
    "start = 0\n",
    "end = 364\n",
    "n_features = 128\n",
    "n_layers = [5,6]\n",
    "all_elements = False\n",
    "element = 8\n",
    "qm9=False\n",
    "available_properties = ['energy']\n",
    "#label_file =  '../../data/labeldataset/%s/label%s%s.csv' %(element,element,number_inputs)\n",
    "\n",
    "#run extract on init and trans\n",
    "allelementextract.extract(qm9,init_dataset_filepath,model_filepath,init_save_filepath,start,end,n_features,n_layers,all_elements,element,available_properties=available_properties)\n",
    "allelementextract.extract(qm9,trans_dataset_filepath,model_filepath,trans_save_filepath,start,end,n_features,n_layers,all_elements,element,available_properties=available_properties)\n"
   ]
  },
  {
   "attachments": {},
   "cell_type": "markdown",
   "metadata": {},
   "source": [
    "transform with average diff vector and use pca on both"
   ]
  },
  {
   "cell_type": "code",
   "execution_count": 5,
   "metadata": {},
   "outputs": [
    {
     "name": "stdout",
     "output_type": "stream",
     "text": [
      "data [[-9.5537540e-02 -7.7478660e-01  1.6027331e+00 ...  5.0000000e+00\n",
      "  -2.0467384e+03            nan]\n",
      " [ 1.3805711e-01 -4.5446074e-01  1.3908107e+00 ...  5.0000000e+00\n",
      "  -2.0468880e+03            nan]\n",
      " [ 4.8228863e-01 -5.9280880e-01  1.1032776e+00 ...  5.0000000e+00\n",
      "  -2.0468335e+03            nan]\n",
      " ...\n",
      " [ 1.1031170e+00 -7.3315680e-01  1.1807908e+00 ...  5.0000000e+00\n",
      "  -2.0468451e+03            nan]\n",
      " [ 8.6949360e-01 -4.9843892e-01  7.8410650e-01 ...  5.0000000e+00\n",
      "  -2.0469866e+03            nan]\n",
      " [ 8.9014220e-01 -2.3444825e-01  4.9595997e-01 ...  5.0000000e+00\n",
      "  -2.0469020e+03            nan]]\n",
      "vec [-0.88161422 -0.05781388 -1.88827592  0.28652494  1.03236004  0.52232467\n",
      " -0.0215708   1.58511099 -2.41751063 -0.94579065  0.1628069   0.45700493\n",
      "  0.01412258  1.10756577 -0.77961209 -3.51762589  0.50736122  1.114708\n",
      "  0.28846146  2.62821673  1.18281971 -0.63503003 -1.2390533  -0.52894028\n",
      "  0.9818788   0.63708392  1.11130878 -0.51432387  1.0838067  -0.51704549\n",
      "  2.40815282 -1.25637966 -0.42294943 -0.1437405   1.59383668  0.40457084\n",
      "  0.1251429  -0.21516229  0.08637943 -1.72965335  1.399268    1.10472387\n",
      "  0.15333291  0.68089158 -0.7236626   1.60633501  0.21502266 -1.25906396\n",
      "  1.5074975  -0.06715453  0.5215627   0.69062633  1.38353751  0.52148621\n",
      " -0.07636196  1.34935277  1.39036456  0.13547779 -0.37829886 -0.90281078\n",
      " -2.00704185  1.21061893  0.85244461 -0.52478534  0.43308153 -1.30734508\n",
      " -0.49320055  0.78362244  0.1394771   0.76936278 -2.00715537  0.92887272\n",
      " -0.57055365  0.00989599  0.15589647  1.10469779  0.06258828  0.02100694\n",
      "  1.34108414 -0.13371771  0.32257716  0.36971491 -1.97524716  1.17670565\n",
      " -0.24241092 -0.65212784  0.15771934  0.17710431 -0.2396275  -0.60613133\n",
      "  1.01595915  0.0213048   0.31250757  0.09598589  1.21276816  0.83396371\n",
      " -0.85854771 -1.6373155   0.6749761   2.07239581 -1.74541317  1.00245587\n",
      " -0.89197997 -2.23227556  1.2894808  -2.46768283  0.35043712  0.32129946\n",
      "  1.9892855   1.20290053 -0.23547096  2.8252764   0.02658823  0.03344959\n",
      "  0.40454138  0.84067303  0.75343668  0.82240097 -1.40780584  0.70660527\n",
      "  0.11849056  1.19173008  0.21651472  0.08284297 -2.0425689  -0.96633473\n",
      " -3.0907397   0.5643129 ]\n",
      "0\n",
      "[  0.   1.   2.   3.   4.   5.  29. 215.   8.   9.  46.  11.  12.  13.\n",
      "  14.  15.  16.  17.  18.  19.  19.  61. 121.  92.  24.  25.  26. 102.\n",
      "  28.  29.  30.  31. 112.  33.  99. 101. 100.  37.  46.  39. 214.  41.\n",
      "  42.  43.  44.  45.  46. 348.  48. 332. 333.  51.  52.  53.  54. 231.\n",
      "  56. 233.  58.  59. 342.  61.  58.  63.  56.  65.  66.  61.  61.  69.\n",
      "  70.  71. 249.  73.  74.  75.  76.  24.  78. 344.  80.  81.  82.  83.\n",
      "  84.  46.  86.  87.  88. 262.  90.  91.  92.  93.  93.  95. 121. 121.\n",
      "  98.  99. 100. 101. 102. 103. 104. 249. 256. 107. 252. 108. 254. 111.\n",
      " 112. 113. 114. 115. 116. 117. 344. 119. 120. 121. 122.  18. 124.  63.\n",
      "  30. 127. 128. 129. 130.  48. 132. 133. 134. 135. 136. 101. 276. 139.\n",
      " 140. 141. 142. 143. 141. 145.  24. 147.  75. 149. 150. 151. 151. 344.\n",
      " 112. 155. 156. 157. 158. 159. 160. 140. 162. 163. 164. 165. 166. 165.\n",
      " 168. 166. 170. 171. 172. 173. 174. 175.  68. 178. 178. 178.  37.  45.\n",
      " 182. 183. 184. 185. 254. 187. 275. 361. 190. 191. 193. 193.  43. 342.\n",
      "  46.  61. 198. 199. 200. 201. 202. 203. 344.  41.  43.  41. 208. 209.\n",
      " 210. 211. 212. 213. 214. 215.  46. 217. 218. 219. 361. 221. 222. 223.\n",
      "  39. 225. 226. 227. 228. 229. 230. 231. 232. 233.  61. 235. 236. 237.\n",
      " 238. 239.  43. 241.  61.  61.  61. 245. 246. 247. 248. 249. 250. 251.\n",
      " 252. 253. 254.  84. 256. 257. 258. 277. 262. 263. 262. 263. 264. 265.\n",
      " 266. 267.  86. 269.  92.  93. 272. 273. 274. 275. 276. 277. 141. 279.\n",
      " 280. 281. 282. 117. 284. 285. 286. 287. 288. 289. 290. 291.  87. 293.\n",
      " 295. 295. 296. 297. 141. 299. 300. 301. 302. 303. 304. 305. 306. 307.\n",
      " 308. 309. 310. 308. 312. 310. 314. 315. 316. 237. 318. 319. 342. 321.\n",
      " 322. 323. 324. 325. 326. 327. 328. 329. 330. 331. 332. 333. 334. 335.\n",
      " 336. 337.  43.  43. 340. 341. 342.  61. 344. 345. 346. 345. 348. 349.\n",
      " 350. 351. 352. 353. 354.  68.  71. 357. 357. 359.  71. 361. 362. 363.]\n",
      "matched 82.14285714285714 %\n"
     ]
    }
   ],
   "source": [
    "from tools.utils import utils_fgtransform, utils_dimred, utils_numericalfiletools\n",
    "\n",
    "n_molecules = 364\n",
    "n_features = 128\n",
    "fg_trans_fildir = 'data/fgtransform/model1/methylation/2alcsethspert3/'\n",
    "\n",
    "#Calculate average diff vector\n",
    "data_filepath1 = fg_trans_fildir+ 'initO.csv'\n",
    "data_filepath2 = fg_trans_fildir+ 'transO.csv'\n",
    "diff_mean = utils_fgtransform.vecdiffmean(data_filepath1,data_filepath2,n_features,n_molecules)\n",
    "\n",
    "\n",
    "#Perform transformation\n",
    "vec_filepath = fg_trans_fildir+ 'initOdiff.csv'\n",
    "save_filepath = fg_trans_fildir+ 'initOtransform.csv'\n",
    "utils_fgtransform.add_vectomat(vec_filepath,data_filepath1,n_features,save_filepath)\n",
    "\n",
    "from tools.utils import utils_fgtransform\n",
    "\n",
    "true_trans_filepath = fg_trans_fildir+ 'transO.csv'\n",
    "art_trans_filepath = fg_trans_fildir+ 'initOtransform.csv'\n",
    "#DO NOT SORT! \n",
    "utils_fgtransform.nearest_trans(true_trans_filepath,art_trans_filepath,n_molecules,n_features)\n",
    "\n",
    "\n"
   ]
  },
  {
   "cell_type": "code",
   "execution_count": 6,
   "metadata": {},
   "outputs": [
    {
     "ename": "TypeError",
     "evalue": "vstacktwofiles() got multiple values for argument 'single_dim'",
     "output_type": "error",
     "traceback": [
      "\u001b[0;31m---------------------------------------------------------------------------\u001b[0m",
      "\u001b[0;31mTypeError\u001b[0m                                 Traceback (most recent call last)",
      "\u001b[0;32m/tmp/ipykernel_9530/592292353.py\u001b[0m in \u001b[0;36m<module>\u001b[0;34m\u001b[0m\n\u001b[1;32m     11\u001b[0m \u001b[0mn_data1\u001b[0m \u001b[0;34m=\u001b[0m \u001b[0mn_molecules\u001b[0m\u001b[0;34m\u001b[0m\u001b[0;34m\u001b[0m\u001b[0m\n\u001b[1;32m     12\u001b[0m \u001b[0mn_data2\u001b[0m \u001b[0;34m=\u001b[0m \u001b[0mn_molecules\u001b[0m\u001b[0;34m\u001b[0m\u001b[0;34m\u001b[0m\u001b[0m\n\u001b[0;32m---> 13\u001b[0;31m \u001b[0mutils_numericalfiletools\u001b[0m\u001b[0;34m.\u001b[0m\u001b[0mvstacktwofiles\u001b[0m\u001b[0;34m(\u001b[0m\u001b[0minit_filepath\u001b[0m\u001b[0;34m,\u001b[0m\u001b[0minittrans_filepath\u001b[0m\u001b[0;34m,\u001b[0m\u001b[0msave_filepath\u001b[0m\u001b[0;34m,\u001b[0m\u001b[0mn_data1\u001b[0m\u001b[0;34m,\u001b[0m\u001b[0mn_data2\u001b[0m\u001b[0;34m,\u001b[0m\u001b[0mn_molecules\u001b[0m\u001b[0;34m,\u001b[0m\u001b[0msingle_dim\u001b[0m\u001b[0;34m=\u001b[0m\u001b[0;32mFalse\u001b[0m\u001b[0;34m,\u001b[0m\u001b[0mskip_header1\u001b[0m\u001b[0;34m=\u001b[0m\u001b[0;36m1\u001b[0m\u001b[0;34m,\u001b[0m\u001b[0mskip_header2\u001b[0m\u001b[0;34m=\u001b[0m\u001b[0;36m0\u001b[0m\u001b[0;34m)\u001b[0m\u001b[0;34m\u001b[0m\u001b[0;34m\u001b[0m\u001b[0m\n\u001b[0m\u001b[1;32m     14\u001b[0m \u001b[0;34m\u001b[0m\u001b[0m\n\u001b[1;32m     15\u001b[0m \u001b[0mn_molecules\u001b[0m \u001b[0;34m=\u001b[0m \u001b[0mn_molecules\u001b[0m\u001b[0;34m*\u001b[0m\u001b[0;36m2\u001b[0m\u001b[0;34m\u001b[0m\u001b[0;34m\u001b[0m\u001b[0m\n",
      "\u001b[0;31mTypeError\u001b[0m: vstacktwofiles() got multiple values for argument 'single_dim'"
     ]
    }
   ],
   "source": [
    "from tools.utils import utils_fgtransform, utils_dimred, utils_numericalfiletools\n",
    "n_molecules = 364\n",
    "n_features = 128\n",
    "fg_trans_fildir = 'data/fgtransform/model1/2alcsethspert2/'\n",
    "\n",
    "\n",
    "#must stack initOtransform with initO call it bothO\n",
    "init_filepath = fg_trans_fildir+ 'initO.csv'\n",
    "inittrans_filepath = fg_trans_fildir+ 'initOtransform.csv'\n",
    "save_filepath = fg_trans_fildir+ 'bothOtransform.csv'\n",
    "n_data1 = n_molecules\n",
    "n_data2 = n_molecules\n",
    "utils_numericalfiletools.vstacktwofiles(init_filepath,inittrans_filepath,save_filepath,n_data1,n_data2,n_molecules,single_dim=False,skip_header1=1,skip_header2=0)\n",
    "\n",
    "n_molecules = n_molecules*2\n",
    "#Dimensionality reduction on new file with init and inittransformed\n",
    "data_filepath = fg_trans_fildir+ 'bothOtransform.csv'\n",
    "save_filepath = fg_trans_fildir+ 'initOtransform.csv'\n",
    "n_components = 128\n",
    "skip_header =  0\n",
    "scale_data = False\n",
    "utils_dimred.pca(data_filepath,n_components,n_features,scale_data,save_filepath, n_molecules,skip_header)\n",
    "\n",
    "data_filepath = fg_trans_fildir+ 'initOtransformpca.csv'\n",
    "save_filepath = fg_trans_fildir+ 'initOtransformpcavecs.csv'\n",
    "#Make vector plotting file from the pca (x1,y1,x2,y2) \n",
    "#(half the data is init, half is trans after compilation)\n",
    "utils_fgtransform.scatters_to_vectors(data_filepath,save_filepath)"
   ]
  }
 ],
 "metadata": {
  "kernelspec": {
   "display_name": "Python 3.7.13 ('embs')",
   "language": "python",
   "name": "python3"
  },
  "language_info": {
   "codemirror_mode": {
    "name": "ipython",
    "version": 3
   },
   "file_extension": ".py",
   "mimetype": "text/x-python",
   "name": "python",
   "nbconvert_exporter": "python",
   "pygments_lexer": "ipython3",
   "version": "3.7.16"
  },
  "orig_nbformat": 4,
  "vscode": {
   "interpreter": {
    "hash": "3e527e0fb9cd72c404b77fc0eaab204e19d8957c418c0845e3410ddf58030085"
   }
  }
 },
 "nbformat": 4,
 "nbformat_minor": 2
}
